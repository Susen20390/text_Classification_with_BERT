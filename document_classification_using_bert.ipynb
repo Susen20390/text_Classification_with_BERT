{
  "nbformat": 4,
  "nbformat_minor": 0,
  "metadata": {
    "kernelspec": {
      "language": "python",
      "display_name": "Python 3",
      "name": "python3"
    },
    "language_info": {
      "pygments_lexer": "ipython3",
      "nbconvert_exporter": "python",
      "version": "3.6.4",
      "file_extension": ".py",
      "codemirror_mode": {
        "name": "ipython",
        "version": 3
      },
      "name": "python",
      "mimetype": "text/x-python"
    },
    "colab": {
      "name": "document-classification-using-bert.ipynb",
      "provenance": []
    }
  },
  "cells": [
    {
      "cell_type": "markdown",
      "metadata": {
        "id": "VvxphR1KJm2K"
      },
      "source": [
        "## Introduction\n",
        "\n",
        "**BERT (Bidirectional Encoder Representations from Transformers)** is a state-of-the-art NLP model from Google for the purpose of this classification problem due to its efficiency, accuracy, and speed. BERT is inspired by the concept of Transfer Learning that is commonly used in the field of Computer Vision. The use of pre-trained models on massive unlabelled datasets such as that of Wikipedia and Book Corpus has helped speed up the training process and excellent results for BERT. It uses a multi-layer bidirectional transformer encoder that can be fine-tuned using an additional output layer to generate state=of-the-art models for various NLP tasks. The bi-directionality of the model helps capturing both the left and right context for truly understanding the meaning of a language."
      ]
    },
    {
      "cell_type": "markdown",
      "metadata": {
        "id": "KjV8z98hJm2M"
      },
      "source": [
        "## Dataset\n",
        "\n",
        "The dataset used is text from [BBC full-text dataset](https://www.kaggle.com/shivamkushwaha/bbc-full-text-document-classification). The model attempts to predict which category the text is about. So is a multi-class classification problem."
      ]
    },
    {
      "cell_type": "markdown",
      "metadata": {
        "id": "KfJUCce-Jx4I"
      },
      "source": [
        "# New Section"
      ]
    },
    {
      "cell_type": "markdown",
      "metadata": {
        "id": "NjmiMc01Jm2N"
      },
      "source": [
        "Here we require Tensorflow version 1.15"
      ]
    },
    {
      "cell_type": "code",
      "metadata": {
        "colab": {
          "base_uri": "https://localhost:8080/"
        },
        "id": "aT6kl0ntKDLp",
        "outputId": "4f7a64e8-8ac0-4e3a-e53a-5a5ba700b680"
      },
      "source": [
        "!unzip archive.zip"
      ],
      "execution_count": 2,
      "outputs": [
        {
          "output_type": "stream",
          "text": [
            "Archive:  archive.zip\n",
            "  inflating: bbc-fulltext (document classification)/bbc/README.TXT  \n",
            "  inflating: bbc-fulltext (document classification)/bbc/business/001.txt  \n",
            "  inflating: bbc-fulltext (document classification)/bbc/business/002.txt  \n",
            "  inflating: bbc-fulltext (document classification)/bbc/business/003.txt  \n",
            "  inflating: bbc-fulltext (document classification)/bbc/business/004.txt  \n",
            "  inflating: bbc-fulltext (document classification)/bbc/business/005.txt  \n",
            "  inflating: bbc-fulltext (document classification)/bbc/business/006.txt  \n",
            "  inflating: bbc-fulltext (document classification)/bbc/business/007.txt  \n",
            "  inflating: bbc-fulltext (document classification)/bbc/business/008.txt  \n",
            "  inflating: bbc-fulltext (document classification)/bbc/business/009.txt  \n",
            "  inflating: bbc-fulltext (document classification)/bbc/business/010.txt  \n",
            "  inflating: bbc-fulltext (document classification)/bbc/business/011.txt  \n",
            "  inflating: bbc-fulltext (document classification)/bbc/business/012.txt  \n",
            "  inflating: bbc-fulltext (document classification)/bbc/business/013.txt  \n",
            "  inflating: bbc-fulltext (document classification)/bbc/business/014.txt  \n",
            "  inflating: bbc-fulltext (document classification)/bbc/business/015.txt  \n",
            "  inflating: bbc-fulltext (document classification)/bbc/business/016.txt  \n",
            "  inflating: bbc-fulltext (document classification)/bbc/business/017.txt  \n",
            "  inflating: bbc-fulltext (document classification)/bbc/business/018.txt  \n",
            "  inflating: bbc-fulltext (document classification)/bbc/business/019.txt  \n",
            "  inflating: bbc-fulltext (document classification)/bbc/business/020.txt  \n",
            "  inflating: bbc-fulltext (document classification)/bbc/business/021.txt  \n",
            "  inflating: bbc-fulltext (document classification)/bbc/business/022.txt  \n",
            "  inflating: bbc-fulltext (document classification)/bbc/business/023.txt  \n",
            "  inflating: bbc-fulltext (document classification)/bbc/business/024.txt  \n",
            "  inflating: bbc-fulltext (document classification)/bbc/business/025.txt  \n",
            "  inflating: bbc-fulltext (document classification)/bbc/business/026.txt  \n",
            "  inflating: bbc-fulltext (document classification)/bbc/business/027.txt  \n",
            "  inflating: bbc-fulltext (document classification)/bbc/business/028.txt  \n",
            "  inflating: bbc-fulltext (document classification)/bbc/business/029.txt  \n",
            "  inflating: bbc-fulltext (document classification)/bbc/business/030.txt  \n",
            "  inflating: bbc-fulltext (document classification)/bbc/business/031.txt  \n",
            "  inflating: bbc-fulltext (document classification)/bbc/business/032.txt  \n",
            "  inflating: bbc-fulltext (document classification)/bbc/business/033.txt  \n",
            "  inflating: bbc-fulltext (document classification)/bbc/business/034.txt  \n",
            "  inflating: bbc-fulltext (document classification)/bbc/business/035.txt  \n",
            "  inflating: bbc-fulltext (document classification)/bbc/business/036.txt  \n",
            "  inflating: bbc-fulltext (document classification)/bbc/business/037.txt  \n",
            "  inflating: bbc-fulltext (document classification)/bbc/business/038.txt  \n",
            "  inflating: bbc-fulltext (document classification)/bbc/business/039.txt  \n",
            "  inflating: bbc-fulltext (document classification)/bbc/business/040.txt  \n",
            "  inflating: bbc-fulltext (document classification)/bbc/business/041.txt  \n",
            "  inflating: bbc-fulltext (document classification)/bbc/business/042.txt  \n",
            "  inflating: bbc-fulltext (document classification)/bbc/business/043.txt  \n",
            "  inflating: bbc-fulltext (document classification)/bbc/business/044.txt  \n",
            "  inflating: bbc-fulltext (document classification)/bbc/business/045.txt  \n",
            "  inflating: bbc-fulltext (document classification)/bbc/business/046.txt  \n",
            "  inflating: bbc-fulltext (document classification)/bbc/business/047.txt  \n",
            "  inflating: bbc-fulltext (document classification)/bbc/business/048.txt  \n",
            "  inflating: bbc-fulltext (document classification)/bbc/business/049.txt  \n",
            "  inflating: bbc-fulltext (document classification)/bbc/business/050.txt  \n",
            "  inflating: bbc-fulltext (document classification)/bbc/business/051.txt  \n",
            "  inflating: bbc-fulltext (document classification)/bbc/business/052.txt  \n",
            "  inflating: bbc-fulltext (document classification)/bbc/business/053.txt  \n",
            "  inflating: bbc-fulltext (document classification)/bbc/business/054.txt  \n",
            "  inflating: bbc-fulltext (document classification)/bbc/business/055.txt  \n",
            "  inflating: bbc-fulltext (document classification)/bbc/business/056.txt  \n",
            "  inflating: bbc-fulltext (document classification)/bbc/business/057.txt  \n",
            "  inflating: bbc-fulltext (document classification)/bbc/business/058.txt  \n",
            "  inflating: bbc-fulltext (document classification)/bbc/business/059.txt  \n",
            "  inflating: bbc-fulltext (document classification)/bbc/business/060.txt  \n",
            "  inflating: bbc-fulltext (document classification)/bbc/business/061.txt  \n",
            "  inflating: bbc-fulltext (document classification)/bbc/business/062.txt  \n",
            "  inflating: bbc-fulltext (document classification)/bbc/business/063.txt  \n",
            "  inflating: bbc-fulltext (document classification)/bbc/business/064.txt  \n",
            "  inflating: bbc-fulltext (document classification)/bbc/business/065.txt  \n",
            "  inflating: bbc-fulltext (document classification)/bbc/business/066.txt  \n",
            "  inflating: bbc-fulltext (document classification)/bbc/business/067.txt  \n",
            "  inflating: bbc-fulltext (document classification)/bbc/business/068.txt  \n",
            "  inflating: bbc-fulltext (document classification)/bbc/business/069.txt  \n",
            "  inflating: bbc-fulltext (document classification)/bbc/business/070.txt  \n",
            "  inflating: bbc-fulltext (document classification)/bbc/business/071.txt  \n",
            "  inflating: bbc-fulltext (document classification)/bbc/business/072.txt  \n",
            "  inflating: bbc-fulltext (document classification)/bbc/business/073.txt  \n",
            "  inflating: bbc-fulltext (document classification)/bbc/business/074.txt  \n",
            "  inflating: bbc-fulltext (document classification)/bbc/business/075.txt  \n",
            "  inflating: bbc-fulltext (document classification)/bbc/business/076.txt  \n",
            "  inflating: bbc-fulltext (document classification)/bbc/business/077.txt  \n",
            "  inflating: bbc-fulltext (document classification)/bbc/business/078.txt  \n",
            "  inflating: bbc-fulltext (document classification)/bbc/business/079.txt  \n",
            "  inflating: bbc-fulltext (document classification)/bbc/business/080.txt  \n",
            "  inflating: bbc-fulltext (document classification)/bbc/business/081.txt  \n",
            "  inflating: bbc-fulltext (document classification)/bbc/business/082.txt  \n",
            "  inflating: bbc-fulltext (document classification)/bbc/business/083.txt  \n",
            "  inflating: bbc-fulltext (document classification)/bbc/business/084.txt  \n",
            "  inflating: bbc-fulltext (document classification)/bbc/business/085.txt  \n",
            "  inflating: bbc-fulltext (document classification)/bbc/business/086.txt  \n",
            "  inflating: bbc-fulltext (document classification)/bbc/business/087.txt  \n",
            "  inflating: bbc-fulltext (document classification)/bbc/business/088.txt  \n",
            "  inflating: bbc-fulltext (document classification)/bbc/business/089.txt  \n",
            "  inflating: bbc-fulltext (document classification)/bbc/business/090.txt  \n",
            "  inflating: bbc-fulltext (document classification)/bbc/business/091.txt  \n",
            "  inflating: bbc-fulltext (document classification)/bbc/business/092.txt  \n",
            "  inflating: bbc-fulltext (document classification)/bbc/business/093.txt  \n",
            "  inflating: bbc-fulltext (document classification)/bbc/business/094.txt  \n",
            "  inflating: bbc-fulltext (document classification)/bbc/business/095.txt  \n",
            "  inflating: bbc-fulltext (document classification)/bbc/business/096.txt  \n",
            "  inflating: bbc-fulltext (document classification)/bbc/business/097.txt  \n",
            "  inflating: bbc-fulltext (document classification)/bbc/business/098.txt  \n",
            "  inflating: bbc-fulltext (document classification)/bbc/business/099.txt  \n",
            "  inflating: bbc-fulltext (document classification)/bbc/business/100.txt  \n",
            "  inflating: bbc-fulltext (document classification)/bbc/business/101.txt  \n",
            "  inflating: bbc-fulltext (document classification)/bbc/business/102.txt  \n",
            "  inflating: bbc-fulltext (document classification)/bbc/business/103.txt  \n",
            "  inflating: bbc-fulltext (document classification)/bbc/business/104.txt  \n",
            "  inflating: bbc-fulltext (document classification)/bbc/business/105.txt  \n",
            "  inflating: bbc-fulltext (document classification)/bbc/business/106.txt  \n",
            "  inflating: bbc-fulltext (document classification)/bbc/business/107.txt  \n",
            "  inflating: bbc-fulltext (document classification)/bbc/business/108.txt  \n",
            "  inflating: bbc-fulltext (document classification)/bbc/business/109.txt  \n",
            "  inflating: bbc-fulltext (document classification)/bbc/business/110.txt  \n",
            "  inflating: bbc-fulltext (document classification)/bbc/business/111.txt  \n",
            "  inflating: bbc-fulltext (document classification)/bbc/business/112.txt  \n",
            "  inflating: bbc-fulltext (document classification)/bbc/business/113.txt  \n",
            "  inflating: bbc-fulltext (document classification)/bbc/business/114.txt  \n",
            "  inflating: bbc-fulltext (document classification)/bbc/business/115.txt  \n",
            "  inflating: bbc-fulltext (document classification)/bbc/business/116.txt  \n",
            "  inflating: bbc-fulltext (document classification)/bbc/business/117.txt  \n",
            "  inflating: bbc-fulltext (document classification)/bbc/business/118.txt  \n",
            "  inflating: bbc-fulltext (document classification)/bbc/business/119.txt  \n",
            "  inflating: bbc-fulltext (document classification)/bbc/business/120.txt  \n",
            "  inflating: bbc-fulltext (document classification)/bbc/business/121.txt  \n",
            "  inflating: bbc-fulltext (document classification)/bbc/business/122.txt  \n",
            "  inflating: bbc-fulltext (document classification)/bbc/business/123.txt  \n",
            "  inflating: bbc-fulltext (document classification)/bbc/business/124.txt  \n",
            "  inflating: bbc-fulltext (document classification)/bbc/business/125.txt  \n",
            "  inflating: bbc-fulltext (document classification)/bbc/business/126.txt  \n",
            "  inflating: bbc-fulltext (document classification)/bbc/business/127.txt  \n",
            "  inflating: bbc-fulltext (document classification)/bbc/business/128.txt  \n",
            "  inflating: bbc-fulltext (document classification)/bbc/business/129.txt  \n",
            "  inflating: bbc-fulltext (document classification)/bbc/business/130.txt  \n",
            "  inflating: bbc-fulltext (document classification)/bbc/business/131.txt  \n",
            "  inflating: bbc-fulltext (document classification)/bbc/business/132.txt  \n",
            "  inflating: bbc-fulltext (document classification)/bbc/business/133.txt  \n",
            "  inflating: bbc-fulltext (document classification)/bbc/business/134.txt  \n",
            "  inflating: bbc-fulltext (document classification)/bbc/business/135.txt  \n",
            "  inflating: bbc-fulltext (document classification)/bbc/business/136.txt  \n",
            "  inflating: bbc-fulltext (document classification)/bbc/business/137.txt  \n",
            "  inflating: bbc-fulltext (document classification)/bbc/business/138.txt  \n",
            "  inflating: bbc-fulltext (document classification)/bbc/business/139.txt  \n",
            "  inflating: bbc-fulltext (document classification)/bbc/business/140.txt  \n",
            "  inflating: bbc-fulltext (document classification)/bbc/business/141.txt  \n",
            "  inflating: bbc-fulltext (document classification)/bbc/business/142.txt  \n",
            "  inflating: bbc-fulltext (document classification)/bbc/business/143.txt  \n",
            "  inflating: bbc-fulltext (document classification)/bbc/business/144.txt  \n",
            "  inflating: bbc-fulltext (document classification)/bbc/business/145.txt  \n",
            "  inflating: bbc-fulltext (document classification)/bbc/business/146.txt  \n",
            "  inflating: bbc-fulltext (document classification)/bbc/business/147.txt  \n",
            "  inflating: bbc-fulltext (document classification)/bbc/business/148.txt  \n",
            "  inflating: bbc-fulltext (document classification)/bbc/business/149.txt  \n",
            "  inflating: bbc-fulltext (document classification)/bbc/business/150.txt  \n",
            "  inflating: bbc-fulltext (document classification)/bbc/business/151.txt  \n",
            "  inflating: bbc-fulltext (document classification)/bbc/business/152.txt  \n",
            "  inflating: bbc-fulltext (document classification)/bbc/business/153.txt  \n",
            "  inflating: bbc-fulltext (document classification)/bbc/business/154.txt  \n",
            "  inflating: bbc-fulltext (document classification)/bbc/business/155.txt  \n",
            "  inflating: bbc-fulltext (document classification)/bbc/business/156.txt  \n",
            "  inflating: bbc-fulltext (document classification)/bbc/business/157.txt  \n",
            "  inflating: bbc-fulltext (document classification)/bbc/business/158.txt  \n",
            "  inflating: bbc-fulltext (document classification)/bbc/business/159.txt  \n",
            "  inflating: bbc-fulltext (document classification)/bbc/business/160.txt  \n",
            "  inflating: bbc-fulltext (document classification)/bbc/business/161.txt  \n",
            "  inflating: bbc-fulltext (document classification)/bbc/business/162.txt  \n",
            "  inflating: bbc-fulltext (document classification)/bbc/business/163.txt  \n",
            "  inflating: bbc-fulltext (document classification)/bbc/business/164.txt  \n",
            "  inflating: bbc-fulltext (document classification)/bbc/business/165.txt  \n",
            "  inflating: bbc-fulltext (document classification)/bbc/business/166.txt  \n",
            "  inflating: bbc-fulltext (document classification)/bbc/business/167.txt  \n",
            "  inflating: bbc-fulltext (document classification)/bbc/business/168.txt  \n",
            "  inflating: bbc-fulltext (document classification)/bbc/business/169.txt  \n",
            "  inflating: bbc-fulltext (document classification)/bbc/business/170.txt  \n",
            "  inflating: bbc-fulltext (document classification)/bbc/business/171.txt  \n",
            "  inflating: bbc-fulltext (document classification)/bbc/business/172.txt  \n",
            "  inflating: bbc-fulltext (document classification)/bbc/business/173.txt  \n",
            "  inflating: bbc-fulltext (document classification)/bbc/business/174.txt  \n",
            "  inflating: bbc-fulltext (document classification)/bbc/business/175.txt  \n",
            "  inflating: bbc-fulltext (document classification)/bbc/business/176.txt  \n",
            "  inflating: bbc-fulltext (document classification)/bbc/business/177.txt  \n",
            "  inflating: bbc-fulltext (document classification)/bbc/business/178.txt  \n",
            "  inflating: bbc-fulltext (document classification)/bbc/business/179.txt  \n",
            "  inflating: bbc-fulltext (document classification)/bbc/business/180.txt  \n",
            "  inflating: bbc-fulltext (document classification)/bbc/business/181.txt  \n",
            "  inflating: bbc-fulltext (document classification)/bbc/business/182.txt  \n",
            "  inflating: bbc-fulltext (document classification)/bbc/business/183.txt  \n",
            "  inflating: bbc-fulltext (document classification)/bbc/business/184.txt  \n",
            "  inflating: bbc-fulltext (document classification)/bbc/business/185.txt  \n",
            "  inflating: bbc-fulltext (document classification)/bbc/business/186.txt  \n",
            "  inflating: bbc-fulltext (document classification)/bbc/business/187.txt  \n",
            "  inflating: bbc-fulltext (document classification)/bbc/business/188.txt  \n",
            "  inflating: bbc-fulltext (document classification)/bbc/business/189.txt  \n",
            "  inflating: bbc-fulltext (document classification)/bbc/business/190.txt  \n",
            "  inflating: bbc-fulltext (document classification)/bbc/business/191.txt  \n",
            "  inflating: bbc-fulltext (document classification)/bbc/business/192.txt  \n",
            "  inflating: bbc-fulltext (document classification)/bbc/business/193.txt  \n",
            "  inflating: bbc-fulltext (document classification)/bbc/business/194.txt  \n",
            "  inflating: bbc-fulltext (document classification)/bbc/business/195.txt  \n",
            "  inflating: bbc-fulltext (document classification)/bbc/business/196.txt  \n",
            "  inflating: bbc-fulltext (document classification)/bbc/business/197.txt  \n",
            "  inflating: bbc-fulltext (document classification)/bbc/business/198.txt  \n",
            "  inflating: bbc-fulltext (document classification)/bbc/business/199.txt  \n",
            "  inflating: bbc-fulltext (document classification)/bbc/business/200.txt  \n",
            "  inflating: bbc-fulltext (document classification)/bbc/business/201.txt  \n",
            "  inflating: bbc-fulltext (document classification)/bbc/business/202.txt  \n",
            "  inflating: bbc-fulltext (document classification)/bbc/business/203.txt  \n",
            "  inflating: bbc-fulltext (document classification)/bbc/business/204.txt  \n",
            "  inflating: bbc-fulltext (document classification)/bbc/business/205.txt  \n",
            "  inflating: bbc-fulltext (document classification)/bbc/business/206.txt  \n",
            "  inflating: bbc-fulltext (document classification)/bbc/business/207.txt  \n",
            "  inflating: bbc-fulltext (document classification)/bbc/business/208.txt  \n",
            "  inflating: bbc-fulltext (document classification)/bbc/business/209.txt  \n",
            "  inflating: bbc-fulltext (document classification)/bbc/business/210.txt  \n",
            "  inflating: bbc-fulltext (document classification)/bbc/business/211.txt  \n",
            "  inflating: bbc-fulltext (document classification)/bbc/business/212.txt  \n",
            "  inflating: bbc-fulltext (document classification)/bbc/business/213.txt  \n",
            "  inflating: bbc-fulltext (document classification)/bbc/business/214.txt  \n",
            "  inflating: bbc-fulltext (document classification)/bbc/business/215.txt  \n",
            "  inflating: bbc-fulltext (document classification)/bbc/business/216.txt  \n",
            "  inflating: bbc-fulltext (document classification)/bbc/business/217.txt  \n",
            "  inflating: bbc-fulltext (document classification)/bbc/business/218.txt  \n",
            "  inflating: bbc-fulltext (document classification)/bbc/business/219.txt  \n",
            "  inflating: bbc-fulltext (document classification)/bbc/business/220.txt  \n",
            "  inflating: bbc-fulltext (document classification)/bbc/business/221.txt  \n",
            "  inflating: bbc-fulltext (document classification)/bbc/business/222.txt  \n",
            "  inflating: bbc-fulltext (document classification)/bbc/business/223.txt  \n",
            "  inflating: bbc-fulltext (document classification)/bbc/business/224.txt  \n",
            "  inflating: bbc-fulltext (document classification)/bbc/business/225.txt  \n",
            "  inflating: bbc-fulltext (document classification)/bbc/business/226.txt  \n",
            "  inflating: bbc-fulltext (document classification)/bbc/business/227.txt  \n",
            "  inflating: bbc-fulltext (document classification)/bbc/business/228.txt  \n",
            "  inflating: bbc-fulltext (document classification)/bbc/business/229.txt  \n",
            "  inflating: bbc-fulltext (document classification)/bbc/business/230.txt  \n",
            "  inflating: bbc-fulltext (document classification)/bbc/business/231.txt  \n",
            "  inflating: bbc-fulltext (document classification)/bbc/business/232.txt  \n",
            "  inflating: bbc-fulltext (document classification)/bbc/business/233.txt  \n",
            "  inflating: bbc-fulltext (document classification)/bbc/business/234.txt  \n",
            "  inflating: bbc-fulltext (document classification)/bbc/business/235.txt  \n",
            "  inflating: bbc-fulltext (document classification)/bbc/business/236.txt  \n",
            "  inflating: bbc-fulltext (document classification)/bbc/business/237.txt  \n",
            "  inflating: bbc-fulltext (document classification)/bbc/business/238.txt  \n",
            "  inflating: bbc-fulltext (document classification)/bbc/business/239.txt  \n",
            "  inflating: bbc-fulltext (document classification)/bbc/business/240.txt  \n",
            "  inflating: bbc-fulltext (document classification)/bbc/business/241.txt  \n",
            "  inflating: bbc-fulltext (document classification)/bbc/business/242.txt  \n",
            "  inflating: bbc-fulltext (document classification)/bbc/business/243.txt  \n",
            "  inflating: bbc-fulltext (document classification)/bbc/business/244.txt  \n",
            "  inflating: bbc-fulltext (document classification)/bbc/business/245.txt  \n",
            "  inflating: bbc-fulltext (document classification)/bbc/business/246.txt  \n",
            "  inflating: bbc-fulltext (document classification)/bbc/business/247.txt  \n",
            "  inflating: bbc-fulltext (document classification)/bbc/business/248.txt  \n",
            "  inflating: bbc-fulltext (document classification)/bbc/business/249.txt  \n",
            "  inflating: bbc-fulltext (document classification)/bbc/business/250.txt  \n",
            "  inflating: bbc-fulltext (document classification)/bbc/business/251.txt  \n",
            "  inflating: bbc-fulltext (document classification)/bbc/business/252.txt  \n",
            "  inflating: bbc-fulltext (document classification)/bbc/business/253.txt  \n",
            "  inflating: bbc-fulltext (document classification)/bbc/business/254.txt  \n",
            "  inflating: bbc-fulltext (document classification)/bbc/business/255.txt  \n",
            "  inflating: bbc-fulltext (document classification)/bbc/business/256.txt  \n",
            "  inflating: bbc-fulltext (document classification)/bbc/business/257.txt  \n",
            "  inflating: bbc-fulltext (document classification)/bbc/business/258.txt  \n",
            "  inflating: bbc-fulltext (document classification)/bbc/business/259.txt  \n",
            "  inflating: bbc-fulltext (document classification)/bbc/business/260.txt  \n",
            "  inflating: bbc-fulltext (document classification)/bbc/business/261.txt  \n",
            "  inflating: bbc-fulltext (document classification)/bbc/business/262.txt  \n",
            "  inflating: bbc-fulltext (document classification)/bbc/business/263.txt  \n",
            "  inflating: bbc-fulltext (document classification)/bbc/business/264.txt  \n",
            "  inflating: bbc-fulltext (document classification)/bbc/business/265.txt  \n",
            "  inflating: bbc-fulltext (document classification)/bbc/business/266.txt  \n",
            "  inflating: bbc-fulltext (document classification)/bbc/business/267.txt  \n",
            "  inflating: bbc-fulltext (document classification)/bbc/business/268.txt  \n",
            "  inflating: bbc-fulltext (document classification)/bbc/business/269.txt  \n",
            "  inflating: bbc-fulltext (document classification)/bbc/business/270.txt  \n",
            "  inflating: bbc-fulltext (document classification)/bbc/business/271.txt  \n",
            "  inflating: bbc-fulltext (document classification)/bbc/business/272.txt  \n",
            "  inflating: bbc-fulltext (document classification)/bbc/business/273.txt  \n",
            "  inflating: bbc-fulltext (document classification)/bbc/business/274.txt  \n",
            "  inflating: bbc-fulltext (document classification)/bbc/business/275.txt  \n",
            "  inflating: bbc-fulltext (document classification)/bbc/business/276.txt  \n",
            "  inflating: bbc-fulltext (document classification)/bbc/business/277.txt  \n",
            "  inflating: bbc-fulltext (document classification)/bbc/business/278.txt  \n",
            "  inflating: bbc-fulltext (document classification)/bbc/business/279.txt  \n",
            "  inflating: bbc-fulltext (document classification)/bbc/business/280.txt  \n",
            "  inflating: bbc-fulltext (document classification)/bbc/business/281.txt  \n",
            "  inflating: bbc-fulltext (document classification)/bbc/business/282.txt  \n",
            "  inflating: bbc-fulltext (document classification)/bbc/business/283.txt  \n",
            "  inflating: bbc-fulltext (document classification)/bbc/business/284.txt  \n",
            "  inflating: bbc-fulltext (document classification)/bbc/business/285.txt  \n",
            "  inflating: bbc-fulltext (document classification)/bbc/business/286.txt  \n",
            "  inflating: bbc-fulltext (document classification)/bbc/business/287.txt  \n",
            "  inflating: bbc-fulltext (document classification)/bbc/business/288.txt  \n",
            "  inflating: bbc-fulltext (document classification)/bbc/business/289.txt  \n",
            "  inflating: bbc-fulltext (document classification)/bbc/business/290.txt  \n",
            "  inflating: bbc-fulltext (document classification)/bbc/business/291.txt  \n",
            "  inflating: bbc-fulltext (document classification)/bbc/business/292.txt  \n",
            "  inflating: bbc-fulltext (document classification)/bbc/business/293.txt  \n",
            "  inflating: bbc-fulltext (document classification)/bbc/business/294.txt  \n",
            "  inflating: bbc-fulltext (document classification)/bbc/business/295.txt  \n",
            "  inflating: bbc-fulltext (document classification)/bbc/business/296.txt  \n",
            "  inflating: bbc-fulltext (document classification)/bbc/business/297.txt  \n",
            "  inflating: bbc-fulltext (document classification)/bbc/business/298.txt  \n",
            "  inflating: bbc-fulltext (document classification)/bbc/business/299.txt  \n",
            "  inflating: bbc-fulltext (document classification)/bbc/business/300.txt  \n",
            "  inflating: bbc-fulltext (document classification)/bbc/business/301.txt  \n",
            "  inflating: bbc-fulltext (document classification)/bbc/business/302.txt  \n",
            "  inflating: bbc-fulltext (document classification)/bbc/business/303.txt  \n",
            "  inflating: bbc-fulltext (document classification)/bbc/business/304.txt  \n",
            "  inflating: bbc-fulltext (document classification)/bbc/business/305.txt  \n",
            "  inflating: bbc-fulltext (document classification)/bbc/business/306.txt  \n",
            "  inflating: bbc-fulltext (document classification)/bbc/business/307.txt  \n",
            "  inflating: bbc-fulltext (document classification)/bbc/business/308.txt  \n",
            "  inflating: bbc-fulltext (document classification)/bbc/business/309.txt  \n",
            "  inflating: bbc-fulltext (document classification)/bbc/business/310.txt  \n",
            "  inflating: bbc-fulltext (document classification)/bbc/business/311.txt  \n",
            "  inflating: bbc-fulltext (document classification)/bbc/business/312.txt  \n",
            "  inflating: bbc-fulltext (document classification)/bbc/business/313.txt  \n",
            "  inflating: bbc-fulltext (document classification)/bbc/business/314.txt  \n",
            "  inflating: bbc-fulltext (document classification)/bbc/business/315.txt  \n",
            "  inflating: bbc-fulltext (document classification)/bbc/business/316.txt  \n",
            "  inflating: bbc-fulltext (document classification)/bbc/business/317.txt  \n",
            "  inflating: bbc-fulltext (document classification)/bbc/business/318.txt  \n",
            "  inflating: bbc-fulltext (document classification)/bbc/business/319.txt  \n",
            "  inflating: bbc-fulltext (document classification)/bbc/business/320.txt  \n",
            "  inflating: bbc-fulltext (document classification)/bbc/business/321.txt  \n",
            "  inflating: bbc-fulltext (document classification)/bbc/business/322.txt  \n",
            "  inflating: bbc-fulltext (document classification)/bbc/business/323.txt  \n",
            "  inflating: bbc-fulltext (document classification)/bbc/business/324.txt  \n",
            "  inflating: bbc-fulltext (document classification)/bbc/business/325.txt  \n",
            "  inflating: bbc-fulltext (document classification)/bbc/business/326.txt  \n",
            "  inflating: bbc-fulltext (document classification)/bbc/business/327.txt  \n",
            "  inflating: bbc-fulltext (document classification)/bbc/business/328.txt  \n",
            "  inflating: bbc-fulltext (document classification)/bbc/business/329.txt  \n",
            "  inflating: bbc-fulltext (document classification)/bbc/business/330.txt  \n",
            "  inflating: bbc-fulltext (document classification)/bbc/business/331.txt  \n",
            "  inflating: bbc-fulltext (document classification)/bbc/business/332.txt  \n",
            "  inflating: bbc-fulltext (document classification)/bbc/business/333.txt  \n",
            "  inflating: bbc-fulltext (document classification)/bbc/business/334.txt  \n",
            "  inflating: bbc-fulltext (document classification)/bbc/business/335.txt  \n",
            "  inflating: bbc-fulltext (document classification)/bbc/business/336.txt  \n",
            "  inflating: bbc-fulltext (document classification)/bbc/business/337.txt  \n",
            "  inflating: bbc-fulltext (document classification)/bbc/business/338.txt  \n",
            "  inflating: bbc-fulltext (document classification)/bbc/business/339.txt  \n",
            "  inflating: bbc-fulltext (document classification)/bbc/business/340.txt  \n",
            "  inflating: bbc-fulltext (document classification)/bbc/business/341.txt  \n",
            "  inflating: bbc-fulltext (document classification)/bbc/business/342.txt  \n",
            "  inflating: bbc-fulltext (document classification)/bbc/business/343.txt  \n",
            "  inflating: bbc-fulltext (document classification)/bbc/business/344.txt  \n",
            "  inflating: bbc-fulltext (document classification)/bbc/business/345.txt  \n",
            "  inflating: bbc-fulltext (document classification)/bbc/business/346.txt  \n",
            "  inflating: bbc-fulltext (document classification)/bbc/business/347.txt  \n",
            "  inflating: bbc-fulltext (document classification)/bbc/business/348.txt  \n",
            "  inflating: bbc-fulltext (document classification)/bbc/business/349.txt  \n",
            "  inflating: bbc-fulltext (document classification)/bbc/business/350.txt  \n",
            "  inflating: bbc-fulltext (document classification)/bbc/business/351.txt  \n",
            "  inflating: bbc-fulltext (document classification)/bbc/business/352.txt  \n",
            "  inflating: bbc-fulltext (document classification)/bbc/business/353.txt  \n",
            "  inflating: bbc-fulltext (document classification)/bbc/business/354.txt  \n",
            "  inflating: bbc-fulltext (document classification)/bbc/business/355.txt  \n",
            "  inflating: bbc-fulltext (document classification)/bbc/business/356.txt  \n",
            "  inflating: bbc-fulltext (document classification)/bbc/business/357.txt  \n",
            "  inflating: bbc-fulltext (document classification)/bbc/business/358.txt  \n",
            "  inflating: bbc-fulltext (document classification)/bbc/business/359.txt  \n",
            "  inflating: bbc-fulltext (document classification)/bbc/business/360.txt  \n",
            "  inflating: bbc-fulltext (document classification)/bbc/business/361.txt  \n",
            "  inflating: bbc-fulltext (document classification)/bbc/business/362.txt  \n",
            "  inflating: bbc-fulltext (document classification)/bbc/business/363.txt  \n",
            "  inflating: bbc-fulltext (document classification)/bbc/business/364.txt  \n",
            "  inflating: bbc-fulltext (document classification)/bbc/business/365.txt  \n",
            "  inflating: bbc-fulltext (document classification)/bbc/business/366.txt  \n",
            "  inflating: bbc-fulltext (document classification)/bbc/business/367.txt  \n",
            "  inflating: bbc-fulltext (document classification)/bbc/business/368.txt  \n",
            "  inflating: bbc-fulltext (document classification)/bbc/business/369.txt  \n",
            "  inflating: bbc-fulltext (document classification)/bbc/business/370.txt  \n",
            "  inflating: bbc-fulltext (document classification)/bbc/business/371.txt  \n",
            "  inflating: bbc-fulltext (document classification)/bbc/business/372.txt  \n",
            "  inflating: bbc-fulltext (document classification)/bbc/business/373.txt  \n",
            "  inflating: bbc-fulltext (document classification)/bbc/business/374.txt  \n",
            "  inflating: bbc-fulltext (document classification)/bbc/business/375.txt  \n",
            "  inflating: bbc-fulltext (document classification)/bbc/business/376.txt  \n",
            "  inflating: bbc-fulltext (document classification)/bbc/business/377.txt  \n",
            "  inflating: bbc-fulltext (document classification)/bbc/business/378.txt  \n",
            "  inflating: bbc-fulltext (document classification)/bbc/business/379.txt  \n",
            "  inflating: bbc-fulltext (document classification)/bbc/business/380.txt  \n",
            "  inflating: bbc-fulltext (document classification)/bbc/business/381.txt  \n",
            "  inflating: bbc-fulltext (document classification)/bbc/business/382.txt  \n",
            "  inflating: bbc-fulltext (document classification)/bbc/business/383.txt  \n",
            "  inflating: bbc-fulltext (document classification)/bbc/business/384.txt  \n",
            "  inflating: bbc-fulltext (document classification)/bbc/business/385.txt  \n",
            "  inflating: bbc-fulltext (document classification)/bbc/business/386.txt  \n",
            "  inflating: bbc-fulltext (document classification)/bbc/business/387.txt  \n",
            "  inflating: bbc-fulltext (document classification)/bbc/business/388.txt  \n",
            "  inflating: bbc-fulltext (document classification)/bbc/business/389.txt  \n",
            "  inflating: bbc-fulltext (document classification)/bbc/business/390.txt  \n",
            "  inflating: bbc-fulltext (document classification)/bbc/business/391.txt  \n",
            "  inflating: bbc-fulltext (document classification)/bbc/business/392.txt  \n",
            "  inflating: bbc-fulltext (document classification)/bbc/business/393.txt  \n",
            "  inflating: bbc-fulltext (document classification)/bbc/business/394.txt  \n",
            "  inflating: bbc-fulltext (document classification)/bbc/business/395.txt  \n",
            "  inflating: bbc-fulltext (document classification)/bbc/business/396.txt  \n",
            "  inflating: bbc-fulltext (document classification)/bbc/business/397.txt  \n",
            "  inflating: bbc-fulltext (document classification)/bbc/business/398.txt  \n",
            "  inflating: bbc-fulltext (document classification)/bbc/business/399.txt  \n",
            "  inflating: bbc-fulltext (document classification)/bbc/business/400.txt  \n",
            "  inflating: bbc-fulltext (document classification)/bbc/business/401.txt  \n",
            "  inflating: bbc-fulltext (document classification)/bbc/business/402.txt  \n",
            "  inflating: bbc-fulltext (document classification)/bbc/business/403.txt  \n",
            "  inflating: bbc-fulltext (document classification)/bbc/business/404.txt  \n",
            "  inflating: bbc-fulltext (document classification)/bbc/business/405.txt  \n",
            "  inflating: bbc-fulltext (document classification)/bbc/business/406.txt  \n",
            "  inflating: bbc-fulltext (document classification)/bbc/business/407.txt  \n",
            "  inflating: bbc-fulltext (document classification)/bbc/business/408.txt  \n",
            "  inflating: bbc-fulltext (document classification)/bbc/business/409.txt  \n",
            "  inflating: bbc-fulltext (document classification)/bbc/business/410.txt  \n",
            "  inflating: bbc-fulltext (document classification)/bbc/business/411.txt  \n",
            "  inflating: bbc-fulltext (document classification)/bbc/business/412.txt  \n",
            "  inflating: bbc-fulltext (document classification)/bbc/business/413.txt  \n",
            "  inflating: bbc-fulltext (document classification)/bbc/business/414.txt  \n",
            "  inflating: bbc-fulltext (document classification)/bbc/business/415.txt  \n",
            "  inflating: bbc-fulltext (document classification)/bbc/business/416.txt  \n",
            "  inflating: bbc-fulltext (document classification)/bbc/business/417.txt  \n",
            "  inflating: bbc-fulltext (document classification)/bbc/business/418.txt  \n",
            "  inflating: bbc-fulltext (document classification)/bbc/business/419.txt  \n",
            "  inflating: bbc-fulltext (document classification)/bbc/business/420.txt  \n",
            "  inflating: bbc-fulltext (document classification)/bbc/business/421.txt  \n",
            "  inflating: bbc-fulltext (document classification)/bbc/business/422.txt  \n",
            "  inflating: bbc-fulltext (document classification)/bbc/business/423.txt  \n",
            "  inflating: bbc-fulltext (document classification)/bbc/business/424.txt  \n",
            "  inflating: bbc-fulltext (document classification)/bbc/business/425.txt  \n",
            "  inflating: bbc-fulltext (document classification)/bbc/business/426.txt  \n",
            "  inflating: bbc-fulltext (document classification)/bbc/business/427.txt  \n",
            "  inflating: bbc-fulltext (document classification)/bbc/business/428.txt  \n",
            "  inflating: bbc-fulltext (document classification)/bbc/business/429.txt  \n",
            "  inflating: bbc-fulltext (document classification)/bbc/business/430.txt  \n",
            "  inflating: bbc-fulltext (document classification)/bbc/business/431.txt  \n",
            "  inflating: bbc-fulltext (document classification)/bbc/business/432.txt  \n",
            "  inflating: bbc-fulltext (document classification)/bbc/business/433.txt  \n",
            "  inflating: bbc-fulltext (document classification)/bbc/business/434.txt  \n",
            "  inflating: bbc-fulltext (document classification)/bbc/business/435.txt  \n",
            "  inflating: bbc-fulltext (document classification)/bbc/business/436.txt  \n",
            "  inflating: bbc-fulltext (document classification)/bbc/business/437.txt  \n",
            "  inflating: bbc-fulltext (document classification)/bbc/business/438.txt  \n",
            "  inflating: bbc-fulltext (document classification)/bbc/business/439.txt  \n",
            "  inflating: bbc-fulltext (document classification)/bbc/business/440.txt  \n",
            "  inflating: bbc-fulltext (document classification)/bbc/business/441.txt  \n",
            "  inflating: bbc-fulltext (document classification)/bbc/business/442.txt  \n",
            "  inflating: bbc-fulltext (document classification)/bbc/business/443.txt  \n",
            "  inflating: bbc-fulltext (document classification)/bbc/business/444.txt  \n",
            "  inflating: bbc-fulltext (document classification)/bbc/business/445.txt  \n",
            "  inflating: bbc-fulltext (document classification)/bbc/business/446.txt  \n",
            "  inflating: bbc-fulltext (document classification)/bbc/business/447.txt  \n",
            "  inflating: bbc-fulltext (document classification)/bbc/business/448.txt  \n",
            "  inflating: bbc-fulltext (document classification)/bbc/business/449.txt  \n",
            "  inflating: bbc-fulltext (document classification)/bbc/business/450.txt  \n",
            "  inflating: bbc-fulltext (document classification)/bbc/business/451.txt  \n",
            "  inflating: bbc-fulltext (document classification)/bbc/business/452.txt  \n",
            "  inflating: bbc-fulltext (document classification)/bbc/business/453.txt  \n",
            "  inflating: bbc-fulltext (document classification)/bbc/business/454.txt  \n",
            "  inflating: bbc-fulltext (document classification)/bbc/business/455.txt  \n",
            "  inflating: bbc-fulltext (document classification)/bbc/business/456.txt  \n",
            "  inflating: bbc-fulltext (document classification)/bbc/business/457.txt  \n",
            "  inflating: bbc-fulltext (document classification)/bbc/business/458.txt  \n",
            "  inflating: bbc-fulltext (document classification)/bbc/business/459.txt  \n",
            "  inflating: bbc-fulltext (document classification)/bbc/business/460.txt  \n",
            "  inflating: bbc-fulltext (document classification)/bbc/business/461.txt  \n",
            "  inflating: bbc-fulltext (document classification)/bbc/business/462.txt  \n",
            "  inflating: bbc-fulltext (document classification)/bbc/business/463.txt  \n",
            "  inflating: bbc-fulltext (document classification)/bbc/business/464.txt  \n",
            "  inflating: bbc-fulltext (document classification)/bbc/business/465.txt  \n",
            "  inflating: bbc-fulltext (document classification)/bbc/business/466.txt  \n",
            "  inflating: bbc-fulltext (document classification)/bbc/business/467.txt  \n",
            "  inflating: bbc-fulltext (document classification)/bbc/business/468.txt  \n",
            "  inflating: bbc-fulltext (document classification)/bbc/business/469.txt  \n",
            "  inflating: bbc-fulltext (document classification)/bbc/business/470.txt  \n",
            "  inflating: bbc-fulltext (document classification)/bbc/business/471.txt  \n",
            "  inflating: bbc-fulltext (document classification)/bbc/business/472.txt  \n",
            "  inflating: bbc-fulltext (document classification)/bbc/business/473.txt  \n",
            "  inflating: bbc-fulltext (document classification)/bbc/business/474.txt  \n",
            "  inflating: bbc-fulltext (document classification)/bbc/business/475.txt  \n",
            "  inflating: bbc-fulltext (document classification)/bbc/business/476.txt  \n",
            "  inflating: bbc-fulltext (document classification)/bbc/business/477.txt  \n",
            "  inflating: bbc-fulltext (document classification)/bbc/business/478.txt  \n",
            "  inflating: bbc-fulltext (document classification)/bbc/business/479.txt  \n",
            "  inflating: bbc-fulltext (document classification)/bbc/business/480.txt  \n",
            "  inflating: bbc-fulltext (document classification)/bbc/business/481.txt  \n",
            "  inflating: bbc-fulltext (document classification)/bbc/business/482.txt  \n",
            "  inflating: bbc-fulltext (document classification)/bbc/business/483.txt  \n",
            "  inflating: bbc-fulltext (document classification)/bbc/business/484.txt  \n",
            "  inflating: bbc-fulltext (document classification)/bbc/business/485.txt  \n",
            "  inflating: bbc-fulltext (document classification)/bbc/business/486.txt  \n",
            "  inflating: bbc-fulltext (document classification)/bbc/business/487.txt  \n",
            "  inflating: bbc-fulltext (document classification)/bbc/business/488.txt  \n",
            "  inflating: bbc-fulltext (document classification)/bbc/business/489.txt  \n",
            "  inflating: bbc-fulltext (document classification)/bbc/business/490.txt  \n",
            "  inflating: bbc-fulltext (document classification)/bbc/business/491.txt  \n",
            "  inflating: bbc-fulltext (document classification)/bbc/business/492.txt  \n",
            "  inflating: bbc-fulltext (document classification)/bbc/business/493.txt  \n",
            "  inflating: bbc-fulltext (document classification)/bbc/business/494.txt  \n",
            "  inflating: bbc-fulltext (document classification)/bbc/business/495.txt  \n",
            "  inflating: bbc-fulltext (document classification)/bbc/business/496.txt  \n",
            "  inflating: bbc-fulltext (document classification)/bbc/business/497.txt  \n",
            "  inflating: bbc-fulltext (document classification)/bbc/business/498.txt  \n",
            "  inflating: bbc-fulltext (document classification)/bbc/business/499.txt  \n",
            "  inflating: bbc-fulltext (document classification)/bbc/business/500.txt  \n",
            "  inflating: bbc-fulltext (document classification)/bbc/business/501.txt  \n",
            "  inflating: bbc-fulltext (document classification)/bbc/business/502.txt  \n",
            "  inflating: bbc-fulltext (document classification)/bbc/business/503.txt  \n",
            "  inflating: bbc-fulltext (document classification)/bbc/business/504.txt  \n",
            "  inflating: bbc-fulltext (document classification)/bbc/business/505.txt  \n",
            "  inflating: bbc-fulltext (document classification)/bbc/business/506.txt  \n",
            "  inflating: bbc-fulltext (document classification)/bbc/business/507.txt  \n",
            "  inflating: bbc-fulltext (document classification)/bbc/business/508.txt  \n",
            "  inflating: bbc-fulltext (document classification)/bbc/business/509.txt  \n",
            "  inflating: bbc-fulltext (document classification)/bbc/business/510.txt  \n",
            "  inflating: bbc-fulltext (document classification)/bbc/entertainment/001.txt  \n",
            "  inflating: bbc-fulltext (document classification)/bbc/entertainment/002.txt  \n",
            "  inflating: bbc-fulltext (document classification)/bbc/entertainment/003.txt  \n",
            "  inflating: bbc-fulltext (document classification)/bbc/entertainment/004.txt  \n",
            "  inflating: bbc-fulltext (document classification)/bbc/entertainment/005.txt  \n",
            "  inflating: bbc-fulltext (document classification)/bbc/entertainment/006.txt  \n",
            "  inflating: bbc-fulltext (document classification)/bbc/entertainment/007.txt  \n",
            "  inflating: bbc-fulltext (document classification)/bbc/entertainment/008.txt  \n",
            "  inflating: bbc-fulltext (document classification)/bbc/entertainment/009.txt  \n",
            "  inflating: bbc-fulltext (document classification)/bbc/entertainment/010.txt  \n",
            "  inflating: bbc-fulltext (document classification)/bbc/entertainment/011.txt  \n",
            "  inflating: bbc-fulltext (document classification)/bbc/entertainment/012.txt  \n",
            "  inflating: bbc-fulltext (document classification)/bbc/entertainment/013.txt  \n",
            "  inflating: bbc-fulltext (document classification)/bbc/entertainment/014.txt  \n",
            "  inflating: bbc-fulltext (document classification)/bbc/entertainment/015.txt  \n",
            "  inflating: bbc-fulltext (document classification)/bbc/entertainment/016.txt  \n",
            "  inflating: bbc-fulltext (document classification)/bbc/entertainment/017.txt  \n",
            "  inflating: bbc-fulltext (document classification)/bbc/entertainment/018.txt  \n",
            "  inflating: bbc-fulltext (document classification)/bbc/entertainment/019.txt  \n",
            "  inflating: bbc-fulltext (document classification)/bbc/entertainment/020.txt  \n",
            "  inflating: bbc-fulltext (document classification)/bbc/entertainment/021.txt  \n",
            "  inflating: bbc-fulltext (document classification)/bbc/entertainment/022.txt  \n",
            "  inflating: bbc-fulltext (document classification)/bbc/entertainment/023.txt  \n",
            "  inflating: bbc-fulltext (document classification)/bbc/entertainment/024.txt  \n",
            "  inflating: bbc-fulltext (document classification)/bbc/entertainment/025.txt  \n",
            "  inflating: bbc-fulltext (document classification)/bbc/entertainment/026.txt  \n",
            "  inflating: bbc-fulltext (document classification)/bbc/entertainment/027.txt  \n",
            "  inflating: bbc-fulltext (document classification)/bbc/entertainment/028.txt  \n",
            "  inflating: bbc-fulltext (document classification)/bbc/entertainment/029.txt  \n",
            "  inflating: bbc-fulltext (document classification)/bbc/entertainment/030.txt  \n",
            "  inflating: bbc-fulltext (document classification)/bbc/entertainment/031.txt  \n",
            "  inflating: bbc-fulltext (document classification)/bbc/entertainment/032.txt  \n",
            "  inflating: bbc-fulltext (document classification)/bbc/entertainment/033.txt  \n",
            "  inflating: bbc-fulltext (document classification)/bbc/entertainment/034.txt  \n",
            "  inflating: bbc-fulltext (document classification)/bbc/entertainment/035.txt  \n",
            "  inflating: bbc-fulltext (document classification)/bbc/entertainment/036.txt  \n",
            "  inflating: bbc-fulltext (document classification)/bbc/entertainment/037.txt  \n",
            "  inflating: bbc-fulltext (document classification)/bbc/entertainment/038.txt  \n",
            "  inflating: bbc-fulltext (document classification)/bbc/entertainment/039.txt  \n",
            "  inflating: bbc-fulltext (document classification)/bbc/entertainment/040.txt  \n",
            "  inflating: bbc-fulltext (document classification)/bbc/entertainment/041.txt  \n",
            "  inflating: bbc-fulltext (document classification)/bbc/entertainment/042.txt  \n",
            "  inflating: bbc-fulltext (document classification)/bbc/entertainment/043.txt  \n",
            "  inflating: bbc-fulltext (document classification)/bbc/entertainment/044.txt  \n",
            "  inflating: bbc-fulltext (document classification)/bbc/entertainment/045.txt  \n",
            "  inflating: bbc-fulltext (document classification)/bbc/entertainment/046.txt  \n",
            "  inflating: bbc-fulltext (document classification)/bbc/entertainment/047.txt  \n",
            "  inflating: bbc-fulltext (document classification)/bbc/entertainment/048.txt  \n",
            "  inflating: bbc-fulltext (document classification)/bbc/entertainment/049.txt  \n",
            "  inflating: bbc-fulltext (document classification)/bbc/entertainment/050.txt  \n",
            "  inflating: bbc-fulltext (document classification)/bbc/entertainment/051.txt  \n",
            "  inflating: bbc-fulltext (document classification)/bbc/entertainment/052.txt  \n",
            "  inflating: bbc-fulltext (document classification)/bbc/entertainment/053.txt  \n",
            "  inflating: bbc-fulltext (document classification)/bbc/entertainment/054.txt  \n",
            "  inflating: bbc-fulltext (document classification)/bbc/entertainment/055.txt  \n",
            "  inflating: bbc-fulltext (document classification)/bbc/entertainment/056.txt  \n",
            "  inflating: bbc-fulltext (document classification)/bbc/entertainment/057.txt  \n",
            "  inflating: bbc-fulltext (document classification)/bbc/entertainment/058.txt  \n",
            "  inflating: bbc-fulltext (document classification)/bbc/entertainment/059.txt  \n",
            "  inflating: bbc-fulltext (document classification)/bbc/entertainment/060.txt  \n",
            "  inflating: bbc-fulltext (document classification)/bbc/entertainment/061.txt  \n",
            "  inflating: bbc-fulltext (document classification)/bbc/entertainment/062.txt  \n",
            "  inflating: bbc-fulltext (document classification)/bbc/entertainment/063.txt  \n",
            "  inflating: bbc-fulltext (document classification)/bbc/entertainment/064.txt  \n",
            "  inflating: bbc-fulltext (document classification)/bbc/entertainment/065.txt  \n",
            "  inflating: bbc-fulltext (document classification)/bbc/entertainment/066.txt  \n",
            "  inflating: bbc-fulltext (document classification)/bbc/entertainment/067.txt  \n",
            "  inflating: bbc-fulltext (document classification)/bbc/entertainment/068.txt  \n",
            "  inflating: bbc-fulltext (document classification)/bbc/entertainment/069.txt  \n",
            "  inflating: bbc-fulltext (document classification)/bbc/entertainment/070.txt  \n",
            "  inflating: bbc-fulltext (document classification)/bbc/entertainment/071.txt  \n",
            "  inflating: bbc-fulltext (document classification)/bbc/entertainment/072.txt  \n",
            "  inflating: bbc-fulltext (document classification)/bbc/entertainment/073.txt  \n",
            "  inflating: bbc-fulltext (document classification)/bbc/entertainment/074.txt  \n",
            "  inflating: bbc-fulltext (document classification)/bbc/entertainment/075.txt  \n",
            "  inflating: bbc-fulltext (document classification)/bbc/entertainment/076.txt  \n",
            "  inflating: bbc-fulltext (document classification)/bbc/entertainment/077.txt  \n",
            "  inflating: bbc-fulltext (document classification)/bbc/entertainment/078.txt  \n",
            "  inflating: bbc-fulltext (document classification)/bbc/entertainment/079.txt  \n",
            "  inflating: bbc-fulltext (document classification)/bbc/entertainment/080.txt  \n",
            "  inflating: bbc-fulltext (document classification)/bbc/entertainment/081.txt  \n",
            "  inflating: bbc-fulltext (document classification)/bbc/entertainment/082.txt  \n",
            "  inflating: bbc-fulltext (document classification)/bbc/entertainment/083.txt  \n",
            "  inflating: bbc-fulltext (document classification)/bbc/entertainment/084.txt  \n",
            "  inflating: bbc-fulltext (document classification)/bbc/entertainment/085.txt  \n",
            "  inflating: bbc-fulltext (document classification)/bbc/entertainment/086.txt  \n",
            "  inflating: bbc-fulltext (document classification)/bbc/entertainment/087.txt  \n",
            "  inflating: bbc-fulltext (document classification)/bbc/entertainment/088.txt  \n",
            "  inflating: bbc-fulltext (document classification)/bbc/entertainment/089.txt  \n",
            "  inflating: bbc-fulltext (document classification)/bbc/entertainment/090.txt  \n",
            "  inflating: bbc-fulltext (document classification)/bbc/entertainment/091.txt  \n",
            "  inflating: bbc-fulltext (document classification)/bbc/entertainment/092.txt  \n",
            "  inflating: bbc-fulltext (document classification)/bbc/entertainment/093.txt  \n",
            "  inflating: bbc-fulltext (document classification)/bbc/entertainment/094.txt  \n",
            "  inflating: bbc-fulltext (document classification)/bbc/entertainment/095.txt  \n",
            "  inflating: bbc-fulltext (document classification)/bbc/entertainment/096.txt  \n",
            "  inflating: bbc-fulltext (document classification)/bbc/entertainment/097.txt  \n",
            "  inflating: bbc-fulltext (document classification)/bbc/entertainment/098.txt  \n",
            "  inflating: bbc-fulltext (document classification)/bbc/entertainment/099.txt  \n",
            "  inflating: bbc-fulltext (document classification)/bbc/entertainment/100.txt  \n",
            "  inflating: bbc-fulltext (document classification)/bbc/entertainment/101.txt  \n",
            "  inflating: bbc-fulltext (document classification)/bbc/entertainment/102.txt  \n",
            "  inflating: bbc-fulltext (document classification)/bbc/entertainment/103.txt  \n",
            "  inflating: bbc-fulltext (document classification)/bbc/entertainment/104.txt  \n",
            "  inflating: bbc-fulltext (document classification)/bbc/entertainment/105.txt  \n",
            "  inflating: bbc-fulltext (document classification)/bbc/entertainment/106.txt  \n",
            "  inflating: bbc-fulltext (document classification)/bbc/entertainment/107.txt  \n",
            "  inflating: bbc-fulltext (document classification)/bbc/entertainment/108.txt  \n",
            "  inflating: bbc-fulltext (document classification)/bbc/entertainment/109.txt  \n",
            "  inflating: bbc-fulltext (document classification)/bbc/entertainment/110.txt  \n",
            "  inflating: bbc-fulltext (document classification)/bbc/entertainment/111.txt  \n",
            "  inflating: bbc-fulltext (document classification)/bbc/entertainment/112.txt  \n",
            "  inflating: bbc-fulltext (document classification)/bbc/entertainment/113.txt  \n",
            "  inflating: bbc-fulltext (document classification)/bbc/entertainment/114.txt  \n",
            "  inflating: bbc-fulltext (document classification)/bbc/entertainment/115.txt  \n",
            "  inflating: bbc-fulltext (document classification)/bbc/entertainment/116.txt  \n",
            "  inflating: bbc-fulltext (document classification)/bbc/entertainment/117.txt  \n",
            "  inflating: bbc-fulltext (document classification)/bbc/entertainment/118.txt  \n",
            "  inflating: bbc-fulltext (document classification)/bbc/entertainment/119.txt  \n",
            "  inflating: bbc-fulltext (document classification)/bbc/entertainment/120.txt  \n",
            "  inflating: bbc-fulltext (document classification)/bbc/entertainment/121.txt  \n",
            "  inflating: bbc-fulltext (document classification)/bbc/entertainment/122.txt  \n",
            "  inflating: bbc-fulltext (document classification)/bbc/entertainment/123.txt  \n",
            "  inflating: bbc-fulltext (document classification)/bbc/entertainment/124.txt  \n",
            "  inflating: bbc-fulltext (document classification)/bbc/entertainment/125.txt  \n",
            "  inflating: bbc-fulltext (document classification)/bbc/entertainment/126.txt  \n",
            "  inflating: bbc-fulltext (document classification)/bbc/entertainment/127.txt  \n",
            "  inflating: bbc-fulltext (document classification)/bbc/entertainment/128.txt  \n",
            "  inflating: bbc-fulltext (document classification)/bbc/entertainment/129.txt  \n",
            "  inflating: bbc-fulltext (document classification)/bbc/entertainment/130.txt  \n",
            "  inflating: bbc-fulltext (document classification)/bbc/entertainment/131.txt  \n",
            "  inflating: bbc-fulltext (document classification)/bbc/entertainment/132.txt  \n",
            "  inflating: bbc-fulltext (document classification)/bbc/entertainment/133.txt  \n",
            "  inflating: bbc-fulltext (document classification)/bbc/entertainment/134.txt  \n",
            "  inflating: bbc-fulltext (document classification)/bbc/entertainment/135.txt  \n",
            "  inflating: bbc-fulltext (document classification)/bbc/entertainment/136.txt  \n",
            "  inflating: bbc-fulltext (document classification)/bbc/entertainment/137.txt  \n",
            "  inflating: bbc-fulltext (document classification)/bbc/entertainment/138.txt  \n",
            "  inflating: bbc-fulltext (document classification)/bbc/entertainment/139.txt  \n",
            "  inflating: bbc-fulltext (document classification)/bbc/entertainment/140.txt  \n",
            "  inflating: bbc-fulltext (document classification)/bbc/entertainment/141.txt  \n",
            "  inflating: bbc-fulltext (document classification)/bbc/entertainment/142.txt  \n",
            "  inflating: bbc-fulltext (document classification)/bbc/entertainment/143.txt  \n",
            "  inflating: bbc-fulltext (document classification)/bbc/entertainment/144.txt  \n",
            "  inflating: bbc-fulltext (document classification)/bbc/entertainment/145.txt  \n",
            "  inflating: bbc-fulltext (document classification)/bbc/entertainment/146.txt  \n",
            "  inflating: bbc-fulltext (document classification)/bbc/entertainment/147.txt  \n",
            "  inflating: bbc-fulltext (document classification)/bbc/entertainment/148.txt  \n",
            "  inflating: bbc-fulltext (document classification)/bbc/entertainment/149.txt  \n",
            "  inflating: bbc-fulltext (document classification)/bbc/entertainment/150.txt  \n",
            "  inflating: bbc-fulltext (document classification)/bbc/entertainment/151.txt  \n",
            "  inflating: bbc-fulltext (document classification)/bbc/entertainment/152.txt  \n",
            "  inflating: bbc-fulltext (document classification)/bbc/entertainment/153.txt  \n",
            "  inflating: bbc-fulltext (document classification)/bbc/entertainment/154.txt  \n",
            "  inflating: bbc-fulltext (document classification)/bbc/entertainment/155.txt  \n",
            "  inflating: bbc-fulltext (document classification)/bbc/entertainment/156.txt  \n",
            "  inflating: bbc-fulltext (document classification)/bbc/entertainment/157.txt  \n",
            "  inflating: bbc-fulltext (document classification)/bbc/entertainment/158.txt  \n",
            "  inflating: bbc-fulltext (document classification)/bbc/entertainment/159.txt  \n",
            "  inflating: bbc-fulltext (document classification)/bbc/entertainment/160.txt  \n",
            "  inflating: bbc-fulltext (document classification)/bbc/entertainment/161.txt  \n",
            "  inflating: bbc-fulltext (document classification)/bbc/entertainment/162.txt  \n",
            "  inflating: bbc-fulltext (document classification)/bbc/entertainment/163.txt  \n",
            "  inflating: bbc-fulltext (document classification)/bbc/entertainment/164.txt  \n",
            "  inflating: bbc-fulltext (document classification)/bbc/entertainment/165.txt  \n",
            "  inflating: bbc-fulltext (document classification)/bbc/entertainment/166.txt  \n",
            "  inflating: bbc-fulltext (document classification)/bbc/entertainment/167.txt  \n",
            "  inflating: bbc-fulltext (document classification)/bbc/entertainment/168.txt  \n",
            "  inflating: bbc-fulltext (document classification)/bbc/entertainment/169.txt  \n",
            "  inflating: bbc-fulltext (document classification)/bbc/entertainment/170.txt  \n",
            "  inflating: bbc-fulltext (document classification)/bbc/entertainment/171.txt  \n",
            "  inflating: bbc-fulltext (document classification)/bbc/entertainment/172.txt  \n",
            "  inflating: bbc-fulltext (document classification)/bbc/entertainment/173.txt  \n",
            "  inflating: bbc-fulltext (document classification)/bbc/entertainment/174.txt  \n",
            "  inflating: bbc-fulltext (document classification)/bbc/entertainment/175.txt  \n",
            "  inflating: bbc-fulltext (document classification)/bbc/entertainment/176.txt  \n",
            "  inflating: bbc-fulltext (document classification)/bbc/entertainment/177.txt  \n",
            "  inflating: bbc-fulltext (document classification)/bbc/entertainment/178.txt  \n",
            "  inflating: bbc-fulltext (document classification)/bbc/entertainment/179.txt  \n",
            "  inflating: bbc-fulltext (document classification)/bbc/entertainment/180.txt  \n",
            "  inflating: bbc-fulltext (document classification)/bbc/entertainment/181.txt  \n",
            "  inflating: bbc-fulltext (document classification)/bbc/entertainment/182.txt  \n",
            "  inflating: bbc-fulltext (document classification)/bbc/entertainment/183.txt  \n",
            "  inflating: bbc-fulltext (document classification)/bbc/entertainment/184.txt  \n",
            "  inflating: bbc-fulltext (document classification)/bbc/entertainment/185.txt  \n",
            "  inflating: bbc-fulltext (document classification)/bbc/entertainment/186.txt  \n",
            "  inflating: bbc-fulltext (document classification)/bbc/entertainment/187.txt  \n",
            "  inflating: bbc-fulltext (document classification)/bbc/entertainment/188.txt  \n",
            "  inflating: bbc-fulltext (document classification)/bbc/entertainment/189.txt  \n",
            "  inflating: bbc-fulltext (document classification)/bbc/entertainment/190.txt  \n",
            "  inflating: bbc-fulltext (document classification)/bbc/entertainment/191.txt  \n",
            "  inflating: bbc-fulltext (document classification)/bbc/entertainment/192.txt  \n",
            "  inflating: bbc-fulltext (document classification)/bbc/entertainment/193.txt  \n",
            "  inflating: bbc-fulltext (document classification)/bbc/entertainment/194.txt  \n",
            "  inflating: bbc-fulltext (document classification)/bbc/entertainment/195.txt  \n",
            "  inflating: bbc-fulltext (document classification)/bbc/entertainment/196.txt  \n",
            "  inflating: bbc-fulltext (document classification)/bbc/entertainment/197.txt  \n",
            "  inflating: bbc-fulltext (document classification)/bbc/entertainment/198.txt  \n",
            "  inflating: bbc-fulltext (document classification)/bbc/entertainment/199.txt  \n",
            "  inflating: bbc-fulltext (document classification)/bbc/entertainment/200.txt  \n",
            "  inflating: bbc-fulltext (document classification)/bbc/entertainment/201.txt  \n",
            "  inflating: bbc-fulltext (document classification)/bbc/entertainment/202.txt  \n",
            "  inflating: bbc-fulltext (document classification)/bbc/entertainment/203.txt  \n",
            "  inflating: bbc-fulltext (document classification)/bbc/entertainment/204.txt  \n",
            "  inflating: bbc-fulltext (document classification)/bbc/entertainment/205.txt  \n",
            "  inflating: bbc-fulltext (document classification)/bbc/entertainment/206.txt  \n",
            "  inflating: bbc-fulltext (document classification)/bbc/entertainment/207.txt  \n",
            "  inflating: bbc-fulltext (document classification)/bbc/entertainment/208.txt  \n",
            "  inflating: bbc-fulltext (document classification)/bbc/entertainment/209.txt  \n",
            "  inflating: bbc-fulltext (document classification)/bbc/entertainment/210.txt  \n",
            "  inflating: bbc-fulltext (document classification)/bbc/entertainment/211.txt  \n",
            "  inflating: bbc-fulltext (document classification)/bbc/entertainment/212.txt  \n",
            "  inflating: bbc-fulltext (document classification)/bbc/entertainment/213.txt  \n",
            "  inflating: bbc-fulltext (document classification)/bbc/entertainment/214.txt  \n",
            "  inflating: bbc-fulltext (document classification)/bbc/entertainment/215.txt  \n",
            "  inflating: bbc-fulltext (document classification)/bbc/entertainment/216.txt  \n",
            "  inflating: bbc-fulltext (document classification)/bbc/entertainment/217.txt  \n",
            "  inflating: bbc-fulltext (document classification)/bbc/entertainment/218.txt  \n",
            "  inflating: bbc-fulltext (document classification)/bbc/entertainment/219.txt  \n",
            "  inflating: bbc-fulltext (document classification)/bbc/entertainment/220.txt  \n",
            "  inflating: bbc-fulltext (document classification)/bbc/entertainment/221.txt  \n",
            "  inflating: bbc-fulltext (document classification)/bbc/entertainment/222.txt  \n",
            "  inflating: bbc-fulltext (document classification)/bbc/entertainment/223.txt  \n",
            "  inflating: bbc-fulltext (document classification)/bbc/entertainment/224.txt  \n",
            "  inflating: bbc-fulltext (document classification)/bbc/entertainment/225.txt  \n",
            "  inflating: bbc-fulltext (document classification)/bbc/entertainment/226.txt  \n",
            "  inflating: bbc-fulltext (document classification)/bbc/entertainment/227.txt  \n",
            "  inflating: bbc-fulltext (document classification)/bbc/entertainment/228.txt  \n",
            "  inflating: bbc-fulltext (document classification)/bbc/entertainment/229.txt  \n",
            "  inflating: bbc-fulltext (document classification)/bbc/entertainment/230.txt  \n",
            "  inflating: bbc-fulltext (document classification)/bbc/entertainment/231.txt  \n",
            "  inflating: bbc-fulltext (document classification)/bbc/entertainment/232.txt  \n",
            "  inflating: bbc-fulltext (document classification)/bbc/entertainment/233.txt  \n",
            "  inflating: bbc-fulltext (document classification)/bbc/entertainment/234.txt  \n",
            "  inflating: bbc-fulltext (document classification)/bbc/entertainment/235.txt  \n",
            "  inflating: bbc-fulltext (document classification)/bbc/entertainment/236.txt  \n",
            "  inflating: bbc-fulltext (document classification)/bbc/entertainment/237.txt  \n",
            "  inflating: bbc-fulltext (document classification)/bbc/entertainment/238.txt  \n",
            "  inflating: bbc-fulltext (document classification)/bbc/entertainment/239.txt  \n",
            "  inflating: bbc-fulltext (document classification)/bbc/entertainment/240.txt  \n",
            "  inflating: bbc-fulltext (document classification)/bbc/entertainment/241.txt  \n",
            "  inflating: bbc-fulltext (document classification)/bbc/entertainment/242.txt  \n",
            "  inflating: bbc-fulltext (document classification)/bbc/entertainment/243.txt  \n",
            "  inflating: bbc-fulltext (document classification)/bbc/entertainment/244.txt  \n",
            "  inflating: bbc-fulltext (document classification)/bbc/entertainment/245.txt  \n",
            "  inflating: bbc-fulltext (document classification)/bbc/entertainment/246.txt  \n",
            "  inflating: bbc-fulltext (document classification)/bbc/entertainment/247.txt  \n",
            "  inflating: bbc-fulltext (document classification)/bbc/entertainment/248.txt  \n",
            "  inflating: bbc-fulltext (document classification)/bbc/entertainment/249.txt  \n",
            "  inflating: bbc-fulltext (document classification)/bbc/entertainment/250.txt  \n",
            "  inflating: bbc-fulltext (document classification)/bbc/entertainment/251.txt  \n",
            "  inflating: bbc-fulltext (document classification)/bbc/entertainment/252.txt  \n",
            "  inflating: bbc-fulltext (document classification)/bbc/entertainment/253.txt  \n",
            "  inflating: bbc-fulltext (document classification)/bbc/entertainment/254.txt  \n",
            "  inflating: bbc-fulltext (document classification)/bbc/entertainment/255.txt  \n",
            "  inflating: bbc-fulltext (document classification)/bbc/entertainment/256.txt  \n",
            "  inflating: bbc-fulltext (document classification)/bbc/entertainment/257.txt  \n",
            "  inflating: bbc-fulltext (document classification)/bbc/entertainment/258.txt  \n",
            "  inflating: bbc-fulltext (document classification)/bbc/entertainment/259.txt  \n",
            "  inflating: bbc-fulltext (document classification)/bbc/entertainment/260.txt  \n",
            "  inflating: bbc-fulltext (document classification)/bbc/entertainment/261.txt  \n",
            "  inflating: bbc-fulltext (document classification)/bbc/entertainment/262.txt  \n",
            "  inflating: bbc-fulltext (document classification)/bbc/entertainment/263.txt  \n",
            "  inflating: bbc-fulltext (document classification)/bbc/entertainment/264.txt  \n",
            "  inflating: bbc-fulltext (document classification)/bbc/entertainment/265.txt  \n",
            "  inflating: bbc-fulltext (document classification)/bbc/entertainment/266.txt  \n",
            "  inflating: bbc-fulltext (document classification)/bbc/entertainment/267.txt  \n",
            "  inflating: bbc-fulltext (document classification)/bbc/entertainment/268.txt  \n",
            "  inflating: bbc-fulltext (document classification)/bbc/entertainment/269.txt  \n",
            "  inflating: bbc-fulltext (document classification)/bbc/entertainment/270.txt  \n",
            "  inflating: bbc-fulltext (document classification)/bbc/entertainment/271.txt  \n",
            "  inflating: bbc-fulltext (document classification)/bbc/entertainment/272.txt  \n",
            "  inflating: bbc-fulltext (document classification)/bbc/entertainment/273.txt  \n",
            "  inflating: bbc-fulltext (document classification)/bbc/entertainment/274.txt  \n",
            "  inflating: bbc-fulltext (document classification)/bbc/entertainment/275.txt  \n",
            "  inflating: bbc-fulltext (document classification)/bbc/entertainment/276.txt  \n",
            "  inflating: bbc-fulltext (document classification)/bbc/entertainment/277.txt  \n",
            "  inflating: bbc-fulltext (document classification)/bbc/entertainment/278.txt  \n",
            "  inflating: bbc-fulltext (document classification)/bbc/entertainment/279.txt  \n",
            "  inflating: bbc-fulltext (document classification)/bbc/entertainment/280.txt  \n",
            "  inflating: bbc-fulltext (document classification)/bbc/entertainment/281.txt  \n",
            "  inflating: bbc-fulltext (document classification)/bbc/entertainment/282.txt  \n",
            "  inflating: bbc-fulltext (document classification)/bbc/entertainment/283.txt  \n",
            "  inflating: bbc-fulltext (document classification)/bbc/entertainment/284.txt  \n",
            "  inflating: bbc-fulltext (document classification)/bbc/entertainment/285.txt  \n",
            "  inflating: bbc-fulltext (document classification)/bbc/entertainment/286.txt  \n",
            "  inflating: bbc-fulltext (document classification)/bbc/entertainment/287.txt  \n",
            "  inflating: bbc-fulltext (document classification)/bbc/entertainment/288.txt  \n",
            "  inflating: bbc-fulltext (document classification)/bbc/entertainment/289.txt  \n",
            "  inflating: bbc-fulltext (document classification)/bbc/entertainment/290.txt  \n",
            "  inflating: bbc-fulltext (document classification)/bbc/entertainment/291.txt  \n",
            "  inflating: bbc-fulltext (document classification)/bbc/entertainment/292.txt  \n",
            "  inflating: bbc-fulltext (document classification)/bbc/entertainment/293.txt  \n",
            "  inflating: bbc-fulltext (document classification)/bbc/entertainment/294.txt  \n",
            "  inflating: bbc-fulltext (document classification)/bbc/entertainment/295.txt  \n",
            "  inflating: bbc-fulltext (document classification)/bbc/entertainment/296.txt  \n",
            "  inflating: bbc-fulltext (document classification)/bbc/entertainment/297.txt  \n",
            "  inflating: bbc-fulltext (document classification)/bbc/entertainment/298.txt  \n",
            "  inflating: bbc-fulltext (document classification)/bbc/entertainment/299.txt  \n",
            "  inflating: bbc-fulltext (document classification)/bbc/entertainment/300.txt  \n",
            "  inflating: bbc-fulltext (document classification)/bbc/entertainment/301.txt  \n",
            "  inflating: bbc-fulltext (document classification)/bbc/entertainment/302.txt  \n",
            "  inflating: bbc-fulltext (document classification)/bbc/entertainment/303.txt  \n",
            "  inflating: bbc-fulltext (document classification)/bbc/entertainment/304.txt  \n",
            "  inflating: bbc-fulltext (document classification)/bbc/entertainment/305.txt  \n",
            "  inflating: bbc-fulltext (document classification)/bbc/entertainment/306.txt  \n",
            "  inflating: bbc-fulltext (document classification)/bbc/entertainment/307.txt  \n",
            "  inflating: bbc-fulltext (document classification)/bbc/entertainment/308.txt  \n",
            "  inflating: bbc-fulltext (document classification)/bbc/entertainment/309.txt  \n",
            "  inflating: bbc-fulltext (document classification)/bbc/entertainment/310.txt  \n",
            "  inflating: bbc-fulltext (document classification)/bbc/entertainment/311.txt  \n",
            "  inflating: bbc-fulltext (document classification)/bbc/entertainment/312.txt  \n",
            "  inflating: bbc-fulltext (document classification)/bbc/entertainment/313.txt  \n",
            "  inflating: bbc-fulltext (document classification)/bbc/entertainment/314.txt  \n",
            "  inflating: bbc-fulltext (document classification)/bbc/entertainment/315.txt  \n",
            "  inflating: bbc-fulltext (document classification)/bbc/entertainment/316.txt  \n",
            "  inflating: bbc-fulltext (document classification)/bbc/entertainment/317.txt  \n",
            "  inflating: bbc-fulltext (document classification)/bbc/entertainment/318.txt  \n",
            "  inflating: bbc-fulltext (document classification)/bbc/entertainment/319.txt  \n",
            "  inflating: bbc-fulltext (document classification)/bbc/entertainment/320.txt  \n",
            "  inflating: bbc-fulltext (document classification)/bbc/entertainment/321.txt  \n",
            "  inflating: bbc-fulltext (document classification)/bbc/entertainment/322.txt  \n",
            "  inflating: bbc-fulltext (document classification)/bbc/entertainment/323.txt  \n",
            "  inflating: bbc-fulltext (document classification)/bbc/entertainment/324.txt  \n",
            "  inflating: bbc-fulltext (document classification)/bbc/entertainment/325.txt  \n",
            "  inflating: bbc-fulltext (document classification)/bbc/entertainment/326.txt  \n",
            "  inflating: bbc-fulltext (document classification)/bbc/entertainment/327.txt  \n",
            "  inflating: bbc-fulltext (document classification)/bbc/entertainment/328.txt  \n",
            "  inflating: bbc-fulltext (document classification)/bbc/entertainment/329.txt  \n",
            "  inflating: bbc-fulltext (document classification)/bbc/entertainment/330.txt  \n",
            "  inflating: bbc-fulltext (document classification)/bbc/entertainment/331.txt  \n",
            "  inflating: bbc-fulltext (document classification)/bbc/entertainment/332.txt  \n",
            "  inflating: bbc-fulltext (document classification)/bbc/entertainment/333.txt  \n",
            "  inflating: bbc-fulltext (document classification)/bbc/entertainment/334.txt  \n",
            "  inflating: bbc-fulltext (document classification)/bbc/entertainment/335.txt  \n",
            "  inflating: bbc-fulltext (document classification)/bbc/entertainment/336.txt  \n",
            "  inflating: bbc-fulltext (document classification)/bbc/entertainment/337.txt  \n",
            "  inflating: bbc-fulltext (document classification)/bbc/entertainment/338.txt  \n",
            "  inflating: bbc-fulltext (document classification)/bbc/entertainment/339.txt  \n",
            "  inflating: bbc-fulltext (document classification)/bbc/entertainment/340.txt  \n",
            "  inflating: bbc-fulltext (document classification)/bbc/entertainment/341.txt  \n",
            "  inflating: bbc-fulltext (document classification)/bbc/entertainment/342.txt  \n",
            "  inflating: bbc-fulltext (document classification)/bbc/entertainment/343.txt  \n",
            "  inflating: bbc-fulltext (document classification)/bbc/entertainment/344.txt  \n",
            "  inflating: bbc-fulltext (document classification)/bbc/entertainment/345.txt  \n",
            "  inflating: bbc-fulltext (document classification)/bbc/entertainment/346.txt  \n",
            "  inflating: bbc-fulltext (document classification)/bbc/entertainment/347.txt  \n",
            "  inflating: bbc-fulltext (document classification)/bbc/entertainment/348.txt  \n",
            "  inflating: bbc-fulltext (document classification)/bbc/entertainment/349.txt  \n",
            "  inflating: bbc-fulltext (document classification)/bbc/entertainment/350.txt  \n",
            "  inflating: bbc-fulltext (document classification)/bbc/entertainment/351.txt  \n",
            "  inflating: bbc-fulltext (document classification)/bbc/entertainment/352.txt  \n",
            "  inflating: bbc-fulltext (document classification)/bbc/entertainment/353.txt  \n",
            "  inflating: bbc-fulltext (document classification)/bbc/entertainment/354.txt  \n",
            "  inflating: bbc-fulltext (document classification)/bbc/entertainment/355.txt  \n",
            "  inflating: bbc-fulltext (document classification)/bbc/entertainment/356.txt  \n",
            "  inflating: bbc-fulltext (document classification)/bbc/entertainment/357.txt  \n",
            "  inflating: bbc-fulltext (document classification)/bbc/entertainment/358.txt  \n",
            "  inflating: bbc-fulltext (document classification)/bbc/entertainment/359.txt  \n",
            "  inflating: bbc-fulltext (document classification)/bbc/entertainment/360.txt  \n",
            "  inflating: bbc-fulltext (document classification)/bbc/entertainment/361.txt  \n",
            "  inflating: bbc-fulltext (document classification)/bbc/entertainment/362.txt  \n",
            "  inflating: bbc-fulltext (document classification)/bbc/entertainment/363.txt  \n",
            "  inflating: bbc-fulltext (document classification)/bbc/entertainment/364.txt  \n",
            "  inflating: bbc-fulltext (document classification)/bbc/entertainment/365.txt  \n",
            "  inflating: bbc-fulltext (document classification)/bbc/entertainment/366.txt  \n",
            "  inflating: bbc-fulltext (document classification)/bbc/entertainment/367.txt  \n",
            "  inflating: bbc-fulltext (document classification)/bbc/entertainment/368.txt  \n",
            "  inflating: bbc-fulltext (document classification)/bbc/entertainment/369.txt  \n",
            "  inflating: bbc-fulltext (document classification)/bbc/entertainment/370.txt  \n",
            "  inflating: bbc-fulltext (document classification)/bbc/entertainment/371.txt  \n",
            "  inflating: bbc-fulltext (document classification)/bbc/entertainment/372.txt  \n",
            "  inflating: bbc-fulltext (document classification)/bbc/entertainment/373.txt  \n",
            "  inflating: bbc-fulltext (document classification)/bbc/entertainment/374.txt  \n",
            "  inflating: bbc-fulltext (document classification)/bbc/entertainment/375.txt  \n",
            "  inflating: bbc-fulltext (document classification)/bbc/entertainment/376.txt  \n",
            "  inflating: bbc-fulltext (document classification)/bbc/entertainment/377.txt  \n",
            "  inflating: bbc-fulltext (document classification)/bbc/entertainment/378.txt  \n",
            "  inflating: bbc-fulltext (document classification)/bbc/entertainment/379.txt  \n",
            "  inflating: bbc-fulltext (document classification)/bbc/entertainment/380.txt  \n",
            "  inflating: bbc-fulltext (document classification)/bbc/entertainment/381.txt  \n",
            "  inflating: bbc-fulltext (document classification)/bbc/entertainment/382.txt  \n",
            "  inflating: bbc-fulltext (document classification)/bbc/entertainment/383.txt  \n",
            "  inflating: bbc-fulltext (document classification)/bbc/entertainment/384.txt  \n",
            "  inflating: bbc-fulltext (document classification)/bbc/entertainment/385.txt  \n",
            "  inflating: bbc-fulltext (document classification)/bbc/entertainment/386.txt  \n",
            "  inflating: bbc-fulltext (document classification)/bbc/politics/001.txt  \n",
            "  inflating: bbc-fulltext (document classification)/bbc/politics/002.txt  \n",
            "  inflating: bbc-fulltext (document classification)/bbc/politics/003.txt  \n",
            "  inflating: bbc-fulltext (document classification)/bbc/politics/004.txt  \n",
            "  inflating: bbc-fulltext (document classification)/bbc/politics/005.txt  \n",
            "  inflating: bbc-fulltext (document classification)/bbc/politics/006.txt  \n",
            "  inflating: bbc-fulltext (document classification)/bbc/politics/007.txt  \n",
            "  inflating: bbc-fulltext (document classification)/bbc/politics/008.txt  \n",
            "  inflating: bbc-fulltext (document classification)/bbc/politics/009.txt  \n",
            "  inflating: bbc-fulltext (document classification)/bbc/politics/010.txt  \n",
            "  inflating: bbc-fulltext (document classification)/bbc/politics/011.txt  \n",
            "  inflating: bbc-fulltext (document classification)/bbc/politics/012.txt  \n",
            "  inflating: bbc-fulltext (document classification)/bbc/politics/013.txt  \n",
            "  inflating: bbc-fulltext (document classification)/bbc/politics/014.txt  \n",
            "  inflating: bbc-fulltext (document classification)/bbc/politics/015.txt  \n",
            "  inflating: bbc-fulltext (document classification)/bbc/politics/016.txt  \n",
            "  inflating: bbc-fulltext (document classification)/bbc/politics/017.txt  \n",
            "  inflating: bbc-fulltext (document classification)/bbc/politics/018.txt  \n",
            "  inflating: bbc-fulltext (document classification)/bbc/politics/019.txt  \n",
            "  inflating: bbc-fulltext (document classification)/bbc/politics/020.txt  \n",
            "  inflating: bbc-fulltext (document classification)/bbc/politics/021.txt  \n",
            "  inflating: bbc-fulltext (document classification)/bbc/politics/022.txt  \n",
            "  inflating: bbc-fulltext (document classification)/bbc/politics/023.txt  \n",
            "  inflating: bbc-fulltext (document classification)/bbc/politics/024.txt  \n",
            "  inflating: bbc-fulltext (document classification)/bbc/politics/025.txt  \n",
            "  inflating: bbc-fulltext (document classification)/bbc/politics/026.txt  \n",
            "  inflating: bbc-fulltext (document classification)/bbc/politics/027.txt  \n",
            "  inflating: bbc-fulltext (document classification)/bbc/politics/028.txt  \n",
            "  inflating: bbc-fulltext (document classification)/bbc/politics/029.txt  \n",
            "  inflating: bbc-fulltext (document classification)/bbc/politics/030.txt  \n",
            "  inflating: bbc-fulltext (document classification)/bbc/politics/031.txt  \n",
            "  inflating: bbc-fulltext (document classification)/bbc/politics/032.txt  \n",
            "  inflating: bbc-fulltext (document classification)/bbc/politics/033.txt  \n",
            "  inflating: bbc-fulltext (document classification)/bbc/politics/034.txt  \n",
            "  inflating: bbc-fulltext (document classification)/bbc/politics/035.txt  \n",
            "  inflating: bbc-fulltext (document classification)/bbc/politics/036.txt  \n",
            "  inflating: bbc-fulltext (document classification)/bbc/politics/037.txt  \n",
            "  inflating: bbc-fulltext (document classification)/bbc/politics/038.txt  \n",
            "  inflating: bbc-fulltext (document classification)/bbc/politics/039.txt  \n",
            "  inflating: bbc-fulltext (document classification)/bbc/politics/040.txt  \n",
            "  inflating: bbc-fulltext (document classification)/bbc/politics/041.txt  \n",
            "  inflating: bbc-fulltext (document classification)/bbc/politics/042.txt  \n",
            "  inflating: bbc-fulltext (document classification)/bbc/politics/043.txt  \n",
            "  inflating: bbc-fulltext (document classification)/bbc/politics/044.txt  \n",
            "  inflating: bbc-fulltext (document classification)/bbc/politics/045.txt  \n",
            "  inflating: bbc-fulltext (document classification)/bbc/politics/046.txt  \n",
            "  inflating: bbc-fulltext (document classification)/bbc/politics/047.txt  \n",
            "  inflating: bbc-fulltext (document classification)/bbc/politics/048.txt  \n",
            "  inflating: bbc-fulltext (document classification)/bbc/politics/049.txt  \n",
            "  inflating: bbc-fulltext (document classification)/bbc/politics/050.txt  \n",
            "  inflating: bbc-fulltext (document classification)/bbc/politics/051.txt  \n",
            "  inflating: bbc-fulltext (document classification)/bbc/politics/052.txt  \n",
            "  inflating: bbc-fulltext (document classification)/bbc/politics/053.txt  \n",
            "  inflating: bbc-fulltext (document classification)/bbc/politics/054.txt  \n",
            "  inflating: bbc-fulltext (document classification)/bbc/politics/055.txt  \n",
            "  inflating: bbc-fulltext (document classification)/bbc/politics/056.txt  \n",
            "  inflating: bbc-fulltext (document classification)/bbc/politics/057.txt  \n",
            "  inflating: bbc-fulltext (document classification)/bbc/politics/058.txt  \n",
            "  inflating: bbc-fulltext (document classification)/bbc/politics/059.txt  \n",
            "  inflating: bbc-fulltext (document classification)/bbc/politics/060.txt  \n",
            "  inflating: bbc-fulltext (document classification)/bbc/politics/061.txt  \n",
            "  inflating: bbc-fulltext (document classification)/bbc/politics/062.txt  \n",
            "  inflating: bbc-fulltext (document classification)/bbc/politics/063.txt  \n",
            "  inflating: bbc-fulltext (document classification)/bbc/politics/064.txt  \n",
            "  inflating: bbc-fulltext (document classification)/bbc/politics/065.txt  \n",
            "  inflating: bbc-fulltext (document classification)/bbc/politics/066.txt  \n",
            "  inflating: bbc-fulltext (document classification)/bbc/politics/067.txt  \n",
            "  inflating: bbc-fulltext (document classification)/bbc/politics/068.txt  \n",
            "  inflating: bbc-fulltext (document classification)/bbc/politics/069.txt  \n",
            "  inflating: bbc-fulltext (document classification)/bbc/politics/070.txt  \n",
            "  inflating: bbc-fulltext (document classification)/bbc/politics/071.txt  \n",
            "  inflating: bbc-fulltext (document classification)/bbc/politics/072.txt  \n",
            "  inflating: bbc-fulltext (document classification)/bbc/politics/073.txt  \n",
            "  inflating: bbc-fulltext (document classification)/bbc/politics/074.txt  \n",
            "  inflating: bbc-fulltext (document classification)/bbc/politics/075.txt  \n",
            "  inflating: bbc-fulltext (document classification)/bbc/politics/076.txt  \n",
            "  inflating: bbc-fulltext (document classification)/bbc/politics/077.txt  \n",
            "  inflating: bbc-fulltext (document classification)/bbc/politics/078.txt  \n",
            "  inflating: bbc-fulltext (document classification)/bbc/politics/079.txt  \n",
            "  inflating: bbc-fulltext (document classification)/bbc/politics/080.txt  \n",
            "  inflating: bbc-fulltext (document classification)/bbc/politics/081.txt  \n",
            "  inflating: bbc-fulltext (document classification)/bbc/politics/082.txt  \n",
            "  inflating: bbc-fulltext (document classification)/bbc/politics/083.txt  \n",
            "  inflating: bbc-fulltext (document classification)/bbc/politics/084.txt  \n",
            "  inflating: bbc-fulltext (document classification)/bbc/politics/085.txt  \n",
            "  inflating: bbc-fulltext (document classification)/bbc/politics/086.txt  \n",
            "  inflating: bbc-fulltext (document classification)/bbc/politics/087.txt  \n",
            "  inflating: bbc-fulltext (document classification)/bbc/politics/088.txt  \n",
            "  inflating: bbc-fulltext (document classification)/bbc/politics/089.txt  \n",
            "  inflating: bbc-fulltext (document classification)/bbc/politics/090.txt  \n",
            "  inflating: bbc-fulltext (document classification)/bbc/politics/091.txt  \n",
            "  inflating: bbc-fulltext (document classification)/bbc/politics/092.txt  \n",
            "  inflating: bbc-fulltext (document classification)/bbc/politics/093.txt  \n",
            "  inflating: bbc-fulltext (document classification)/bbc/politics/094.txt  \n",
            "  inflating: bbc-fulltext (document classification)/bbc/politics/095.txt  \n",
            "  inflating: bbc-fulltext (document classification)/bbc/politics/096.txt  \n",
            "  inflating: bbc-fulltext (document classification)/bbc/politics/097.txt  \n",
            "  inflating: bbc-fulltext (document classification)/bbc/politics/098.txt  \n",
            "  inflating: bbc-fulltext (document classification)/bbc/politics/099.txt  \n",
            "  inflating: bbc-fulltext (document classification)/bbc/politics/100.txt  \n",
            "  inflating: bbc-fulltext (document classification)/bbc/politics/101.txt  \n",
            "  inflating: bbc-fulltext (document classification)/bbc/politics/102.txt  \n",
            "  inflating: bbc-fulltext (document classification)/bbc/politics/103.txt  \n",
            "  inflating: bbc-fulltext (document classification)/bbc/politics/104.txt  \n",
            "  inflating: bbc-fulltext (document classification)/bbc/politics/105.txt  \n",
            "  inflating: bbc-fulltext (document classification)/bbc/politics/106.txt  \n",
            "  inflating: bbc-fulltext (document classification)/bbc/politics/107.txt  \n",
            "  inflating: bbc-fulltext (document classification)/bbc/politics/108.txt  \n",
            "  inflating: bbc-fulltext (document classification)/bbc/politics/109.txt  \n",
            "  inflating: bbc-fulltext (document classification)/bbc/politics/110.txt  \n",
            "  inflating: bbc-fulltext (document classification)/bbc/politics/111.txt  \n",
            "  inflating: bbc-fulltext (document classification)/bbc/politics/112.txt  \n",
            "  inflating: bbc-fulltext (document classification)/bbc/politics/113.txt  \n",
            "  inflating: bbc-fulltext (document classification)/bbc/politics/114.txt  \n",
            "  inflating: bbc-fulltext (document classification)/bbc/politics/115.txt  \n",
            "  inflating: bbc-fulltext (document classification)/bbc/politics/116.txt  \n",
            "  inflating: bbc-fulltext (document classification)/bbc/politics/117.txt  \n",
            "  inflating: bbc-fulltext (document classification)/bbc/politics/118.txt  \n",
            "  inflating: bbc-fulltext (document classification)/bbc/politics/119.txt  \n",
            "  inflating: bbc-fulltext (document classification)/bbc/politics/120.txt  \n",
            "  inflating: bbc-fulltext (document classification)/bbc/politics/121.txt  \n",
            "  inflating: bbc-fulltext (document classification)/bbc/politics/122.txt  \n",
            "  inflating: bbc-fulltext (document classification)/bbc/politics/123.txt  \n",
            "  inflating: bbc-fulltext (document classification)/bbc/politics/124.txt  \n",
            "  inflating: bbc-fulltext (document classification)/bbc/politics/125.txt  \n",
            "  inflating: bbc-fulltext (document classification)/bbc/politics/126.txt  \n",
            "  inflating: bbc-fulltext (document classification)/bbc/politics/127.txt  \n",
            "  inflating: bbc-fulltext (document classification)/bbc/politics/128.txt  \n",
            "  inflating: bbc-fulltext (document classification)/bbc/politics/129.txt  \n",
            "  inflating: bbc-fulltext (document classification)/bbc/politics/130.txt  \n",
            "  inflating: bbc-fulltext (document classification)/bbc/politics/131.txt  \n",
            "  inflating: bbc-fulltext (document classification)/bbc/politics/132.txt  \n",
            "  inflating: bbc-fulltext (document classification)/bbc/politics/133.txt  \n",
            "  inflating: bbc-fulltext (document classification)/bbc/politics/134.txt  \n",
            "  inflating: bbc-fulltext (document classification)/bbc/politics/135.txt  \n",
            "  inflating: bbc-fulltext (document classification)/bbc/politics/136.txt  \n",
            "  inflating: bbc-fulltext (document classification)/bbc/politics/137.txt  \n",
            "  inflating: bbc-fulltext (document classification)/bbc/politics/138.txt  \n",
            "  inflating: bbc-fulltext (document classification)/bbc/politics/139.txt  \n",
            "  inflating: bbc-fulltext (document classification)/bbc/politics/140.txt  \n",
            "  inflating: bbc-fulltext (document classification)/bbc/politics/141.txt  \n",
            "  inflating: bbc-fulltext (document classification)/bbc/politics/142.txt  \n",
            "  inflating: bbc-fulltext (document classification)/bbc/politics/143.txt  \n",
            "  inflating: bbc-fulltext (document classification)/bbc/politics/144.txt  \n",
            "  inflating: bbc-fulltext (document classification)/bbc/politics/145.txt  \n",
            "  inflating: bbc-fulltext (document classification)/bbc/politics/146.txt  \n",
            "  inflating: bbc-fulltext (document classification)/bbc/politics/147.txt  \n",
            "  inflating: bbc-fulltext (document classification)/bbc/politics/148.txt  \n",
            "  inflating: bbc-fulltext (document classification)/bbc/politics/149.txt  \n",
            "  inflating: bbc-fulltext (document classification)/bbc/politics/150.txt  \n",
            "  inflating: bbc-fulltext (document classification)/bbc/politics/151.txt  \n",
            "  inflating: bbc-fulltext (document classification)/bbc/politics/152.txt  \n",
            "  inflating: bbc-fulltext (document classification)/bbc/politics/153.txt  \n",
            "  inflating: bbc-fulltext (document classification)/bbc/politics/154.txt  \n",
            "  inflating: bbc-fulltext (document classification)/bbc/politics/155.txt  \n",
            "  inflating: bbc-fulltext (document classification)/bbc/politics/156.txt  \n",
            "  inflating: bbc-fulltext (document classification)/bbc/politics/157.txt  \n",
            "  inflating: bbc-fulltext (document classification)/bbc/politics/158.txt  \n",
            "  inflating: bbc-fulltext (document classification)/bbc/politics/159.txt  \n",
            "  inflating: bbc-fulltext (document classification)/bbc/politics/160.txt  \n",
            "  inflating: bbc-fulltext (document classification)/bbc/politics/161.txt  \n",
            "  inflating: bbc-fulltext (document classification)/bbc/politics/162.txt  \n",
            "  inflating: bbc-fulltext (document classification)/bbc/politics/163.txt  \n",
            "  inflating: bbc-fulltext (document classification)/bbc/politics/164.txt  \n",
            "  inflating: bbc-fulltext (document classification)/bbc/politics/165.txt  \n",
            "  inflating: bbc-fulltext (document classification)/bbc/politics/166.txt  \n",
            "  inflating: bbc-fulltext (document classification)/bbc/politics/167.txt  \n",
            "  inflating: bbc-fulltext (document classification)/bbc/politics/168.txt  \n",
            "  inflating: bbc-fulltext (document classification)/bbc/politics/169.txt  \n",
            "  inflating: bbc-fulltext (document classification)/bbc/politics/170.txt  \n",
            "  inflating: bbc-fulltext (document classification)/bbc/politics/171.txt  \n",
            "  inflating: bbc-fulltext (document classification)/bbc/politics/172.txt  \n",
            "  inflating: bbc-fulltext (document classification)/bbc/politics/173.txt  \n",
            "  inflating: bbc-fulltext (document classification)/bbc/politics/174.txt  \n",
            "  inflating: bbc-fulltext (document classification)/bbc/politics/175.txt  \n",
            "  inflating: bbc-fulltext (document classification)/bbc/politics/176.txt  \n",
            "  inflating: bbc-fulltext (document classification)/bbc/politics/177.txt  \n",
            "  inflating: bbc-fulltext (document classification)/bbc/politics/178.txt  \n",
            "  inflating: bbc-fulltext (document classification)/bbc/politics/179.txt  \n",
            "  inflating: bbc-fulltext (document classification)/bbc/politics/180.txt  \n",
            "  inflating: bbc-fulltext (document classification)/bbc/politics/181.txt  \n",
            "  inflating: bbc-fulltext (document classification)/bbc/politics/182.txt  \n",
            "  inflating: bbc-fulltext (document classification)/bbc/politics/183.txt  \n",
            "  inflating: bbc-fulltext (document classification)/bbc/politics/184.txt  \n",
            "  inflating: bbc-fulltext (document classification)/bbc/politics/185.txt  \n",
            "  inflating: bbc-fulltext (document classification)/bbc/politics/186.txt  \n",
            "  inflating: bbc-fulltext (document classification)/bbc/politics/187.txt  \n",
            "  inflating: bbc-fulltext (document classification)/bbc/politics/188.txt  \n",
            "  inflating: bbc-fulltext (document classification)/bbc/politics/189.txt  \n",
            "  inflating: bbc-fulltext (document classification)/bbc/politics/190.txt  \n",
            "  inflating: bbc-fulltext (document classification)/bbc/politics/191.txt  \n",
            "  inflating: bbc-fulltext (document classification)/bbc/politics/192.txt  \n",
            "  inflating: bbc-fulltext (document classification)/bbc/politics/193.txt  \n",
            "  inflating: bbc-fulltext (document classification)/bbc/politics/194.txt  \n",
            "  inflating: bbc-fulltext (document classification)/bbc/politics/195.txt  \n",
            "  inflating: bbc-fulltext (document classification)/bbc/politics/196.txt  \n",
            "  inflating: bbc-fulltext (document classification)/bbc/politics/197.txt  \n",
            "  inflating: bbc-fulltext (document classification)/bbc/politics/198.txt  \n",
            "  inflating: bbc-fulltext (document classification)/bbc/politics/199.txt  \n",
            "  inflating: bbc-fulltext (document classification)/bbc/politics/200.txt  \n",
            "  inflating: bbc-fulltext (document classification)/bbc/politics/201.txt  \n",
            "  inflating: bbc-fulltext (document classification)/bbc/politics/202.txt  \n",
            "  inflating: bbc-fulltext (document classification)/bbc/politics/203.txt  \n",
            "  inflating: bbc-fulltext (document classification)/bbc/politics/204.txt  \n",
            "  inflating: bbc-fulltext (document classification)/bbc/politics/205.txt  \n",
            "  inflating: bbc-fulltext (document classification)/bbc/politics/206.txt  \n",
            "  inflating: bbc-fulltext (document classification)/bbc/politics/207.txt  \n",
            "  inflating: bbc-fulltext (document classification)/bbc/politics/208.txt  \n",
            "  inflating: bbc-fulltext (document classification)/bbc/politics/209.txt  \n",
            "  inflating: bbc-fulltext (document classification)/bbc/politics/210.txt  \n",
            "  inflating: bbc-fulltext (document classification)/bbc/politics/211.txt  \n",
            "  inflating: bbc-fulltext (document classification)/bbc/politics/212.txt  \n",
            "  inflating: bbc-fulltext (document classification)/bbc/politics/213.txt  \n",
            "  inflating: bbc-fulltext (document classification)/bbc/politics/214.txt  \n",
            "  inflating: bbc-fulltext (document classification)/bbc/politics/215.txt  \n",
            "  inflating: bbc-fulltext (document classification)/bbc/politics/216.txt  \n",
            "  inflating: bbc-fulltext (document classification)/bbc/politics/217.txt  \n",
            "  inflating: bbc-fulltext (document classification)/bbc/politics/218.txt  \n",
            "  inflating: bbc-fulltext (document classification)/bbc/politics/219.txt  \n",
            "  inflating: bbc-fulltext (document classification)/bbc/politics/220.txt  \n",
            "  inflating: bbc-fulltext (document classification)/bbc/politics/221.txt  \n",
            "  inflating: bbc-fulltext (document classification)/bbc/politics/222.txt  \n",
            "  inflating: bbc-fulltext (document classification)/bbc/politics/223.txt  \n",
            "  inflating: bbc-fulltext (document classification)/bbc/politics/224.txt  \n",
            "  inflating: bbc-fulltext (document classification)/bbc/politics/225.txt  \n",
            "  inflating: bbc-fulltext (document classification)/bbc/politics/226.txt  \n",
            "  inflating: bbc-fulltext (document classification)/bbc/politics/227.txt  \n",
            "  inflating: bbc-fulltext (document classification)/bbc/politics/228.txt  \n",
            "  inflating: bbc-fulltext (document classification)/bbc/politics/229.txt  \n",
            "  inflating: bbc-fulltext (document classification)/bbc/politics/230.txt  \n",
            "  inflating: bbc-fulltext (document classification)/bbc/politics/231.txt  \n",
            "  inflating: bbc-fulltext (document classification)/bbc/politics/232.txt  \n",
            "  inflating: bbc-fulltext (document classification)/bbc/politics/233.txt  \n",
            "  inflating: bbc-fulltext (document classification)/bbc/politics/234.txt  \n",
            "  inflating: bbc-fulltext (document classification)/bbc/politics/235.txt  \n",
            "  inflating: bbc-fulltext (document classification)/bbc/politics/236.txt  \n",
            "  inflating: bbc-fulltext (document classification)/bbc/politics/237.txt  \n",
            "  inflating: bbc-fulltext (document classification)/bbc/politics/238.txt  \n",
            "  inflating: bbc-fulltext (document classification)/bbc/politics/239.txt  \n",
            "  inflating: bbc-fulltext (document classification)/bbc/politics/240.txt  \n",
            "  inflating: bbc-fulltext (document classification)/bbc/politics/241.txt  \n",
            "  inflating: bbc-fulltext (document classification)/bbc/politics/242.txt  \n",
            "  inflating: bbc-fulltext (document classification)/bbc/politics/243.txt  \n",
            "  inflating: bbc-fulltext (document classification)/bbc/politics/244.txt  \n",
            "  inflating: bbc-fulltext (document classification)/bbc/politics/245.txt  \n",
            "  inflating: bbc-fulltext (document classification)/bbc/politics/246.txt  \n",
            "  inflating: bbc-fulltext (document classification)/bbc/politics/247.txt  \n",
            "  inflating: bbc-fulltext (document classification)/bbc/politics/248.txt  \n",
            "  inflating: bbc-fulltext (document classification)/bbc/politics/249.txt  \n",
            "  inflating: bbc-fulltext (document classification)/bbc/politics/250.txt  \n",
            "  inflating: bbc-fulltext (document classification)/bbc/politics/251.txt  \n",
            "  inflating: bbc-fulltext (document classification)/bbc/politics/252.txt  \n",
            "  inflating: bbc-fulltext (document classification)/bbc/politics/253.txt  \n",
            "  inflating: bbc-fulltext (document classification)/bbc/politics/254.txt  \n",
            "  inflating: bbc-fulltext (document classification)/bbc/politics/255.txt  \n",
            "  inflating: bbc-fulltext (document classification)/bbc/politics/256.txt  \n",
            "  inflating: bbc-fulltext (document classification)/bbc/politics/257.txt  \n",
            "  inflating: bbc-fulltext (document classification)/bbc/politics/258.txt  \n",
            "  inflating: bbc-fulltext (document classification)/bbc/politics/259.txt  \n",
            "  inflating: bbc-fulltext (document classification)/bbc/politics/260.txt  \n",
            "  inflating: bbc-fulltext (document classification)/bbc/politics/261.txt  \n",
            "  inflating: bbc-fulltext (document classification)/bbc/politics/262.txt  \n",
            "  inflating: bbc-fulltext (document classification)/bbc/politics/263.txt  \n",
            "  inflating: bbc-fulltext (document classification)/bbc/politics/264.txt  \n",
            "  inflating: bbc-fulltext (document classification)/bbc/politics/265.txt  \n",
            "  inflating: bbc-fulltext (document classification)/bbc/politics/266.txt  \n",
            "  inflating: bbc-fulltext (document classification)/bbc/politics/267.txt  \n",
            "  inflating: bbc-fulltext (document classification)/bbc/politics/268.txt  \n",
            "  inflating: bbc-fulltext (document classification)/bbc/politics/269.txt  \n",
            "  inflating: bbc-fulltext (document classification)/bbc/politics/270.txt  \n",
            "  inflating: bbc-fulltext (document classification)/bbc/politics/271.txt  \n",
            "  inflating: bbc-fulltext (document classification)/bbc/politics/272.txt  \n",
            "  inflating: bbc-fulltext (document classification)/bbc/politics/273.txt  \n",
            "  inflating: bbc-fulltext (document classification)/bbc/politics/274.txt  \n",
            "  inflating: bbc-fulltext (document classification)/bbc/politics/275.txt  \n",
            "  inflating: bbc-fulltext (document classification)/bbc/politics/276.txt  \n",
            "  inflating: bbc-fulltext (document classification)/bbc/politics/277.txt  \n",
            "  inflating: bbc-fulltext (document classification)/bbc/politics/278.txt  \n",
            "  inflating: bbc-fulltext (document classification)/bbc/politics/279.txt  \n",
            "  inflating: bbc-fulltext (document classification)/bbc/politics/280.txt  \n",
            "  inflating: bbc-fulltext (document classification)/bbc/politics/281.txt  \n",
            "  inflating: bbc-fulltext (document classification)/bbc/politics/282.txt  \n",
            "  inflating: bbc-fulltext (document classification)/bbc/politics/283.txt  \n",
            "  inflating: bbc-fulltext (document classification)/bbc/politics/284.txt  \n",
            "  inflating: bbc-fulltext (document classification)/bbc/politics/285.txt  \n",
            "  inflating: bbc-fulltext (document classification)/bbc/politics/286.txt  \n",
            "  inflating: bbc-fulltext (document classification)/bbc/politics/287.txt  \n",
            "  inflating: bbc-fulltext (document classification)/bbc/politics/288.txt  \n",
            "  inflating: bbc-fulltext (document classification)/bbc/politics/289.txt  \n",
            "  inflating: bbc-fulltext (document classification)/bbc/politics/290.txt  \n",
            "  inflating: bbc-fulltext (document classification)/bbc/politics/291.txt  \n",
            "  inflating: bbc-fulltext (document classification)/bbc/politics/292.txt  \n",
            "  inflating: bbc-fulltext (document classification)/bbc/politics/293.txt  \n",
            "  inflating: bbc-fulltext (document classification)/bbc/politics/294.txt  \n",
            "  inflating: bbc-fulltext (document classification)/bbc/politics/295.txt  \n",
            "  inflating: bbc-fulltext (document classification)/bbc/politics/296.txt  \n",
            "  inflating: bbc-fulltext (document classification)/bbc/politics/297.txt  \n",
            "  inflating: bbc-fulltext (document classification)/bbc/politics/298.txt  \n",
            "  inflating: bbc-fulltext (document classification)/bbc/politics/299.txt  \n",
            "  inflating: bbc-fulltext (document classification)/bbc/politics/300.txt  \n",
            "  inflating: bbc-fulltext (document classification)/bbc/politics/301.txt  \n",
            "  inflating: bbc-fulltext (document classification)/bbc/politics/302.txt  \n",
            "  inflating: bbc-fulltext (document classification)/bbc/politics/303.txt  \n",
            "  inflating: bbc-fulltext (document classification)/bbc/politics/304.txt  \n",
            "  inflating: bbc-fulltext (document classification)/bbc/politics/305.txt  \n",
            "  inflating: bbc-fulltext (document classification)/bbc/politics/306.txt  \n",
            "  inflating: bbc-fulltext (document classification)/bbc/politics/307.txt  \n",
            "  inflating: bbc-fulltext (document classification)/bbc/politics/308.txt  \n",
            "  inflating: bbc-fulltext (document classification)/bbc/politics/309.txt  \n",
            "  inflating: bbc-fulltext (document classification)/bbc/politics/310.txt  \n",
            "  inflating: bbc-fulltext (document classification)/bbc/politics/311.txt  \n",
            "  inflating: bbc-fulltext (document classification)/bbc/politics/312.txt  \n",
            "  inflating: bbc-fulltext (document classification)/bbc/politics/313.txt  \n",
            "  inflating: bbc-fulltext (document classification)/bbc/politics/314.txt  \n",
            "  inflating: bbc-fulltext (document classification)/bbc/politics/315.txt  \n",
            "  inflating: bbc-fulltext (document classification)/bbc/politics/316.txt  \n",
            "  inflating: bbc-fulltext (document classification)/bbc/politics/317.txt  \n",
            "  inflating: bbc-fulltext (document classification)/bbc/politics/318.txt  \n",
            "  inflating: bbc-fulltext (document classification)/bbc/politics/319.txt  \n",
            "  inflating: bbc-fulltext (document classification)/bbc/politics/320.txt  \n",
            "  inflating: bbc-fulltext (document classification)/bbc/politics/321.txt  \n",
            "  inflating: bbc-fulltext (document classification)/bbc/politics/322.txt  \n",
            "  inflating: bbc-fulltext (document classification)/bbc/politics/323.txt  \n",
            "  inflating: bbc-fulltext (document classification)/bbc/politics/324.txt  \n",
            "  inflating: bbc-fulltext (document classification)/bbc/politics/325.txt  \n",
            "  inflating: bbc-fulltext (document classification)/bbc/politics/326.txt  \n",
            "  inflating: bbc-fulltext (document classification)/bbc/politics/327.txt  \n",
            "  inflating: bbc-fulltext (document classification)/bbc/politics/328.txt  \n",
            "  inflating: bbc-fulltext (document classification)/bbc/politics/329.txt  \n",
            "  inflating: bbc-fulltext (document classification)/bbc/politics/330.txt  \n",
            "  inflating: bbc-fulltext (document classification)/bbc/politics/331.txt  \n",
            "  inflating: bbc-fulltext (document classification)/bbc/politics/332.txt  \n",
            "  inflating: bbc-fulltext (document classification)/bbc/politics/333.txt  \n",
            "  inflating: bbc-fulltext (document classification)/bbc/politics/334.txt  \n",
            "  inflating: bbc-fulltext (document classification)/bbc/politics/335.txt  \n",
            "  inflating: bbc-fulltext (document classification)/bbc/politics/336.txt  \n",
            "  inflating: bbc-fulltext (document classification)/bbc/politics/337.txt  \n",
            "  inflating: bbc-fulltext (document classification)/bbc/politics/338.txt  \n",
            "  inflating: bbc-fulltext (document classification)/bbc/politics/339.txt  \n",
            "  inflating: bbc-fulltext (document classification)/bbc/politics/340.txt  \n",
            "  inflating: bbc-fulltext (document classification)/bbc/politics/341.txt  \n",
            "  inflating: bbc-fulltext (document classification)/bbc/politics/342.txt  \n",
            "  inflating: bbc-fulltext (document classification)/bbc/politics/343.txt  \n",
            "  inflating: bbc-fulltext (document classification)/bbc/politics/344.txt  \n",
            "  inflating: bbc-fulltext (document classification)/bbc/politics/345.txt  \n",
            "  inflating: bbc-fulltext (document classification)/bbc/politics/346.txt  \n",
            "  inflating: bbc-fulltext (document classification)/bbc/politics/347.txt  \n",
            "  inflating: bbc-fulltext (document classification)/bbc/politics/348.txt  \n",
            "  inflating: bbc-fulltext (document classification)/bbc/politics/349.txt  \n",
            "  inflating: bbc-fulltext (document classification)/bbc/politics/350.txt  \n",
            "  inflating: bbc-fulltext (document classification)/bbc/politics/351.txt  \n",
            "  inflating: bbc-fulltext (document classification)/bbc/politics/352.txt  \n",
            "  inflating: bbc-fulltext (document classification)/bbc/politics/353.txt  \n",
            "  inflating: bbc-fulltext (document classification)/bbc/politics/354.txt  \n",
            "  inflating: bbc-fulltext (document classification)/bbc/politics/355.txt  \n",
            "  inflating: bbc-fulltext (document classification)/bbc/politics/356.txt  \n",
            "  inflating: bbc-fulltext (document classification)/bbc/politics/357.txt  \n",
            "  inflating: bbc-fulltext (document classification)/bbc/politics/358.txt  \n",
            "  inflating: bbc-fulltext (document classification)/bbc/politics/359.txt  \n",
            "  inflating: bbc-fulltext (document classification)/bbc/politics/360.txt  \n",
            "  inflating: bbc-fulltext (document classification)/bbc/politics/361.txt  \n",
            "  inflating: bbc-fulltext (document classification)/bbc/politics/362.txt  \n",
            "  inflating: bbc-fulltext (document classification)/bbc/politics/363.txt  \n",
            "  inflating: bbc-fulltext (document classification)/bbc/politics/364.txt  \n",
            "  inflating: bbc-fulltext (document classification)/bbc/politics/365.txt  \n",
            "  inflating: bbc-fulltext (document classification)/bbc/politics/366.txt  \n",
            "  inflating: bbc-fulltext (document classification)/bbc/politics/367.txt  \n",
            "  inflating: bbc-fulltext (document classification)/bbc/politics/368.txt  \n",
            "  inflating: bbc-fulltext (document classification)/bbc/politics/369.txt  \n",
            "  inflating: bbc-fulltext (document classification)/bbc/politics/370.txt  \n",
            "  inflating: bbc-fulltext (document classification)/bbc/politics/371.txt  \n",
            "  inflating: bbc-fulltext (document classification)/bbc/politics/372.txt  \n",
            "  inflating: bbc-fulltext (document classification)/bbc/politics/373.txt  \n",
            "  inflating: bbc-fulltext (document classification)/bbc/politics/374.txt  \n",
            "  inflating: bbc-fulltext (document classification)/bbc/politics/375.txt  \n",
            "  inflating: bbc-fulltext (document classification)/bbc/politics/376.txt  \n",
            "  inflating: bbc-fulltext (document classification)/bbc/politics/377.txt  \n",
            "  inflating: bbc-fulltext (document classification)/bbc/politics/378.txt  \n",
            "  inflating: bbc-fulltext (document classification)/bbc/politics/379.txt  \n",
            "  inflating: bbc-fulltext (document classification)/bbc/politics/380.txt  \n",
            "  inflating: bbc-fulltext (document classification)/bbc/politics/381.txt  \n",
            "  inflating: bbc-fulltext (document classification)/bbc/politics/382.txt  \n",
            "  inflating: bbc-fulltext (document classification)/bbc/politics/383.txt  \n",
            "  inflating: bbc-fulltext (document classification)/bbc/politics/384.txt  \n",
            "  inflating: bbc-fulltext (document classification)/bbc/politics/385.txt  \n",
            "  inflating: bbc-fulltext (document classification)/bbc/politics/386.txt  \n",
            "  inflating: bbc-fulltext (document classification)/bbc/politics/387.txt  \n",
            "  inflating: bbc-fulltext (document classification)/bbc/politics/388.txt  \n",
            "  inflating: bbc-fulltext (document classification)/bbc/politics/389.txt  \n",
            "  inflating: bbc-fulltext (document classification)/bbc/politics/390.txt  \n",
            "  inflating: bbc-fulltext (document classification)/bbc/politics/391.txt  \n",
            "  inflating: bbc-fulltext (document classification)/bbc/politics/392.txt  \n",
            "  inflating: bbc-fulltext (document classification)/bbc/politics/393.txt  \n",
            "  inflating: bbc-fulltext (document classification)/bbc/politics/394.txt  \n",
            "  inflating: bbc-fulltext (document classification)/bbc/politics/395.txt  \n",
            "  inflating: bbc-fulltext (document classification)/bbc/politics/396.txt  \n",
            "  inflating: bbc-fulltext (document classification)/bbc/politics/397.txt  \n",
            "  inflating: bbc-fulltext (document classification)/bbc/politics/398.txt  \n",
            "  inflating: bbc-fulltext (document classification)/bbc/politics/399.txt  \n",
            "  inflating: bbc-fulltext (document classification)/bbc/politics/400.txt  \n",
            "  inflating: bbc-fulltext (document classification)/bbc/politics/401.txt  \n",
            "  inflating: bbc-fulltext (document classification)/bbc/politics/402.txt  \n",
            "  inflating: bbc-fulltext (document classification)/bbc/politics/403.txt  \n",
            "  inflating: bbc-fulltext (document classification)/bbc/politics/404.txt  \n",
            "  inflating: bbc-fulltext (document classification)/bbc/politics/405.txt  \n",
            "  inflating: bbc-fulltext (document classification)/bbc/politics/406.txt  \n",
            "  inflating: bbc-fulltext (document classification)/bbc/politics/407.txt  \n",
            "  inflating: bbc-fulltext (document classification)/bbc/politics/408.txt  \n",
            "  inflating: bbc-fulltext (document classification)/bbc/politics/409.txt  \n",
            "  inflating: bbc-fulltext (document classification)/bbc/politics/410.txt  \n",
            "  inflating: bbc-fulltext (document classification)/bbc/politics/411.txt  \n",
            "  inflating: bbc-fulltext (document classification)/bbc/politics/412.txt  \n",
            "  inflating: bbc-fulltext (document classification)/bbc/politics/413.txt  \n",
            "  inflating: bbc-fulltext (document classification)/bbc/politics/414.txt  \n",
            "  inflating: bbc-fulltext (document classification)/bbc/politics/415.txt  \n",
            "  inflating: bbc-fulltext (document classification)/bbc/politics/416.txt  \n",
            "  inflating: bbc-fulltext (document classification)/bbc/politics/417.txt  \n",
            "  inflating: bbc-fulltext (document classification)/bbc/sport/001.txt  \n",
            "  inflating: bbc-fulltext (document classification)/bbc/sport/002.txt  \n",
            "  inflating: bbc-fulltext (document classification)/bbc/sport/003.txt  \n",
            "  inflating: bbc-fulltext (document classification)/bbc/sport/004.txt  \n",
            "  inflating: bbc-fulltext (document classification)/bbc/sport/005.txt  \n",
            "  inflating: bbc-fulltext (document classification)/bbc/sport/006.txt  \n",
            "  inflating: bbc-fulltext (document classification)/bbc/sport/007.txt  \n",
            "  inflating: bbc-fulltext (document classification)/bbc/sport/008.txt  \n",
            "  inflating: bbc-fulltext (document classification)/bbc/sport/009.txt  \n",
            "  inflating: bbc-fulltext (document classification)/bbc/sport/010.txt  \n",
            "  inflating: bbc-fulltext (document classification)/bbc/sport/011.txt  \n",
            "  inflating: bbc-fulltext (document classification)/bbc/sport/012.txt  \n",
            "  inflating: bbc-fulltext (document classification)/bbc/sport/013.txt  \n",
            "  inflating: bbc-fulltext (document classification)/bbc/sport/014.txt  \n",
            "  inflating: bbc-fulltext (document classification)/bbc/sport/015.txt  \n",
            "  inflating: bbc-fulltext (document classification)/bbc/sport/016.txt  \n",
            "  inflating: bbc-fulltext (document classification)/bbc/sport/017.txt  \n",
            "  inflating: bbc-fulltext (document classification)/bbc/sport/018.txt  \n",
            "  inflating: bbc-fulltext (document classification)/bbc/sport/019.txt  \n",
            "  inflating: bbc-fulltext (document classification)/bbc/sport/020.txt  \n",
            "  inflating: bbc-fulltext (document classification)/bbc/sport/021.txt  \n",
            "  inflating: bbc-fulltext (document classification)/bbc/sport/022.txt  \n",
            "  inflating: bbc-fulltext (document classification)/bbc/sport/023.txt  \n",
            "  inflating: bbc-fulltext (document classification)/bbc/sport/024.txt  \n",
            "  inflating: bbc-fulltext (document classification)/bbc/sport/025.txt  \n",
            "  inflating: bbc-fulltext (document classification)/bbc/sport/026.txt  \n",
            "  inflating: bbc-fulltext (document classification)/bbc/sport/027.txt  \n",
            "  inflating: bbc-fulltext (document classification)/bbc/sport/028.txt  \n",
            "  inflating: bbc-fulltext (document classification)/bbc/sport/029.txt  \n",
            "  inflating: bbc-fulltext (document classification)/bbc/sport/030.txt  \n",
            "  inflating: bbc-fulltext (document classification)/bbc/sport/031.txt  \n",
            "  inflating: bbc-fulltext (document classification)/bbc/sport/032.txt  \n",
            "  inflating: bbc-fulltext (document classification)/bbc/sport/033.txt  \n",
            "  inflating: bbc-fulltext (document classification)/bbc/sport/034.txt  \n",
            "  inflating: bbc-fulltext (document classification)/bbc/sport/035.txt  \n",
            "  inflating: bbc-fulltext (document classification)/bbc/sport/036.txt  \n",
            "  inflating: bbc-fulltext (document classification)/bbc/sport/037.txt  \n",
            "  inflating: bbc-fulltext (document classification)/bbc/sport/038.txt  \n",
            "  inflating: bbc-fulltext (document classification)/bbc/sport/039.txt  \n",
            "  inflating: bbc-fulltext (document classification)/bbc/sport/040.txt  \n",
            "  inflating: bbc-fulltext (document classification)/bbc/sport/041.txt  \n",
            "  inflating: bbc-fulltext (document classification)/bbc/sport/042.txt  \n",
            "  inflating: bbc-fulltext (document classification)/bbc/sport/043.txt  \n",
            "  inflating: bbc-fulltext (document classification)/bbc/sport/044.txt  \n",
            "  inflating: bbc-fulltext (document classification)/bbc/sport/045.txt  \n",
            "  inflating: bbc-fulltext (document classification)/bbc/sport/046.txt  \n",
            "  inflating: bbc-fulltext (document classification)/bbc/sport/047.txt  \n",
            "  inflating: bbc-fulltext (document classification)/bbc/sport/048.txt  \n",
            "  inflating: bbc-fulltext (document classification)/bbc/sport/049.txt  \n",
            "  inflating: bbc-fulltext (document classification)/bbc/sport/050.txt  \n",
            "  inflating: bbc-fulltext (document classification)/bbc/sport/051.txt  \n",
            "  inflating: bbc-fulltext (document classification)/bbc/sport/052.txt  \n",
            "  inflating: bbc-fulltext (document classification)/bbc/sport/053.txt  \n",
            "  inflating: bbc-fulltext (document classification)/bbc/sport/054.txt  \n",
            "  inflating: bbc-fulltext (document classification)/bbc/sport/055.txt  \n",
            "  inflating: bbc-fulltext (document classification)/bbc/sport/056.txt  \n",
            "  inflating: bbc-fulltext (document classification)/bbc/sport/057.txt  \n",
            "  inflating: bbc-fulltext (document classification)/bbc/sport/058.txt  \n",
            "  inflating: bbc-fulltext (document classification)/bbc/sport/059.txt  \n",
            "  inflating: bbc-fulltext (document classification)/bbc/sport/060.txt  \n",
            "  inflating: bbc-fulltext (document classification)/bbc/sport/061.txt  \n",
            "  inflating: bbc-fulltext (document classification)/bbc/sport/062.txt  \n",
            "  inflating: bbc-fulltext (document classification)/bbc/sport/063.txt  \n",
            "  inflating: bbc-fulltext (document classification)/bbc/sport/064.txt  \n",
            "  inflating: bbc-fulltext (document classification)/bbc/sport/065.txt  \n",
            "  inflating: bbc-fulltext (document classification)/bbc/sport/066.txt  \n",
            "  inflating: bbc-fulltext (document classification)/bbc/sport/067.txt  \n",
            "  inflating: bbc-fulltext (document classification)/bbc/sport/068.txt  \n",
            "  inflating: bbc-fulltext (document classification)/bbc/sport/069.txt  \n",
            "  inflating: bbc-fulltext (document classification)/bbc/sport/070.txt  \n",
            "  inflating: bbc-fulltext (document classification)/bbc/sport/071.txt  \n",
            "  inflating: bbc-fulltext (document classification)/bbc/sport/072.txt  \n",
            "  inflating: bbc-fulltext (document classification)/bbc/sport/073.txt  \n",
            "  inflating: bbc-fulltext (document classification)/bbc/sport/074.txt  \n",
            "  inflating: bbc-fulltext (document classification)/bbc/sport/075.txt  \n",
            "  inflating: bbc-fulltext (document classification)/bbc/sport/076.txt  \n",
            "  inflating: bbc-fulltext (document classification)/bbc/sport/077.txt  \n",
            "  inflating: bbc-fulltext (document classification)/bbc/sport/078.txt  \n",
            "  inflating: bbc-fulltext (document classification)/bbc/sport/079.txt  \n",
            "  inflating: bbc-fulltext (document classification)/bbc/sport/080.txt  \n",
            "  inflating: bbc-fulltext (document classification)/bbc/sport/081.txt  \n",
            "  inflating: bbc-fulltext (document classification)/bbc/sport/082.txt  \n",
            "  inflating: bbc-fulltext (document classification)/bbc/sport/083.txt  \n",
            "  inflating: bbc-fulltext (document classification)/bbc/sport/084.txt  \n",
            "  inflating: bbc-fulltext (document classification)/bbc/sport/085.txt  \n",
            "  inflating: bbc-fulltext (document classification)/bbc/sport/086.txt  \n",
            "  inflating: bbc-fulltext (document classification)/bbc/sport/087.txt  \n",
            "  inflating: bbc-fulltext (document classification)/bbc/sport/088.txt  \n",
            "  inflating: bbc-fulltext (document classification)/bbc/sport/089.txt  \n",
            "  inflating: bbc-fulltext (document classification)/bbc/sport/090.txt  \n",
            "  inflating: bbc-fulltext (document classification)/bbc/sport/091.txt  \n",
            "  inflating: bbc-fulltext (document classification)/bbc/sport/092.txt  \n",
            "  inflating: bbc-fulltext (document classification)/bbc/sport/093.txt  \n",
            "  inflating: bbc-fulltext (document classification)/bbc/sport/094.txt  \n",
            "  inflating: bbc-fulltext (document classification)/bbc/sport/095.txt  \n",
            "  inflating: bbc-fulltext (document classification)/bbc/sport/096.txt  \n",
            "  inflating: bbc-fulltext (document classification)/bbc/sport/097.txt  \n",
            "  inflating: bbc-fulltext (document classification)/bbc/sport/098.txt  \n",
            "  inflating: bbc-fulltext (document classification)/bbc/sport/099.txt  \n",
            "  inflating: bbc-fulltext (document classification)/bbc/sport/100.txt  \n",
            "  inflating: bbc-fulltext (document classification)/bbc/sport/101.txt  \n",
            "  inflating: bbc-fulltext (document classification)/bbc/sport/102.txt  \n",
            "  inflating: bbc-fulltext (document classification)/bbc/sport/103.txt  \n",
            "  inflating: bbc-fulltext (document classification)/bbc/sport/104.txt  \n",
            "  inflating: bbc-fulltext (document classification)/bbc/sport/105.txt  \n",
            "  inflating: bbc-fulltext (document classification)/bbc/sport/106.txt  \n",
            "  inflating: bbc-fulltext (document classification)/bbc/sport/107.txt  \n",
            "  inflating: bbc-fulltext (document classification)/bbc/sport/108.txt  \n",
            "  inflating: bbc-fulltext (document classification)/bbc/sport/109.txt  \n",
            "  inflating: bbc-fulltext (document classification)/bbc/sport/110.txt  \n",
            "  inflating: bbc-fulltext (document classification)/bbc/sport/111.txt  \n",
            "  inflating: bbc-fulltext (document classification)/bbc/sport/112.txt  \n",
            "  inflating: bbc-fulltext (document classification)/bbc/sport/113.txt  \n",
            "  inflating: bbc-fulltext (document classification)/bbc/sport/114.txt  \n",
            "  inflating: bbc-fulltext (document classification)/bbc/sport/115.txt  \n",
            "  inflating: bbc-fulltext (document classification)/bbc/sport/116.txt  \n",
            "  inflating: bbc-fulltext (document classification)/bbc/sport/117.txt  \n",
            "  inflating: bbc-fulltext (document classification)/bbc/sport/118.txt  \n",
            "  inflating: bbc-fulltext (document classification)/bbc/sport/119.txt  \n",
            "  inflating: bbc-fulltext (document classification)/bbc/sport/120.txt  \n",
            "  inflating: bbc-fulltext (document classification)/bbc/sport/121.txt  \n",
            "  inflating: bbc-fulltext (document classification)/bbc/sport/122.txt  \n",
            "  inflating: bbc-fulltext (document classification)/bbc/sport/123.txt  \n",
            "  inflating: bbc-fulltext (document classification)/bbc/sport/124.txt  \n",
            "  inflating: bbc-fulltext (document classification)/bbc/sport/125.txt  \n",
            "  inflating: bbc-fulltext (document classification)/bbc/sport/126.txt  \n",
            "  inflating: bbc-fulltext (document classification)/bbc/sport/127.txt  \n",
            "  inflating: bbc-fulltext (document classification)/bbc/sport/128.txt  \n",
            "  inflating: bbc-fulltext (document classification)/bbc/sport/129.txt  \n",
            "  inflating: bbc-fulltext (document classification)/bbc/sport/130.txt  \n",
            "  inflating: bbc-fulltext (document classification)/bbc/sport/131.txt  \n",
            "  inflating: bbc-fulltext (document classification)/bbc/sport/132.txt  \n",
            "  inflating: bbc-fulltext (document classification)/bbc/sport/133.txt  \n",
            "  inflating: bbc-fulltext (document classification)/bbc/sport/134.txt  \n",
            "  inflating: bbc-fulltext (document classification)/bbc/sport/135.txt  \n",
            "  inflating: bbc-fulltext (document classification)/bbc/sport/136.txt  \n",
            "  inflating: bbc-fulltext (document classification)/bbc/sport/137.txt  \n",
            "  inflating: bbc-fulltext (document classification)/bbc/sport/138.txt  \n",
            "  inflating: bbc-fulltext (document classification)/bbc/sport/139.txt  \n",
            "  inflating: bbc-fulltext (document classification)/bbc/sport/140.txt  \n",
            "  inflating: bbc-fulltext (document classification)/bbc/sport/141.txt  \n",
            "  inflating: bbc-fulltext (document classification)/bbc/sport/142.txt  \n",
            "  inflating: bbc-fulltext (document classification)/bbc/sport/143.txt  \n",
            "  inflating: bbc-fulltext (document classification)/bbc/sport/144.txt  \n",
            "  inflating: bbc-fulltext (document classification)/bbc/sport/145.txt  \n",
            "  inflating: bbc-fulltext (document classification)/bbc/sport/146.txt  \n",
            "  inflating: bbc-fulltext (document classification)/bbc/sport/147.txt  \n",
            "  inflating: bbc-fulltext (document classification)/bbc/sport/148.txt  \n",
            "  inflating: bbc-fulltext (document classification)/bbc/sport/149.txt  \n",
            "  inflating: bbc-fulltext (document classification)/bbc/sport/150.txt  \n",
            "  inflating: bbc-fulltext (document classification)/bbc/sport/151.txt  \n",
            "  inflating: bbc-fulltext (document classification)/bbc/sport/152.txt  \n",
            "  inflating: bbc-fulltext (document classification)/bbc/sport/153.txt  \n",
            "  inflating: bbc-fulltext (document classification)/bbc/sport/154.txt  \n",
            "  inflating: bbc-fulltext (document classification)/bbc/sport/155.txt  \n",
            "  inflating: bbc-fulltext (document classification)/bbc/sport/156.txt  \n",
            "  inflating: bbc-fulltext (document classification)/bbc/sport/157.txt  \n",
            "  inflating: bbc-fulltext (document classification)/bbc/sport/158.txt  \n",
            "  inflating: bbc-fulltext (document classification)/bbc/sport/159.txt  \n",
            "  inflating: bbc-fulltext (document classification)/bbc/sport/160.txt  \n",
            "  inflating: bbc-fulltext (document classification)/bbc/sport/161.txt  \n",
            "  inflating: bbc-fulltext (document classification)/bbc/sport/162.txt  \n",
            "  inflating: bbc-fulltext (document classification)/bbc/sport/163.txt  \n",
            "  inflating: bbc-fulltext (document classification)/bbc/sport/164.txt  \n",
            "  inflating: bbc-fulltext (document classification)/bbc/sport/165.txt  \n",
            "  inflating: bbc-fulltext (document classification)/bbc/sport/166.txt  \n",
            "  inflating: bbc-fulltext (document classification)/bbc/sport/167.txt  \n",
            "  inflating: bbc-fulltext (document classification)/bbc/sport/168.txt  \n",
            "  inflating: bbc-fulltext (document classification)/bbc/sport/169.txt  \n",
            "  inflating: bbc-fulltext (document classification)/bbc/sport/170.txt  \n",
            "  inflating: bbc-fulltext (document classification)/bbc/sport/171.txt  \n",
            "  inflating: bbc-fulltext (document classification)/bbc/sport/172.txt  \n",
            "  inflating: bbc-fulltext (document classification)/bbc/sport/173.txt  \n",
            "  inflating: bbc-fulltext (document classification)/bbc/sport/174.txt  \n",
            "  inflating: bbc-fulltext (document classification)/bbc/sport/175.txt  \n",
            "  inflating: bbc-fulltext (document classification)/bbc/sport/176.txt  \n",
            "  inflating: bbc-fulltext (document classification)/bbc/sport/177.txt  \n",
            "  inflating: bbc-fulltext (document classification)/bbc/sport/178.txt  \n",
            "  inflating: bbc-fulltext (document classification)/bbc/sport/179.txt  \n",
            "  inflating: bbc-fulltext (document classification)/bbc/sport/180.txt  \n",
            "  inflating: bbc-fulltext (document classification)/bbc/sport/181.txt  \n",
            "  inflating: bbc-fulltext (document classification)/bbc/sport/182.txt  \n",
            "  inflating: bbc-fulltext (document classification)/bbc/sport/183.txt  \n",
            "  inflating: bbc-fulltext (document classification)/bbc/sport/184.txt  \n",
            "  inflating: bbc-fulltext (document classification)/bbc/sport/185.txt  \n",
            "  inflating: bbc-fulltext (document classification)/bbc/sport/186.txt  \n",
            "  inflating: bbc-fulltext (document classification)/bbc/sport/187.txt  \n",
            "  inflating: bbc-fulltext (document classification)/bbc/sport/188.txt  \n",
            "  inflating: bbc-fulltext (document classification)/bbc/sport/189.txt  \n",
            "  inflating: bbc-fulltext (document classification)/bbc/sport/190.txt  \n",
            "  inflating: bbc-fulltext (document classification)/bbc/sport/191.txt  \n",
            "  inflating: bbc-fulltext (document classification)/bbc/sport/192.txt  \n",
            "  inflating: bbc-fulltext (document classification)/bbc/sport/193.txt  \n",
            "  inflating: bbc-fulltext (document classification)/bbc/sport/194.txt  \n",
            "  inflating: bbc-fulltext (document classification)/bbc/sport/195.txt  \n",
            "  inflating: bbc-fulltext (document classification)/bbc/sport/196.txt  \n",
            "  inflating: bbc-fulltext (document classification)/bbc/sport/197.txt  \n",
            "  inflating: bbc-fulltext (document classification)/bbc/sport/198.txt  \n",
            "  inflating: bbc-fulltext (document classification)/bbc/sport/199.txt  \n",
            "  inflating: bbc-fulltext (document classification)/bbc/sport/200.txt  \n",
            "  inflating: bbc-fulltext (document classification)/bbc/sport/201.txt  \n",
            "  inflating: bbc-fulltext (document classification)/bbc/sport/202.txt  \n",
            "  inflating: bbc-fulltext (document classification)/bbc/sport/203.txt  \n",
            "  inflating: bbc-fulltext (document classification)/bbc/sport/204.txt  \n",
            "  inflating: bbc-fulltext (document classification)/bbc/sport/205.txt  \n",
            "  inflating: bbc-fulltext (document classification)/bbc/sport/206.txt  \n",
            "  inflating: bbc-fulltext (document classification)/bbc/sport/207.txt  \n",
            "  inflating: bbc-fulltext (document classification)/bbc/sport/208.txt  \n",
            "  inflating: bbc-fulltext (document classification)/bbc/sport/209.txt  \n",
            "  inflating: bbc-fulltext (document classification)/bbc/sport/210.txt  \n",
            "  inflating: bbc-fulltext (document classification)/bbc/sport/211.txt  \n",
            "  inflating: bbc-fulltext (document classification)/bbc/sport/212.txt  \n",
            "  inflating: bbc-fulltext (document classification)/bbc/sport/213.txt  \n",
            "  inflating: bbc-fulltext (document classification)/bbc/sport/214.txt  \n",
            "  inflating: bbc-fulltext (document classification)/bbc/sport/215.txt  \n",
            "  inflating: bbc-fulltext (document classification)/bbc/sport/216.txt  \n",
            "  inflating: bbc-fulltext (document classification)/bbc/sport/217.txt  \n",
            "  inflating: bbc-fulltext (document classification)/bbc/sport/218.txt  \n",
            "  inflating: bbc-fulltext (document classification)/bbc/sport/219.txt  \n",
            "  inflating: bbc-fulltext (document classification)/bbc/sport/220.txt  \n",
            "  inflating: bbc-fulltext (document classification)/bbc/sport/221.txt  \n",
            "  inflating: bbc-fulltext (document classification)/bbc/sport/222.txt  \n",
            "  inflating: bbc-fulltext (document classification)/bbc/sport/223.txt  \n",
            "  inflating: bbc-fulltext (document classification)/bbc/sport/224.txt  \n",
            "  inflating: bbc-fulltext (document classification)/bbc/sport/225.txt  \n",
            "  inflating: bbc-fulltext (document classification)/bbc/sport/226.txt  \n",
            "  inflating: bbc-fulltext (document classification)/bbc/sport/227.txt  \n",
            "  inflating: bbc-fulltext (document classification)/bbc/sport/228.txt  \n",
            "  inflating: bbc-fulltext (document classification)/bbc/sport/229.txt  \n",
            "  inflating: bbc-fulltext (document classification)/bbc/sport/230.txt  \n",
            "  inflating: bbc-fulltext (document classification)/bbc/sport/231.txt  \n",
            "  inflating: bbc-fulltext (document classification)/bbc/sport/232.txt  \n",
            "  inflating: bbc-fulltext (document classification)/bbc/sport/233.txt  \n",
            "  inflating: bbc-fulltext (document classification)/bbc/sport/234.txt  \n",
            "  inflating: bbc-fulltext (document classification)/bbc/sport/235.txt  \n",
            "  inflating: bbc-fulltext (document classification)/bbc/sport/236.txt  \n",
            "  inflating: bbc-fulltext (document classification)/bbc/sport/237.txt  \n",
            "  inflating: bbc-fulltext (document classification)/bbc/sport/238.txt  \n",
            "  inflating: bbc-fulltext (document classification)/bbc/sport/239.txt  \n",
            "  inflating: bbc-fulltext (document classification)/bbc/sport/240.txt  \n",
            "  inflating: bbc-fulltext (document classification)/bbc/sport/241.txt  \n",
            "  inflating: bbc-fulltext (document classification)/bbc/sport/242.txt  \n",
            "  inflating: bbc-fulltext (document classification)/bbc/sport/243.txt  \n",
            "  inflating: bbc-fulltext (document classification)/bbc/sport/244.txt  \n",
            "  inflating: bbc-fulltext (document classification)/bbc/sport/245.txt  \n",
            "  inflating: bbc-fulltext (document classification)/bbc/sport/246.txt  \n",
            "  inflating: bbc-fulltext (document classification)/bbc/sport/247.txt  \n",
            "  inflating: bbc-fulltext (document classification)/bbc/sport/248.txt  \n",
            "  inflating: bbc-fulltext (document classification)/bbc/sport/249.txt  \n",
            "  inflating: bbc-fulltext (document classification)/bbc/sport/250.txt  \n",
            "  inflating: bbc-fulltext (document classification)/bbc/sport/251.txt  \n",
            "  inflating: bbc-fulltext (document classification)/bbc/sport/252.txt  \n",
            "  inflating: bbc-fulltext (document classification)/bbc/sport/253.txt  \n",
            "  inflating: bbc-fulltext (document classification)/bbc/sport/254.txt  \n",
            "  inflating: bbc-fulltext (document classification)/bbc/sport/255.txt  \n",
            "  inflating: bbc-fulltext (document classification)/bbc/sport/256.txt  \n",
            "  inflating: bbc-fulltext (document classification)/bbc/sport/257.txt  \n",
            "  inflating: bbc-fulltext (document classification)/bbc/sport/258.txt  \n",
            "  inflating: bbc-fulltext (document classification)/bbc/sport/259.txt  \n",
            "  inflating: bbc-fulltext (document classification)/bbc/sport/260.txt  \n",
            "  inflating: bbc-fulltext (document classification)/bbc/sport/261.txt  \n",
            "  inflating: bbc-fulltext (document classification)/bbc/sport/262.txt  \n",
            "  inflating: bbc-fulltext (document classification)/bbc/sport/263.txt  \n",
            "  inflating: bbc-fulltext (document classification)/bbc/sport/264.txt  \n",
            "  inflating: bbc-fulltext (document classification)/bbc/sport/265.txt  \n",
            "  inflating: bbc-fulltext (document classification)/bbc/sport/266.txt  \n",
            "  inflating: bbc-fulltext (document classification)/bbc/sport/267.txt  \n",
            "  inflating: bbc-fulltext (document classification)/bbc/sport/268.txt  \n",
            "  inflating: bbc-fulltext (document classification)/bbc/sport/269.txt  \n",
            "  inflating: bbc-fulltext (document classification)/bbc/sport/270.txt  \n",
            "  inflating: bbc-fulltext (document classification)/bbc/sport/271.txt  \n",
            "  inflating: bbc-fulltext (document classification)/bbc/sport/272.txt  \n",
            "  inflating: bbc-fulltext (document classification)/bbc/sport/273.txt  \n",
            "  inflating: bbc-fulltext (document classification)/bbc/sport/274.txt  \n",
            "  inflating: bbc-fulltext (document classification)/bbc/sport/275.txt  \n",
            "  inflating: bbc-fulltext (document classification)/bbc/sport/276.txt  \n",
            "  inflating: bbc-fulltext (document classification)/bbc/sport/277.txt  \n",
            "  inflating: bbc-fulltext (document classification)/bbc/sport/278.txt  \n",
            "  inflating: bbc-fulltext (document classification)/bbc/sport/279.txt  \n",
            "  inflating: bbc-fulltext (document classification)/bbc/sport/280.txt  \n",
            "  inflating: bbc-fulltext (document classification)/bbc/sport/281.txt  \n",
            "  inflating: bbc-fulltext (document classification)/bbc/sport/282.txt  \n",
            "  inflating: bbc-fulltext (document classification)/bbc/sport/283.txt  \n",
            "  inflating: bbc-fulltext (document classification)/bbc/sport/284.txt  \n",
            "  inflating: bbc-fulltext (document classification)/bbc/sport/285.txt  \n",
            "  inflating: bbc-fulltext (document classification)/bbc/sport/286.txt  \n",
            "  inflating: bbc-fulltext (document classification)/bbc/sport/287.txt  \n",
            "  inflating: bbc-fulltext (document classification)/bbc/sport/288.txt  \n",
            "  inflating: bbc-fulltext (document classification)/bbc/sport/289.txt  \n",
            "  inflating: bbc-fulltext (document classification)/bbc/sport/290.txt  \n",
            "  inflating: bbc-fulltext (document classification)/bbc/sport/291.txt  \n",
            "  inflating: bbc-fulltext (document classification)/bbc/sport/292.txt  \n",
            "  inflating: bbc-fulltext (document classification)/bbc/sport/293.txt  \n",
            "  inflating: bbc-fulltext (document classification)/bbc/sport/294.txt  \n",
            "  inflating: bbc-fulltext (document classification)/bbc/sport/295.txt  \n",
            "  inflating: bbc-fulltext (document classification)/bbc/sport/296.txt  \n",
            "  inflating: bbc-fulltext (document classification)/bbc/sport/297.txt  \n",
            "  inflating: bbc-fulltext (document classification)/bbc/sport/298.txt  \n",
            "  inflating: bbc-fulltext (document classification)/bbc/sport/299.txt  \n",
            "  inflating: bbc-fulltext (document classification)/bbc/sport/300.txt  \n",
            "  inflating: bbc-fulltext (document classification)/bbc/sport/301.txt  \n",
            "  inflating: bbc-fulltext (document classification)/bbc/sport/302.txt  \n",
            "  inflating: bbc-fulltext (document classification)/bbc/sport/303.txt  \n",
            "  inflating: bbc-fulltext (document classification)/bbc/sport/304.txt  \n",
            "  inflating: bbc-fulltext (document classification)/bbc/sport/305.txt  \n",
            "  inflating: bbc-fulltext (document classification)/bbc/sport/306.txt  \n",
            "  inflating: bbc-fulltext (document classification)/bbc/sport/307.txt  \n",
            "  inflating: bbc-fulltext (document classification)/bbc/sport/308.txt  \n",
            "  inflating: bbc-fulltext (document classification)/bbc/sport/309.txt  \n",
            "  inflating: bbc-fulltext (document classification)/bbc/sport/310.txt  \n",
            "  inflating: bbc-fulltext (document classification)/bbc/sport/311.txt  \n",
            "  inflating: bbc-fulltext (document classification)/bbc/sport/312.txt  \n",
            "  inflating: bbc-fulltext (document classification)/bbc/sport/313.txt  \n",
            "  inflating: bbc-fulltext (document classification)/bbc/sport/314.txt  \n",
            "  inflating: bbc-fulltext (document classification)/bbc/sport/315.txt  \n",
            "  inflating: bbc-fulltext (document classification)/bbc/sport/316.txt  \n",
            "  inflating: bbc-fulltext (document classification)/bbc/sport/317.txt  \n",
            "  inflating: bbc-fulltext (document classification)/bbc/sport/318.txt  \n",
            "  inflating: bbc-fulltext (document classification)/bbc/sport/319.txt  \n",
            "  inflating: bbc-fulltext (document classification)/bbc/sport/320.txt  \n",
            "  inflating: bbc-fulltext (document classification)/bbc/sport/321.txt  \n",
            "  inflating: bbc-fulltext (document classification)/bbc/sport/322.txt  \n",
            "  inflating: bbc-fulltext (document classification)/bbc/sport/323.txt  \n",
            "  inflating: bbc-fulltext (document classification)/bbc/sport/324.txt  \n",
            "  inflating: bbc-fulltext (document classification)/bbc/sport/325.txt  \n",
            "  inflating: bbc-fulltext (document classification)/bbc/sport/326.txt  \n",
            "  inflating: bbc-fulltext (document classification)/bbc/sport/327.txt  \n",
            "  inflating: bbc-fulltext (document classification)/bbc/sport/328.txt  \n",
            "  inflating: bbc-fulltext (document classification)/bbc/sport/329.txt  \n",
            "  inflating: bbc-fulltext (document classification)/bbc/sport/330.txt  \n",
            "  inflating: bbc-fulltext (document classification)/bbc/sport/331.txt  \n",
            "  inflating: bbc-fulltext (document classification)/bbc/sport/332.txt  \n",
            "  inflating: bbc-fulltext (document classification)/bbc/sport/333.txt  \n",
            "  inflating: bbc-fulltext (document classification)/bbc/sport/334.txt  \n",
            "  inflating: bbc-fulltext (document classification)/bbc/sport/335.txt  \n",
            "  inflating: bbc-fulltext (document classification)/bbc/sport/336.txt  \n",
            "  inflating: bbc-fulltext (document classification)/bbc/sport/337.txt  \n",
            "  inflating: bbc-fulltext (document classification)/bbc/sport/338.txt  \n",
            "  inflating: bbc-fulltext (document classification)/bbc/sport/339.txt  \n",
            "  inflating: bbc-fulltext (document classification)/bbc/sport/340.txt  \n",
            "  inflating: bbc-fulltext (document classification)/bbc/sport/341.txt  \n",
            "  inflating: bbc-fulltext (document classification)/bbc/sport/342.txt  \n",
            "  inflating: bbc-fulltext (document classification)/bbc/sport/343.txt  \n",
            "  inflating: bbc-fulltext (document classification)/bbc/sport/344.txt  \n",
            "  inflating: bbc-fulltext (document classification)/bbc/sport/345.txt  \n",
            "  inflating: bbc-fulltext (document classification)/bbc/sport/346.txt  \n",
            "  inflating: bbc-fulltext (document classification)/bbc/sport/347.txt  \n",
            "  inflating: bbc-fulltext (document classification)/bbc/sport/348.txt  \n",
            "  inflating: bbc-fulltext (document classification)/bbc/sport/349.txt  \n",
            "  inflating: bbc-fulltext (document classification)/bbc/sport/350.txt  \n",
            "  inflating: bbc-fulltext (document classification)/bbc/sport/351.txt  \n",
            "  inflating: bbc-fulltext (document classification)/bbc/sport/352.txt  \n",
            "  inflating: bbc-fulltext (document classification)/bbc/sport/353.txt  \n",
            "  inflating: bbc-fulltext (document classification)/bbc/sport/354.txt  \n",
            "  inflating: bbc-fulltext (document classification)/bbc/sport/355.txt  \n",
            "  inflating: bbc-fulltext (document classification)/bbc/sport/356.txt  \n",
            "  inflating: bbc-fulltext (document classification)/bbc/sport/357.txt  \n",
            "  inflating: bbc-fulltext (document classification)/bbc/sport/358.txt  \n",
            "  inflating: bbc-fulltext (document classification)/bbc/sport/359.txt  \n",
            "  inflating: bbc-fulltext (document classification)/bbc/sport/360.txt  \n",
            "  inflating: bbc-fulltext (document classification)/bbc/sport/361.txt  \n",
            "  inflating: bbc-fulltext (document classification)/bbc/sport/362.txt  \n",
            "  inflating: bbc-fulltext (document classification)/bbc/sport/363.txt  \n",
            "  inflating: bbc-fulltext (document classification)/bbc/sport/364.txt  \n",
            "  inflating: bbc-fulltext (document classification)/bbc/sport/365.txt  \n",
            "  inflating: bbc-fulltext (document classification)/bbc/sport/366.txt  \n",
            "  inflating: bbc-fulltext (document classification)/bbc/sport/367.txt  \n",
            "  inflating: bbc-fulltext (document classification)/bbc/sport/368.txt  \n",
            "  inflating: bbc-fulltext (document classification)/bbc/sport/369.txt  \n",
            "  inflating: bbc-fulltext (document classification)/bbc/sport/370.txt  \n",
            "  inflating: bbc-fulltext (document classification)/bbc/sport/371.txt  \n",
            "  inflating: bbc-fulltext (document classification)/bbc/sport/372.txt  \n",
            "  inflating: bbc-fulltext (document classification)/bbc/sport/373.txt  \n",
            "  inflating: bbc-fulltext (document classification)/bbc/sport/374.txt  \n",
            "  inflating: bbc-fulltext (document classification)/bbc/sport/375.txt  \n",
            "  inflating: bbc-fulltext (document classification)/bbc/sport/376.txt  \n",
            "  inflating: bbc-fulltext (document classification)/bbc/sport/377.txt  \n",
            "  inflating: bbc-fulltext (document classification)/bbc/sport/378.txt  \n",
            "  inflating: bbc-fulltext (document classification)/bbc/sport/379.txt  \n",
            "  inflating: bbc-fulltext (document classification)/bbc/sport/380.txt  \n",
            "  inflating: bbc-fulltext (document classification)/bbc/sport/381.txt  \n",
            "  inflating: bbc-fulltext (document classification)/bbc/sport/382.txt  \n",
            "  inflating: bbc-fulltext (document classification)/bbc/sport/383.txt  \n",
            "  inflating: bbc-fulltext (document classification)/bbc/sport/384.txt  \n",
            "  inflating: bbc-fulltext (document classification)/bbc/sport/385.txt  \n",
            "  inflating: bbc-fulltext (document classification)/bbc/sport/386.txt  \n",
            "  inflating: bbc-fulltext (document classification)/bbc/sport/387.txt  \n",
            "  inflating: bbc-fulltext (document classification)/bbc/sport/388.txt  \n",
            "  inflating: bbc-fulltext (document classification)/bbc/sport/389.txt  \n",
            "  inflating: bbc-fulltext (document classification)/bbc/sport/390.txt  \n",
            "  inflating: bbc-fulltext (document classification)/bbc/sport/391.txt  \n",
            "  inflating: bbc-fulltext (document classification)/bbc/sport/392.txt  \n",
            "  inflating: bbc-fulltext (document classification)/bbc/sport/393.txt  \n",
            "  inflating: bbc-fulltext (document classification)/bbc/sport/394.txt  \n",
            "  inflating: bbc-fulltext (document classification)/bbc/sport/395.txt  \n",
            "  inflating: bbc-fulltext (document classification)/bbc/sport/396.txt  \n",
            "  inflating: bbc-fulltext (document classification)/bbc/sport/397.txt  \n",
            "  inflating: bbc-fulltext (document classification)/bbc/sport/398.txt  \n",
            "  inflating: bbc-fulltext (document classification)/bbc/sport/399.txt  \n",
            "  inflating: bbc-fulltext (document classification)/bbc/sport/400.txt  \n",
            "  inflating: bbc-fulltext (document classification)/bbc/sport/401.txt  \n",
            "  inflating: bbc-fulltext (document classification)/bbc/sport/402.txt  \n",
            "  inflating: bbc-fulltext (document classification)/bbc/sport/403.txt  \n",
            "  inflating: bbc-fulltext (document classification)/bbc/sport/404.txt  \n",
            "  inflating: bbc-fulltext (document classification)/bbc/sport/405.txt  \n",
            "  inflating: bbc-fulltext (document classification)/bbc/sport/406.txt  \n",
            "  inflating: bbc-fulltext (document classification)/bbc/sport/407.txt  \n",
            "  inflating: bbc-fulltext (document classification)/bbc/sport/408.txt  \n",
            "  inflating: bbc-fulltext (document classification)/bbc/sport/409.txt  \n",
            "  inflating: bbc-fulltext (document classification)/bbc/sport/410.txt  \n",
            "  inflating: bbc-fulltext (document classification)/bbc/sport/411.txt  \n",
            "  inflating: bbc-fulltext (document classification)/bbc/sport/412.txt  \n",
            "  inflating: bbc-fulltext (document classification)/bbc/sport/413.txt  \n",
            "  inflating: bbc-fulltext (document classification)/bbc/sport/414.txt  \n",
            "  inflating: bbc-fulltext (document classification)/bbc/sport/415.txt  \n",
            "  inflating: bbc-fulltext (document classification)/bbc/sport/416.txt  \n",
            "  inflating: bbc-fulltext (document classification)/bbc/sport/417.txt  \n",
            "  inflating: bbc-fulltext (document classification)/bbc/sport/418.txt  \n",
            "  inflating: bbc-fulltext (document classification)/bbc/sport/419.txt  \n",
            "  inflating: bbc-fulltext (document classification)/bbc/sport/420.txt  \n",
            "  inflating: bbc-fulltext (document classification)/bbc/sport/421.txt  \n",
            "  inflating: bbc-fulltext (document classification)/bbc/sport/422.txt  \n",
            "  inflating: bbc-fulltext (document classification)/bbc/sport/423.txt  \n",
            "  inflating: bbc-fulltext (document classification)/bbc/sport/424.txt  \n",
            "  inflating: bbc-fulltext (document classification)/bbc/sport/425.txt  \n",
            "  inflating: bbc-fulltext (document classification)/bbc/sport/426.txt  \n",
            "  inflating: bbc-fulltext (document classification)/bbc/sport/427.txt  \n",
            "  inflating: bbc-fulltext (document classification)/bbc/sport/428.txt  \n",
            "  inflating: bbc-fulltext (document classification)/bbc/sport/429.txt  \n",
            "  inflating: bbc-fulltext (document classification)/bbc/sport/430.txt  \n",
            "  inflating: bbc-fulltext (document classification)/bbc/sport/431.txt  \n",
            "  inflating: bbc-fulltext (document classification)/bbc/sport/432.txt  \n",
            "  inflating: bbc-fulltext (document classification)/bbc/sport/433.txt  \n",
            "  inflating: bbc-fulltext (document classification)/bbc/sport/434.txt  \n",
            "  inflating: bbc-fulltext (document classification)/bbc/sport/435.txt  \n",
            "  inflating: bbc-fulltext (document classification)/bbc/sport/436.txt  \n",
            "  inflating: bbc-fulltext (document classification)/bbc/sport/437.txt  \n",
            "  inflating: bbc-fulltext (document classification)/bbc/sport/438.txt  \n",
            "  inflating: bbc-fulltext (document classification)/bbc/sport/439.txt  \n",
            "  inflating: bbc-fulltext (document classification)/bbc/sport/440.txt  \n",
            "  inflating: bbc-fulltext (document classification)/bbc/sport/441.txt  \n",
            "  inflating: bbc-fulltext (document classification)/bbc/sport/442.txt  \n",
            "  inflating: bbc-fulltext (document classification)/bbc/sport/443.txt  \n",
            "  inflating: bbc-fulltext (document classification)/bbc/sport/444.txt  \n",
            "  inflating: bbc-fulltext (document classification)/bbc/sport/445.txt  \n",
            "  inflating: bbc-fulltext (document classification)/bbc/sport/446.txt  \n",
            "  inflating: bbc-fulltext (document classification)/bbc/sport/447.txt  \n",
            "  inflating: bbc-fulltext (document classification)/bbc/sport/448.txt  \n",
            "  inflating: bbc-fulltext (document classification)/bbc/sport/449.txt  \n",
            "  inflating: bbc-fulltext (document classification)/bbc/sport/450.txt  \n",
            "  inflating: bbc-fulltext (document classification)/bbc/sport/451.txt  \n",
            "  inflating: bbc-fulltext (document classification)/bbc/sport/452.txt  \n",
            "  inflating: bbc-fulltext (document classification)/bbc/sport/453.txt  \n",
            "  inflating: bbc-fulltext (document classification)/bbc/sport/454.txt  \n",
            "  inflating: bbc-fulltext (document classification)/bbc/sport/455.txt  \n",
            "  inflating: bbc-fulltext (document classification)/bbc/sport/456.txt  \n",
            "  inflating: bbc-fulltext (document classification)/bbc/sport/457.txt  \n",
            "  inflating: bbc-fulltext (document classification)/bbc/sport/458.txt  \n",
            "  inflating: bbc-fulltext (document classification)/bbc/sport/459.txt  \n",
            "  inflating: bbc-fulltext (document classification)/bbc/sport/460.txt  \n",
            "  inflating: bbc-fulltext (document classification)/bbc/sport/461.txt  \n",
            "  inflating: bbc-fulltext (document classification)/bbc/sport/462.txt  \n",
            "  inflating: bbc-fulltext (document classification)/bbc/sport/463.txt  \n",
            "  inflating: bbc-fulltext (document classification)/bbc/sport/464.txt  \n",
            "  inflating: bbc-fulltext (document classification)/bbc/sport/465.txt  \n",
            "  inflating: bbc-fulltext (document classification)/bbc/sport/466.txt  \n",
            "  inflating: bbc-fulltext (document classification)/bbc/sport/467.txt  \n",
            "  inflating: bbc-fulltext (document classification)/bbc/sport/468.txt  \n",
            "  inflating: bbc-fulltext (document classification)/bbc/sport/469.txt  \n",
            "  inflating: bbc-fulltext (document classification)/bbc/sport/470.txt  \n",
            "  inflating: bbc-fulltext (document classification)/bbc/sport/471.txt  \n",
            "  inflating: bbc-fulltext (document classification)/bbc/sport/472.txt  \n",
            "  inflating: bbc-fulltext (document classification)/bbc/sport/473.txt  \n",
            "  inflating: bbc-fulltext (document classification)/bbc/sport/474.txt  \n",
            "  inflating: bbc-fulltext (document classification)/bbc/sport/475.txt  \n",
            "  inflating: bbc-fulltext (document classification)/bbc/sport/476.txt  \n",
            "  inflating: bbc-fulltext (document classification)/bbc/sport/477.txt  \n",
            "  inflating: bbc-fulltext (document classification)/bbc/sport/478.txt  \n",
            "  inflating: bbc-fulltext (document classification)/bbc/sport/479.txt  \n",
            "  inflating: bbc-fulltext (document classification)/bbc/sport/480.txt  \n",
            "  inflating: bbc-fulltext (document classification)/bbc/sport/481.txt  \n",
            "  inflating: bbc-fulltext (document classification)/bbc/sport/482.txt  \n",
            "  inflating: bbc-fulltext (document classification)/bbc/sport/483.txt  \n",
            "  inflating: bbc-fulltext (document classification)/bbc/sport/484.txt  \n",
            "  inflating: bbc-fulltext (document classification)/bbc/sport/485.txt  \n",
            "  inflating: bbc-fulltext (document classification)/bbc/sport/486.txt  \n",
            "  inflating: bbc-fulltext (document classification)/bbc/sport/487.txt  \n",
            "  inflating: bbc-fulltext (document classification)/bbc/sport/488.txt  \n",
            "  inflating: bbc-fulltext (document classification)/bbc/sport/489.txt  \n",
            "  inflating: bbc-fulltext (document classification)/bbc/sport/490.txt  \n",
            "  inflating: bbc-fulltext (document classification)/bbc/sport/491.txt  \n",
            "  inflating: bbc-fulltext (document classification)/bbc/sport/492.txt  \n",
            "  inflating: bbc-fulltext (document classification)/bbc/sport/493.txt  \n",
            "  inflating: bbc-fulltext (document classification)/bbc/sport/494.txt  \n",
            "  inflating: bbc-fulltext (document classification)/bbc/sport/495.txt  \n",
            "  inflating: bbc-fulltext (document classification)/bbc/sport/496.txt  \n",
            "  inflating: bbc-fulltext (document classification)/bbc/sport/497.txt  \n",
            "  inflating: bbc-fulltext (document classification)/bbc/sport/498.txt  \n",
            "  inflating: bbc-fulltext (document classification)/bbc/sport/499.txt  \n",
            "  inflating: bbc-fulltext (document classification)/bbc/sport/500.txt  \n",
            "  inflating: bbc-fulltext (document classification)/bbc/sport/501.txt  \n",
            "  inflating: bbc-fulltext (document classification)/bbc/sport/502.txt  \n",
            "  inflating: bbc-fulltext (document classification)/bbc/sport/503.txt  \n",
            "  inflating: bbc-fulltext (document classification)/bbc/sport/504.txt  \n",
            "  inflating: bbc-fulltext (document classification)/bbc/sport/505.txt  \n",
            "  inflating: bbc-fulltext (document classification)/bbc/sport/506.txt  \n",
            "  inflating: bbc-fulltext (document classification)/bbc/sport/507.txt  \n",
            "  inflating: bbc-fulltext (document classification)/bbc/sport/508.txt  \n",
            "  inflating: bbc-fulltext (document classification)/bbc/sport/509.txt  \n",
            "  inflating: bbc-fulltext (document classification)/bbc/sport/510.txt  \n",
            "  inflating: bbc-fulltext (document classification)/bbc/sport/511.txt  \n",
            "  inflating: bbc-fulltext (document classification)/bbc/tech/001.txt  \n",
            "  inflating: bbc-fulltext (document classification)/bbc/tech/002.txt  \n",
            "  inflating: bbc-fulltext (document classification)/bbc/tech/003.txt  \n",
            "  inflating: bbc-fulltext (document classification)/bbc/tech/004.txt  \n",
            "  inflating: bbc-fulltext (document classification)/bbc/tech/005.txt  \n",
            "  inflating: bbc-fulltext (document classification)/bbc/tech/006.txt  \n",
            "  inflating: bbc-fulltext (document classification)/bbc/tech/007.txt  \n",
            "  inflating: bbc-fulltext (document classification)/bbc/tech/008.txt  \n",
            "  inflating: bbc-fulltext (document classification)/bbc/tech/009.txt  \n",
            "  inflating: bbc-fulltext (document classification)/bbc/tech/010.txt  \n",
            "  inflating: bbc-fulltext (document classification)/bbc/tech/011.txt  \n",
            "  inflating: bbc-fulltext (document classification)/bbc/tech/012.txt  \n",
            "  inflating: bbc-fulltext (document classification)/bbc/tech/013.txt  \n",
            "  inflating: bbc-fulltext (document classification)/bbc/tech/014.txt  \n",
            "  inflating: bbc-fulltext (document classification)/bbc/tech/015.txt  \n",
            "  inflating: bbc-fulltext (document classification)/bbc/tech/016.txt  \n",
            "  inflating: bbc-fulltext (document classification)/bbc/tech/017.txt  \n",
            "  inflating: bbc-fulltext (document classification)/bbc/tech/018.txt  \n",
            "  inflating: bbc-fulltext (document classification)/bbc/tech/019.txt  \n",
            "  inflating: bbc-fulltext (document classification)/bbc/tech/020.txt  \n",
            "  inflating: bbc-fulltext (document classification)/bbc/tech/021.txt  \n",
            "  inflating: bbc-fulltext (document classification)/bbc/tech/022.txt  \n",
            "  inflating: bbc-fulltext (document classification)/bbc/tech/023.txt  \n",
            "  inflating: bbc-fulltext (document classification)/bbc/tech/024.txt  \n",
            "  inflating: bbc-fulltext (document classification)/bbc/tech/025.txt  \n",
            "  inflating: bbc-fulltext (document classification)/bbc/tech/026.txt  \n",
            "  inflating: bbc-fulltext (document classification)/bbc/tech/027.txt  \n",
            "  inflating: bbc-fulltext (document classification)/bbc/tech/028.txt  \n",
            "  inflating: bbc-fulltext (document classification)/bbc/tech/029.txt  \n",
            "  inflating: bbc-fulltext (document classification)/bbc/tech/030.txt  \n",
            "  inflating: bbc-fulltext (document classification)/bbc/tech/031.txt  \n",
            "  inflating: bbc-fulltext (document classification)/bbc/tech/032.txt  \n",
            "  inflating: bbc-fulltext (document classification)/bbc/tech/033.txt  \n",
            "  inflating: bbc-fulltext (document classification)/bbc/tech/034.txt  \n",
            "  inflating: bbc-fulltext (document classification)/bbc/tech/035.txt  \n",
            "  inflating: bbc-fulltext (document classification)/bbc/tech/036.txt  \n",
            "  inflating: bbc-fulltext (document classification)/bbc/tech/037.txt  \n",
            "  inflating: bbc-fulltext (document classification)/bbc/tech/038.txt  \n",
            "  inflating: bbc-fulltext (document classification)/bbc/tech/039.txt  \n",
            "  inflating: bbc-fulltext (document classification)/bbc/tech/040.txt  \n",
            "  inflating: bbc-fulltext (document classification)/bbc/tech/041.txt  \n",
            "  inflating: bbc-fulltext (document classification)/bbc/tech/042.txt  \n",
            "  inflating: bbc-fulltext (document classification)/bbc/tech/043.txt  \n",
            "  inflating: bbc-fulltext (document classification)/bbc/tech/044.txt  \n",
            "  inflating: bbc-fulltext (document classification)/bbc/tech/045.txt  \n",
            "  inflating: bbc-fulltext (document classification)/bbc/tech/046.txt  \n",
            "  inflating: bbc-fulltext (document classification)/bbc/tech/047.txt  \n",
            "  inflating: bbc-fulltext (document classification)/bbc/tech/048.txt  \n",
            "  inflating: bbc-fulltext (document classification)/bbc/tech/049.txt  \n",
            "  inflating: bbc-fulltext (document classification)/bbc/tech/050.txt  \n",
            "  inflating: bbc-fulltext (document classification)/bbc/tech/051.txt  \n",
            "  inflating: bbc-fulltext (document classification)/bbc/tech/052.txt  \n",
            "  inflating: bbc-fulltext (document classification)/bbc/tech/053.txt  \n",
            "  inflating: bbc-fulltext (document classification)/bbc/tech/054.txt  \n",
            "  inflating: bbc-fulltext (document classification)/bbc/tech/055.txt  \n",
            "  inflating: bbc-fulltext (document classification)/bbc/tech/056.txt  \n",
            "  inflating: bbc-fulltext (document classification)/bbc/tech/057.txt  \n",
            "  inflating: bbc-fulltext (document classification)/bbc/tech/058.txt  \n",
            "  inflating: bbc-fulltext (document classification)/bbc/tech/059.txt  \n",
            "  inflating: bbc-fulltext (document classification)/bbc/tech/060.txt  \n",
            "  inflating: bbc-fulltext (document classification)/bbc/tech/061.txt  \n",
            "  inflating: bbc-fulltext (document classification)/bbc/tech/062.txt  \n",
            "  inflating: bbc-fulltext (document classification)/bbc/tech/063.txt  \n",
            "  inflating: bbc-fulltext (document classification)/bbc/tech/064.txt  \n",
            "  inflating: bbc-fulltext (document classification)/bbc/tech/065.txt  \n",
            "  inflating: bbc-fulltext (document classification)/bbc/tech/066.txt  \n",
            "  inflating: bbc-fulltext (document classification)/bbc/tech/067.txt  \n",
            "  inflating: bbc-fulltext (document classification)/bbc/tech/068.txt  \n",
            "  inflating: bbc-fulltext (document classification)/bbc/tech/069.txt  \n",
            "  inflating: bbc-fulltext (document classification)/bbc/tech/070.txt  \n",
            "  inflating: bbc-fulltext (document classification)/bbc/tech/071.txt  \n",
            "  inflating: bbc-fulltext (document classification)/bbc/tech/072.txt  \n",
            "  inflating: bbc-fulltext (document classification)/bbc/tech/073.txt  \n",
            "  inflating: bbc-fulltext (document classification)/bbc/tech/074.txt  \n",
            "  inflating: bbc-fulltext (document classification)/bbc/tech/075.txt  \n",
            "  inflating: bbc-fulltext (document classification)/bbc/tech/076.txt  \n",
            "  inflating: bbc-fulltext (document classification)/bbc/tech/077.txt  \n",
            "  inflating: bbc-fulltext (document classification)/bbc/tech/078.txt  \n",
            "  inflating: bbc-fulltext (document classification)/bbc/tech/079.txt  \n",
            "  inflating: bbc-fulltext (document classification)/bbc/tech/080.txt  \n",
            "  inflating: bbc-fulltext (document classification)/bbc/tech/081.txt  \n",
            "  inflating: bbc-fulltext (document classification)/bbc/tech/082.txt  \n",
            "  inflating: bbc-fulltext (document classification)/bbc/tech/083.txt  \n",
            "  inflating: bbc-fulltext (document classification)/bbc/tech/084.txt  \n",
            "  inflating: bbc-fulltext (document classification)/bbc/tech/085.txt  \n",
            "  inflating: bbc-fulltext (document classification)/bbc/tech/086.txt  \n",
            "  inflating: bbc-fulltext (document classification)/bbc/tech/087.txt  \n",
            "  inflating: bbc-fulltext (document classification)/bbc/tech/088.txt  \n",
            "  inflating: bbc-fulltext (document classification)/bbc/tech/089.txt  \n",
            "  inflating: bbc-fulltext (document classification)/bbc/tech/090.txt  \n",
            "  inflating: bbc-fulltext (document classification)/bbc/tech/091.txt  \n",
            "  inflating: bbc-fulltext (document classification)/bbc/tech/092.txt  \n",
            "  inflating: bbc-fulltext (document classification)/bbc/tech/093.txt  \n",
            "  inflating: bbc-fulltext (document classification)/bbc/tech/094.txt  \n",
            "  inflating: bbc-fulltext (document classification)/bbc/tech/095.txt  \n",
            "  inflating: bbc-fulltext (document classification)/bbc/tech/096.txt  \n",
            "  inflating: bbc-fulltext (document classification)/bbc/tech/097.txt  \n",
            "  inflating: bbc-fulltext (document classification)/bbc/tech/098.txt  \n",
            "  inflating: bbc-fulltext (document classification)/bbc/tech/099.txt  \n",
            "  inflating: bbc-fulltext (document classification)/bbc/tech/100.txt  \n",
            "  inflating: bbc-fulltext (document classification)/bbc/tech/101.txt  \n",
            "  inflating: bbc-fulltext (document classification)/bbc/tech/102.txt  \n",
            "  inflating: bbc-fulltext (document classification)/bbc/tech/103.txt  \n",
            "  inflating: bbc-fulltext (document classification)/bbc/tech/104.txt  \n",
            "  inflating: bbc-fulltext (document classification)/bbc/tech/105.txt  \n",
            "  inflating: bbc-fulltext (document classification)/bbc/tech/106.txt  \n",
            "  inflating: bbc-fulltext (document classification)/bbc/tech/107.txt  \n",
            "  inflating: bbc-fulltext (document classification)/bbc/tech/108.txt  \n",
            "  inflating: bbc-fulltext (document classification)/bbc/tech/109.txt  \n",
            "  inflating: bbc-fulltext (document classification)/bbc/tech/110.txt  \n",
            "  inflating: bbc-fulltext (document classification)/bbc/tech/111.txt  \n",
            "  inflating: bbc-fulltext (document classification)/bbc/tech/112.txt  \n",
            "  inflating: bbc-fulltext (document classification)/bbc/tech/113.txt  \n",
            "  inflating: bbc-fulltext (document classification)/bbc/tech/114.txt  \n",
            "  inflating: bbc-fulltext (document classification)/bbc/tech/115.txt  \n",
            "  inflating: bbc-fulltext (document classification)/bbc/tech/116.txt  \n",
            "  inflating: bbc-fulltext (document classification)/bbc/tech/117.txt  \n",
            "  inflating: bbc-fulltext (document classification)/bbc/tech/118.txt  \n",
            "  inflating: bbc-fulltext (document classification)/bbc/tech/119.txt  \n",
            "  inflating: bbc-fulltext (document classification)/bbc/tech/120.txt  \n",
            "  inflating: bbc-fulltext (document classification)/bbc/tech/121.txt  \n",
            "  inflating: bbc-fulltext (document classification)/bbc/tech/122.txt  \n",
            "  inflating: bbc-fulltext (document classification)/bbc/tech/123.txt  \n",
            "  inflating: bbc-fulltext (document classification)/bbc/tech/124.txt  \n",
            "  inflating: bbc-fulltext (document classification)/bbc/tech/125.txt  \n",
            "  inflating: bbc-fulltext (document classification)/bbc/tech/126.txt  \n",
            "  inflating: bbc-fulltext (document classification)/bbc/tech/127.txt  \n",
            "  inflating: bbc-fulltext (document classification)/bbc/tech/128.txt  \n",
            "  inflating: bbc-fulltext (document classification)/bbc/tech/129.txt  \n",
            "  inflating: bbc-fulltext (document classification)/bbc/tech/130.txt  \n",
            "  inflating: bbc-fulltext (document classification)/bbc/tech/131.txt  \n",
            "  inflating: bbc-fulltext (document classification)/bbc/tech/132.txt  \n",
            "  inflating: bbc-fulltext (document classification)/bbc/tech/133.txt  \n",
            "  inflating: bbc-fulltext (document classification)/bbc/tech/134.txt  \n",
            "  inflating: bbc-fulltext (document classification)/bbc/tech/135.txt  \n",
            "  inflating: bbc-fulltext (document classification)/bbc/tech/136.txt  \n",
            "  inflating: bbc-fulltext (document classification)/bbc/tech/137.txt  \n",
            "  inflating: bbc-fulltext (document classification)/bbc/tech/138.txt  \n",
            "  inflating: bbc-fulltext (document classification)/bbc/tech/139.txt  \n",
            "  inflating: bbc-fulltext (document classification)/bbc/tech/140.txt  \n",
            "  inflating: bbc-fulltext (document classification)/bbc/tech/141.txt  \n",
            "  inflating: bbc-fulltext (document classification)/bbc/tech/142.txt  \n",
            "  inflating: bbc-fulltext (document classification)/bbc/tech/143.txt  \n",
            "  inflating: bbc-fulltext (document classification)/bbc/tech/144.txt  \n",
            "  inflating: bbc-fulltext (document classification)/bbc/tech/145.txt  \n",
            "  inflating: bbc-fulltext (document classification)/bbc/tech/146.txt  \n",
            "  inflating: bbc-fulltext (document classification)/bbc/tech/147.txt  \n",
            "  inflating: bbc-fulltext (document classification)/bbc/tech/148.txt  \n",
            "  inflating: bbc-fulltext (document classification)/bbc/tech/149.txt  \n",
            "  inflating: bbc-fulltext (document classification)/bbc/tech/150.txt  \n",
            "  inflating: bbc-fulltext (document classification)/bbc/tech/151.txt  \n",
            "  inflating: bbc-fulltext (document classification)/bbc/tech/152.txt  \n",
            "  inflating: bbc-fulltext (document classification)/bbc/tech/153.txt  \n",
            "  inflating: bbc-fulltext (document classification)/bbc/tech/154.txt  \n",
            "  inflating: bbc-fulltext (document classification)/bbc/tech/155.txt  \n",
            "  inflating: bbc-fulltext (document classification)/bbc/tech/156.txt  \n",
            "  inflating: bbc-fulltext (document classification)/bbc/tech/157.txt  \n",
            "  inflating: bbc-fulltext (document classification)/bbc/tech/158.txt  \n",
            "  inflating: bbc-fulltext (document classification)/bbc/tech/159.txt  \n",
            "  inflating: bbc-fulltext (document classification)/bbc/tech/160.txt  \n",
            "  inflating: bbc-fulltext (document classification)/bbc/tech/161.txt  \n",
            "  inflating: bbc-fulltext (document classification)/bbc/tech/162.txt  \n",
            "  inflating: bbc-fulltext (document classification)/bbc/tech/163.txt  \n",
            "  inflating: bbc-fulltext (document classification)/bbc/tech/164.txt  \n",
            "  inflating: bbc-fulltext (document classification)/bbc/tech/165.txt  \n",
            "  inflating: bbc-fulltext (document classification)/bbc/tech/166.txt  \n",
            "  inflating: bbc-fulltext (document classification)/bbc/tech/167.txt  \n",
            "  inflating: bbc-fulltext (document classification)/bbc/tech/168.txt  \n",
            "  inflating: bbc-fulltext (document classification)/bbc/tech/169.txt  \n",
            "  inflating: bbc-fulltext (document classification)/bbc/tech/170.txt  \n",
            "  inflating: bbc-fulltext (document classification)/bbc/tech/171.txt  \n",
            "  inflating: bbc-fulltext (document classification)/bbc/tech/172.txt  \n",
            "  inflating: bbc-fulltext (document classification)/bbc/tech/173.txt  \n",
            "  inflating: bbc-fulltext (document classification)/bbc/tech/174.txt  \n",
            "  inflating: bbc-fulltext (document classification)/bbc/tech/175.txt  \n",
            "  inflating: bbc-fulltext (document classification)/bbc/tech/176.txt  \n",
            "  inflating: bbc-fulltext (document classification)/bbc/tech/177.txt  \n",
            "  inflating: bbc-fulltext (document classification)/bbc/tech/178.txt  \n",
            "  inflating: bbc-fulltext (document classification)/bbc/tech/179.txt  \n",
            "  inflating: bbc-fulltext (document classification)/bbc/tech/180.txt  \n",
            "  inflating: bbc-fulltext (document classification)/bbc/tech/181.txt  \n",
            "  inflating: bbc-fulltext (document classification)/bbc/tech/182.txt  \n",
            "  inflating: bbc-fulltext (document classification)/bbc/tech/183.txt  \n",
            "  inflating: bbc-fulltext (document classification)/bbc/tech/184.txt  \n",
            "  inflating: bbc-fulltext (document classification)/bbc/tech/185.txt  \n",
            "  inflating: bbc-fulltext (document classification)/bbc/tech/186.txt  \n",
            "  inflating: bbc-fulltext (document classification)/bbc/tech/187.txt  \n",
            "  inflating: bbc-fulltext (document classification)/bbc/tech/188.txt  \n",
            "  inflating: bbc-fulltext (document classification)/bbc/tech/189.txt  \n",
            "  inflating: bbc-fulltext (document classification)/bbc/tech/190.txt  \n",
            "  inflating: bbc-fulltext (document classification)/bbc/tech/191.txt  \n",
            "  inflating: bbc-fulltext (document classification)/bbc/tech/192.txt  \n",
            "  inflating: bbc-fulltext (document classification)/bbc/tech/193.txt  \n",
            "  inflating: bbc-fulltext (document classification)/bbc/tech/194.txt  \n",
            "  inflating: bbc-fulltext (document classification)/bbc/tech/195.txt  \n",
            "  inflating: bbc-fulltext (document classification)/bbc/tech/196.txt  \n",
            "  inflating: bbc-fulltext (document classification)/bbc/tech/197.txt  \n",
            "  inflating: bbc-fulltext (document classification)/bbc/tech/198.txt  \n",
            "  inflating: bbc-fulltext (document classification)/bbc/tech/199.txt  \n",
            "  inflating: bbc-fulltext (document classification)/bbc/tech/200.txt  \n",
            "  inflating: bbc-fulltext (document classification)/bbc/tech/201.txt  \n",
            "  inflating: bbc-fulltext (document classification)/bbc/tech/202.txt  \n",
            "  inflating: bbc-fulltext (document classification)/bbc/tech/203.txt  \n",
            "  inflating: bbc-fulltext (document classification)/bbc/tech/204.txt  \n",
            "  inflating: bbc-fulltext (document classification)/bbc/tech/205.txt  \n",
            "  inflating: bbc-fulltext (document classification)/bbc/tech/206.txt  \n",
            "  inflating: bbc-fulltext (document classification)/bbc/tech/207.txt  \n",
            "  inflating: bbc-fulltext (document classification)/bbc/tech/208.txt  \n",
            "  inflating: bbc-fulltext (document classification)/bbc/tech/209.txt  \n",
            "  inflating: bbc-fulltext (document classification)/bbc/tech/210.txt  \n",
            "  inflating: bbc-fulltext (document classification)/bbc/tech/211.txt  \n",
            "  inflating: bbc-fulltext (document classification)/bbc/tech/212.txt  \n",
            "  inflating: bbc-fulltext (document classification)/bbc/tech/213.txt  \n",
            "  inflating: bbc-fulltext (document classification)/bbc/tech/214.txt  \n",
            "  inflating: bbc-fulltext (document classification)/bbc/tech/215.txt  \n",
            "  inflating: bbc-fulltext (document classification)/bbc/tech/216.txt  \n",
            "  inflating: bbc-fulltext (document classification)/bbc/tech/217.txt  \n",
            "  inflating: bbc-fulltext (document classification)/bbc/tech/218.txt  \n",
            "  inflating: bbc-fulltext (document classification)/bbc/tech/219.txt  \n",
            "  inflating: bbc-fulltext (document classification)/bbc/tech/220.txt  \n",
            "  inflating: bbc-fulltext (document classification)/bbc/tech/221.txt  \n",
            "  inflating: bbc-fulltext (document classification)/bbc/tech/222.txt  \n",
            "  inflating: bbc-fulltext (document classification)/bbc/tech/223.txt  \n",
            "  inflating: bbc-fulltext (document classification)/bbc/tech/224.txt  \n",
            "  inflating: bbc-fulltext (document classification)/bbc/tech/225.txt  \n",
            "  inflating: bbc-fulltext (document classification)/bbc/tech/226.txt  \n",
            "  inflating: bbc-fulltext (document classification)/bbc/tech/227.txt  \n",
            "  inflating: bbc-fulltext (document classification)/bbc/tech/228.txt  \n",
            "  inflating: bbc-fulltext (document classification)/bbc/tech/229.txt  \n",
            "  inflating: bbc-fulltext (document classification)/bbc/tech/230.txt  \n",
            "  inflating: bbc-fulltext (document classification)/bbc/tech/231.txt  \n",
            "  inflating: bbc-fulltext (document classification)/bbc/tech/232.txt  \n",
            "  inflating: bbc-fulltext (document classification)/bbc/tech/233.txt  \n",
            "  inflating: bbc-fulltext (document classification)/bbc/tech/234.txt  \n",
            "  inflating: bbc-fulltext (document classification)/bbc/tech/235.txt  \n",
            "  inflating: bbc-fulltext (document classification)/bbc/tech/236.txt  \n",
            "  inflating: bbc-fulltext (document classification)/bbc/tech/237.txt  \n",
            "  inflating: bbc-fulltext (document classification)/bbc/tech/238.txt  \n",
            "  inflating: bbc-fulltext (document classification)/bbc/tech/239.txt  \n",
            "  inflating: bbc-fulltext (document classification)/bbc/tech/240.txt  \n",
            "  inflating: bbc-fulltext (document classification)/bbc/tech/241.txt  \n",
            "  inflating: bbc-fulltext (document classification)/bbc/tech/242.txt  \n",
            "  inflating: bbc-fulltext (document classification)/bbc/tech/243.txt  \n",
            "  inflating: bbc-fulltext (document classification)/bbc/tech/244.txt  \n",
            "  inflating: bbc-fulltext (document classification)/bbc/tech/245.txt  \n",
            "  inflating: bbc-fulltext (document classification)/bbc/tech/246.txt  \n",
            "  inflating: bbc-fulltext (document classification)/bbc/tech/247.txt  \n",
            "  inflating: bbc-fulltext (document classification)/bbc/tech/248.txt  \n",
            "  inflating: bbc-fulltext (document classification)/bbc/tech/249.txt  \n",
            "  inflating: bbc-fulltext (document classification)/bbc/tech/250.txt  \n",
            "  inflating: bbc-fulltext (document classification)/bbc/tech/251.txt  \n",
            "  inflating: bbc-fulltext (document classification)/bbc/tech/252.txt  \n",
            "  inflating: bbc-fulltext (document classification)/bbc/tech/253.txt  \n",
            "  inflating: bbc-fulltext (document classification)/bbc/tech/254.txt  \n",
            "  inflating: bbc-fulltext (document classification)/bbc/tech/255.txt  \n",
            "  inflating: bbc-fulltext (document classification)/bbc/tech/256.txt  \n",
            "  inflating: bbc-fulltext (document classification)/bbc/tech/257.txt  \n",
            "  inflating: bbc-fulltext (document classification)/bbc/tech/258.txt  \n",
            "  inflating: bbc-fulltext (document classification)/bbc/tech/259.txt  \n",
            "  inflating: bbc-fulltext (document classification)/bbc/tech/260.txt  \n",
            "  inflating: bbc-fulltext (document classification)/bbc/tech/261.txt  \n",
            "  inflating: bbc-fulltext (document classification)/bbc/tech/262.txt  \n",
            "  inflating: bbc-fulltext (document classification)/bbc/tech/263.txt  \n",
            "  inflating: bbc-fulltext (document classification)/bbc/tech/264.txt  \n",
            "  inflating: bbc-fulltext (document classification)/bbc/tech/265.txt  \n",
            "  inflating: bbc-fulltext (document classification)/bbc/tech/266.txt  \n",
            "  inflating: bbc-fulltext (document classification)/bbc/tech/267.txt  \n",
            "  inflating: bbc-fulltext (document classification)/bbc/tech/268.txt  \n",
            "  inflating: bbc-fulltext (document classification)/bbc/tech/269.txt  \n",
            "  inflating: bbc-fulltext (document classification)/bbc/tech/270.txt  \n",
            "  inflating: bbc-fulltext (document classification)/bbc/tech/271.txt  \n",
            "  inflating: bbc-fulltext (document classification)/bbc/tech/272.txt  \n",
            "  inflating: bbc-fulltext (document classification)/bbc/tech/273.txt  \n",
            "  inflating: bbc-fulltext (document classification)/bbc/tech/274.txt  \n",
            "  inflating: bbc-fulltext (document classification)/bbc/tech/275.txt  \n",
            "  inflating: bbc-fulltext (document classification)/bbc/tech/276.txt  \n",
            "  inflating: bbc-fulltext (document classification)/bbc/tech/277.txt  \n",
            "  inflating: bbc-fulltext (document classification)/bbc/tech/278.txt  \n",
            "  inflating: bbc-fulltext (document classification)/bbc/tech/279.txt  \n",
            "  inflating: bbc-fulltext (document classification)/bbc/tech/280.txt  \n",
            "  inflating: bbc-fulltext (document classification)/bbc/tech/281.txt  \n",
            "  inflating: bbc-fulltext (document classification)/bbc/tech/282.txt  \n",
            "  inflating: bbc-fulltext (document classification)/bbc/tech/283.txt  \n",
            "  inflating: bbc-fulltext (document classification)/bbc/tech/284.txt  \n",
            "  inflating: bbc-fulltext (document classification)/bbc/tech/285.txt  \n",
            "  inflating: bbc-fulltext (document classification)/bbc/tech/286.txt  \n",
            "  inflating: bbc-fulltext (document classification)/bbc/tech/287.txt  \n",
            "  inflating: bbc-fulltext (document classification)/bbc/tech/288.txt  \n",
            "  inflating: bbc-fulltext (document classification)/bbc/tech/289.txt  \n",
            "  inflating: bbc-fulltext (document classification)/bbc/tech/290.txt  \n",
            "  inflating: bbc-fulltext (document classification)/bbc/tech/291.txt  \n",
            "  inflating: bbc-fulltext (document classification)/bbc/tech/292.txt  \n",
            "  inflating: bbc-fulltext (document classification)/bbc/tech/293.txt  \n",
            "  inflating: bbc-fulltext (document classification)/bbc/tech/294.txt  \n",
            "  inflating: bbc-fulltext (document classification)/bbc/tech/295.txt  \n",
            "  inflating: bbc-fulltext (document classification)/bbc/tech/296.txt  \n",
            "  inflating: bbc-fulltext (document classification)/bbc/tech/297.txt  \n",
            "  inflating: bbc-fulltext (document classification)/bbc/tech/298.txt  \n",
            "  inflating: bbc-fulltext (document classification)/bbc/tech/299.txt  \n",
            "  inflating: bbc-fulltext (document classification)/bbc/tech/300.txt  \n",
            "  inflating: bbc-fulltext (document classification)/bbc/tech/301.txt  \n",
            "  inflating: bbc-fulltext (document classification)/bbc/tech/302.txt  \n",
            "  inflating: bbc-fulltext (document classification)/bbc/tech/303.txt  \n",
            "  inflating: bbc-fulltext (document classification)/bbc/tech/304.txt  \n",
            "  inflating: bbc-fulltext (document classification)/bbc/tech/305.txt  \n",
            "  inflating: bbc-fulltext (document classification)/bbc/tech/306.txt  \n",
            "  inflating: bbc-fulltext (document classification)/bbc/tech/307.txt  \n",
            "  inflating: bbc-fulltext (document classification)/bbc/tech/308.txt  \n",
            "  inflating: bbc-fulltext (document classification)/bbc/tech/309.txt  \n",
            "  inflating: bbc-fulltext (document classification)/bbc/tech/310.txt  \n",
            "  inflating: bbc-fulltext (document classification)/bbc/tech/311.txt  \n",
            "  inflating: bbc-fulltext (document classification)/bbc/tech/312.txt  \n",
            "  inflating: bbc-fulltext (document classification)/bbc/tech/313.txt  \n",
            "  inflating: bbc-fulltext (document classification)/bbc/tech/314.txt  \n",
            "  inflating: bbc-fulltext (document classification)/bbc/tech/315.txt  \n",
            "  inflating: bbc-fulltext (document classification)/bbc/tech/316.txt  \n",
            "  inflating: bbc-fulltext (document classification)/bbc/tech/317.txt  \n",
            "  inflating: bbc-fulltext (document classification)/bbc/tech/318.txt  \n",
            "  inflating: bbc-fulltext (document classification)/bbc/tech/319.txt  \n",
            "  inflating: bbc-fulltext (document classification)/bbc/tech/320.txt  \n",
            "  inflating: bbc-fulltext (document classification)/bbc/tech/321.txt  \n",
            "  inflating: bbc-fulltext (document classification)/bbc/tech/322.txt  \n",
            "  inflating: bbc-fulltext (document classification)/bbc/tech/323.txt  \n",
            "  inflating: bbc-fulltext (document classification)/bbc/tech/324.txt  \n",
            "  inflating: bbc-fulltext (document classification)/bbc/tech/325.txt  \n",
            "  inflating: bbc-fulltext (document classification)/bbc/tech/326.txt  \n",
            "  inflating: bbc-fulltext (document classification)/bbc/tech/327.txt  \n",
            "  inflating: bbc-fulltext (document classification)/bbc/tech/328.txt  \n",
            "  inflating: bbc-fulltext (document classification)/bbc/tech/329.txt  \n",
            "  inflating: bbc-fulltext (document classification)/bbc/tech/330.txt  \n",
            "  inflating: bbc-fulltext (document classification)/bbc/tech/331.txt  \n",
            "  inflating: bbc-fulltext (document classification)/bbc/tech/332.txt  \n",
            "  inflating: bbc-fulltext (document classification)/bbc/tech/333.txt  \n",
            "  inflating: bbc-fulltext (document classification)/bbc/tech/334.txt  \n",
            "  inflating: bbc-fulltext (document classification)/bbc/tech/335.txt  \n",
            "  inflating: bbc-fulltext (document classification)/bbc/tech/336.txt  \n",
            "  inflating: bbc-fulltext (document classification)/bbc/tech/337.txt  \n",
            "  inflating: bbc-fulltext (document classification)/bbc/tech/338.txt  \n",
            "  inflating: bbc-fulltext (document classification)/bbc/tech/339.txt  \n",
            "  inflating: bbc-fulltext (document classification)/bbc/tech/340.txt  \n",
            "  inflating: bbc-fulltext (document classification)/bbc/tech/341.txt  \n",
            "  inflating: bbc-fulltext (document classification)/bbc/tech/342.txt  \n",
            "  inflating: bbc-fulltext (document classification)/bbc/tech/343.txt  \n",
            "  inflating: bbc-fulltext (document classification)/bbc/tech/344.txt  \n",
            "  inflating: bbc-fulltext (document classification)/bbc/tech/345.txt  \n",
            "  inflating: bbc-fulltext (document classification)/bbc/tech/346.txt  \n",
            "  inflating: bbc-fulltext (document classification)/bbc/tech/347.txt  \n",
            "  inflating: bbc-fulltext (document classification)/bbc/tech/348.txt  \n",
            "  inflating: bbc-fulltext (document classification)/bbc/tech/349.txt  \n",
            "  inflating: bbc-fulltext (document classification)/bbc/tech/350.txt  \n",
            "  inflating: bbc-fulltext (document classification)/bbc/tech/351.txt  \n",
            "  inflating: bbc-fulltext (document classification)/bbc/tech/352.txt  \n",
            "  inflating: bbc-fulltext (document classification)/bbc/tech/353.txt  \n",
            "  inflating: bbc-fulltext (document classification)/bbc/tech/354.txt  \n",
            "  inflating: bbc-fulltext (document classification)/bbc/tech/355.txt  \n",
            "  inflating: bbc-fulltext (document classification)/bbc/tech/356.txt  \n",
            "  inflating: bbc-fulltext (document classification)/bbc/tech/357.txt  \n",
            "  inflating: bbc-fulltext (document classification)/bbc/tech/358.txt  \n",
            "  inflating: bbc-fulltext (document classification)/bbc/tech/359.txt  \n",
            "  inflating: bbc-fulltext (document classification)/bbc/tech/360.txt  \n",
            "  inflating: bbc-fulltext (document classification)/bbc/tech/361.txt  \n",
            "  inflating: bbc-fulltext (document classification)/bbc/tech/362.txt  \n",
            "  inflating: bbc-fulltext (document classification)/bbc/tech/363.txt  \n",
            "  inflating: bbc-fulltext (document classification)/bbc/tech/364.txt  \n",
            "  inflating: bbc-fulltext (document classification)/bbc/tech/365.txt  \n",
            "  inflating: bbc-fulltext (document classification)/bbc/tech/366.txt  \n",
            "  inflating: bbc-fulltext (document classification)/bbc/tech/367.txt  \n",
            "  inflating: bbc-fulltext (document classification)/bbc/tech/368.txt  \n",
            "  inflating: bbc-fulltext (document classification)/bbc/tech/369.txt  \n",
            "  inflating: bbc-fulltext (document classification)/bbc/tech/370.txt  \n",
            "  inflating: bbc-fulltext (document classification)/bbc/tech/371.txt  \n",
            "  inflating: bbc-fulltext (document classification)/bbc/tech/372.txt  \n",
            "  inflating: bbc-fulltext (document classification)/bbc/tech/373.txt  \n",
            "  inflating: bbc-fulltext (document classification)/bbc/tech/374.txt  \n",
            "  inflating: bbc-fulltext (document classification)/bbc/tech/375.txt  \n",
            "  inflating: bbc-fulltext (document classification)/bbc/tech/376.txt  \n",
            "  inflating: bbc-fulltext (document classification)/bbc/tech/377.txt  \n",
            "  inflating: bbc-fulltext (document classification)/bbc/tech/378.txt  \n",
            "  inflating: bbc-fulltext (document classification)/bbc/tech/379.txt  \n",
            "  inflating: bbc-fulltext (document classification)/bbc/tech/380.txt  \n",
            "  inflating: bbc-fulltext (document classification)/bbc/tech/381.txt  \n",
            "  inflating: bbc-fulltext (document classification)/bbc/tech/382.txt  \n",
            "  inflating: bbc-fulltext (document classification)/bbc/tech/383.txt  \n",
            "  inflating: bbc-fulltext (document classification)/bbc/tech/384.txt  \n",
            "  inflating: bbc-fulltext (document classification)/bbc/tech/385.txt  \n",
            "  inflating: bbc-fulltext (document classification)/bbc/tech/386.txt  \n",
            "  inflating: bbc-fulltext (document classification)/bbc/tech/387.txt  \n",
            "  inflating: bbc-fulltext (document classification)/bbc/tech/388.txt  \n",
            "  inflating: bbc-fulltext (document classification)/bbc/tech/389.txt  \n",
            "  inflating: bbc-fulltext (document classification)/bbc/tech/390.txt  \n",
            "  inflating: bbc-fulltext (document classification)/bbc/tech/391.txt  \n",
            "  inflating: bbc-fulltext (document classification)/bbc/tech/392.txt  \n",
            "  inflating: bbc-fulltext (document classification)/bbc/tech/393.txt  \n",
            "  inflating: bbc-fulltext (document classification)/bbc/tech/394.txt  \n",
            "  inflating: bbc-fulltext (document classification)/bbc/tech/395.txt  \n",
            "  inflating: bbc-fulltext (document classification)/bbc/tech/396.txt  \n",
            "  inflating: bbc-fulltext (document classification)/bbc/tech/397.txt  \n",
            "  inflating: bbc-fulltext (document classification)/bbc/tech/398.txt  \n",
            "  inflating: bbc-fulltext (document classification)/bbc/tech/399.txt  \n",
            "  inflating: bbc-fulltext (document classification)/bbc/tech/400.txt  \n",
            "  inflating: bbc-fulltext (document classification)/bbc/tech/401.txt  \n",
            "  inflating: bbc/README.TXT          \n",
            "  inflating: bbc/business/001.txt    \n",
            "  inflating: bbc/business/002.txt    \n",
            "  inflating: bbc/business/003.txt    \n",
            "  inflating: bbc/business/004.txt    \n",
            "  inflating: bbc/business/005.txt    \n",
            "  inflating: bbc/business/006.txt    \n",
            "  inflating: bbc/business/007.txt    \n",
            "  inflating: bbc/business/008.txt    \n",
            "  inflating: bbc/business/009.txt    \n",
            "  inflating: bbc/business/010.txt    \n",
            "  inflating: bbc/business/011.txt    \n",
            "  inflating: bbc/business/012.txt    \n",
            "  inflating: bbc/business/013.txt    \n",
            "  inflating: bbc/business/014.txt    \n",
            "  inflating: bbc/business/015.txt    \n",
            "  inflating: bbc/business/016.txt    \n",
            "  inflating: bbc/business/017.txt    \n",
            "  inflating: bbc/business/018.txt    \n",
            "  inflating: bbc/business/019.txt    \n",
            "  inflating: bbc/business/020.txt    \n",
            "  inflating: bbc/business/021.txt    \n",
            "  inflating: bbc/business/022.txt    \n",
            "  inflating: bbc/business/023.txt    \n",
            "  inflating: bbc/business/024.txt    \n",
            "  inflating: bbc/business/025.txt    \n",
            "  inflating: bbc/business/026.txt    \n",
            "  inflating: bbc/business/027.txt    \n",
            "  inflating: bbc/business/028.txt    \n",
            "  inflating: bbc/business/029.txt    \n",
            "  inflating: bbc/business/030.txt    \n",
            "  inflating: bbc/business/031.txt    \n",
            "  inflating: bbc/business/032.txt    \n",
            "  inflating: bbc/business/033.txt    \n",
            "  inflating: bbc/business/034.txt    \n",
            "  inflating: bbc/business/035.txt    \n",
            "  inflating: bbc/business/036.txt    \n",
            "  inflating: bbc/business/037.txt    \n",
            "  inflating: bbc/business/038.txt    \n",
            "  inflating: bbc/business/039.txt    \n",
            "  inflating: bbc/business/040.txt    \n",
            "  inflating: bbc/business/041.txt    \n",
            "  inflating: bbc/business/042.txt    \n",
            "  inflating: bbc/business/043.txt    \n",
            "  inflating: bbc/business/044.txt    \n",
            "  inflating: bbc/business/045.txt    \n",
            "  inflating: bbc/business/046.txt    \n",
            "  inflating: bbc/business/047.txt    \n",
            "  inflating: bbc/business/048.txt    \n",
            "  inflating: bbc/business/049.txt    \n",
            "  inflating: bbc/business/050.txt    \n",
            "  inflating: bbc/business/051.txt    \n",
            "  inflating: bbc/business/052.txt    \n",
            "  inflating: bbc/business/053.txt    \n",
            "  inflating: bbc/business/054.txt    \n",
            "  inflating: bbc/business/055.txt    \n",
            "  inflating: bbc/business/056.txt    \n",
            "  inflating: bbc/business/057.txt    \n",
            "  inflating: bbc/business/058.txt    \n",
            "  inflating: bbc/business/059.txt    \n",
            "  inflating: bbc/business/060.txt    \n",
            "  inflating: bbc/business/061.txt    \n",
            "  inflating: bbc/business/062.txt    \n",
            "  inflating: bbc/business/063.txt    \n",
            "  inflating: bbc/business/064.txt    \n",
            "  inflating: bbc/business/065.txt    \n",
            "  inflating: bbc/business/066.txt    \n",
            "  inflating: bbc/business/067.txt    \n",
            "  inflating: bbc/business/068.txt    \n",
            "  inflating: bbc/business/069.txt    \n",
            "  inflating: bbc/business/070.txt    \n",
            "  inflating: bbc/business/071.txt    \n",
            "  inflating: bbc/business/072.txt    \n",
            "  inflating: bbc/business/073.txt    \n",
            "  inflating: bbc/business/074.txt    \n",
            "  inflating: bbc/business/075.txt    \n",
            "  inflating: bbc/business/076.txt    \n",
            "  inflating: bbc/business/077.txt    \n",
            "  inflating: bbc/business/078.txt    \n",
            "  inflating: bbc/business/079.txt    \n",
            "  inflating: bbc/business/080.txt    \n",
            "  inflating: bbc/business/081.txt    \n",
            "  inflating: bbc/business/082.txt    \n",
            "  inflating: bbc/business/083.txt    \n",
            "  inflating: bbc/business/084.txt    \n",
            "  inflating: bbc/business/085.txt    \n",
            "  inflating: bbc/business/086.txt    \n",
            "  inflating: bbc/business/087.txt    \n",
            "  inflating: bbc/business/088.txt    \n",
            "  inflating: bbc/business/089.txt    \n",
            "  inflating: bbc/business/090.txt    \n",
            "  inflating: bbc/business/091.txt    \n",
            "  inflating: bbc/business/092.txt    \n",
            "  inflating: bbc/business/093.txt    \n",
            "  inflating: bbc/business/094.txt    \n",
            "  inflating: bbc/business/095.txt    \n",
            "  inflating: bbc/business/096.txt    \n",
            "  inflating: bbc/business/097.txt    \n",
            "  inflating: bbc/business/098.txt    \n",
            "  inflating: bbc/business/099.txt    \n",
            "  inflating: bbc/business/100.txt    \n",
            "  inflating: bbc/business/101.txt    \n",
            "  inflating: bbc/business/102.txt    \n",
            "  inflating: bbc/business/103.txt    \n",
            "  inflating: bbc/business/104.txt    \n",
            "  inflating: bbc/business/105.txt    \n",
            "  inflating: bbc/business/106.txt    \n",
            "  inflating: bbc/business/107.txt    \n",
            "  inflating: bbc/business/108.txt    \n",
            "  inflating: bbc/business/109.txt    \n",
            "  inflating: bbc/business/110.txt    \n",
            "  inflating: bbc/business/111.txt    \n",
            "  inflating: bbc/business/112.txt    \n",
            "  inflating: bbc/business/113.txt    \n",
            "  inflating: bbc/business/114.txt    \n",
            "  inflating: bbc/business/115.txt    \n",
            "  inflating: bbc/business/116.txt    \n",
            "  inflating: bbc/business/117.txt    \n",
            "  inflating: bbc/business/118.txt    \n",
            "  inflating: bbc/business/119.txt    \n",
            "  inflating: bbc/business/120.txt    \n",
            "  inflating: bbc/business/121.txt    \n",
            "  inflating: bbc/business/122.txt    \n",
            "  inflating: bbc/business/123.txt    \n",
            "  inflating: bbc/business/124.txt    \n",
            "  inflating: bbc/business/125.txt    \n",
            "  inflating: bbc/business/126.txt    \n",
            "  inflating: bbc/business/127.txt    \n",
            "  inflating: bbc/business/128.txt    \n",
            "  inflating: bbc/business/129.txt    \n",
            "  inflating: bbc/business/130.txt    \n",
            "  inflating: bbc/business/131.txt    \n",
            "  inflating: bbc/business/132.txt    \n",
            "  inflating: bbc/business/133.txt    \n",
            "  inflating: bbc/business/134.txt    \n",
            "  inflating: bbc/business/135.txt    \n",
            "  inflating: bbc/business/136.txt    \n",
            "  inflating: bbc/business/137.txt    \n",
            "  inflating: bbc/business/138.txt    \n",
            "  inflating: bbc/business/139.txt    \n",
            "  inflating: bbc/business/140.txt    \n",
            "  inflating: bbc/business/141.txt    \n",
            "  inflating: bbc/business/142.txt    \n",
            "  inflating: bbc/business/143.txt    \n",
            "  inflating: bbc/business/144.txt    \n",
            "  inflating: bbc/business/145.txt    \n",
            "  inflating: bbc/business/146.txt    \n",
            "  inflating: bbc/business/147.txt    \n",
            "  inflating: bbc/business/148.txt    \n",
            "  inflating: bbc/business/149.txt    \n",
            "  inflating: bbc/business/150.txt    \n",
            "  inflating: bbc/business/151.txt    \n",
            "  inflating: bbc/business/152.txt    \n",
            "  inflating: bbc/business/153.txt    \n",
            "  inflating: bbc/business/154.txt    \n",
            "  inflating: bbc/business/155.txt    \n",
            "  inflating: bbc/business/156.txt    \n",
            "  inflating: bbc/business/157.txt    \n",
            "  inflating: bbc/business/158.txt    \n",
            "  inflating: bbc/business/159.txt    \n",
            "  inflating: bbc/business/160.txt    \n",
            "  inflating: bbc/business/161.txt    \n",
            "  inflating: bbc/business/162.txt    \n",
            "  inflating: bbc/business/163.txt    \n",
            "  inflating: bbc/business/164.txt    \n",
            "  inflating: bbc/business/165.txt    \n",
            "  inflating: bbc/business/166.txt    \n",
            "  inflating: bbc/business/167.txt    \n",
            "  inflating: bbc/business/168.txt    \n",
            "  inflating: bbc/business/169.txt    \n",
            "  inflating: bbc/business/170.txt    \n",
            "  inflating: bbc/business/171.txt    \n",
            "  inflating: bbc/business/172.txt    \n",
            "  inflating: bbc/business/173.txt    \n",
            "  inflating: bbc/business/174.txt    \n",
            "  inflating: bbc/business/175.txt    \n",
            "  inflating: bbc/business/176.txt    \n",
            "  inflating: bbc/business/177.txt    \n",
            "  inflating: bbc/business/178.txt    \n",
            "  inflating: bbc/business/179.txt    \n",
            "  inflating: bbc/business/180.txt    \n",
            "  inflating: bbc/business/181.txt    \n",
            "  inflating: bbc/business/182.txt    \n",
            "  inflating: bbc/business/183.txt    \n",
            "  inflating: bbc/business/184.txt    \n",
            "  inflating: bbc/business/185.txt    \n",
            "  inflating: bbc/business/186.txt    \n",
            "  inflating: bbc/business/187.txt    \n",
            "  inflating: bbc/business/188.txt    \n",
            "  inflating: bbc/business/189.txt    \n",
            "  inflating: bbc/business/190.txt    \n",
            "  inflating: bbc/business/191.txt    \n",
            "  inflating: bbc/business/192.txt    \n",
            "  inflating: bbc/business/193.txt    \n",
            "  inflating: bbc/business/194.txt    \n",
            "  inflating: bbc/business/195.txt    \n",
            "  inflating: bbc/business/196.txt    \n",
            "  inflating: bbc/business/197.txt    \n",
            "  inflating: bbc/business/198.txt    \n",
            "  inflating: bbc/business/199.txt    \n",
            "  inflating: bbc/business/200.txt    \n",
            "  inflating: bbc/business/201.txt    \n",
            "  inflating: bbc/business/202.txt    \n",
            "  inflating: bbc/business/203.txt    \n",
            "  inflating: bbc/business/204.txt    \n",
            "  inflating: bbc/business/205.txt    \n",
            "  inflating: bbc/business/206.txt    \n",
            "  inflating: bbc/business/207.txt    \n",
            "  inflating: bbc/business/208.txt    \n",
            "  inflating: bbc/business/209.txt    \n",
            "  inflating: bbc/business/210.txt    \n",
            "  inflating: bbc/business/211.txt    \n",
            "  inflating: bbc/business/212.txt    \n",
            "  inflating: bbc/business/213.txt    \n",
            "  inflating: bbc/business/214.txt    \n",
            "  inflating: bbc/business/215.txt    \n",
            "  inflating: bbc/business/216.txt    \n",
            "  inflating: bbc/business/217.txt    \n",
            "  inflating: bbc/business/218.txt    \n",
            "  inflating: bbc/business/219.txt    \n",
            "  inflating: bbc/business/220.txt    \n",
            "  inflating: bbc/business/221.txt    \n",
            "  inflating: bbc/business/222.txt    \n",
            "  inflating: bbc/business/223.txt    \n",
            "  inflating: bbc/business/224.txt    \n",
            "  inflating: bbc/business/225.txt    \n",
            "  inflating: bbc/business/226.txt    \n",
            "  inflating: bbc/business/227.txt    \n",
            "  inflating: bbc/business/228.txt    \n",
            "  inflating: bbc/business/229.txt    \n",
            "  inflating: bbc/business/230.txt    \n",
            "  inflating: bbc/business/231.txt    \n",
            "  inflating: bbc/business/232.txt    \n",
            "  inflating: bbc/business/233.txt    \n",
            "  inflating: bbc/business/234.txt    \n",
            "  inflating: bbc/business/235.txt    \n",
            "  inflating: bbc/business/236.txt    \n",
            "  inflating: bbc/business/237.txt    \n",
            "  inflating: bbc/business/238.txt    \n",
            "  inflating: bbc/business/239.txt    \n",
            "  inflating: bbc/business/240.txt    \n",
            "  inflating: bbc/business/241.txt    \n",
            "  inflating: bbc/business/242.txt    \n",
            "  inflating: bbc/business/243.txt    \n",
            "  inflating: bbc/business/244.txt    \n",
            "  inflating: bbc/business/245.txt    \n",
            "  inflating: bbc/business/246.txt    \n",
            "  inflating: bbc/business/247.txt    \n",
            "  inflating: bbc/business/248.txt    \n",
            "  inflating: bbc/business/249.txt    \n",
            "  inflating: bbc/business/250.txt    \n",
            "  inflating: bbc/business/251.txt    \n",
            "  inflating: bbc/business/252.txt    \n",
            "  inflating: bbc/business/253.txt    \n",
            "  inflating: bbc/business/254.txt    \n",
            "  inflating: bbc/business/255.txt    \n",
            "  inflating: bbc/business/256.txt    \n",
            "  inflating: bbc/business/257.txt    \n",
            "  inflating: bbc/business/258.txt    \n",
            "  inflating: bbc/business/259.txt    \n",
            "  inflating: bbc/business/260.txt    \n",
            "  inflating: bbc/business/261.txt    \n",
            "  inflating: bbc/business/262.txt    \n",
            "  inflating: bbc/business/263.txt    \n",
            "  inflating: bbc/business/264.txt    \n",
            "  inflating: bbc/business/265.txt    \n",
            "  inflating: bbc/business/266.txt    \n",
            "  inflating: bbc/business/267.txt    \n",
            "  inflating: bbc/business/268.txt    \n",
            "  inflating: bbc/business/269.txt    \n",
            "  inflating: bbc/business/270.txt    \n",
            "  inflating: bbc/business/271.txt    \n",
            "  inflating: bbc/business/272.txt    \n",
            "  inflating: bbc/business/273.txt    \n",
            "  inflating: bbc/business/274.txt    \n",
            "  inflating: bbc/business/275.txt    \n",
            "  inflating: bbc/business/276.txt    \n",
            "  inflating: bbc/business/277.txt    \n",
            "  inflating: bbc/business/278.txt    \n",
            "  inflating: bbc/business/279.txt    \n",
            "  inflating: bbc/business/280.txt    \n",
            "  inflating: bbc/business/281.txt    \n",
            "  inflating: bbc/business/282.txt    \n",
            "  inflating: bbc/business/283.txt    \n",
            "  inflating: bbc/business/284.txt    \n",
            "  inflating: bbc/business/285.txt    \n",
            "  inflating: bbc/business/286.txt    \n",
            "  inflating: bbc/business/287.txt    \n",
            "  inflating: bbc/business/288.txt    \n",
            "  inflating: bbc/business/289.txt    \n",
            "  inflating: bbc/business/290.txt    \n",
            "  inflating: bbc/business/291.txt    \n",
            "  inflating: bbc/business/292.txt    \n",
            "  inflating: bbc/business/293.txt    \n",
            "  inflating: bbc/business/294.txt    \n",
            "  inflating: bbc/business/295.txt    \n",
            "  inflating: bbc/business/296.txt    \n",
            "  inflating: bbc/business/297.txt    \n",
            "  inflating: bbc/business/298.txt    \n",
            "  inflating: bbc/business/299.txt    \n",
            "  inflating: bbc/business/300.txt    \n",
            "  inflating: bbc/business/301.txt    \n",
            "  inflating: bbc/business/302.txt    \n",
            "  inflating: bbc/business/303.txt    \n",
            "  inflating: bbc/business/304.txt    \n",
            "  inflating: bbc/business/305.txt    \n",
            "  inflating: bbc/business/306.txt    \n",
            "  inflating: bbc/business/307.txt    \n",
            "  inflating: bbc/business/308.txt    \n",
            "  inflating: bbc/business/309.txt    \n",
            "  inflating: bbc/business/310.txt    \n",
            "  inflating: bbc/business/311.txt    \n",
            "  inflating: bbc/business/312.txt    \n",
            "  inflating: bbc/business/313.txt    \n",
            "  inflating: bbc/business/314.txt    \n",
            "  inflating: bbc/business/315.txt    \n",
            "  inflating: bbc/business/316.txt    \n",
            "  inflating: bbc/business/317.txt    \n",
            "  inflating: bbc/business/318.txt    \n",
            "  inflating: bbc/business/319.txt    \n",
            "  inflating: bbc/business/320.txt    \n",
            "  inflating: bbc/business/321.txt    \n",
            "  inflating: bbc/business/322.txt    \n",
            "  inflating: bbc/business/323.txt    \n",
            "  inflating: bbc/business/324.txt    \n",
            "  inflating: bbc/business/325.txt    \n",
            "  inflating: bbc/business/326.txt    \n",
            "  inflating: bbc/business/327.txt    \n",
            "  inflating: bbc/business/328.txt    \n",
            "  inflating: bbc/business/329.txt    \n",
            "  inflating: bbc/business/330.txt    \n",
            "  inflating: bbc/business/331.txt    \n",
            "  inflating: bbc/business/332.txt    \n",
            "  inflating: bbc/business/333.txt    \n",
            "  inflating: bbc/business/334.txt    \n",
            "  inflating: bbc/business/335.txt    \n",
            "  inflating: bbc/business/336.txt    \n",
            "  inflating: bbc/business/337.txt    \n",
            "  inflating: bbc/business/338.txt    \n",
            "  inflating: bbc/business/339.txt    \n",
            "  inflating: bbc/business/340.txt    \n",
            "  inflating: bbc/business/341.txt    \n",
            "  inflating: bbc/business/342.txt    \n",
            "  inflating: bbc/business/343.txt    \n",
            "  inflating: bbc/business/344.txt    \n",
            "  inflating: bbc/business/345.txt    \n",
            "  inflating: bbc/business/346.txt    \n",
            "  inflating: bbc/business/347.txt    \n",
            "  inflating: bbc/business/348.txt    \n",
            "  inflating: bbc/business/349.txt    \n",
            "  inflating: bbc/business/350.txt    \n",
            "  inflating: bbc/business/351.txt    \n",
            "  inflating: bbc/business/352.txt    \n",
            "  inflating: bbc/business/353.txt    \n",
            "  inflating: bbc/business/354.txt    \n",
            "  inflating: bbc/business/355.txt    \n",
            "  inflating: bbc/business/356.txt    \n",
            "  inflating: bbc/business/357.txt    \n",
            "  inflating: bbc/business/358.txt    \n",
            "  inflating: bbc/business/359.txt    \n",
            "  inflating: bbc/business/360.txt    \n",
            "  inflating: bbc/business/361.txt    \n",
            "  inflating: bbc/business/362.txt    \n",
            "  inflating: bbc/business/363.txt    \n",
            "  inflating: bbc/business/364.txt    \n",
            "  inflating: bbc/business/365.txt    \n",
            "  inflating: bbc/business/366.txt    \n",
            "  inflating: bbc/business/367.txt    \n",
            "  inflating: bbc/business/368.txt    \n",
            "  inflating: bbc/business/369.txt    \n",
            "  inflating: bbc/business/370.txt    \n",
            "  inflating: bbc/business/371.txt    \n",
            "  inflating: bbc/business/372.txt    \n",
            "  inflating: bbc/business/373.txt    \n",
            "  inflating: bbc/business/374.txt    \n",
            "  inflating: bbc/business/375.txt    \n",
            "  inflating: bbc/business/376.txt    \n",
            "  inflating: bbc/business/377.txt    \n",
            "  inflating: bbc/business/378.txt    \n",
            "  inflating: bbc/business/379.txt    \n",
            "  inflating: bbc/business/380.txt    \n",
            "  inflating: bbc/business/381.txt    \n",
            "  inflating: bbc/business/382.txt    \n",
            "  inflating: bbc/business/383.txt    \n",
            "  inflating: bbc/business/384.txt    \n",
            "  inflating: bbc/business/385.txt    \n",
            "  inflating: bbc/business/386.txt    \n",
            "  inflating: bbc/business/387.txt    \n",
            "  inflating: bbc/business/388.txt    \n",
            "  inflating: bbc/business/389.txt    \n",
            "  inflating: bbc/business/390.txt    \n",
            "  inflating: bbc/business/391.txt    \n",
            "  inflating: bbc/business/392.txt    \n",
            "  inflating: bbc/business/393.txt    \n",
            "  inflating: bbc/business/394.txt    \n",
            "  inflating: bbc/business/395.txt    \n",
            "  inflating: bbc/business/396.txt    \n",
            "  inflating: bbc/business/397.txt    \n",
            "  inflating: bbc/business/398.txt    \n",
            "  inflating: bbc/business/399.txt    \n",
            "  inflating: bbc/business/400.txt    \n",
            "  inflating: bbc/business/401.txt    \n",
            "  inflating: bbc/business/402.txt    \n",
            "  inflating: bbc/business/403.txt    \n",
            "  inflating: bbc/business/404.txt    \n",
            "  inflating: bbc/business/405.txt    \n",
            "  inflating: bbc/business/406.txt    \n",
            "  inflating: bbc/business/407.txt    \n",
            "  inflating: bbc/business/408.txt    \n",
            "  inflating: bbc/business/409.txt    \n",
            "  inflating: bbc/business/410.txt    \n",
            "  inflating: bbc/business/411.txt    \n",
            "  inflating: bbc/business/412.txt    \n",
            "  inflating: bbc/business/413.txt    \n",
            "  inflating: bbc/business/414.txt    \n",
            "  inflating: bbc/business/415.txt    \n",
            "  inflating: bbc/business/416.txt    \n",
            "  inflating: bbc/business/417.txt    \n",
            "  inflating: bbc/business/418.txt    \n",
            "  inflating: bbc/business/419.txt    \n",
            "  inflating: bbc/business/420.txt    \n",
            "  inflating: bbc/business/421.txt    \n",
            "  inflating: bbc/business/422.txt    \n",
            "  inflating: bbc/business/423.txt    \n",
            "  inflating: bbc/business/424.txt    \n",
            "  inflating: bbc/business/425.txt    \n",
            "  inflating: bbc/business/426.txt    \n",
            "  inflating: bbc/business/427.txt    \n",
            "  inflating: bbc/business/428.txt    \n",
            "  inflating: bbc/business/429.txt    \n",
            "  inflating: bbc/business/430.txt    \n",
            "  inflating: bbc/business/431.txt    \n",
            "  inflating: bbc/business/432.txt    \n",
            "  inflating: bbc/business/433.txt    \n",
            "  inflating: bbc/business/434.txt    \n",
            "  inflating: bbc/business/435.txt    \n",
            "  inflating: bbc/business/436.txt    \n",
            "  inflating: bbc/business/437.txt    \n",
            "  inflating: bbc/business/438.txt    \n",
            "  inflating: bbc/business/439.txt    \n",
            "  inflating: bbc/business/440.txt    \n",
            "  inflating: bbc/business/441.txt    \n",
            "  inflating: bbc/business/442.txt    \n",
            "  inflating: bbc/business/443.txt    \n",
            "  inflating: bbc/business/444.txt    \n",
            "  inflating: bbc/business/445.txt    \n",
            "  inflating: bbc/business/446.txt    \n",
            "  inflating: bbc/business/447.txt    \n",
            "  inflating: bbc/business/448.txt    \n",
            "  inflating: bbc/business/449.txt    \n",
            "  inflating: bbc/business/450.txt    \n",
            "  inflating: bbc/business/451.txt    \n",
            "  inflating: bbc/business/452.txt    \n",
            "  inflating: bbc/business/453.txt    \n",
            "  inflating: bbc/business/454.txt    \n",
            "  inflating: bbc/business/455.txt    \n",
            "  inflating: bbc/business/456.txt    \n",
            "  inflating: bbc/business/457.txt    \n",
            "  inflating: bbc/business/458.txt    \n",
            "  inflating: bbc/business/459.txt    \n",
            "  inflating: bbc/business/460.txt    \n",
            "  inflating: bbc/business/461.txt    \n",
            "  inflating: bbc/business/462.txt    \n",
            "  inflating: bbc/business/463.txt    \n",
            "  inflating: bbc/business/464.txt    \n",
            "  inflating: bbc/business/465.txt    \n",
            "  inflating: bbc/business/466.txt    \n",
            "  inflating: bbc/business/467.txt    \n",
            "  inflating: bbc/business/468.txt    \n",
            "  inflating: bbc/business/469.txt    \n",
            "  inflating: bbc/business/470.txt    \n",
            "  inflating: bbc/business/471.txt    \n",
            "  inflating: bbc/business/472.txt    \n",
            "  inflating: bbc/business/473.txt    \n",
            "  inflating: bbc/business/474.txt    \n",
            "  inflating: bbc/business/475.txt    \n",
            "  inflating: bbc/business/476.txt    \n",
            "  inflating: bbc/business/477.txt    \n",
            "  inflating: bbc/business/478.txt    \n",
            "  inflating: bbc/business/479.txt    \n",
            "  inflating: bbc/business/480.txt    \n",
            "  inflating: bbc/business/481.txt    \n",
            "  inflating: bbc/business/482.txt    \n",
            "  inflating: bbc/business/483.txt    \n",
            "  inflating: bbc/business/484.txt    \n",
            "  inflating: bbc/business/485.txt    \n",
            "  inflating: bbc/business/486.txt    \n",
            "  inflating: bbc/business/487.txt    \n",
            "  inflating: bbc/business/488.txt    \n",
            "  inflating: bbc/business/489.txt    \n",
            "  inflating: bbc/business/490.txt    \n",
            "  inflating: bbc/business/491.txt    \n",
            "  inflating: bbc/business/492.txt    \n",
            "  inflating: bbc/business/493.txt    \n",
            "  inflating: bbc/business/494.txt    \n",
            "  inflating: bbc/business/495.txt    \n",
            "  inflating: bbc/business/496.txt    \n",
            "  inflating: bbc/business/497.txt    \n",
            "  inflating: bbc/business/498.txt    \n",
            "  inflating: bbc/business/499.txt    \n",
            "  inflating: bbc/business/500.txt    \n",
            "  inflating: bbc/business/501.txt    \n",
            "  inflating: bbc/business/502.txt    \n",
            "  inflating: bbc/business/503.txt    \n",
            "  inflating: bbc/business/504.txt    \n",
            "  inflating: bbc/business/505.txt    \n",
            "  inflating: bbc/business/506.txt    \n",
            "  inflating: bbc/business/507.txt    \n",
            "  inflating: bbc/business/508.txt    \n",
            "  inflating: bbc/business/509.txt    \n",
            "  inflating: bbc/business/510.txt    \n",
            "  inflating: bbc/entertainment/001.txt  \n",
            "  inflating: bbc/entertainment/002.txt  \n",
            "  inflating: bbc/entertainment/003.txt  \n",
            "  inflating: bbc/entertainment/004.txt  \n",
            "  inflating: bbc/entertainment/005.txt  \n",
            "  inflating: bbc/entertainment/006.txt  \n",
            "  inflating: bbc/entertainment/007.txt  \n",
            "  inflating: bbc/entertainment/008.txt  \n",
            "  inflating: bbc/entertainment/009.txt  \n",
            "  inflating: bbc/entertainment/010.txt  \n",
            "  inflating: bbc/entertainment/011.txt  \n",
            "  inflating: bbc/entertainment/012.txt  \n",
            "  inflating: bbc/entertainment/013.txt  \n",
            "  inflating: bbc/entertainment/014.txt  \n",
            "  inflating: bbc/entertainment/015.txt  \n",
            "  inflating: bbc/entertainment/016.txt  \n",
            "  inflating: bbc/entertainment/017.txt  \n",
            "  inflating: bbc/entertainment/018.txt  \n",
            "  inflating: bbc/entertainment/019.txt  \n",
            "  inflating: bbc/entertainment/020.txt  \n",
            "  inflating: bbc/entertainment/021.txt  \n",
            "  inflating: bbc/entertainment/022.txt  \n",
            "  inflating: bbc/entertainment/023.txt  \n",
            "  inflating: bbc/entertainment/024.txt  \n",
            "  inflating: bbc/entertainment/025.txt  \n",
            "  inflating: bbc/entertainment/026.txt  \n",
            "  inflating: bbc/entertainment/027.txt  \n",
            "  inflating: bbc/entertainment/028.txt  \n",
            "  inflating: bbc/entertainment/029.txt  \n",
            "  inflating: bbc/entertainment/030.txt  \n",
            "  inflating: bbc/entertainment/031.txt  \n",
            "  inflating: bbc/entertainment/032.txt  \n",
            "  inflating: bbc/entertainment/033.txt  \n",
            "  inflating: bbc/entertainment/034.txt  \n",
            "  inflating: bbc/entertainment/035.txt  \n",
            "  inflating: bbc/entertainment/036.txt  \n",
            "  inflating: bbc/entertainment/037.txt  \n",
            "  inflating: bbc/entertainment/038.txt  \n",
            "  inflating: bbc/entertainment/039.txt  \n",
            "  inflating: bbc/entertainment/040.txt  \n",
            "  inflating: bbc/entertainment/041.txt  \n",
            "  inflating: bbc/entertainment/042.txt  \n",
            "  inflating: bbc/entertainment/043.txt  \n",
            "  inflating: bbc/entertainment/044.txt  \n",
            "  inflating: bbc/entertainment/045.txt  \n",
            "  inflating: bbc/entertainment/046.txt  \n",
            "  inflating: bbc/entertainment/047.txt  \n",
            "  inflating: bbc/entertainment/048.txt  \n",
            "  inflating: bbc/entertainment/049.txt  \n",
            "  inflating: bbc/entertainment/050.txt  \n",
            "  inflating: bbc/entertainment/051.txt  \n",
            "  inflating: bbc/entertainment/052.txt  \n",
            "  inflating: bbc/entertainment/053.txt  \n",
            "  inflating: bbc/entertainment/054.txt  \n",
            "  inflating: bbc/entertainment/055.txt  \n",
            "  inflating: bbc/entertainment/056.txt  \n",
            "  inflating: bbc/entertainment/057.txt  \n",
            "  inflating: bbc/entertainment/058.txt  \n",
            "  inflating: bbc/entertainment/059.txt  \n",
            "  inflating: bbc/entertainment/060.txt  \n",
            "  inflating: bbc/entertainment/061.txt  \n",
            "  inflating: bbc/entertainment/062.txt  \n",
            "  inflating: bbc/entertainment/063.txt  \n",
            "  inflating: bbc/entertainment/064.txt  \n",
            "  inflating: bbc/entertainment/065.txt  \n",
            "  inflating: bbc/entertainment/066.txt  \n",
            "  inflating: bbc/entertainment/067.txt  \n",
            "  inflating: bbc/entertainment/068.txt  \n",
            "  inflating: bbc/entertainment/069.txt  \n",
            "  inflating: bbc/entertainment/070.txt  \n",
            "  inflating: bbc/entertainment/071.txt  \n",
            "  inflating: bbc/entertainment/072.txt  \n",
            "  inflating: bbc/entertainment/073.txt  \n",
            "  inflating: bbc/entertainment/074.txt  \n",
            "  inflating: bbc/entertainment/075.txt  \n",
            "  inflating: bbc/entertainment/076.txt  \n",
            "  inflating: bbc/entertainment/077.txt  \n",
            "  inflating: bbc/entertainment/078.txt  \n",
            "  inflating: bbc/entertainment/079.txt  \n",
            "  inflating: bbc/entertainment/080.txt  \n",
            "  inflating: bbc/entertainment/081.txt  \n",
            "  inflating: bbc/entertainment/082.txt  \n",
            "  inflating: bbc/entertainment/083.txt  \n",
            "  inflating: bbc/entertainment/084.txt  \n",
            "  inflating: bbc/entertainment/085.txt  \n",
            "  inflating: bbc/entertainment/086.txt  \n",
            "  inflating: bbc/entertainment/087.txt  \n",
            "  inflating: bbc/entertainment/088.txt  \n",
            "  inflating: bbc/entertainment/089.txt  \n",
            "  inflating: bbc/entertainment/090.txt  \n",
            "  inflating: bbc/entertainment/091.txt  \n",
            "  inflating: bbc/entertainment/092.txt  \n",
            "  inflating: bbc/entertainment/093.txt  \n",
            "  inflating: bbc/entertainment/094.txt  \n",
            "  inflating: bbc/entertainment/095.txt  \n",
            "  inflating: bbc/entertainment/096.txt  \n",
            "  inflating: bbc/entertainment/097.txt  \n",
            "  inflating: bbc/entertainment/098.txt  \n",
            "  inflating: bbc/entertainment/099.txt  \n",
            "  inflating: bbc/entertainment/100.txt  \n",
            "  inflating: bbc/entertainment/101.txt  \n",
            "  inflating: bbc/entertainment/102.txt  \n",
            "  inflating: bbc/entertainment/103.txt  \n",
            "  inflating: bbc/entertainment/104.txt  \n",
            "  inflating: bbc/entertainment/105.txt  \n",
            "  inflating: bbc/entertainment/106.txt  \n",
            "  inflating: bbc/entertainment/107.txt  \n",
            "  inflating: bbc/entertainment/108.txt  \n",
            "  inflating: bbc/entertainment/109.txt  \n",
            "  inflating: bbc/entertainment/110.txt  \n",
            "  inflating: bbc/entertainment/111.txt  \n",
            "  inflating: bbc/entertainment/112.txt  \n",
            "  inflating: bbc/entertainment/113.txt  \n",
            "  inflating: bbc/entertainment/114.txt  \n",
            "  inflating: bbc/entertainment/115.txt  \n",
            "  inflating: bbc/entertainment/116.txt  \n",
            "  inflating: bbc/entertainment/117.txt  \n",
            "  inflating: bbc/entertainment/118.txt  \n",
            "  inflating: bbc/entertainment/119.txt  \n",
            "  inflating: bbc/entertainment/120.txt  \n",
            "  inflating: bbc/entertainment/121.txt  \n",
            "  inflating: bbc/entertainment/122.txt  \n",
            "  inflating: bbc/entertainment/123.txt  \n",
            "  inflating: bbc/entertainment/124.txt  \n",
            "  inflating: bbc/entertainment/125.txt  \n",
            "  inflating: bbc/entertainment/126.txt  \n",
            "  inflating: bbc/entertainment/127.txt  \n",
            "  inflating: bbc/entertainment/128.txt  \n",
            "  inflating: bbc/entertainment/129.txt  \n",
            "  inflating: bbc/entertainment/130.txt  \n",
            "  inflating: bbc/entertainment/131.txt  \n",
            "  inflating: bbc/entertainment/132.txt  \n",
            "  inflating: bbc/entertainment/133.txt  \n",
            "  inflating: bbc/entertainment/134.txt  \n",
            "  inflating: bbc/entertainment/135.txt  \n",
            "  inflating: bbc/entertainment/136.txt  \n",
            "  inflating: bbc/entertainment/137.txt  \n",
            "  inflating: bbc/entertainment/138.txt  \n",
            "  inflating: bbc/entertainment/139.txt  \n",
            "  inflating: bbc/entertainment/140.txt  \n",
            "  inflating: bbc/entertainment/141.txt  \n",
            "  inflating: bbc/entertainment/142.txt  \n",
            "  inflating: bbc/entertainment/143.txt  \n",
            "  inflating: bbc/entertainment/144.txt  \n",
            "  inflating: bbc/entertainment/145.txt  \n",
            "  inflating: bbc/entertainment/146.txt  \n",
            "  inflating: bbc/entertainment/147.txt  \n",
            "  inflating: bbc/entertainment/148.txt  \n",
            "  inflating: bbc/entertainment/149.txt  \n",
            "  inflating: bbc/entertainment/150.txt  \n",
            "  inflating: bbc/entertainment/151.txt  \n",
            "  inflating: bbc/entertainment/152.txt  \n",
            "  inflating: bbc/entertainment/153.txt  \n",
            "  inflating: bbc/entertainment/154.txt  \n",
            "  inflating: bbc/entertainment/155.txt  \n",
            "  inflating: bbc/entertainment/156.txt  \n",
            "  inflating: bbc/entertainment/157.txt  \n",
            "  inflating: bbc/entertainment/158.txt  \n",
            "  inflating: bbc/entertainment/159.txt  \n",
            "  inflating: bbc/entertainment/160.txt  \n",
            "  inflating: bbc/entertainment/161.txt  \n",
            "  inflating: bbc/entertainment/162.txt  \n",
            "  inflating: bbc/entertainment/163.txt  \n",
            "  inflating: bbc/entertainment/164.txt  \n",
            "  inflating: bbc/entertainment/165.txt  \n",
            "  inflating: bbc/entertainment/166.txt  \n",
            "  inflating: bbc/entertainment/167.txt  \n",
            "  inflating: bbc/entertainment/168.txt  \n",
            "  inflating: bbc/entertainment/169.txt  \n",
            "  inflating: bbc/entertainment/170.txt  \n",
            "  inflating: bbc/entertainment/171.txt  \n",
            "  inflating: bbc/entertainment/172.txt  \n",
            "  inflating: bbc/entertainment/173.txt  \n",
            "  inflating: bbc/entertainment/174.txt  \n",
            "  inflating: bbc/entertainment/175.txt  \n",
            "  inflating: bbc/entertainment/176.txt  \n",
            "  inflating: bbc/entertainment/177.txt  \n",
            "  inflating: bbc/entertainment/178.txt  \n",
            "  inflating: bbc/entertainment/179.txt  \n",
            "  inflating: bbc/entertainment/180.txt  \n",
            "  inflating: bbc/entertainment/181.txt  \n",
            "  inflating: bbc/entertainment/182.txt  \n",
            "  inflating: bbc/entertainment/183.txt  \n",
            "  inflating: bbc/entertainment/184.txt  \n",
            "  inflating: bbc/entertainment/185.txt  \n",
            "  inflating: bbc/entertainment/186.txt  \n",
            "  inflating: bbc/entertainment/187.txt  \n",
            "  inflating: bbc/entertainment/188.txt  \n",
            "  inflating: bbc/entertainment/189.txt  \n",
            "  inflating: bbc/entertainment/190.txt  \n",
            "  inflating: bbc/entertainment/191.txt  \n",
            "  inflating: bbc/entertainment/192.txt  \n",
            "  inflating: bbc/entertainment/193.txt  \n",
            "  inflating: bbc/entertainment/194.txt  \n",
            "  inflating: bbc/entertainment/195.txt  \n",
            "  inflating: bbc/entertainment/196.txt  \n",
            "  inflating: bbc/entertainment/197.txt  \n",
            "  inflating: bbc/entertainment/198.txt  \n",
            "  inflating: bbc/entertainment/199.txt  \n",
            "  inflating: bbc/entertainment/200.txt  \n",
            "  inflating: bbc/entertainment/201.txt  \n",
            "  inflating: bbc/entertainment/202.txt  \n",
            "  inflating: bbc/entertainment/203.txt  \n",
            "  inflating: bbc/entertainment/204.txt  \n",
            "  inflating: bbc/entertainment/205.txt  \n",
            "  inflating: bbc/entertainment/206.txt  \n",
            "  inflating: bbc/entertainment/207.txt  \n",
            "  inflating: bbc/entertainment/208.txt  \n",
            "  inflating: bbc/entertainment/209.txt  \n",
            "  inflating: bbc/entertainment/210.txt  \n",
            "  inflating: bbc/entertainment/211.txt  \n",
            "  inflating: bbc/entertainment/212.txt  \n",
            "  inflating: bbc/entertainment/213.txt  \n",
            "  inflating: bbc/entertainment/214.txt  \n",
            "  inflating: bbc/entertainment/215.txt  \n",
            "  inflating: bbc/entertainment/216.txt  \n",
            "  inflating: bbc/entertainment/217.txt  \n",
            "  inflating: bbc/entertainment/218.txt  \n",
            "  inflating: bbc/entertainment/219.txt  \n",
            "  inflating: bbc/entertainment/220.txt  \n",
            "  inflating: bbc/entertainment/221.txt  \n",
            "  inflating: bbc/entertainment/222.txt  \n",
            "  inflating: bbc/entertainment/223.txt  \n",
            "  inflating: bbc/entertainment/224.txt  \n",
            "  inflating: bbc/entertainment/225.txt  \n",
            "  inflating: bbc/entertainment/226.txt  \n",
            "  inflating: bbc/entertainment/227.txt  \n",
            "  inflating: bbc/entertainment/228.txt  \n",
            "  inflating: bbc/entertainment/229.txt  \n",
            "  inflating: bbc/entertainment/230.txt  \n",
            "  inflating: bbc/entertainment/231.txt  \n",
            "  inflating: bbc/entertainment/232.txt  \n",
            "  inflating: bbc/entertainment/233.txt  \n",
            "  inflating: bbc/entertainment/234.txt  \n",
            "  inflating: bbc/entertainment/235.txt  \n",
            "  inflating: bbc/entertainment/236.txt  \n",
            "  inflating: bbc/entertainment/237.txt  \n",
            "  inflating: bbc/entertainment/238.txt  \n",
            "  inflating: bbc/entertainment/239.txt  \n",
            "  inflating: bbc/entertainment/240.txt  \n",
            "  inflating: bbc/entertainment/241.txt  \n",
            "  inflating: bbc/entertainment/242.txt  \n",
            "  inflating: bbc/entertainment/243.txt  \n",
            "  inflating: bbc/entertainment/244.txt  \n",
            "  inflating: bbc/entertainment/245.txt  \n",
            "  inflating: bbc/entertainment/246.txt  \n",
            "  inflating: bbc/entertainment/247.txt  \n",
            "  inflating: bbc/entertainment/248.txt  \n",
            "  inflating: bbc/entertainment/249.txt  \n",
            "  inflating: bbc/entertainment/250.txt  \n",
            "  inflating: bbc/entertainment/251.txt  \n",
            "  inflating: bbc/entertainment/252.txt  \n",
            "  inflating: bbc/entertainment/253.txt  \n",
            "  inflating: bbc/entertainment/254.txt  \n",
            "  inflating: bbc/entertainment/255.txt  \n",
            "  inflating: bbc/entertainment/256.txt  \n",
            "  inflating: bbc/entertainment/257.txt  \n",
            "  inflating: bbc/entertainment/258.txt  \n",
            "  inflating: bbc/entertainment/259.txt  \n",
            "  inflating: bbc/entertainment/260.txt  \n",
            "  inflating: bbc/entertainment/261.txt  \n",
            "  inflating: bbc/entertainment/262.txt  \n",
            "  inflating: bbc/entertainment/263.txt  \n",
            "  inflating: bbc/entertainment/264.txt  \n",
            "  inflating: bbc/entertainment/265.txt  \n",
            "  inflating: bbc/entertainment/266.txt  \n",
            "  inflating: bbc/entertainment/267.txt  \n",
            "  inflating: bbc/entertainment/268.txt  \n",
            "  inflating: bbc/entertainment/269.txt  \n",
            "  inflating: bbc/entertainment/270.txt  \n",
            "  inflating: bbc/entertainment/271.txt  \n",
            "  inflating: bbc/entertainment/272.txt  \n",
            "  inflating: bbc/entertainment/273.txt  \n",
            "  inflating: bbc/entertainment/274.txt  \n",
            "  inflating: bbc/entertainment/275.txt  \n",
            "  inflating: bbc/entertainment/276.txt  \n",
            "  inflating: bbc/entertainment/277.txt  \n",
            "  inflating: bbc/entertainment/278.txt  \n",
            "  inflating: bbc/entertainment/279.txt  \n",
            "  inflating: bbc/entertainment/280.txt  \n",
            "  inflating: bbc/entertainment/281.txt  \n",
            "  inflating: bbc/entertainment/282.txt  \n",
            "  inflating: bbc/entertainment/283.txt  \n",
            "  inflating: bbc/entertainment/284.txt  \n",
            "  inflating: bbc/entertainment/285.txt  \n",
            "  inflating: bbc/entertainment/286.txt  \n",
            "  inflating: bbc/entertainment/287.txt  \n",
            "  inflating: bbc/entertainment/288.txt  \n",
            "  inflating: bbc/entertainment/289.txt  \n",
            "  inflating: bbc/entertainment/290.txt  \n",
            "  inflating: bbc/entertainment/291.txt  \n",
            "  inflating: bbc/entertainment/292.txt  \n",
            "  inflating: bbc/entertainment/293.txt  \n",
            "  inflating: bbc/entertainment/294.txt  \n",
            "  inflating: bbc/entertainment/295.txt  \n",
            "  inflating: bbc/entertainment/296.txt  \n",
            "  inflating: bbc/entertainment/297.txt  \n",
            "  inflating: bbc/entertainment/298.txt  \n",
            "  inflating: bbc/entertainment/299.txt  \n",
            "  inflating: bbc/entertainment/300.txt  \n",
            "  inflating: bbc/entertainment/301.txt  \n",
            "  inflating: bbc/entertainment/302.txt  \n",
            "  inflating: bbc/entertainment/303.txt  \n",
            "  inflating: bbc/entertainment/304.txt  \n",
            "  inflating: bbc/entertainment/305.txt  \n",
            "  inflating: bbc/entertainment/306.txt  \n",
            "  inflating: bbc/entertainment/307.txt  \n",
            "  inflating: bbc/entertainment/308.txt  \n",
            "  inflating: bbc/entertainment/309.txt  \n",
            "  inflating: bbc/entertainment/310.txt  \n",
            "  inflating: bbc/entertainment/311.txt  \n",
            "  inflating: bbc/entertainment/312.txt  \n",
            "  inflating: bbc/entertainment/313.txt  \n",
            "  inflating: bbc/entertainment/314.txt  \n",
            "  inflating: bbc/entertainment/315.txt  \n",
            "  inflating: bbc/entertainment/316.txt  \n",
            "  inflating: bbc/entertainment/317.txt  \n",
            "  inflating: bbc/entertainment/318.txt  \n",
            "  inflating: bbc/entertainment/319.txt  \n",
            "  inflating: bbc/entertainment/320.txt  \n",
            "  inflating: bbc/entertainment/321.txt  \n",
            "  inflating: bbc/entertainment/322.txt  \n",
            "  inflating: bbc/entertainment/323.txt  \n",
            "  inflating: bbc/entertainment/324.txt  \n",
            "  inflating: bbc/entertainment/325.txt  \n",
            "  inflating: bbc/entertainment/326.txt  \n",
            "  inflating: bbc/entertainment/327.txt  \n",
            "  inflating: bbc/entertainment/328.txt  \n",
            "  inflating: bbc/entertainment/329.txt  \n",
            "  inflating: bbc/entertainment/330.txt  \n",
            "  inflating: bbc/entertainment/331.txt  \n",
            "  inflating: bbc/entertainment/332.txt  \n",
            "  inflating: bbc/entertainment/333.txt  \n",
            "  inflating: bbc/entertainment/334.txt  \n",
            "  inflating: bbc/entertainment/335.txt  \n",
            "  inflating: bbc/entertainment/336.txt  \n",
            "  inflating: bbc/entertainment/337.txt  \n",
            "  inflating: bbc/entertainment/338.txt  \n",
            "  inflating: bbc/entertainment/339.txt  \n",
            "  inflating: bbc/entertainment/340.txt  \n",
            "  inflating: bbc/entertainment/341.txt  \n",
            "  inflating: bbc/entertainment/342.txt  \n",
            "  inflating: bbc/entertainment/343.txt  \n",
            "  inflating: bbc/entertainment/344.txt  \n",
            "  inflating: bbc/entertainment/345.txt  \n",
            "  inflating: bbc/entertainment/346.txt  \n",
            "  inflating: bbc/entertainment/347.txt  \n",
            "  inflating: bbc/entertainment/348.txt  \n",
            "  inflating: bbc/entertainment/349.txt  \n",
            "  inflating: bbc/entertainment/350.txt  \n",
            "  inflating: bbc/entertainment/351.txt  \n",
            "  inflating: bbc/entertainment/352.txt  \n",
            "  inflating: bbc/entertainment/353.txt  \n",
            "  inflating: bbc/entertainment/354.txt  \n",
            "  inflating: bbc/entertainment/355.txt  \n",
            "  inflating: bbc/entertainment/356.txt  \n",
            "  inflating: bbc/entertainment/357.txt  \n",
            "  inflating: bbc/entertainment/358.txt  \n",
            "  inflating: bbc/entertainment/359.txt  \n",
            "  inflating: bbc/entertainment/360.txt  \n",
            "  inflating: bbc/entertainment/361.txt  \n",
            "  inflating: bbc/entertainment/362.txt  \n",
            "  inflating: bbc/entertainment/363.txt  \n",
            "  inflating: bbc/entertainment/364.txt  \n",
            "  inflating: bbc/entertainment/365.txt  \n",
            "  inflating: bbc/entertainment/366.txt  \n",
            "  inflating: bbc/entertainment/367.txt  \n",
            "  inflating: bbc/entertainment/368.txt  \n",
            "  inflating: bbc/entertainment/369.txt  \n",
            "  inflating: bbc/entertainment/370.txt  \n",
            "  inflating: bbc/entertainment/371.txt  \n",
            "  inflating: bbc/entertainment/372.txt  \n",
            "  inflating: bbc/entertainment/373.txt  \n",
            "  inflating: bbc/entertainment/374.txt  \n",
            "  inflating: bbc/entertainment/375.txt  \n",
            "  inflating: bbc/entertainment/376.txt  \n",
            "  inflating: bbc/entertainment/377.txt  \n",
            "  inflating: bbc/entertainment/378.txt  \n",
            "  inflating: bbc/entertainment/379.txt  \n",
            "  inflating: bbc/entertainment/380.txt  \n",
            "  inflating: bbc/entertainment/381.txt  \n",
            "  inflating: bbc/entertainment/382.txt  \n",
            "  inflating: bbc/entertainment/383.txt  \n",
            "  inflating: bbc/entertainment/384.txt  \n",
            "  inflating: bbc/entertainment/385.txt  \n",
            "  inflating: bbc/entertainment/386.txt  \n",
            "  inflating: bbc/politics/001.txt    \n",
            "  inflating: bbc/politics/002.txt    \n",
            "  inflating: bbc/politics/003.txt    \n",
            "  inflating: bbc/politics/004.txt    \n",
            "  inflating: bbc/politics/005.txt    \n",
            "  inflating: bbc/politics/006.txt    \n",
            "  inflating: bbc/politics/007.txt    \n",
            "  inflating: bbc/politics/008.txt    \n",
            "  inflating: bbc/politics/009.txt    \n",
            "  inflating: bbc/politics/010.txt    \n",
            "  inflating: bbc/politics/011.txt    \n",
            "  inflating: bbc/politics/012.txt    \n",
            "  inflating: bbc/politics/013.txt    \n",
            "  inflating: bbc/politics/014.txt    \n",
            "  inflating: bbc/politics/015.txt    \n",
            "  inflating: bbc/politics/016.txt    \n",
            "  inflating: bbc/politics/017.txt    \n",
            "  inflating: bbc/politics/018.txt    \n",
            "  inflating: bbc/politics/019.txt    \n",
            "  inflating: bbc/politics/020.txt    \n",
            "  inflating: bbc/politics/021.txt    \n",
            "  inflating: bbc/politics/022.txt    \n",
            "  inflating: bbc/politics/023.txt    \n",
            "  inflating: bbc/politics/024.txt    \n",
            "  inflating: bbc/politics/025.txt    \n",
            "  inflating: bbc/politics/026.txt    \n",
            "  inflating: bbc/politics/027.txt    \n",
            "  inflating: bbc/politics/028.txt    \n",
            "  inflating: bbc/politics/029.txt    \n",
            "  inflating: bbc/politics/030.txt    \n",
            "  inflating: bbc/politics/031.txt    \n",
            "  inflating: bbc/politics/032.txt    \n",
            "  inflating: bbc/politics/033.txt    \n",
            "  inflating: bbc/politics/034.txt    \n",
            "  inflating: bbc/politics/035.txt    \n",
            "  inflating: bbc/politics/036.txt    \n",
            "  inflating: bbc/politics/037.txt    \n",
            "  inflating: bbc/politics/038.txt    \n",
            "  inflating: bbc/politics/039.txt    \n",
            "  inflating: bbc/politics/040.txt    \n",
            "  inflating: bbc/politics/041.txt    \n",
            "  inflating: bbc/politics/042.txt    \n",
            "  inflating: bbc/politics/043.txt    \n",
            "  inflating: bbc/politics/044.txt    \n",
            "  inflating: bbc/politics/045.txt    \n",
            "  inflating: bbc/politics/046.txt    \n",
            "  inflating: bbc/politics/047.txt    \n",
            "  inflating: bbc/politics/048.txt    \n",
            "  inflating: bbc/politics/049.txt    \n",
            "  inflating: bbc/politics/050.txt    \n",
            "  inflating: bbc/politics/051.txt    \n",
            "  inflating: bbc/politics/052.txt    \n",
            "  inflating: bbc/politics/053.txt    \n",
            "  inflating: bbc/politics/054.txt    \n",
            "  inflating: bbc/politics/055.txt    \n",
            "  inflating: bbc/politics/056.txt    \n",
            "  inflating: bbc/politics/057.txt    \n",
            "  inflating: bbc/politics/058.txt    \n",
            "  inflating: bbc/politics/059.txt    \n",
            "  inflating: bbc/politics/060.txt    \n",
            "  inflating: bbc/politics/061.txt    \n",
            "  inflating: bbc/politics/062.txt    \n",
            "  inflating: bbc/politics/063.txt    \n",
            "  inflating: bbc/politics/064.txt    \n",
            "  inflating: bbc/politics/065.txt    \n",
            "  inflating: bbc/politics/066.txt    \n",
            "  inflating: bbc/politics/067.txt    \n",
            "  inflating: bbc/politics/068.txt    \n",
            "  inflating: bbc/politics/069.txt    \n",
            "  inflating: bbc/politics/070.txt    \n",
            "  inflating: bbc/politics/071.txt    \n",
            "  inflating: bbc/politics/072.txt    \n",
            "  inflating: bbc/politics/073.txt    \n",
            "  inflating: bbc/politics/074.txt    \n",
            "  inflating: bbc/politics/075.txt    \n",
            "  inflating: bbc/politics/076.txt    \n",
            "  inflating: bbc/politics/077.txt    \n",
            "  inflating: bbc/politics/078.txt    \n",
            "  inflating: bbc/politics/079.txt    \n",
            "  inflating: bbc/politics/080.txt    \n",
            "  inflating: bbc/politics/081.txt    \n",
            "  inflating: bbc/politics/082.txt    \n",
            "  inflating: bbc/politics/083.txt    \n",
            "  inflating: bbc/politics/084.txt    \n",
            "  inflating: bbc/politics/085.txt    \n",
            "  inflating: bbc/politics/086.txt    \n",
            "  inflating: bbc/politics/087.txt    \n",
            "  inflating: bbc/politics/088.txt    \n",
            "  inflating: bbc/politics/089.txt    \n",
            "  inflating: bbc/politics/090.txt    \n",
            "  inflating: bbc/politics/091.txt    \n",
            "  inflating: bbc/politics/092.txt    \n",
            "  inflating: bbc/politics/093.txt    \n",
            "  inflating: bbc/politics/094.txt    \n",
            "  inflating: bbc/politics/095.txt    \n",
            "  inflating: bbc/politics/096.txt    \n",
            "  inflating: bbc/politics/097.txt    \n",
            "  inflating: bbc/politics/098.txt    \n",
            "  inflating: bbc/politics/099.txt    \n",
            "  inflating: bbc/politics/100.txt    \n",
            "  inflating: bbc/politics/101.txt    \n",
            "  inflating: bbc/politics/102.txt    \n",
            "  inflating: bbc/politics/103.txt    \n",
            "  inflating: bbc/politics/104.txt    \n",
            "  inflating: bbc/politics/105.txt    \n",
            "  inflating: bbc/politics/106.txt    \n",
            "  inflating: bbc/politics/107.txt    \n",
            "  inflating: bbc/politics/108.txt    \n",
            "  inflating: bbc/politics/109.txt    \n",
            "  inflating: bbc/politics/110.txt    \n",
            "  inflating: bbc/politics/111.txt    \n",
            "  inflating: bbc/politics/112.txt    \n",
            "  inflating: bbc/politics/113.txt    \n",
            "  inflating: bbc/politics/114.txt    \n",
            "  inflating: bbc/politics/115.txt    \n",
            "  inflating: bbc/politics/116.txt    \n",
            "  inflating: bbc/politics/117.txt    \n",
            "  inflating: bbc/politics/118.txt    \n",
            "  inflating: bbc/politics/119.txt    \n",
            "  inflating: bbc/politics/120.txt    \n",
            "  inflating: bbc/politics/121.txt    \n",
            "  inflating: bbc/politics/122.txt    \n",
            "  inflating: bbc/politics/123.txt    \n",
            "  inflating: bbc/politics/124.txt    \n",
            "  inflating: bbc/politics/125.txt    \n",
            "  inflating: bbc/politics/126.txt    \n",
            "  inflating: bbc/politics/127.txt    \n",
            "  inflating: bbc/politics/128.txt    \n",
            "  inflating: bbc/politics/129.txt    \n",
            "  inflating: bbc/politics/130.txt    \n",
            "  inflating: bbc/politics/131.txt    \n",
            "  inflating: bbc/politics/132.txt    \n",
            "  inflating: bbc/politics/133.txt    \n",
            "  inflating: bbc/politics/134.txt    \n",
            "  inflating: bbc/politics/135.txt    \n",
            "  inflating: bbc/politics/136.txt    \n",
            "  inflating: bbc/politics/137.txt    \n",
            "  inflating: bbc/politics/138.txt    \n",
            "  inflating: bbc/politics/139.txt    \n",
            "  inflating: bbc/politics/140.txt    \n",
            "  inflating: bbc/politics/141.txt    \n",
            "  inflating: bbc/politics/142.txt    \n",
            "  inflating: bbc/politics/143.txt    \n",
            "  inflating: bbc/politics/144.txt    \n",
            "  inflating: bbc/politics/145.txt    \n",
            "  inflating: bbc/politics/146.txt    \n",
            "  inflating: bbc/politics/147.txt    \n",
            "  inflating: bbc/politics/148.txt    \n",
            "  inflating: bbc/politics/149.txt    \n",
            "  inflating: bbc/politics/150.txt    \n",
            "  inflating: bbc/politics/151.txt    \n",
            "  inflating: bbc/politics/152.txt    \n",
            "  inflating: bbc/politics/153.txt    \n",
            "  inflating: bbc/politics/154.txt    \n",
            "  inflating: bbc/politics/155.txt    \n",
            "  inflating: bbc/politics/156.txt    \n",
            "  inflating: bbc/politics/157.txt    \n",
            "  inflating: bbc/politics/158.txt    \n",
            "  inflating: bbc/politics/159.txt    \n",
            "  inflating: bbc/politics/160.txt    \n",
            "  inflating: bbc/politics/161.txt    \n",
            "  inflating: bbc/politics/162.txt    \n",
            "  inflating: bbc/politics/163.txt    \n",
            "  inflating: bbc/politics/164.txt    \n",
            "  inflating: bbc/politics/165.txt    \n",
            "  inflating: bbc/politics/166.txt    \n",
            "  inflating: bbc/politics/167.txt    \n",
            "  inflating: bbc/politics/168.txt    \n",
            "  inflating: bbc/politics/169.txt    \n",
            "  inflating: bbc/politics/170.txt    \n",
            "  inflating: bbc/politics/171.txt    \n",
            "  inflating: bbc/politics/172.txt    \n",
            "  inflating: bbc/politics/173.txt    \n",
            "  inflating: bbc/politics/174.txt    \n",
            "  inflating: bbc/politics/175.txt    \n",
            "  inflating: bbc/politics/176.txt    \n",
            "  inflating: bbc/politics/177.txt    \n",
            "  inflating: bbc/politics/178.txt    \n",
            "  inflating: bbc/politics/179.txt    \n",
            "  inflating: bbc/politics/180.txt    \n",
            "  inflating: bbc/politics/181.txt    \n",
            "  inflating: bbc/politics/182.txt    \n",
            "  inflating: bbc/politics/183.txt    \n",
            "  inflating: bbc/politics/184.txt    \n",
            "  inflating: bbc/politics/185.txt    \n",
            "  inflating: bbc/politics/186.txt    \n",
            "  inflating: bbc/politics/187.txt    \n",
            "  inflating: bbc/politics/188.txt    \n",
            "  inflating: bbc/politics/189.txt    \n",
            "  inflating: bbc/politics/190.txt    \n",
            "  inflating: bbc/politics/191.txt    \n",
            "  inflating: bbc/politics/192.txt    \n",
            "  inflating: bbc/politics/193.txt    \n",
            "  inflating: bbc/politics/194.txt    \n",
            "  inflating: bbc/politics/195.txt    \n",
            "  inflating: bbc/politics/196.txt    \n",
            "  inflating: bbc/politics/197.txt    \n",
            "  inflating: bbc/politics/198.txt    \n",
            "  inflating: bbc/politics/199.txt    \n",
            "  inflating: bbc/politics/200.txt    \n",
            "  inflating: bbc/politics/201.txt    \n",
            "  inflating: bbc/politics/202.txt    \n",
            "  inflating: bbc/politics/203.txt    \n",
            "  inflating: bbc/politics/204.txt    \n",
            "  inflating: bbc/politics/205.txt    \n",
            "  inflating: bbc/politics/206.txt    \n",
            "  inflating: bbc/politics/207.txt    \n",
            "  inflating: bbc/politics/208.txt    \n",
            "  inflating: bbc/politics/209.txt    \n",
            "  inflating: bbc/politics/210.txt    \n",
            "  inflating: bbc/politics/211.txt    \n",
            "  inflating: bbc/politics/212.txt    \n",
            "  inflating: bbc/politics/213.txt    \n",
            "  inflating: bbc/politics/214.txt    \n",
            "  inflating: bbc/politics/215.txt    \n",
            "  inflating: bbc/politics/216.txt    \n",
            "  inflating: bbc/politics/217.txt    \n",
            "  inflating: bbc/politics/218.txt    \n",
            "  inflating: bbc/politics/219.txt    \n",
            "  inflating: bbc/politics/220.txt    \n",
            "  inflating: bbc/politics/221.txt    \n",
            "  inflating: bbc/politics/222.txt    \n",
            "  inflating: bbc/politics/223.txt    \n",
            "  inflating: bbc/politics/224.txt    \n",
            "  inflating: bbc/politics/225.txt    \n",
            "  inflating: bbc/politics/226.txt    \n",
            "  inflating: bbc/politics/227.txt    \n",
            "  inflating: bbc/politics/228.txt    \n",
            "  inflating: bbc/politics/229.txt    \n",
            "  inflating: bbc/politics/230.txt    \n",
            "  inflating: bbc/politics/231.txt    \n",
            "  inflating: bbc/politics/232.txt    \n",
            "  inflating: bbc/politics/233.txt    \n",
            "  inflating: bbc/politics/234.txt    \n",
            "  inflating: bbc/politics/235.txt    \n",
            "  inflating: bbc/politics/236.txt    \n",
            "  inflating: bbc/politics/237.txt    \n",
            "  inflating: bbc/politics/238.txt    \n",
            "  inflating: bbc/politics/239.txt    \n",
            "  inflating: bbc/politics/240.txt    \n",
            "  inflating: bbc/politics/241.txt    \n",
            "  inflating: bbc/politics/242.txt    \n",
            "  inflating: bbc/politics/243.txt    \n",
            "  inflating: bbc/politics/244.txt    \n",
            "  inflating: bbc/politics/245.txt    \n",
            "  inflating: bbc/politics/246.txt    \n",
            "  inflating: bbc/politics/247.txt    \n",
            "  inflating: bbc/politics/248.txt    \n",
            "  inflating: bbc/politics/249.txt    \n",
            "  inflating: bbc/politics/250.txt    \n",
            "  inflating: bbc/politics/251.txt    \n",
            "  inflating: bbc/politics/252.txt    \n",
            "  inflating: bbc/politics/253.txt    \n",
            "  inflating: bbc/politics/254.txt    \n",
            "  inflating: bbc/politics/255.txt    \n",
            "  inflating: bbc/politics/256.txt    \n",
            "  inflating: bbc/politics/257.txt    \n",
            "  inflating: bbc/politics/258.txt    \n",
            "  inflating: bbc/politics/259.txt    \n",
            "  inflating: bbc/politics/260.txt    \n",
            "  inflating: bbc/politics/261.txt    \n",
            "  inflating: bbc/politics/262.txt    \n",
            "  inflating: bbc/politics/263.txt    \n",
            "  inflating: bbc/politics/264.txt    \n",
            "  inflating: bbc/politics/265.txt    \n",
            "  inflating: bbc/politics/266.txt    \n",
            "  inflating: bbc/politics/267.txt    \n",
            "  inflating: bbc/politics/268.txt    \n",
            "  inflating: bbc/politics/269.txt    \n",
            "  inflating: bbc/politics/270.txt    \n",
            "  inflating: bbc/politics/271.txt    \n",
            "  inflating: bbc/politics/272.txt    \n",
            "  inflating: bbc/politics/273.txt    \n",
            "  inflating: bbc/politics/274.txt    \n",
            "  inflating: bbc/politics/275.txt    \n",
            "  inflating: bbc/politics/276.txt    \n",
            "  inflating: bbc/politics/277.txt    \n",
            "  inflating: bbc/politics/278.txt    \n",
            "  inflating: bbc/politics/279.txt    \n",
            "  inflating: bbc/politics/280.txt    \n",
            "  inflating: bbc/politics/281.txt    \n",
            "  inflating: bbc/politics/282.txt    \n",
            "  inflating: bbc/politics/283.txt    \n",
            "  inflating: bbc/politics/284.txt    \n",
            "  inflating: bbc/politics/285.txt    \n",
            "  inflating: bbc/politics/286.txt    \n",
            "  inflating: bbc/politics/287.txt    \n",
            "  inflating: bbc/politics/288.txt    \n",
            "  inflating: bbc/politics/289.txt    \n",
            "  inflating: bbc/politics/290.txt    \n",
            "  inflating: bbc/politics/291.txt    \n",
            "  inflating: bbc/politics/292.txt    \n",
            "  inflating: bbc/politics/293.txt    \n",
            "  inflating: bbc/politics/294.txt    \n",
            "  inflating: bbc/politics/295.txt    \n",
            "  inflating: bbc/politics/296.txt    \n",
            "  inflating: bbc/politics/297.txt    \n",
            "  inflating: bbc/politics/298.txt    \n",
            "  inflating: bbc/politics/299.txt    \n",
            "  inflating: bbc/politics/300.txt    \n",
            "  inflating: bbc/politics/301.txt    \n",
            "  inflating: bbc/politics/302.txt    \n",
            "  inflating: bbc/politics/303.txt    \n",
            "  inflating: bbc/politics/304.txt    \n",
            "  inflating: bbc/politics/305.txt    \n",
            "  inflating: bbc/politics/306.txt    \n",
            "  inflating: bbc/politics/307.txt    \n",
            "  inflating: bbc/politics/308.txt    \n",
            "  inflating: bbc/politics/309.txt    \n",
            "  inflating: bbc/politics/310.txt    \n",
            "  inflating: bbc/politics/311.txt    \n",
            "  inflating: bbc/politics/312.txt    \n",
            "  inflating: bbc/politics/313.txt    \n",
            "  inflating: bbc/politics/314.txt    \n",
            "  inflating: bbc/politics/315.txt    \n",
            "  inflating: bbc/politics/316.txt    \n",
            "  inflating: bbc/politics/317.txt    \n",
            "  inflating: bbc/politics/318.txt    \n",
            "  inflating: bbc/politics/319.txt    \n",
            "  inflating: bbc/politics/320.txt    \n",
            "  inflating: bbc/politics/321.txt    \n",
            "  inflating: bbc/politics/322.txt    \n",
            "  inflating: bbc/politics/323.txt    \n",
            "  inflating: bbc/politics/324.txt    \n",
            "  inflating: bbc/politics/325.txt    \n",
            "  inflating: bbc/politics/326.txt    \n",
            "  inflating: bbc/politics/327.txt    \n",
            "  inflating: bbc/politics/328.txt    \n",
            "  inflating: bbc/politics/329.txt    \n",
            "  inflating: bbc/politics/330.txt    \n",
            "  inflating: bbc/politics/331.txt    \n",
            "  inflating: bbc/politics/332.txt    \n",
            "  inflating: bbc/politics/333.txt    \n",
            "  inflating: bbc/politics/334.txt    \n",
            "  inflating: bbc/politics/335.txt    \n",
            "  inflating: bbc/politics/336.txt    \n",
            "  inflating: bbc/politics/337.txt    \n",
            "  inflating: bbc/politics/338.txt    \n",
            "  inflating: bbc/politics/339.txt    \n",
            "  inflating: bbc/politics/340.txt    \n",
            "  inflating: bbc/politics/341.txt    \n",
            "  inflating: bbc/politics/342.txt    \n",
            "  inflating: bbc/politics/343.txt    \n",
            "  inflating: bbc/politics/344.txt    \n",
            "  inflating: bbc/politics/345.txt    \n",
            "  inflating: bbc/politics/346.txt    \n",
            "  inflating: bbc/politics/347.txt    \n",
            "  inflating: bbc/politics/348.txt    \n",
            "  inflating: bbc/politics/349.txt    \n",
            "  inflating: bbc/politics/350.txt    \n",
            "  inflating: bbc/politics/351.txt    \n",
            "  inflating: bbc/politics/352.txt    \n",
            "  inflating: bbc/politics/353.txt    \n",
            "  inflating: bbc/politics/354.txt    \n",
            "  inflating: bbc/politics/355.txt    \n",
            "  inflating: bbc/politics/356.txt    \n",
            "  inflating: bbc/politics/357.txt    \n",
            "  inflating: bbc/politics/358.txt    \n",
            "  inflating: bbc/politics/359.txt    \n",
            "  inflating: bbc/politics/360.txt    \n",
            "  inflating: bbc/politics/361.txt    \n",
            "  inflating: bbc/politics/362.txt    \n",
            "  inflating: bbc/politics/363.txt    \n",
            "  inflating: bbc/politics/364.txt    \n",
            "  inflating: bbc/politics/365.txt    \n",
            "  inflating: bbc/politics/366.txt    \n",
            "  inflating: bbc/politics/367.txt    \n",
            "  inflating: bbc/politics/368.txt    \n",
            "  inflating: bbc/politics/369.txt    \n",
            "  inflating: bbc/politics/370.txt    \n",
            "  inflating: bbc/politics/371.txt    \n",
            "  inflating: bbc/politics/372.txt    \n",
            "  inflating: bbc/politics/373.txt    \n",
            "  inflating: bbc/politics/374.txt    \n",
            "  inflating: bbc/politics/375.txt    \n",
            "  inflating: bbc/politics/376.txt    \n",
            "  inflating: bbc/politics/377.txt    \n",
            "  inflating: bbc/politics/378.txt    \n",
            "  inflating: bbc/politics/379.txt    \n",
            "  inflating: bbc/politics/380.txt    \n",
            "  inflating: bbc/politics/381.txt    \n",
            "  inflating: bbc/politics/382.txt    \n",
            "  inflating: bbc/politics/383.txt    \n",
            "  inflating: bbc/politics/384.txt    \n",
            "  inflating: bbc/politics/385.txt    \n",
            "  inflating: bbc/politics/386.txt    \n",
            "  inflating: bbc/politics/387.txt    \n",
            "  inflating: bbc/politics/388.txt    \n",
            "  inflating: bbc/politics/389.txt    \n",
            "  inflating: bbc/politics/390.txt    \n",
            "  inflating: bbc/politics/391.txt    \n",
            "  inflating: bbc/politics/392.txt    \n",
            "  inflating: bbc/politics/393.txt    \n",
            "  inflating: bbc/politics/394.txt    \n",
            "  inflating: bbc/politics/395.txt    \n",
            "  inflating: bbc/politics/396.txt    \n",
            "  inflating: bbc/politics/397.txt    \n",
            "  inflating: bbc/politics/398.txt    \n",
            "  inflating: bbc/politics/399.txt    \n",
            "  inflating: bbc/politics/400.txt    \n",
            "  inflating: bbc/politics/401.txt    \n",
            "  inflating: bbc/politics/402.txt    \n",
            "  inflating: bbc/politics/403.txt    \n",
            "  inflating: bbc/politics/404.txt    \n",
            "  inflating: bbc/politics/405.txt    \n",
            "  inflating: bbc/politics/406.txt    \n",
            "  inflating: bbc/politics/407.txt    \n",
            "  inflating: bbc/politics/408.txt    \n",
            "  inflating: bbc/politics/409.txt    \n",
            "  inflating: bbc/politics/410.txt    \n",
            "  inflating: bbc/politics/411.txt    \n",
            "  inflating: bbc/politics/412.txt    \n",
            "  inflating: bbc/politics/413.txt    \n",
            "  inflating: bbc/politics/414.txt    \n",
            "  inflating: bbc/politics/415.txt    \n",
            "  inflating: bbc/politics/416.txt    \n",
            "  inflating: bbc/politics/417.txt    \n",
            "  inflating: bbc/sport/001.txt       \n",
            "  inflating: bbc/sport/002.txt       \n",
            "  inflating: bbc/sport/003.txt       \n",
            "  inflating: bbc/sport/004.txt       \n",
            "  inflating: bbc/sport/005.txt       \n",
            "  inflating: bbc/sport/006.txt       \n",
            "  inflating: bbc/sport/007.txt       \n",
            "  inflating: bbc/sport/008.txt       \n",
            "  inflating: bbc/sport/009.txt       \n",
            "  inflating: bbc/sport/010.txt       \n",
            "  inflating: bbc/sport/011.txt       \n",
            "  inflating: bbc/sport/012.txt       \n",
            "  inflating: bbc/sport/013.txt       \n",
            "  inflating: bbc/sport/014.txt       \n",
            "  inflating: bbc/sport/015.txt       \n",
            "  inflating: bbc/sport/016.txt       \n",
            "  inflating: bbc/sport/017.txt       \n",
            "  inflating: bbc/sport/018.txt       \n",
            "  inflating: bbc/sport/019.txt       \n",
            "  inflating: bbc/sport/020.txt       \n",
            "  inflating: bbc/sport/021.txt       \n",
            "  inflating: bbc/sport/022.txt       \n",
            "  inflating: bbc/sport/023.txt       \n",
            "  inflating: bbc/sport/024.txt       \n",
            "  inflating: bbc/sport/025.txt       \n",
            "  inflating: bbc/sport/026.txt       \n",
            "  inflating: bbc/sport/027.txt       \n",
            "  inflating: bbc/sport/028.txt       \n",
            "  inflating: bbc/sport/029.txt       \n",
            "  inflating: bbc/sport/030.txt       \n",
            "  inflating: bbc/sport/031.txt       \n",
            "  inflating: bbc/sport/032.txt       \n",
            "  inflating: bbc/sport/033.txt       \n",
            "  inflating: bbc/sport/034.txt       \n",
            "  inflating: bbc/sport/035.txt       \n",
            "  inflating: bbc/sport/036.txt       \n",
            "  inflating: bbc/sport/037.txt       \n",
            "  inflating: bbc/sport/038.txt       \n",
            "  inflating: bbc/sport/039.txt       \n",
            "  inflating: bbc/sport/040.txt       \n",
            "  inflating: bbc/sport/041.txt       \n",
            "  inflating: bbc/sport/042.txt       \n",
            "  inflating: bbc/sport/043.txt       \n",
            "  inflating: bbc/sport/044.txt       \n",
            "  inflating: bbc/sport/045.txt       \n",
            "  inflating: bbc/sport/046.txt       \n",
            "  inflating: bbc/sport/047.txt       \n",
            "  inflating: bbc/sport/048.txt       \n",
            "  inflating: bbc/sport/049.txt       \n",
            "  inflating: bbc/sport/050.txt       \n",
            "  inflating: bbc/sport/051.txt       \n",
            "  inflating: bbc/sport/052.txt       \n",
            "  inflating: bbc/sport/053.txt       \n",
            "  inflating: bbc/sport/054.txt       \n",
            "  inflating: bbc/sport/055.txt       \n",
            "  inflating: bbc/sport/056.txt       \n",
            "  inflating: bbc/sport/057.txt       \n",
            "  inflating: bbc/sport/058.txt       \n",
            "  inflating: bbc/sport/059.txt       \n",
            "  inflating: bbc/sport/060.txt       \n",
            "  inflating: bbc/sport/061.txt       \n",
            "  inflating: bbc/sport/062.txt       \n",
            "  inflating: bbc/sport/063.txt       \n",
            "  inflating: bbc/sport/064.txt       \n",
            "  inflating: bbc/sport/065.txt       \n",
            "  inflating: bbc/sport/066.txt       \n",
            "  inflating: bbc/sport/067.txt       \n",
            "  inflating: bbc/sport/068.txt       \n",
            "  inflating: bbc/sport/069.txt       \n",
            "  inflating: bbc/sport/070.txt       \n",
            "  inflating: bbc/sport/071.txt       \n",
            "  inflating: bbc/sport/072.txt       \n",
            "  inflating: bbc/sport/073.txt       \n",
            "  inflating: bbc/sport/074.txt       \n",
            "  inflating: bbc/sport/075.txt       \n",
            "  inflating: bbc/sport/076.txt       \n",
            "  inflating: bbc/sport/077.txt       \n",
            "  inflating: bbc/sport/078.txt       \n",
            "  inflating: bbc/sport/079.txt       \n",
            "  inflating: bbc/sport/080.txt       \n",
            "  inflating: bbc/sport/081.txt       \n",
            "  inflating: bbc/sport/082.txt       \n",
            "  inflating: bbc/sport/083.txt       \n",
            "  inflating: bbc/sport/084.txt       \n",
            "  inflating: bbc/sport/085.txt       \n",
            "  inflating: bbc/sport/086.txt       \n",
            "  inflating: bbc/sport/087.txt       \n",
            "  inflating: bbc/sport/088.txt       \n",
            "  inflating: bbc/sport/089.txt       \n",
            "  inflating: bbc/sport/090.txt       \n",
            "  inflating: bbc/sport/091.txt       \n",
            "  inflating: bbc/sport/092.txt       \n",
            "  inflating: bbc/sport/093.txt       \n",
            "  inflating: bbc/sport/094.txt       \n",
            "  inflating: bbc/sport/095.txt       \n",
            "  inflating: bbc/sport/096.txt       \n",
            "  inflating: bbc/sport/097.txt       \n",
            "  inflating: bbc/sport/098.txt       \n",
            "  inflating: bbc/sport/099.txt       \n",
            "  inflating: bbc/sport/100.txt       \n",
            "  inflating: bbc/sport/101.txt       \n",
            "  inflating: bbc/sport/102.txt       \n",
            "  inflating: bbc/sport/103.txt       \n",
            "  inflating: bbc/sport/104.txt       \n",
            "  inflating: bbc/sport/105.txt       \n",
            "  inflating: bbc/sport/106.txt       \n",
            "  inflating: bbc/sport/107.txt       \n",
            "  inflating: bbc/sport/108.txt       \n",
            "  inflating: bbc/sport/109.txt       \n",
            "  inflating: bbc/sport/110.txt       \n",
            "  inflating: bbc/sport/111.txt       \n",
            "  inflating: bbc/sport/112.txt       \n",
            "  inflating: bbc/sport/113.txt       \n",
            "  inflating: bbc/sport/114.txt       \n",
            "  inflating: bbc/sport/115.txt       \n",
            "  inflating: bbc/sport/116.txt       \n",
            "  inflating: bbc/sport/117.txt       \n",
            "  inflating: bbc/sport/118.txt       \n",
            "  inflating: bbc/sport/119.txt       \n",
            "  inflating: bbc/sport/120.txt       \n",
            "  inflating: bbc/sport/121.txt       \n",
            "  inflating: bbc/sport/122.txt       \n",
            "  inflating: bbc/sport/123.txt       \n",
            "  inflating: bbc/sport/124.txt       \n",
            "  inflating: bbc/sport/125.txt       \n",
            "  inflating: bbc/sport/126.txt       \n",
            "  inflating: bbc/sport/127.txt       \n",
            "  inflating: bbc/sport/128.txt       \n",
            "  inflating: bbc/sport/129.txt       \n",
            "  inflating: bbc/sport/130.txt       \n",
            "  inflating: bbc/sport/131.txt       \n",
            "  inflating: bbc/sport/132.txt       \n",
            "  inflating: bbc/sport/133.txt       \n",
            "  inflating: bbc/sport/134.txt       \n",
            "  inflating: bbc/sport/135.txt       \n",
            "  inflating: bbc/sport/136.txt       \n",
            "  inflating: bbc/sport/137.txt       \n",
            "  inflating: bbc/sport/138.txt       \n",
            "  inflating: bbc/sport/139.txt       \n",
            "  inflating: bbc/sport/140.txt       \n",
            "  inflating: bbc/sport/141.txt       \n",
            "  inflating: bbc/sport/142.txt       \n",
            "  inflating: bbc/sport/143.txt       \n",
            "  inflating: bbc/sport/144.txt       \n",
            "  inflating: bbc/sport/145.txt       \n",
            "  inflating: bbc/sport/146.txt       \n",
            "  inflating: bbc/sport/147.txt       \n",
            "  inflating: bbc/sport/148.txt       \n",
            "  inflating: bbc/sport/149.txt       \n",
            "  inflating: bbc/sport/150.txt       \n",
            "  inflating: bbc/sport/151.txt       \n",
            "  inflating: bbc/sport/152.txt       \n",
            "  inflating: bbc/sport/153.txt       \n",
            "  inflating: bbc/sport/154.txt       \n",
            "  inflating: bbc/sport/155.txt       \n",
            "  inflating: bbc/sport/156.txt       \n",
            "  inflating: bbc/sport/157.txt       \n",
            "  inflating: bbc/sport/158.txt       \n",
            "  inflating: bbc/sport/159.txt       \n",
            "  inflating: bbc/sport/160.txt       \n",
            "  inflating: bbc/sport/161.txt       \n",
            "  inflating: bbc/sport/162.txt       \n",
            "  inflating: bbc/sport/163.txt       \n",
            "  inflating: bbc/sport/164.txt       \n",
            "  inflating: bbc/sport/165.txt       \n",
            "  inflating: bbc/sport/166.txt       \n",
            "  inflating: bbc/sport/167.txt       \n",
            "  inflating: bbc/sport/168.txt       \n",
            "  inflating: bbc/sport/169.txt       \n",
            "  inflating: bbc/sport/170.txt       \n",
            "  inflating: bbc/sport/171.txt       \n",
            "  inflating: bbc/sport/172.txt       \n",
            "  inflating: bbc/sport/173.txt       \n",
            "  inflating: bbc/sport/174.txt       \n",
            "  inflating: bbc/sport/175.txt       \n",
            "  inflating: bbc/sport/176.txt       \n",
            "  inflating: bbc/sport/177.txt       \n",
            "  inflating: bbc/sport/178.txt       \n",
            "  inflating: bbc/sport/179.txt       \n",
            "  inflating: bbc/sport/180.txt       \n",
            "  inflating: bbc/sport/181.txt       \n",
            "  inflating: bbc/sport/182.txt       \n",
            "  inflating: bbc/sport/183.txt       \n",
            "  inflating: bbc/sport/184.txt       \n",
            "  inflating: bbc/sport/185.txt       \n",
            "  inflating: bbc/sport/186.txt       \n",
            "  inflating: bbc/sport/187.txt       \n",
            "  inflating: bbc/sport/188.txt       \n",
            "  inflating: bbc/sport/189.txt       \n",
            "  inflating: bbc/sport/190.txt       \n",
            "  inflating: bbc/sport/191.txt       \n",
            "  inflating: bbc/sport/192.txt       \n",
            "  inflating: bbc/sport/193.txt       \n",
            "  inflating: bbc/sport/194.txt       \n",
            "  inflating: bbc/sport/195.txt       \n",
            "  inflating: bbc/sport/196.txt       \n",
            "  inflating: bbc/sport/197.txt       \n",
            "  inflating: bbc/sport/198.txt       \n",
            "  inflating: bbc/sport/199.txt       \n",
            "  inflating: bbc/sport/200.txt       \n",
            "  inflating: bbc/sport/201.txt       \n",
            "  inflating: bbc/sport/202.txt       \n",
            "  inflating: bbc/sport/203.txt       \n",
            "  inflating: bbc/sport/204.txt       \n",
            "  inflating: bbc/sport/205.txt       \n",
            "  inflating: bbc/sport/206.txt       \n",
            "  inflating: bbc/sport/207.txt       \n",
            "  inflating: bbc/sport/208.txt       \n",
            "  inflating: bbc/sport/209.txt       \n",
            "  inflating: bbc/sport/210.txt       \n",
            "  inflating: bbc/sport/211.txt       \n",
            "  inflating: bbc/sport/212.txt       \n",
            "  inflating: bbc/sport/213.txt       \n",
            "  inflating: bbc/sport/214.txt       \n",
            "  inflating: bbc/sport/215.txt       \n",
            "  inflating: bbc/sport/216.txt       \n",
            "  inflating: bbc/sport/217.txt       \n",
            "  inflating: bbc/sport/218.txt       \n",
            "  inflating: bbc/sport/219.txt       \n",
            "  inflating: bbc/sport/220.txt       \n",
            "  inflating: bbc/sport/221.txt       \n",
            "  inflating: bbc/sport/222.txt       \n",
            "  inflating: bbc/sport/223.txt       \n",
            "  inflating: bbc/sport/224.txt       \n",
            "  inflating: bbc/sport/225.txt       \n",
            "  inflating: bbc/sport/226.txt       \n",
            "  inflating: bbc/sport/227.txt       \n",
            "  inflating: bbc/sport/228.txt       \n",
            "  inflating: bbc/sport/229.txt       \n",
            "  inflating: bbc/sport/230.txt       \n",
            "  inflating: bbc/sport/231.txt       \n",
            "  inflating: bbc/sport/232.txt       \n",
            "  inflating: bbc/sport/233.txt       \n",
            "  inflating: bbc/sport/234.txt       \n",
            "  inflating: bbc/sport/235.txt       \n",
            "  inflating: bbc/sport/236.txt       \n",
            "  inflating: bbc/sport/237.txt       \n",
            "  inflating: bbc/sport/238.txt       \n",
            "  inflating: bbc/sport/239.txt       \n",
            "  inflating: bbc/sport/240.txt       \n",
            "  inflating: bbc/sport/241.txt       \n",
            "  inflating: bbc/sport/242.txt       \n",
            "  inflating: bbc/sport/243.txt       \n",
            "  inflating: bbc/sport/244.txt       \n",
            "  inflating: bbc/sport/245.txt       \n",
            "  inflating: bbc/sport/246.txt       \n",
            "  inflating: bbc/sport/247.txt       \n",
            "  inflating: bbc/sport/248.txt       \n",
            "  inflating: bbc/sport/249.txt       \n",
            "  inflating: bbc/sport/250.txt       \n",
            "  inflating: bbc/sport/251.txt       \n",
            "  inflating: bbc/sport/252.txt       \n",
            "  inflating: bbc/sport/253.txt       \n",
            "  inflating: bbc/sport/254.txt       \n",
            "  inflating: bbc/sport/255.txt       \n",
            "  inflating: bbc/sport/256.txt       \n",
            "  inflating: bbc/sport/257.txt       \n",
            "  inflating: bbc/sport/258.txt       \n",
            "  inflating: bbc/sport/259.txt       \n",
            "  inflating: bbc/sport/260.txt       \n",
            "  inflating: bbc/sport/261.txt       \n",
            "  inflating: bbc/sport/262.txt       \n",
            "  inflating: bbc/sport/263.txt       \n",
            "  inflating: bbc/sport/264.txt       \n",
            "  inflating: bbc/sport/265.txt       \n",
            "  inflating: bbc/sport/266.txt       \n",
            "  inflating: bbc/sport/267.txt       \n",
            "  inflating: bbc/sport/268.txt       \n",
            "  inflating: bbc/sport/269.txt       \n",
            "  inflating: bbc/sport/270.txt       \n",
            "  inflating: bbc/sport/271.txt       \n",
            "  inflating: bbc/sport/272.txt       \n",
            "  inflating: bbc/sport/273.txt       \n",
            "  inflating: bbc/sport/274.txt       \n",
            "  inflating: bbc/sport/275.txt       \n",
            "  inflating: bbc/sport/276.txt       \n",
            "  inflating: bbc/sport/277.txt       \n",
            "  inflating: bbc/sport/278.txt       \n",
            "  inflating: bbc/sport/279.txt       \n",
            "  inflating: bbc/sport/280.txt       \n",
            "  inflating: bbc/sport/281.txt       \n",
            "  inflating: bbc/sport/282.txt       \n",
            "  inflating: bbc/sport/283.txt       \n",
            "  inflating: bbc/sport/284.txt       \n",
            "  inflating: bbc/sport/285.txt       \n",
            "  inflating: bbc/sport/286.txt       \n",
            "  inflating: bbc/sport/287.txt       \n",
            "  inflating: bbc/sport/288.txt       \n",
            "  inflating: bbc/sport/289.txt       \n",
            "  inflating: bbc/sport/290.txt       \n",
            "  inflating: bbc/sport/291.txt       \n",
            "  inflating: bbc/sport/292.txt       \n",
            "  inflating: bbc/sport/293.txt       \n",
            "  inflating: bbc/sport/294.txt       \n",
            "  inflating: bbc/sport/295.txt       \n",
            "  inflating: bbc/sport/296.txt       \n",
            "  inflating: bbc/sport/297.txt       \n",
            "  inflating: bbc/sport/298.txt       \n",
            "  inflating: bbc/sport/299.txt       \n",
            "  inflating: bbc/sport/300.txt       \n",
            "  inflating: bbc/sport/301.txt       \n",
            "  inflating: bbc/sport/302.txt       \n",
            "  inflating: bbc/sport/303.txt       \n",
            "  inflating: bbc/sport/304.txt       \n",
            "  inflating: bbc/sport/305.txt       \n",
            "  inflating: bbc/sport/306.txt       \n",
            "  inflating: bbc/sport/307.txt       \n",
            "  inflating: bbc/sport/308.txt       \n",
            "  inflating: bbc/sport/309.txt       \n",
            "  inflating: bbc/sport/310.txt       \n",
            "  inflating: bbc/sport/311.txt       \n",
            "  inflating: bbc/sport/312.txt       \n",
            "  inflating: bbc/sport/313.txt       \n",
            "  inflating: bbc/sport/314.txt       \n",
            "  inflating: bbc/sport/315.txt       \n",
            "  inflating: bbc/sport/316.txt       \n",
            "  inflating: bbc/sport/317.txt       \n",
            "  inflating: bbc/sport/318.txt       \n",
            "  inflating: bbc/sport/319.txt       \n",
            "  inflating: bbc/sport/320.txt       \n",
            "  inflating: bbc/sport/321.txt       \n",
            "  inflating: bbc/sport/322.txt       \n",
            "  inflating: bbc/sport/323.txt       \n",
            "  inflating: bbc/sport/324.txt       \n",
            "  inflating: bbc/sport/325.txt       \n",
            "  inflating: bbc/sport/326.txt       \n",
            "  inflating: bbc/sport/327.txt       \n",
            "  inflating: bbc/sport/328.txt       \n",
            "  inflating: bbc/sport/329.txt       \n",
            "  inflating: bbc/sport/330.txt       \n",
            "  inflating: bbc/sport/331.txt       \n",
            "  inflating: bbc/sport/332.txt       \n",
            "  inflating: bbc/sport/333.txt       \n",
            "  inflating: bbc/sport/334.txt       \n",
            "  inflating: bbc/sport/335.txt       \n",
            "  inflating: bbc/sport/336.txt       \n",
            "  inflating: bbc/sport/337.txt       \n",
            "  inflating: bbc/sport/338.txt       \n",
            "  inflating: bbc/sport/339.txt       \n",
            "  inflating: bbc/sport/340.txt       \n",
            "  inflating: bbc/sport/341.txt       \n",
            "  inflating: bbc/sport/342.txt       \n",
            "  inflating: bbc/sport/343.txt       \n",
            "  inflating: bbc/sport/344.txt       \n",
            "  inflating: bbc/sport/345.txt       \n",
            "  inflating: bbc/sport/346.txt       \n",
            "  inflating: bbc/sport/347.txt       \n",
            "  inflating: bbc/sport/348.txt       \n",
            "  inflating: bbc/sport/349.txt       \n",
            "  inflating: bbc/sport/350.txt       \n",
            "  inflating: bbc/sport/351.txt       \n",
            "  inflating: bbc/sport/352.txt       \n",
            "  inflating: bbc/sport/353.txt       \n",
            "  inflating: bbc/sport/354.txt       \n",
            "  inflating: bbc/sport/355.txt       \n",
            "  inflating: bbc/sport/356.txt       \n",
            "  inflating: bbc/sport/357.txt       \n",
            "  inflating: bbc/sport/358.txt       \n",
            "  inflating: bbc/sport/359.txt       \n",
            "  inflating: bbc/sport/360.txt       \n",
            "  inflating: bbc/sport/361.txt       \n",
            "  inflating: bbc/sport/362.txt       \n",
            "  inflating: bbc/sport/363.txt       \n",
            "  inflating: bbc/sport/364.txt       \n",
            "  inflating: bbc/sport/365.txt       \n",
            "  inflating: bbc/sport/366.txt       \n",
            "  inflating: bbc/sport/367.txt       \n",
            "  inflating: bbc/sport/368.txt       \n",
            "  inflating: bbc/sport/369.txt       \n",
            "  inflating: bbc/sport/370.txt       \n",
            "  inflating: bbc/sport/371.txt       \n",
            "  inflating: bbc/sport/372.txt       \n",
            "  inflating: bbc/sport/373.txt       \n",
            "  inflating: bbc/sport/374.txt       \n",
            "  inflating: bbc/sport/375.txt       \n",
            "  inflating: bbc/sport/376.txt       \n",
            "  inflating: bbc/sport/377.txt       \n",
            "  inflating: bbc/sport/378.txt       \n",
            "  inflating: bbc/sport/379.txt       \n",
            "  inflating: bbc/sport/380.txt       \n",
            "  inflating: bbc/sport/381.txt       \n",
            "  inflating: bbc/sport/382.txt       \n",
            "  inflating: bbc/sport/383.txt       \n",
            "  inflating: bbc/sport/384.txt       \n",
            "  inflating: bbc/sport/385.txt       \n",
            "  inflating: bbc/sport/386.txt       \n",
            "  inflating: bbc/sport/387.txt       \n",
            "  inflating: bbc/sport/388.txt       \n",
            "  inflating: bbc/sport/389.txt       \n",
            "  inflating: bbc/sport/390.txt       \n",
            "  inflating: bbc/sport/391.txt       \n",
            "  inflating: bbc/sport/392.txt       \n",
            "  inflating: bbc/sport/393.txt       \n",
            "  inflating: bbc/sport/394.txt       \n",
            "  inflating: bbc/sport/395.txt       \n",
            "  inflating: bbc/sport/396.txt       \n",
            "  inflating: bbc/sport/397.txt       \n",
            "  inflating: bbc/sport/398.txt       \n",
            "  inflating: bbc/sport/399.txt       \n",
            "  inflating: bbc/sport/400.txt       \n",
            "  inflating: bbc/sport/401.txt       \n",
            "  inflating: bbc/sport/402.txt       \n",
            "  inflating: bbc/sport/403.txt       \n",
            "  inflating: bbc/sport/404.txt       \n",
            "  inflating: bbc/sport/405.txt       \n",
            "  inflating: bbc/sport/406.txt       \n",
            "  inflating: bbc/sport/407.txt       \n",
            "  inflating: bbc/sport/408.txt       \n",
            "  inflating: bbc/sport/409.txt       \n",
            "  inflating: bbc/sport/410.txt       \n",
            "  inflating: bbc/sport/411.txt       \n",
            "  inflating: bbc/sport/412.txt       \n",
            "  inflating: bbc/sport/413.txt       \n",
            "  inflating: bbc/sport/414.txt       \n",
            "  inflating: bbc/sport/415.txt       \n",
            "  inflating: bbc/sport/416.txt       \n",
            "  inflating: bbc/sport/417.txt       \n",
            "  inflating: bbc/sport/418.txt       \n",
            "  inflating: bbc/sport/419.txt       \n",
            "  inflating: bbc/sport/420.txt       \n",
            "  inflating: bbc/sport/421.txt       \n",
            "  inflating: bbc/sport/422.txt       \n",
            "  inflating: bbc/sport/423.txt       \n",
            "  inflating: bbc/sport/424.txt       \n",
            "  inflating: bbc/sport/425.txt       \n",
            "  inflating: bbc/sport/426.txt       \n",
            "  inflating: bbc/sport/427.txt       \n",
            "  inflating: bbc/sport/428.txt       \n",
            "  inflating: bbc/sport/429.txt       \n",
            "  inflating: bbc/sport/430.txt       \n",
            "  inflating: bbc/sport/431.txt       \n",
            "  inflating: bbc/sport/432.txt       \n",
            "  inflating: bbc/sport/433.txt       \n",
            "  inflating: bbc/sport/434.txt       \n",
            "  inflating: bbc/sport/435.txt       \n",
            "  inflating: bbc/sport/436.txt       \n",
            "  inflating: bbc/sport/437.txt       \n",
            "  inflating: bbc/sport/438.txt       \n",
            "  inflating: bbc/sport/439.txt       \n",
            "  inflating: bbc/sport/440.txt       \n",
            "  inflating: bbc/sport/441.txt       \n",
            "  inflating: bbc/sport/442.txt       \n",
            "  inflating: bbc/sport/443.txt       \n",
            "  inflating: bbc/sport/444.txt       \n",
            "  inflating: bbc/sport/445.txt       \n",
            "  inflating: bbc/sport/446.txt       \n",
            "  inflating: bbc/sport/447.txt       \n",
            "  inflating: bbc/sport/448.txt       \n",
            "  inflating: bbc/sport/449.txt       \n",
            "  inflating: bbc/sport/450.txt       \n",
            "  inflating: bbc/sport/451.txt       \n",
            "  inflating: bbc/sport/452.txt       \n",
            "  inflating: bbc/sport/453.txt       \n",
            "  inflating: bbc/sport/454.txt       \n",
            "  inflating: bbc/sport/455.txt       \n",
            "  inflating: bbc/sport/456.txt       \n",
            "  inflating: bbc/sport/457.txt       \n",
            "  inflating: bbc/sport/458.txt       \n",
            "  inflating: bbc/sport/459.txt       \n",
            "  inflating: bbc/sport/460.txt       \n",
            "  inflating: bbc/sport/461.txt       \n",
            "  inflating: bbc/sport/462.txt       \n",
            "  inflating: bbc/sport/463.txt       \n",
            "  inflating: bbc/sport/464.txt       \n",
            "  inflating: bbc/sport/465.txt       \n",
            "  inflating: bbc/sport/466.txt       \n",
            "  inflating: bbc/sport/467.txt       \n",
            "  inflating: bbc/sport/468.txt       \n",
            "  inflating: bbc/sport/469.txt       \n",
            "  inflating: bbc/sport/470.txt       \n",
            "  inflating: bbc/sport/471.txt       \n",
            "  inflating: bbc/sport/472.txt       \n",
            "  inflating: bbc/sport/473.txt       \n",
            "  inflating: bbc/sport/474.txt       \n",
            "  inflating: bbc/sport/475.txt       \n",
            "  inflating: bbc/sport/476.txt       \n",
            "  inflating: bbc/sport/477.txt       \n",
            "  inflating: bbc/sport/478.txt       \n",
            "  inflating: bbc/sport/479.txt       \n",
            "  inflating: bbc/sport/480.txt       \n",
            "  inflating: bbc/sport/481.txt       \n",
            "  inflating: bbc/sport/482.txt       \n",
            "  inflating: bbc/sport/483.txt       \n",
            "  inflating: bbc/sport/484.txt       \n",
            "  inflating: bbc/sport/485.txt       \n",
            "  inflating: bbc/sport/486.txt       \n",
            "  inflating: bbc/sport/487.txt       \n",
            "  inflating: bbc/sport/488.txt       \n",
            "  inflating: bbc/sport/489.txt       \n",
            "  inflating: bbc/sport/490.txt       \n",
            "  inflating: bbc/sport/491.txt       \n",
            "  inflating: bbc/sport/492.txt       \n",
            "  inflating: bbc/sport/493.txt       \n",
            "  inflating: bbc/sport/494.txt       \n",
            "  inflating: bbc/sport/495.txt       \n",
            "  inflating: bbc/sport/496.txt       \n",
            "  inflating: bbc/sport/497.txt       \n",
            "  inflating: bbc/sport/498.txt       \n",
            "  inflating: bbc/sport/499.txt       \n",
            "  inflating: bbc/sport/500.txt       \n",
            "  inflating: bbc/sport/501.txt       \n",
            "  inflating: bbc/sport/502.txt       \n",
            "  inflating: bbc/sport/503.txt       \n",
            "  inflating: bbc/sport/504.txt       \n",
            "  inflating: bbc/sport/505.txt       \n",
            "  inflating: bbc/sport/506.txt       \n",
            "  inflating: bbc/sport/507.txt       \n",
            "  inflating: bbc/sport/508.txt       \n",
            "  inflating: bbc/sport/509.txt       \n",
            "  inflating: bbc/sport/510.txt       \n",
            "  inflating: bbc/sport/511.txt       \n",
            "  inflating: bbc/tech/001.txt        \n",
            "  inflating: bbc/tech/002.txt        \n",
            "  inflating: bbc/tech/003.txt        \n",
            "  inflating: bbc/tech/004.txt        \n",
            "  inflating: bbc/tech/005.txt        \n",
            "  inflating: bbc/tech/006.txt        \n",
            "  inflating: bbc/tech/007.txt        \n",
            "  inflating: bbc/tech/008.txt        \n",
            "  inflating: bbc/tech/009.txt        \n",
            "  inflating: bbc/tech/010.txt        \n",
            "  inflating: bbc/tech/011.txt        \n",
            "  inflating: bbc/tech/012.txt        \n",
            "  inflating: bbc/tech/013.txt        \n",
            "  inflating: bbc/tech/014.txt        \n",
            "  inflating: bbc/tech/015.txt        \n",
            "  inflating: bbc/tech/016.txt        \n",
            "  inflating: bbc/tech/017.txt        \n",
            "  inflating: bbc/tech/018.txt        \n",
            "  inflating: bbc/tech/019.txt        \n",
            "  inflating: bbc/tech/020.txt        \n",
            "  inflating: bbc/tech/021.txt        \n",
            "  inflating: bbc/tech/022.txt        \n",
            "  inflating: bbc/tech/023.txt        \n",
            "  inflating: bbc/tech/024.txt        \n",
            "  inflating: bbc/tech/025.txt        \n",
            "  inflating: bbc/tech/026.txt        \n",
            "  inflating: bbc/tech/027.txt        \n",
            "  inflating: bbc/tech/028.txt        \n",
            "  inflating: bbc/tech/029.txt        \n",
            "  inflating: bbc/tech/030.txt        \n",
            "  inflating: bbc/tech/031.txt        \n",
            "  inflating: bbc/tech/032.txt        \n",
            "  inflating: bbc/tech/033.txt        \n",
            "  inflating: bbc/tech/034.txt        \n",
            "  inflating: bbc/tech/035.txt        \n",
            "  inflating: bbc/tech/036.txt        \n",
            "  inflating: bbc/tech/037.txt        \n",
            "  inflating: bbc/tech/038.txt        \n",
            "  inflating: bbc/tech/039.txt        \n",
            "  inflating: bbc/tech/040.txt        \n",
            "  inflating: bbc/tech/041.txt        \n",
            "  inflating: bbc/tech/042.txt        \n",
            "  inflating: bbc/tech/043.txt        \n",
            "  inflating: bbc/tech/044.txt        \n",
            "  inflating: bbc/tech/045.txt        \n",
            "  inflating: bbc/tech/046.txt        \n",
            "  inflating: bbc/tech/047.txt        \n",
            "  inflating: bbc/tech/048.txt        \n",
            "  inflating: bbc/tech/049.txt        \n",
            "  inflating: bbc/tech/050.txt        \n",
            "  inflating: bbc/tech/051.txt        \n",
            "  inflating: bbc/tech/052.txt        \n",
            "  inflating: bbc/tech/053.txt        \n",
            "  inflating: bbc/tech/054.txt        \n",
            "  inflating: bbc/tech/055.txt        \n",
            "  inflating: bbc/tech/056.txt        \n",
            "  inflating: bbc/tech/057.txt        \n",
            "  inflating: bbc/tech/058.txt        \n",
            "  inflating: bbc/tech/059.txt        \n",
            "  inflating: bbc/tech/060.txt        \n",
            "  inflating: bbc/tech/061.txt        \n",
            "  inflating: bbc/tech/062.txt        \n",
            "  inflating: bbc/tech/063.txt        \n",
            "  inflating: bbc/tech/064.txt        \n",
            "  inflating: bbc/tech/065.txt        \n",
            "  inflating: bbc/tech/066.txt        \n",
            "  inflating: bbc/tech/067.txt        \n",
            "  inflating: bbc/tech/068.txt        \n",
            "  inflating: bbc/tech/069.txt        \n",
            "  inflating: bbc/tech/070.txt        \n",
            "  inflating: bbc/tech/071.txt        \n",
            "  inflating: bbc/tech/072.txt        \n",
            "  inflating: bbc/tech/073.txt        \n",
            "  inflating: bbc/tech/074.txt        \n",
            "  inflating: bbc/tech/075.txt        \n",
            "  inflating: bbc/tech/076.txt        \n",
            "  inflating: bbc/tech/077.txt        \n",
            "  inflating: bbc/tech/078.txt        \n",
            "  inflating: bbc/tech/079.txt        \n",
            "  inflating: bbc/tech/080.txt        \n",
            "  inflating: bbc/tech/081.txt        \n",
            "  inflating: bbc/tech/082.txt        \n",
            "  inflating: bbc/tech/083.txt        \n",
            "  inflating: bbc/tech/084.txt        \n",
            "  inflating: bbc/tech/085.txt        \n",
            "  inflating: bbc/tech/086.txt        \n",
            "  inflating: bbc/tech/087.txt        \n",
            "  inflating: bbc/tech/088.txt        \n",
            "  inflating: bbc/tech/089.txt        \n",
            "  inflating: bbc/tech/090.txt        \n",
            "  inflating: bbc/tech/091.txt        \n",
            "  inflating: bbc/tech/092.txt        \n",
            "  inflating: bbc/tech/093.txt        \n",
            "  inflating: bbc/tech/094.txt        \n",
            "  inflating: bbc/tech/095.txt        \n",
            "  inflating: bbc/tech/096.txt        \n",
            "  inflating: bbc/tech/097.txt        \n",
            "  inflating: bbc/tech/098.txt        \n",
            "  inflating: bbc/tech/099.txt        \n",
            "  inflating: bbc/tech/100.txt        \n",
            "  inflating: bbc/tech/101.txt        \n",
            "  inflating: bbc/tech/102.txt        \n",
            "  inflating: bbc/tech/103.txt        \n",
            "  inflating: bbc/tech/104.txt        \n",
            "  inflating: bbc/tech/105.txt        \n",
            "  inflating: bbc/tech/106.txt        \n",
            "  inflating: bbc/tech/107.txt        \n",
            "  inflating: bbc/tech/108.txt        \n",
            "  inflating: bbc/tech/109.txt        \n",
            "  inflating: bbc/tech/110.txt        \n",
            "  inflating: bbc/tech/111.txt        \n",
            "  inflating: bbc/tech/112.txt        \n",
            "  inflating: bbc/tech/113.txt        \n",
            "  inflating: bbc/tech/114.txt        \n",
            "  inflating: bbc/tech/115.txt        \n",
            "  inflating: bbc/tech/116.txt        \n",
            "  inflating: bbc/tech/117.txt        \n",
            "  inflating: bbc/tech/118.txt        \n",
            "  inflating: bbc/tech/119.txt        \n",
            "  inflating: bbc/tech/120.txt        \n",
            "  inflating: bbc/tech/121.txt        \n",
            "  inflating: bbc/tech/122.txt        \n",
            "  inflating: bbc/tech/123.txt        \n",
            "  inflating: bbc/tech/124.txt        \n",
            "  inflating: bbc/tech/125.txt        \n",
            "  inflating: bbc/tech/126.txt        \n",
            "  inflating: bbc/tech/127.txt        \n",
            "  inflating: bbc/tech/128.txt        \n",
            "  inflating: bbc/tech/129.txt        \n",
            "  inflating: bbc/tech/130.txt        \n",
            "  inflating: bbc/tech/131.txt        \n",
            "  inflating: bbc/tech/132.txt        \n",
            "  inflating: bbc/tech/133.txt        \n",
            "  inflating: bbc/tech/134.txt        \n",
            "  inflating: bbc/tech/135.txt        \n",
            "  inflating: bbc/tech/136.txt        \n",
            "  inflating: bbc/tech/137.txt        \n",
            "  inflating: bbc/tech/138.txt        \n",
            "  inflating: bbc/tech/139.txt        \n",
            "  inflating: bbc/tech/140.txt        \n",
            "  inflating: bbc/tech/141.txt        \n",
            "  inflating: bbc/tech/142.txt        \n",
            "  inflating: bbc/tech/143.txt        \n",
            "  inflating: bbc/tech/144.txt        \n",
            "  inflating: bbc/tech/145.txt        \n",
            "  inflating: bbc/tech/146.txt        \n",
            "  inflating: bbc/tech/147.txt        \n",
            "  inflating: bbc/tech/148.txt        \n",
            "  inflating: bbc/tech/149.txt        \n",
            "  inflating: bbc/tech/150.txt        \n",
            "  inflating: bbc/tech/151.txt        \n",
            "  inflating: bbc/tech/152.txt        \n",
            "  inflating: bbc/tech/153.txt        \n",
            "  inflating: bbc/tech/154.txt        \n",
            "  inflating: bbc/tech/155.txt        \n",
            "  inflating: bbc/tech/156.txt        \n",
            "  inflating: bbc/tech/157.txt        \n",
            "  inflating: bbc/tech/158.txt        \n",
            "  inflating: bbc/tech/159.txt        \n",
            "  inflating: bbc/tech/160.txt        \n",
            "  inflating: bbc/tech/161.txt        \n",
            "  inflating: bbc/tech/162.txt        \n",
            "  inflating: bbc/tech/163.txt        \n",
            "  inflating: bbc/tech/164.txt        \n",
            "  inflating: bbc/tech/165.txt        \n",
            "  inflating: bbc/tech/166.txt        \n",
            "  inflating: bbc/tech/167.txt        \n",
            "  inflating: bbc/tech/168.txt        \n",
            "  inflating: bbc/tech/169.txt        \n",
            "  inflating: bbc/tech/170.txt        \n",
            "  inflating: bbc/tech/171.txt        \n",
            "  inflating: bbc/tech/172.txt        \n",
            "  inflating: bbc/tech/173.txt        \n",
            "  inflating: bbc/tech/174.txt        \n",
            "  inflating: bbc/tech/175.txt        \n",
            "  inflating: bbc/tech/176.txt        \n",
            "  inflating: bbc/tech/177.txt        \n",
            "  inflating: bbc/tech/178.txt        \n",
            "  inflating: bbc/tech/179.txt        \n",
            "  inflating: bbc/tech/180.txt        \n",
            "  inflating: bbc/tech/181.txt        \n",
            "  inflating: bbc/tech/182.txt        \n",
            "  inflating: bbc/tech/183.txt        \n",
            "  inflating: bbc/tech/184.txt        \n",
            "  inflating: bbc/tech/185.txt        \n",
            "  inflating: bbc/tech/186.txt        \n",
            "  inflating: bbc/tech/187.txt        \n",
            "  inflating: bbc/tech/188.txt        \n",
            "  inflating: bbc/tech/189.txt        \n",
            "  inflating: bbc/tech/190.txt        \n",
            "  inflating: bbc/tech/191.txt        \n",
            "  inflating: bbc/tech/192.txt        \n",
            "  inflating: bbc/tech/193.txt        \n",
            "  inflating: bbc/tech/194.txt        \n",
            "  inflating: bbc/tech/195.txt        \n",
            "  inflating: bbc/tech/196.txt        \n",
            "  inflating: bbc/tech/197.txt        \n",
            "  inflating: bbc/tech/198.txt        \n",
            "  inflating: bbc/tech/199.txt        \n",
            "  inflating: bbc/tech/200.txt        \n",
            "  inflating: bbc/tech/201.txt        \n",
            "  inflating: bbc/tech/202.txt        \n",
            "  inflating: bbc/tech/203.txt        \n",
            "  inflating: bbc/tech/204.txt        \n",
            "  inflating: bbc/tech/205.txt        \n",
            "  inflating: bbc/tech/206.txt        \n",
            "  inflating: bbc/tech/207.txt        \n",
            "  inflating: bbc/tech/208.txt        \n",
            "  inflating: bbc/tech/209.txt        \n",
            "  inflating: bbc/tech/210.txt        \n",
            "  inflating: bbc/tech/211.txt        \n",
            "  inflating: bbc/tech/212.txt        \n",
            "  inflating: bbc/tech/213.txt        \n",
            "  inflating: bbc/tech/214.txt        \n",
            "  inflating: bbc/tech/215.txt        \n",
            "  inflating: bbc/tech/216.txt        \n",
            "  inflating: bbc/tech/217.txt        \n",
            "  inflating: bbc/tech/218.txt        \n",
            "  inflating: bbc/tech/219.txt        \n",
            "  inflating: bbc/tech/220.txt        \n",
            "  inflating: bbc/tech/221.txt        \n",
            "  inflating: bbc/tech/222.txt        \n",
            "  inflating: bbc/tech/223.txt        \n",
            "  inflating: bbc/tech/224.txt        \n",
            "  inflating: bbc/tech/225.txt        \n",
            "  inflating: bbc/tech/226.txt        \n",
            "  inflating: bbc/tech/227.txt        \n",
            "  inflating: bbc/tech/228.txt        \n",
            "  inflating: bbc/tech/229.txt        \n",
            "  inflating: bbc/tech/230.txt        \n",
            "  inflating: bbc/tech/231.txt        \n",
            "  inflating: bbc/tech/232.txt        \n",
            "  inflating: bbc/tech/233.txt        \n",
            "  inflating: bbc/tech/234.txt        \n",
            "  inflating: bbc/tech/235.txt        \n",
            "  inflating: bbc/tech/236.txt        \n",
            "  inflating: bbc/tech/237.txt        \n",
            "  inflating: bbc/tech/238.txt        \n",
            "  inflating: bbc/tech/239.txt        \n",
            "  inflating: bbc/tech/240.txt        \n",
            "  inflating: bbc/tech/241.txt        \n",
            "  inflating: bbc/tech/242.txt        \n",
            "  inflating: bbc/tech/243.txt        \n",
            "  inflating: bbc/tech/244.txt        \n",
            "  inflating: bbc/tech/245.txt        \n",
            "  inflating: bbc/tech/246.txt        \n",
            "  inflating: bbc/tech/247.txt        \n",
            "  inflating: bbc/tech/248.txt        \n",
            "  inflating: bbc/tech/249.txt        \n",
            "  inflating: bbc/tech/250.txt        \n",
            "  inflating: bbc/tech/251.txt        \n",
            "  inflating: bbc/tech/252.txt        \n",
            "  inflating: bbc/tech/253.txt        \n",
            "  inflating: bbc/tech/254.txt        \n",
            "  inflating: bbc/tech/255.txt        \n",
            "  inflating: bbc/tech/256.txt        \n",
            "  inflating: bbc/tech/257.txt        \n",
            "  inflating: bbc/tech/258.txt        \n",
            "  inflating: bbc/tech/259.txt        \n",
            "  inflating: bbc/tech/260.txt        \n",
            "  inflating: bbc/tech/261.txt        \n",
            "  inflating: bbc/tech/262.txt        \n",
            "  inflating: bbc/tech/263.txt        \n",
            "  inflating: bbc/tech/264.txt        \n",
            "  inflating: bbc/tech/265.txt        \n",
            "  inflating: bbc/tech/266.txt        \n",
            "  inflating: bbc/tech/267.txt        \n",
            "  inflating: bbc/tech/268.txt        \n",
            "  inflating: bbc/tech/269.txt        \n",
            "  inflating: bbc/tech/270.txt        \n",
            "  inflating: bbc/tech/271.txt        \n",
            "  inflating: bbc/tech/272.txt        \n",
            "  inflating: bbc/tech/273.txt        \n",
            "  inflating: bbc/tech/274.txt        \n",
            "  inflating: bbc/tech/275.txt        \n",
            "  inflating: bbc/tech/276.txt        \n",
            "  inflating: bbc/tech/277.txt        \n",
            "  inflating: bbc/tech/278.txt        \n",
            "  inflating: bbc/tech/279.txt        \n",
            "  inflating: bbc/tech/280.txt        \n",
            "  inflating: bbc/tech/281.txt        \n",
            "  inflating: bbc/tech/282.txt        \n",
            "  inflating: bbc/tech/283.txt        \n",
            "  inflating: bbc/tech/284.txt        \n",
            "  inflating: bbc/tech/285.txt        \n",
            "  inflating: bbc/tech/286.txt        \n",
            "  inflating: bbc/tech/287.txt        \n",
            "  inflating: bbc/tech/288.txt        \n",
            "  inflating: bbc/tech/289.txt        \n",
            "  inflating: bbc/tech/290.txt        \n",
            "  inflating: bbc/tech/291.txt        \n",
            "  inflating: bbc/tech/292.txt        \n",
            "  inflating: bbc/tech/293.txt        \n",
            "  inflating: bbc/tech/294.txt        \n",
            "  inflating: bbc/tech/295.txt        \n",
            "  inflating: bbc/tech/296.txt        \n",
            "  inflating: bbc/tech/297.txt        \n",
            "  inflating: bbc/tech/298.txt        \n",
            "  inflating: bbc/tech/299.txt        \n",
            "  inflating: bbc/tech/300.txt        \n",
            "  inflating: bbc/tech/301.txt        \n",
            "  inflating: bbc/tech/302.txt        \n",
            "  inflating: bbc/tech/303.txt        \n",
            "  inflating: bbc/tech/304.txt        \n",
            "  inflating: bbc/tech/305.txt        \n",
            "  inflating: bbc/tech/306.txt        \n",
            "  inflating: bbc/tech/307.txt        \n",
            "  inflating: bbc/tech/308.txt        \n",
            "  inflating: bbc/tech/309.txt        \n",
            "  inflating: bbc/tech/310.txt        \n",
            "  inflating: bbc/tech/311.txt        \n",
            "  inflating: bbc/tech/312.txt        \n",
            "  inflating: bbc/tech/313.txt        \n",
            "  inflating: bbc/tech/314.txt        \n",
            "  inflating: bbc/tech/315.txt        \n",
            "  inflating: bbc/tech/316.txt        \n",
            "  inflating: bbc/tech/317.txt        \n",
            "  inflating: bbc/tech/318.txt        \n",
            "  inflating: bbc/tech/319.txt        \n",
            "  inflating: bbc/tech/320.txt        \n",
            "  inflating: bbc/tech/321.txt        \n",
            "  inflating: bbc/tech/322.txt        \n",
            "  inflating: bbc/tech/323.txt        \n",
            "  inflating: bbc/tech/324.txt        \n",
            "  inflating: bbc/tech/325.txt        \n",
            "  inflating: bbc/tech/326.txt        \n",
            "  inflating: bbc/tech/327.txt        \n",
            "  inflating: bbc/tech/328.txt        \n",
            "  inflating: bbc/tech/329.txt        \n",
            "  inflating: bbc/tech/330.txt        \n",
            "  inflating: bbc/tech/331.txt        \n",
            "  inflating: bbc/tech/332.txt        \n",
            "  inflating: bbc/tech/333.txt        \n",
            "  inflating: bbc/tech/334.txt        \n",
            "  inflating: bbc/tech/335.txt        \n",
            "  inflating: bbc/tech/336.txt        \n",
            "  inflating: bbc/tech/337.txt        \n",
            "  inflating: bbc/tech/338.txt        \n",
            "  inflating: bbc/tech/339.txt        \n",
            "  inflating: bbc/tech/340.txt        \n",
            "  inflating: bbc/tech/341.txt        \n",
            "  inflating: bbc/tech/342.txt        \n",
            "  inflating: bbc/tech/343.txt        \n",
            "  inflating: bbc/tech/344.txt        \n",
            "  inflating: bbc/tech/345.txt        \n",
            "  inflating: bbc/tech/346.txt        \n",
            "  inflating: bbc/tech/347.txt        \n",
            "  inflating: bbc/tech/348.txt        \n",
            "  inflating: bbc/tech/349.txt        \n",
            "  inflating: bbc/tech/350.txt        \n",
            "  inflating: bbc/tech/351.txt        \n",
            "  inflating: bbc/tech/352.txt        \n",
            "  inflating: bbc/tech/353.txt        \n",
            "  inflating: bbc/tech/354.txt        \n",
            "  inflating: bbc/tech/355.txt        \n",
            "  inflating: bbc/tech/356.txt        \n",
            "  inflating: bbc/tech/357.txt        \n",
            "  inflating: bbc/tech/358.txt        \n",
            "  inflating: bbc/tech/359.txt        \n",
            "  inflating: bbc/tech/360.txt        \n",
            "  inflating: bbc/tech/361.txt        \n",
            "  inflating: bbc/tech/362.txt        \n",
            "  inflating: bbc/tech/363.txt        \n",
            "  inflating: bbc/tech/364.txt        \n",
            "  inflating: bbc/tech/365.txt        \n",
            "  inflating: bbc/tech/366.txt        \n",
            "  inflating: bbc/tech/367.txt        \n",
            "  inflating: bbc/tech/368.txt        \n",
            "  inflating: bbc/tech/369.txt        \n",
            "  inflating: bbc/tech/370.txt        \n",
            "  inflating: bbc/tech/371.txt        \n",
            "  inflating: bbc/tech/372.txt        \n",
            "  inflating: bbc/tech/373.txt        \n",
            "  inflating: bbc/tech/374.txt        \n",
            "  inflating: bbc/tech/375.txt        \n",
            "  inflating: bbc/tech/376.txt        \n",
            "  inflating: bbc/tech/377.txt        \n",
            "  inflating: bbc/tech/378.txt        \n",
            "  inflating: bbc/tech/379.txt        \n",
            "  inflating: bbc/tech/380.txt        \n",
            "  inflating: bbc/tech/381.txt        \n",
            "  inflating: bbc/tech/382.txt        \n",
            "  inflating: bbc/tech/383.txt        \n",
            "  inflating: bbc/tech/384.txt        \n",
            "  inflating: bbc/tech/385.txt        \n",
            "  inflating: bbc/tech/386.txt        \n",
            "  inflating: bbc/tech/387.txt        \n",
            "  inflating: bbc/tech/388.txt        \n",
            "  inflating: bbc/tech/389.txt        \n",
            "  inflating: bbc/tech/390.txt        \n",
            "  inflating: bbc/tech/391.txt        \n",
            "  inflating: bbc/tech/392.txt        \n",
            "  inflating: bbc/tech/393.txt        \n",
            "  inflating: bbc/tech/394.txt        \n",
            "  inflating: bbc/tech/395.txt        \n",
            "  inflating: bbc/tech/396.txt        \n",
            "  inflating: bbc/tech/397.txt        \n",
            "  inflating: bbc/tech/398.txt        \n",
            "  inflating: bbc/tech/399.txt        \n",
            "  inflating: bbc/tech/400.txt        \n",
            "  inflating: bbc/tech/401.txt        \n"
          ],
          "name": "stdout"
        }
      ]
    },
    {
      "cell_type": "code",
      "metadata": {
        "trusted": true,
        "colab": {
          "base_uri": "https://localhost:8080/"
        },
        "id": "wbJ9fjJGJm2O",
        "outputId": "25f77886-8bda-4d3d-cda7-94054e8c8962"
      },
      "source": [
        "!pip uninstall tensorflow -y \n",
        "!pip install tensorflow==1.15"
      ],
      "execution_count": 1,
      "outputs": [
        {
          "output_type": "stream",
          "text": [
            "Found existing installation: tensorflow 1.15.0\n",
            "Uninstalling tensorflow-1.15.0:\n",
            "  Successfully uninstalled tensorflow-1.15.0\n",
            "Collecting tensorflow==1.15\n",
            "  Using cached tensorflow-1.15.0-cp37-cp37m-manylinux2010_x86_64.whl (412.3 MB)\n",
            "Requirement already satisfied: protobuf>=3.6.1 in /usr/local/lib/python3.7/dist-packages (from tensorflow==1.15) (3.17.3)\n",
            "Requirement already satisfied: tensorflow-estimator==1.15.1 in /usr/local/lib/python3.7/dist-packages (from tensorflow==1.15) (1.15.1)\n",
            "Requirement already satisfied: wrapt>=1.11.1 in /usr/local/lib/python3.7/dist-packages (from tensorflow==1.15) (1.12.1)\n",
            "Requirement already satisfied: six>=1.10.0 in /usr/local/lib/python3.7/dist-packages (from tensorflow==1.15) (1.15.0)\n",
            "Requirement already satisfied: grpcio>=1.8.6 in /usr/local/lib/python3.7/dist-packages (from tensorflow==1.15) (1.39.0)\n",
            "Requirement already satisfied: google-pasta>=0.1.6 in /usr/local/lib/python3.7/dist-packages (from tensorflow==1.15) (0.2.0)\n",
            "Requirement already satisfied: gast==0.2.2 in /usr/local/lib/python3.7/dist-packages (from tensorflow==1.15) (0.2.2)\n",
            "Requirement already satisfied: tensorboard<1.16.0,>=1.15.0 in /usr/local/lib/python3.7/dist-packages (from tensorflow==1.15) (1.15.0)\n",
            "Requirement already satisfied: termcolor>=1.1.0 in /usr/local/lib/python3.7/dist-packages (from tensorflow==1.15) (1.1.0)\n",
            "Requirement already satisfied: wheel>=0.26 in /usr/local/lib/python3.7/dist-packages (from tensorflow==1.15) (0.37.0)\n",
            "Requirement already satisfied: numpy<2.0,>=1.16.0 in /usr/local/lib/python3.7/dist-packages (from tensorflow==1.15) (1.19.5)\n",
            "Requirement already satisfied: keras-applications>=1.0.8 in /usr/local/lib/python3.7/dist-packages (from tensorflow==1.15) (1.0.8)\n",
            "Requirement already satisfied: astor>=0.6.0 in /usr/local/lib/python3.7/dist-packages (from tensorflow==1.15) (0.8.1)\n",
            "Requirement already satisfied: absl-py>=0.7.0 in /usr/local/lib/python3.7/dist-packages (from tensorflow==1.15) (0.12.0)\n",
            "Requirement already satisfied: keras-preprocessing>=1.0.5 in /usr/local/lib/python3.7/dist-packages (from tensorflow==1.15) (1.1.2)\n",
            "Requirement already satisfied: opt-einsum>=2.3.2 in /usr/local/lib/python3.7/dist-packages (from tensorflow==1.15) (3.3.0)\n",
            "Requirement already satisfied: h5py in /usr/local/lib/python3.7/dist-packages (from keras-applications>=1.0.8->tensorflow==1.15) (3.1.0)\n",
            "Requirement already satisfied: setuptools>=41.0.0 in /usr/local/lib/python3.7/dist-packages (from tensorboard<1.16.0,>=1.15.0->tensorflow==1.15) (57.4.0)\n",
            "Requirement already satisfied: markdown>=2.6.8 in /usr/local/lib/python3.7/dist-packages (from tensorboard<1.16.0,>=1.15.0->tensorflow==1.15) (3.3.4)\n",
            "Requirement already satisfied: werkzeug>=0.11.15 in /usr/local/lib/python3.7/dist-packages (from tensorboard<1.16.0,>=1.15.0->tensorflow==1.15) (1.0.1)\n",
            "Requirement already satisfied: importlib-metadata in /usr/local/lib/python3.7/dist-packages (from markdown>=2.6.8->tensorboard<1.16.0,>=1.15.0->tensorflow==1.15) (4.6.4)\n",
            "Requirement already satisfied: cached-property in /usr/local/lib/python3.7/dist-packages (from h5py->keras-applications>=1.0.8->tensorflow==1.15) (1.5.2)\n",
            "Requirement already satisfied: typing-extensions>=3.6.4 in /usr/local/lib/python3.7/dist-packages (from importlib-metadata->markdown>=2.6.8->tensorboard<1.16.0,>=1.15.0->tensorflow==1.15) (3.7.4.3)\n",
            "Requirement already satisfied: zipp>=0.5 in /usr/local/lib/python3.7/dist-packages (from importlib-metadata->markdown>=2.6.8->tensorboard<1.16.0,>=1.15.0->tensorflow==1.15) (3.5.0)\n",
            "Installing collected packages: tensorflow\n",
            "\u001b[31mERROR: pip's dependency resolver does not currently take into account all the packages that are installed. This behaviour is the source of the following dependency conflicts.\n",
            "kapre 0.3.5 requires tensorflow>=2.0.0, but you have tensorflow 1.15.0 which is incompatible.\u001b[0m\n",
            "Successfully installed tensorflow-1.15.0\n"
          ],
          "name": "stdout"
        }
      ]
    },
    {
      "cell_type": "code",
      "metadata": {
        "trusted": true,
        "id": "hO1OfBZAJm2O"
      },
      "source": [
        "# !wget https://raw.githubusercontent.com/google-research/bert/master/modeling.py \n",
        "# !wget https://raw.githubusercontent.com/merishnaSuwal/bert/master/optimization.py\n",
        "# !wget https://raw.githubusercontent.com/merishnaSuwal/bert/master/run_classifier.py\n",
        "# !wget https://raw.githubusercontent.com/merishnaSuwal/bert/master/tokenization.py"
      ],
      "execution_count": null,
      "outputs": []
    },
    {
      "cell_type": "markdown",
      "metadata": {
        "id": "qPbsumgDJm2P"
      },
      "source": [
        "Getting bert functions"
      ]
    },
    {
      "cell_type": "code",
      "metadata": {
        "trusted": true,
        "colab": {
          "base_uri": "https://localhost:8080/"
        },
        "id": "ppLca2f1Jm2P",
        "outputId": "503e5262-0fd1-4403-9731-986dac3f92f6"
      },
      "source": [
        "!wget https://raw.githubusercontent.com/google-research/bert/master/modeling.py \n",
        "!wget https://raw.githubusercontent.com/google-research/bert/master/optimization.py\n",
        "!wget https://raw.githubusercontent.com/google-research/bert/master/run_classifier.py\n",
        "!wget https://raw.githubusercontent.com/google-research/bert/master/tokenization.py"
      ],
      "execution_count": 1,
      "outputs": [
        {
          "output_type": "stream",
          "text": [
            "--2021-08-23 09:19:16--  https://raw.githubusercontent.com/google-research/bert/master/modeling.py\n",
            "Resolving raw.githubusercontent.com (raw.githubusercontent.com)... 185.199.108.133, 185.199.109.133, 185.199.110.133, ...\n",
            "Connecting to raw.githubusercontent.com (raw.githubusercontent.com)|185.199.108.133|:443... connected.\n",
            "HTTP request sent, awaiting response... 200 OK\n",
            "Length: 37922 (37K) [text/plain]\n",
            "Saving to: ‘modeling.py.2’\n",
            "\n",
            "modeling.py.2       100%[===================>]  37.03K  --.-KB/s    in 0.003s  \n",
            "\n",
            "2021-08-23 09:19:16 (11.8 MB/s) - ‘modeling.py.2’ saved [37922/37922]\n",
            "\n",
            "--2021-08-23 09:19:16--  https://raw.githubusercontent.com/google-research/bert/master/optimization.py\n",
            "Resolving raw.githubusercontent.com (raw.githubusercontent.com)... 185.199.108.133, 185.199.109.133, 185.199.110.133, ...\n",
            "Connecting to raw.githubusercontent.com (raw.githubusercontent.com)|185.199.108.133|:443... connected.\n",
            "HTTP request sent, awaiting response... 200 OK\n",
            "Length: 6258 (6.1K) [text/plain]\n",
            "Saving to: ‘optimization.py.2’\n",
            "\n",
            "optimization.py.2   100%[===================>]   6.11K  --.-KB/s    in 0s      \n",
            "\n",
            "2021-08-23 09:19:16 (38.9 MB/s) - ‘optimization.py.2’ saved [6258/6258]\n",
            "\n",
            "--2021-08-23 09:19:16--  https://raw.githubusercontent.com/google-research/bert/master/run_classifier.py\n",
            "Resolving raw.githubusercontent.com (raw.githubusercontent.com)... 185.199.109.133, 185.199.110.133, 185.199.108.133, ...\n",
            "Connecting to raw.githubusercontent.com (raw.githubusercontent.com)|185.199.109.133|:443... connected.\n",
            "HTTP request sent, awaiting response... 200 OK\n",
            "Length: 34783 (34K) [text/plain]\n",
            "Saving to: ‘run_classifier.py.2’\n",
            "\n",
            "run_classifier.py.2 100%[===================>]  33.97K  --.-KB/s    in 0.002s  \n",
            "\n",
            "2021-08-23 09:19:16 (19.9 MB/s) - ‘run_classifier.py.2’ saved [34783/34783]\n",
            "\n",
            "--2021-08-23 09:19:17--  https://raw.githubusercontent.com/google-research/bert/master/tokenization.py\n",
            "Resolving raw.githubusercontent.com (raw.githubusercontent.com)... 185.199.108.133, 185.199.109.133, 185.199.110.133, ...\n",
            "Connecting to raw.githubusercontent.com (raw.githubusercontent.com)|185.199.108.133|:443... connected.\n",
            "HTTP request sent, awaiting response... 200 OK\n",
            "Length: 12257 (12K) [text/plain]\n",
            "Saving to: ‘tokenization.py.2’\n",
            "\n",
            "tokenization.py.2   100%[===================>]  11.97K  --.-KB/s    in 0s      \n",
            "\n",
            "2021-08-23 09:19:17 (62.6 MB/s) - ‘tokenization.py.2’ saved [12257/12257]\n",
            "\n"
          ],
          "name": "stdout"
        }
      ]
    },
    {
      "cell_type": "markdown",
      "metadata": {
        "id": "zOiIRw7LJm2Q"
      },
      "source": [
        "### Import necessary libraries"
      ]
    },
    {
      "cell_type": "code",
      "metadata": {
        "trusted": true,
        "id": "rOFtvaILJm2R"
      },
      "source": [
        "import numpy as np # linear algebra\n",
        "import re, os\n",
        "import pandas as pd # data processing, CSV file I/O (e.g. pd.read_csv)\n",
        "from sklearn.preprocessing import LabelEncoder\n",
        "from nltk.corpus import stopwords\n",
        "from sklearn.model_selection import train_test_split\n",
        "import tensorflow as tf\n",
        "\n",
        "import datetime\n",
        "from datetime import datetime\n",
        "\n",
        "# # BERT\n",
        "# import optimization\n",
        "# import run_classifier\n",
        "# import tokenization\n",
        "# import tensorflow_hub as hub"
      ],
      "execution_count": 2,
      "outputs": []
    },
    {
      "cell_type": "code",
      "metadata": {
        "trusted": true,
        "colab": {
          "base_uri": "https://localhost:8080/",
          "height": 35
        },
        "id": "hXfhDReuJm2S",
        "outputId": "62c0a349-ec36-46aa-f0e2-f2facd401a8e"
      },
      "source": [
        "# Checking tensorflow version (should be 1.15)\n",
        "tf.__version__"
      ],
      "execution_count": 3,
      "outputs": [
        {
          "output_type": "execute_result",
          "data": {
            "application/vnd.google.colaboratory.intrinsic+json": {
              "type": "string"
            },
            "text/plain": [
              "'1.15.0'"
            ]
          },
          "metadata": {},
          "execution_count": 3
        }
      ]
    },
    {
      "cell_type": "code",
      "metadata": {
        "colab": {
          "base_uri": "https://localhost:8080/"
        },
        "id": "D3HLSM0_LeY0",
        "outputId": "73f27a23-ae22-4f17-e09a-3e40c28cd741"
      },
      "source": [
        "!pip uninstall bert-tensorflown"
      ],
      "execution_count": 4,
      "outputs": [
        {
          "output_type": "stream",
          "text": [
            "Found existing installation: bert-tensorflow 1.0.1\n",
            "Uninstalling bert-tensorflow-1.0.1:\n",
            "  Would remove:\n",
            "    /usr/local/lib/python3.7/dist-packages/bert/*\n",
            "    /usr/local/lib/python3.7/dist-packages/bert_tensorflow-1.0.1.dist-info/*\n",
            "Proceed (y/n)? n\n"
          ],
          "name": "stdout"
        }
      ]
    },
    {
      "cell_type": "code",
      "metadata": {
        "id": "TM4-ZTF2TSuk"
      },
      "source": [
        "# !pip install bert-tensorflow==1.0.1"
      ],
      "execution_count": 5,
      "outputs": []
    },
    {
      "cell_type": "code",
      "metadata": {
        "id": "l0nbJrYPLn5Q"
      },
      "source": [
        "# !pip install tensorflow_hub"
      ],
      "execution_count": 6,
      "outputs": []
    },
    {
      "cell_type": "code",
      "metadata": {
        "colab": {
          "base_uri": "https://localhost:8080/"
        },
        "id": "14zV_1zYKbwZ",
        "outputId": "7095dd15-349a-4b73-836b-78587167c987"
      },
      "source": [
        "from tensorflow.keras import optimizers\n",
        "# BERT\n",
        "from bert import optimization\n",
        "#import tf.train.Optimizer#optimization\n",
        "from bert import run_classifier\n",
        "from bert import tokenization\n",
        "import tensorflow_hub as hub"
      ],
      "execution_count": 7,
      "outputs": [
        {
          "output_type": "stream",
          "text": [
            "WARNING:tensorflow:From /usr/local/lib/python3.7/dist-packages/bert/optimization.py:87: The name tf.train.Optimizer is deprecated. Please use tf.compat.v1.train.Optimizer instead.\n",
            "\n"
          ],
          "name": "stdout"
        }
      ]
    },
    {
      "cell_type": "markdown",
      "metadata": {
        "id": "AHle29P7Jm2S"
      },
      "source": [
        "### Read the training dataset"
      ]
    },
    {
      "cell_type": "code",
      "metadata": {
        "trusted": true,
        "id": "3DiSFI1JJm2S"
      },
      "source": [
        "# Get the file details\n",
        "directory = []\n",
        "file = []\n",
        "title = []\n",
        "text = []\n",
        "label = []\n",
        "datapath = './bbc-fulltext (document classification)/bbc/' \n",
        "for dirname, _ , filenames in os.walk(datapath):\n",
        "    #print('Directory: ', dirname)\n",
        "    #print('Subdir: ', dirname.split('/')[-1])\n",
        "    # remove the Readme.txt file\n",
        "    # will not find file in the second iteration so we skip the error\n",
        "    try:\n",
        "        filenames.remove('README.TXT')\n",
        "    except:\n",
        "        pass\n",
        "    for filename in filenames:\n",
        "        directory.append(dirname)\n",
        "        file.append(filename)\n",
        "        label.append(dirname.split('/')[-1])\n",
        "        fullpathfile = os.path.join(dirname,filename)\n",
        "        with open(fullpathfile, 'r', encoding=\"utf8\", errors='ignore') as infile:\n",
        "            intext = ''\n",
        "            firstline = True\n",
        "            for line in infile:\n",
        "                if firstline:\n",
        "                    title.append(line.replace('\\n',''))\n",
        "                    firstline = False\n",
        "                else:\n",
        "                    intext = intext + ' ' + line.replace('\\n','')\n",
        "            text.append(intext)\n"
      ],
      "execution_count": 8,
      "outputs": []
    },
    {
      "cell_type": "markdown",
      "metadata": {
        "id": "9tZ2nMeZJm2T"
      },
      "source": [
        "### Get the data as dataframe"
      ]
    },
    {
      "cell_type": "code",
      "metadata": {
        "_uuid": "d629ff2d2480ee46fbb7e2d37f6b5fab8052498a",
        "_cell_guid": "79c7e3d0-c299-4dcb-8224-4455121ee9b0",
        "trusted": true,
        "colab": {
          "base_uri": "https://localhost:8080/",
          "height": 204
        },
        "id": "wECaRuqyJm2T",
        "outputId": "8894e183-e221-4a86-ad08-08ff5f4f4246"
      },
      "source": [
        "DATA_COLUMN = 'text'\n",
        "LABEL_COLUMN = 'label'\n",
        "\n",
        "fulldf = pd.DataFrame(list(zip(directory, file, title, text, label)), \n",
        "               columns =['directory', 'file', 'title', 'text', 'label'])\n",
        "\n",
        "df = fulldf.filter(['text','label'], axis=1)\n",
        "df.head()"
      ],
      "execution_count": 9,
      "outputs": [
        {
          "output_type": "execute_result",
          "data": {
            "text/html": [
              "<div>\n",
              "<style scoped>\n",
              "    .dataframe tbody tr th:only-of-type {\n",
              "        vertical-align: middle;\n",
              "    }\n",
              "\n",
              "    .dataframe tbody tr th {\n",
              "        vertical-align: top;\n",
              "    }\n",
              "\n",
              "    .dataframe thead th {\n",
              "        text-align: right;\n",
              "    }\n",
              "</style>\n",
              "<table border=\"1\" class=\"dataframe\">\n",
              "  <thead>\n",
              "    <tr style=\"text-align: right;\">\n",
              "      <th></th>\n",
              "      <th>text</th>\n",
              "      <th>label</th>\n",
              "    </tr>\n",
              "  </thead>\n",
              "  <tbody>\n",
              "    <tr>\n",
              "      <th>0</th>\n",
              "      <td>Like some drill sergeant from the past, Meta...</td>\n",
              "      <td>tech</td>\n",
              "    </tr>\n",
              "    <tr>\n",
              "      <th>1</th>\n",
              "      <td>Literally putting a face on technology could...</td>\n",
              "      <td>tech</td>\n",
              "    </tr>\n",
              "    <tr>\n",
              "      <th>2</th>\n",
              "      <td>Americans are becoming avid blog readers, wi...</td>\n",
              "      <td>tech</td>\n",
              "    </tr>\n",
              "    <tr>\n",
              "      <th>3</th>\n",
              "      <td>High-speed net connections in the UK are pro...</td>\n",
              "      <td>tech</td>\n",
              "    </tr>\n",
              "    <tr>\n",
              "      <th>4</th>\n",
              "      <td>A mobile phone chip which combines a modem a...</td>\n",
              "      <td>tech</td>\n",
              "    </tr>\n",
              "  </tbody>\n",
              "</table>\n",
              "</div>"
            ],
            "text/plain": [
              "                                                text label\n",
              "0    Like some drill sergeant from the past, Meta...  tech\n",
              "1    Literally putting a face on technology could...  tech\n",
              "2    Americans are becoming avid blog readers, wi...  tech\n",
              "3    High-speed net connections in the UK are pro...  tech\n",
              "4    A mobile phone chip which combines a modem a...  tech"
            ]
          },
          "metadata": {},
          "execution_count": 9
        }
      ]
    },
    {
      "cell_type": "markdown",
      "metadata": {
        "id": "BU5L8uFEJm2T"
      },
      "source": [
        "Checking the shape of the dataframe"
      ]
    },
    {
      "cell_type": "code",
      "metadata": {
        "trusted": true,
        "colab": {
          "base_uri": "https://localhost:8080/"
        },
        "id": "UFqn6jvOJm2U",
        "outputId": "36e97192-eafe-4b4f-b9a9-61125c0944e9"
      },
      "source": [
        "df.shape"
      ],
      "execution_count": 10,
      "outputs": [
        {
          "output_type": "execute_result",
          "data": {
            "text/plain": [
              "(2225, 2)"
            ]
          },
          "metadata": {},
          "execution_count": 10
        }
      ]
    },
    {
      "cell_type": "markdown",
      "metadata": {
        "id": "WRWKJOtoJm2U"
      },
      "source": [
        "Checking if null values exist"
      ]
    },
    {
      "cell_type": "code",
      "metadata": {
        "trusted": true,
        "colab": {
          "base_uri": "https://localhost:8080/"
        },
        "id": "SFzKuHBrJm2U",
        "outputId": "bcb18d21-7a2a-4b9d-dd5b-a8f2ef964f67"
      },
      "source": [
        "df.isnull().sum()"
      ],
      "execution_count": 11,
      "outputs": [
        {
          "output_type": "execute_result",
          "data": {
            "text/plain": [
              "text     0\n",
              "label    0\n",
              "dtype: int64"
            ]
          },
          "metadata": {},
          "execution_count": 11
        }
      ]
    },
    {
      "cell_type": "markdown",
      "metadata": {
        "id": "lRgEsAsYJm2U"
      },
      "source": [
        "Get unique labels"
      ]
    },
    {
      "cell_type": "code",
      "metadata": {
        "trusted": true,
        "colab": {
          "base_uri": "https://localhost:8080/"
        },
        "id": "8FUOWH7-Jm2U",
        "outputId": "aadd5f46-8ddb-42a0-ec5d-665e0502f331"
      },
      "source": [
        "for label in np.unique(df['label']):\n",
        "    print(label)"
      ],
      "execution_count": 12,
      "outputs": [
        {
          "output_type": "stream",
          "text": [
            "business\n",
            "entertainment\n",
            "politics\n",
            "sport\n",
            "tech\n"
          ],
          "name": "stdout"
        }
      ]
    },
    {
      "cell_type": "code",
      "metadata": {
        "trusted": true,
        "colab": {
          "base_uri": "https://localhost:8080/",
          "height": 344
        },
        "id": "rsrEPDWnJm2U",
        "outputId": "bdba92a0-78f4-477f-84fc-e6218fe5c8d8"
      },
      "source": [
        "# Checking number of records of each label\n",
        "df['label'].value_counts().sort_values(ascending=False).plot(kind='bar')"
      ],
      "execution_count": 13,
      "outputs": [
        {
          "output_type": "execute_result",
          "data": {
            "text/plain": [
              "<matplotlib.axes._subplots.AxesSubplot at 0x7f6683ffac50>"
            ]
          },
          "metadata": {},
          "execution_count": 13
        },
        {
          "output_type": "display_data",
          "data": {
            "image/png": "[encoded data removed]",
            "text/plain": [
              "<Figure size 432x288 with 1 Axes>"
            ]
          },
          "metadata": {
            "needs_background": "light"
          }
        }
      ]
    },
    {
      "cell_type": "markdown",
      "metadata": {
        "id": "rdQgdiVmJm2V"
      },
      "source": [
        "### Encode the labels into numeric"
      ]
    },
    {
      "cell_type": "code",
      "metadata": {
        "trusted": true,
        "colab": {
          "base_uri": "https://localhost:8080/",
          "height": 204
        },
        "id": "SwICXIWNJm2V",
        "outputId": "fa3f164c-d251-4739-9f94-72894c1cc2d7"
      },
      "source": [
        "le = LabelEncoder()\n",
        "df['label'] = le.fit_transform(df['label'])\n",
        "df.head()"
      ],
      "execution_count": 14,
      "outputs": [
        {
          "output_type": "execute_result",
          "data": {
            "text/html": [
              "<div>\n",
              "<style scoped>\n",
              "    .dataframe tbody tr th:only-of-type {\n",
              "        vertical-align: middle;\n",
              "    }\n",
              "\n",
              "    .dataframe tbody tr th {\n",
              "        vertical-align: top;\n",
              "    }\n",
              "\n",
              "    .dataframe thead th {\n",
              "        text-align: right;\n",
              "    }\n",
              "</style>\n",
              "<table border=\"1\" class=\"dataframe\">\n",
              "  <thead>\n",
              "    <tr style=\"text-align: right;\">\n",
              "      <th></th>\n",
              "      <th>text</th>\n",
              "      <th>label</th>\n",
              "    </tr>\n",
              "  </thead>\n",
              "  <tbody>\n",
              "    <tr>\n",
              "      <th>0</th>\n",
              "      <td>Like some drill sergeant from the past, Meta...</td>\n",
              "      <td>4</td>\n",
              "    </tr>\n",
              "    <tr>\n",
              "      <th>1</th>\n",
              "      <td>Literally putting a face on technology could...</td>\n",
              "      <td>4</td>\n",
              "    </tr>\n",
              "    <tr>\n",
              "      <th>2</th>\n",
              "      <td>Americans are becoming avid blog readers, wi...</td>\n",
              "      <td>4</td>\n",
              "    </tr>\n",
              "    <tr>\n",
              "      <th>3</th>\n",
              "      <td>High-speed net connections in the UK are pro...</td>\n",
              "      <td>4</td>\n",
              "    </tr>\n",
              "    <tr>\n",
              "      <th>4</th>\n",
              "      <td>A mobile phone chip which combines a modem a...</td>\n",
              "      <td>4</td>\n",
              "    </tr>\n",
              "  </tbody>\n",
              "</table>\n",
              "</div>"
            ],
            "text/plain": [
              "                                                text  label\n",
              "0    Like some drill sergeant from the past, Meta...      4\n",
              "1    Literally putting a face on technology could...      4\n",
              "2    Americans are becoming avid blog readers, wi...      4\n",
              "3    High-speed net connections in the UK are pro...      4\n",
              "4    A mobile phone chip which combines a modem a...      4"
            ]
          },
          "metadata": {},
          "execution_count": 14
        }
      ]
    },
    {
      "cell_type": "code",
      "metadata": {
        "id": "m7DBPbrbMKkU"
      },
      "source": [
        "stopwords = ['i', 'me', 'my', 'myself', 'we', 'our', 'ours', 'ourselves', 'you', \"you're\", \"you've\", \"you'll\", \"you'd\", 'your', 'yours', 'yourself', 'yourselves', 'he', 'him', 'his', 'himself', 'she', \"she's\", 'her', 'hers', 'herself', 'it', \"it's\", 'its', 'itself', 'they', 'them', 'their', 'theirs', 'themselves', 'what', 'which', 'who', 'whom', 'this', 'that', \"that'll\", 'these', 'those', 'am', 'is', 'are', 'was', 'were', 'be', 'been', 'being', 'have', 'has', 'had', 'having', 'do', 'does', 'did', 'doing', 'a', 'an', 'the', 'and', 'but', 'if', 'or', 'because', 'as', 'until', 'while', 'of', 'at', 'by', 'for', 'with', 'about', 'against', 'between', 'into', 'through', 'during', 'before', 'after', 'above', 'below', 'to', 'from', 'up', 'down', 'in', 'out', 'on', 'off', 'over', 'under', 'again', 'further', 'then', 'once', 'here', 'there', 'when', 'where', 'why', 'how', 'all', 'any', 'both', 'each', 'few', 'more', 'most', 'other', 'some', 'such', 'no', 'nor', 'not', 'only', 'own', 'same', 'so', 'than', 'too', 'very', 's', 't', 'can', 'will', 'just', 'don', \"don't\", 'should', \"should've\", 'now', 'd', 'll', 'm', 'o', 're', 've', 'y', 'ain', 'aren', \"aren't\", 'couldn', \"couldn't\", 'didn', \"didn't\", 'doesn', \"doesn't\", 'hadn', \"hadn't\", 'hasn', \"hasn't\", 'haven', \"haven't\", 'isn', \"isn't\", 'ma', 'mightn', \"mightn't\", 'mustn', \"mustn't\", 'needn', \"needn't\", 'shan', \"shan't\", 'shouldn', \"shouldn't\", 'wasn', \"wasn't\", 'weren', \"weren't\", 'won', \"won't\", 'wouldn', \"wouldn't\"]"
      ],
      "execution_count": 15,
      "outputs": []
    },
    {
      "cell_type": "markdown",
      "metadata": {
        "id": "h21RZkpOJm2V"
      },
      "source": [
        "### Perform preprocessing to text"
      ]
    },
    {
      "cell_type": "code",
      "metadata": {
        "trusted": true,
        "id": "6R2uc4m0Jm2V"
      },
      "source": [
        "REPLACE_BY_SPACE_RE = re.compile('[/(){}\\[\\]\\|@,;]')\n",
        "BAD_SYMBOLS_RE = re.compile('[^0-9a-z #+_]')\n",
        "#stopwords = set(stopwords.words('english'))\n",
        "\n",
        "def clean_text(text):\n",
        "    \"\"\"\n",
        "        text: a string\n",
        "        \n",
        "        return: modified initial string\n",
        "    \"\"\"\n",
        "    text = text.lower() # lowercase text\n",
        "    text = REPLACE_BY_SPACE_RE.sub(' ', text) # replace REPLACE_BY_SPACE_RE symbols by space in text. substitute the matched string in REPLACE_BY_SPACE_RE with space.\n",
        "    text = BAD_SYMBOLS_RE.sub('', text) # remove symbols which are in BAD_SYMBOLS_RE from text. substitute the matched string in BAD_SYMBOLS_RE with nothing. \n",
        "#     text = re.sub(r'\\W+', '', text)\n",
        "    text = ' '.join(word for word in text.split() if word not in stopwords) # remove stopwors from text\n",
        "    return text"
      ],
      "execution_count": 16,
      "outputs": []
    },
    {
      "cell_type": "code",
      "metadata": {
        "trusted": true,
        "colab": {
          "base_uri": "https://localhost:8080/",
          "height": 204
        },
        "id": "JGAcfa1CJm2V",
        "outputId": "4ef02ca1-063b-4614-e6a9-f5b68c83768f"
      },
      "source": [
        "df['text'] = df['text'].apply(clean_text)\n",
        "df['text'] = df['text'].str.replace('\\d+', '')\n",
        "df.head()"
      ],
      "execution_count": 17,
      "outputs": [
        {
          "output_type": "execute_result",
          "data": {
            "text/html": [
              "<div>\n",
              "<style scoped>\n",
              "    .dataframe tbody tr th:only-of-type {\n",
              "        vertical-align: middle;\n",
              "    }\n",
              "\n",
              "    .dataframe tbody tr th {\n",
              "        vertical-align: top;\n",
              "    }\n",
              "\n",
              "    .dataframe thead th {\n",
              "        text-align: right;\n",
              "    }\n",
              "</style>\n",
              "<table border=\"1\" class=\"dataframe\">\n",
              "  <thead>\n",
              "    <tr style=\"text-align: right;\">\n",
              "      <th></th>\n",
              "      <th>text</th>\n",
              "      <th>label</th>\n",
              "    </tr>\n",
              "  </thead>\n",
              "  <tbody>\n",
              "    <tr>\n",
              "      <th>0</th>\n",
              "      <td>like drill sergeant past metal slug  wakeup ca...</td>\n",
              "      <td>4</td>\n",
              "    </tr>\n",
              "    <tr>\n",
              "      <th>1</th>\n",
              "      <td>literally putting face technology could one ke...</td>\n",
              "      <td>4</td>\n",
              "    </tr>\n",
              "    <tr>\n",
              "      <th>2</th>\n",
              "      <td>americans becoming avid blog readers  million ...</td>\n",
              "      <td>4</td>\n",
              "    </tr>\n",
              "    <tr>\n",
              "      <th>3</th>\n",
              "      <td>highspeed net connections uk proving popular e...</td>\n",
              "      <td>4</td>\n",
              "    </tr>\n",
              "    <tr>\n",
              "      <th>4</th>\n",
              "      <td>mobile phone chip combines modem computer proc...</td>\n",
              "      <td>4</td>\n",
              "    </tr>\n",
              "  </tbody>\n",
              "</table>\n",
              "</div>"
            ],
            "text/plain": [
              "                                                text  label\n",
              "0  like drill sergeant past metal slug  wakeup ca...      4\n",
              "1  literally putting face technology could one ke...      4\n",
              "2  americans becoming avid blog readers  million ...      4\n",
              "3  highspeed net connections uk proving popular e...      4\n",
              "4  mobile phone chip combines modem computer proc...      4"
            ]
          },
          "metadata": {},
          "execution_count": 17
        }
      ]
    },
    {
      "cell_type": "markdown",
      "metadata": {
        "id": "dD6_TTakJm2W"
      },
      "source": [
        "### Processing text for BERT model\n",
        "\n"
      ]
    },
    {
      "cell_type": "code",
      "metadata": {
        "trusted": true,
        "id": "1IrFUTmTJm2W"
      },
      "source": [
        "def get_split(text1):\n",
        "    l_total = []\n",
        "    l_parcial = []\n",
        "    if len(text1.split())//150 >0:\n",
        "        n = len(text1.split())//150\n",
        "    else: \n",
        "        n = 1\n",
        "    for w in range(n):\n",
        "        if w == 0:\n",
        "            l_parcial = text1.split()[:200]\n",
        "            l_total.append(\" \".join(l_parcial))\n",
        "        else:\n",
        "            l_parcial = text1.split()[w*150:w*150 + 200]\n",
        "            l_total.append(\" \".join(l_parcial))\n",
        "    return l_total"
      ],
      "execution_count": 18,
      "outputs": []
    },
    {
      "cell_type": "code",
      "metadata": {
        "trusted": true,
        "colab": {
          "base_uri": "https://localhost:8080/",
          "height": 204
        },
        "id": "M5zEc50dJm2W",
        "outputId": "8ad6cb25-20ec-464e-f8e8-4b1836f33b95"
      },
      "source": [
        "df['text_split'] = df['text'].apply(get_split)\n",
        "df.head()"
      ],
      "execution_count": 19,
      "outputs": [
        {
          "output_type": "execute_result",
          "data": {
            "text/html": [
              "<div>\n",
              "<style scoped>\n",
              "    .dataframe tbody tr th:only-of-type {\n",
              "        vertical-align: middle;\n",
              "    }\n",
              "\n",
              "    .dataframe tbody tr th {\n",
              "        vertical-align: top;\n",
              "    }\n",
              "\n",
              "    .dataframe thead th {\n",
              "        text-align: right;\n",
              "    }\n",
              "</style>\n",
              "<table border=\"1\" class=\"dataframe\">\n",
              "  <thead>\n",
              "    <tr style=\"text-align: right;\">\n",
              "      <th></th>\n",
              "      <th>text</th>\n",
              "      <th>label</th>\n",
              "      <th>text_split</th>\n",
              "    </tr>\n",
              "  </thead>\n",
              "  <tbody>\n",
              "    <tr>\n",
              "      <th>0</th>\n",
              "      <td>like drill sergeant past metal slug  wakeup ca...</td>\n",
              "      <td>4</td>\n",
              "      <td>[like drill sergeant past metal slug wakeup ca...</td>\n",
              "    </tr>\n",
              "    <tr>\n",
              "      <th>1</th>\n",
              "      <td>literally putting face technology could one ke...</td>\n",
              "      <td>4</td>\n",
              "      <td>[literally putting face technology could one k...</td>\n",
              "    </tr>\n",
              "    <tr>\n",
              "      <th>2</th>\n",
              "      <td>americans becoming avid blog readers  million ...</td>\n",
              "      <td>4</td>\n",
              "      <td>[americans becoming avid blog readers million ...</td>\n",
              "    </tr>\n",
              "    <tr>\n",
              "      <th>3</th>\n",
              "      <td>highspeed net connections uk proving popular e...</td>\n",
              "      <td>4</td>\n",
              "      <td>[highspeed net connections uk proving popular ...</td>\n",
              "    </tr>\n",
              "    <tr>\n",
              "      <th>4</th>\n",
              "      <td>mobile phone chip combines modem computer proc...</td>\n",
              "      <td>4</td>\n",
              "      <td>[mobile phone chip combines modem computer pro...</td>\n",
              "    </tr>\n",
              "  </tbody>\n",
              "</table>\n",
              "</div>"
            ],
            "text/plain": [
              "                                                text  ...                                         text_split\n",
              "0  like drill sergeant past metal slug  wakeup ca...  ...  [like drill sergeant past metal slug wakeup ca...\n",
              "1  literally putting face technology could one ke...  ...  [literally putting face technology could one k...\n",
              "2  americans becoming avid blog readers  million ...  ...  [americans becoming avid blog readers million ...\n",
              "3  highspeed net connections uk proving popular e...  ...  [highspeed net connections uk proving popular ...\n",
              "4  mobile phone chip combines modem computer proc...  ...  [mobile phone chip combines modem computer pro...\n",
              "\n",
              "[5 rows x 3 columns]"
            ]
          },
          "metadata": {},
          "execution_count": 19
        }
      ]
    },
    {
      "cell_type": "markdown",
      "metadata": {
        "id": "zB7gvHh-Jm2W"
      },
      "source": [
        "Setting output directory for BERT"
      ]
    },
    {
      "cell_type": "code",
      "metadata": {
        "trusted": true,
        "colab": {
          "base_uri": "https://localhost:8080/"
        },
        "id": "ZHMt5C1kJm2W",
        "outputId": "7b303bb8-3707-43ce-8ed3-97d894273f37"
      },
      "source": [
        "# Set the output directory for saving model file\n",
        "OUTPUT_DIR = '/bert_news_category'\n",
        "\n",
        "#@markdown Whether or not to clear/delete the directory and create a new one\n",
        "DO_DELETE = True #@param {type:\"boolean\"}\n",
        "\n",
        "if DO_DELETE:\n",
        "    try:\n",
        "        tf.gfile.DeleteRecursively(OUTPUT_DIR)\n",
        "#         tf.compat.v1.gfile.DeleteRecursively(OUTPUT_DIR)\n",
        "    except:\n",
        "        pass\n",
        "\n",
        "tf.gfile.MakeDirs(OUTPUT_DIR)\n",
        "print('***** Model output directory: {} *****'.format(OUTPUT_DIR))"
      ],
      "execution_count": 20,
      "outputs": [
        {
          "output_type": "stream",
          "text": [
            "***** Model output directory: /bert_news_category *****\n"
          ],
          "name": "stdout"
        }
      ]
    },
    {
      "cell_type": "markdown",
      "metadata": {
        "id": "txchMsHPJm2W"
      },
      "source": [
        "### Split into 80% training and 20% validation"
      ]
    },
    {
      "cell_type": "code",
      "metadata": {
        "trusted": true,
        "colab": {
          "base_uri": "https://localhost:8080/",
          "height": 111
        },
        "id": "P_dYJ4PHJm2W",
        "outputId": "0ca536b8-69e1-406d-f0ef-0626da96b994"
      },
      "source": [
        "train, val = train_test_split(df, test_size=0.2, random_state=35)\n",
        "train.reset_index(drop=True, inplace=True)\n",
        "train.head(2)"
      ],
      "execution_count": 21,
      "outputs": [
        {
          "output_type": "execute_result",
          "data": {
            "text/html": [
              "<div>\n",
              "<style scoped>\n",
              "    .dataframe tbody tr th:only-of-type {\n",
              "        vertical-align: middle;\n",
              "    }\n",
              "\n",
              "    .dataframe tbody tr th {\n",
              "        vertical-align: top;\n",
              "    }\n",
              "\n",
              "    .dataframe thead th {\n",
              "        text-align: right;\n",
              "    }\n",
              "</style>\n",
              "<table border=\"1\" class=\"dataframe\">\n",
              "  <thead>\n",
              "    <tr style=\"text-align: right;\">\n",
              "      <th></th>\n",
              "      <th>text</th>\n",
              "      <th>label</th>\n",
              "      <th>text_split</th>\n",
              "    </tr>\n",
              "  </thead>\n",
              "  <tbody>\n",
              "    <tr>\n",
              "      <th>0</th>\n",
              "      <td>people using wireless highspeed net wifi warne...</td>\n",
              "      <td>4</td>\n",
              "      <td>[people using wireless highspeed net wifi warn...</td>\n",
              "    </tr>\n",
              "    <tr>\n",
              "      <th>1</th>\n",
              "      <td>two days talks future gibraltar begin jack str...</td>\n",
              "      <td>2</td>\n",
              "      <td>[two days talks future gibraltar begin jack st...</td>\n",
              "    </tr>\n",
              "  </tbody>\n",
              "</table>\n",
              "</div>"
            ],
            "text/plain": [
              "                                                text  ...                                         text_split\n",
              "0  people using wireless highspeed net wifi warne...  ...  [people using wireless highspeed net wifi warn...\n",
              "1  two days talks future gibraltar begin jack str...  ...  [two days talks future gibraltar begin jack st...\n",
              "\n",
              "[2 rows x 3 columns]"
            ]
          },
          "metadata": {},
          "execution_count": 21
        }
      ]
    },
    {
      "cell_type": "code",
      "metadata": {
        "trusted": true,
        "colab": {
          "base_uri": "https://localhost:8080/"
        },
        "id": "nPftdniRJm2X",
        "outputId": "524f2616-e87a-4de4-b052-de3bf8423bd9"
      },
      "source": [
        "# Get labels\n",
        "label_list = [x for x in np.unique(train.label)]\n",
        "label_list"
      ],
      "execution_count": 22,
      "outputs": [
        {
          "output_type": "execute_result",
          "data": {
            "text/plain": [
              "[0, 1, 2, 3, 4]"
            ]
          },
          "metadata": {},
          "execution_count": 22
        }
      ]
    },
    {
      "cell_type": "code",
      "metadata": {
        "trusted": true,
        "colab": {
          "base_uri": "https://localhost:8080/",
          "height": 111
        },
        "id": "u5oXuCPOJm2X",
        "outputId": "a962765c-d5d0-45e6-c970-29cfbbe9383c"
      },
      "source": [
        "val.reset_index(drop=True, inplace=True)\n",
        "val.head(2)"
      ],
      "execution_count": 23,
      "outputs": [
        {
          "output_type": "execute_result",
          "data": {
            "text/html": [
              "<div>\n",
              "<style scoped>\n",
              "    .dataframe tbody tr th:only-of-type {\n",
              "        vertical-align: middle;\n",
              "    }\n",
              "\n",
              "    .dataframe tbody tr th {\n",
              "        vertical-align: top;\n",
              "    }\n",
              "\n",
              "    .dataframe thead th {\n",
              "        text-align: right;\n",
              "    }\n",
              "</style>\n",
              "<table border=\"1\" class=\"dataframe\">\n",
              "  <thead>\n",
              "    <tr style=\"text-align: right;\">\n",
              "      <th></th>\n",
              "      <th>text</th>\n",
              "      <th>label</th>\n",
              "      <th>text_split</th>\n",
              "    </tr>\n",
              "  </thead>\n",
              "  <tbody>\n",
              "    <tr>\n",
              "      <th>0</th>\n",
              "      <td>uk retail sales better expected november chris...</td>\n",
              "      <td>0</td>\n",
              "      <td>[uk retail sales better expected november chri...</td>\n",
              "    </tr>\n",
              "    <tr>\n",
              "      <th>1</th>\n",
              "      <td>life insurer axa sun life lowered annual bonus...</td>\n",
              "      <td>0</td>\n",
              "      <td>[life insurer axa sun life lowered annual bonu...</td>\n",
              "    </tr>\n",
              "  </tbody>\n",
              "</table>\n",
              "</div>"
            ],
            "text/plain": [
              "                                                text  ...                                         text_split\n",
              "0  uk retail sales better expected november chris...  ...  [uk retail sales better expected november chri...\n",
              "1  life insurer axa sun life lowered annual bonus...  ...  [life insurer axa sun life lowered annual bonu...\n",
              "\n",
              "[2 rows x 3 columns]"
            ]
          },
          "metadata": {},
          "execution_count": 23
        }
      ]
    },
    {
      "cell_type": "markdown",
      "metadata": {
        "id": "7lqGolATJm2X"
      },
      "source": [
        "### Check shape of train and validation data"
      ]
    },
    {
      "cell_type": "code",
      "metadata": {
        "trusted": true,
        "colab": {
          "base_uri": "https://localhost:8080/"
        },
        "id": "krVDFeJVJm2X",
        "outputId": "184e6ec6-55a8-4743-c7a3-d9405277d953"
      },
      "source": [
        "val.shape, train.shape"
      ],
      "execution_count": 24,
      "outputs": [
        {
          "output_type": "execute_result",
          "data": {
            "text/plain": [
              "((445, 3), (1780, 3))"
            ]
          },
          "metadata": {},
          "execution_count": 24
        }
      ]
    },
    {
      "cell_type": "code",
      "metadata": {
        "trusted": true,
        "colab": {
          "base_uri": "https://localhost:8080/"
        },
        "id": "RQOWB7ONJm2X",
        "outputId": "f04e50b5-3a99-48cb-e24f-5303380d1e94"
      },
      "source": [
        "train_l = []\n",
        "label_l = []\n",
        "index_l =[]\n",
        "for idx,row in train.iterrows():\n",
        "    for l in row['text_split']:\n",
        "        train_l.append(l)\n",
        "        label_l.append(row['label'])\n",
        "        index_l.append(idx)\n",
        "len(train_l), len(label_l), len(index_l)"
      ],
      "execution_count": 25,
      "outputs": [
        {
          "output_type": "execute_result",
          "data": {
            "text/plain": [
              "(2150, 2150, 2150)"
            ]
          },
          "metadata": {},
          "execution_count": 25
        }
      ]
    },
    {
      "cell_type": "code",
      "metadata": {
        "trusted": true,
        "colab": {
          "base_uri": "https://localhost:8080/"
        },
        "id": "8Q_gqDo0Jm2X",
        "outputId": "a725a90d-225b-4925-819f-df80396b4992"
      },
      "source": [
        "val_l = []\n",
        "val_label_l = []\n",
        "val_index_l = []\n",
        "for idx,row in val.iterrows():\n",
        "    for l in row['text_split']:\n",
        "        val_l.append(l)\n",
        "        val_label_l.append(row['label'])\n",
        "        val_index_l.append(idx)\n",
        "len(val_l), len(val_label_l), len(val_index_l)"
      ],
      "execution_count": 26,
      "outputs": [
        {
          "output_type": "execute_result",
          "data": {
            "text/plain": [
              "(564, 564, 564)"
            ]
          },
          "metadata": {},
          "execution_count": 26
        }
      ]
    },
    {
      "cell_type": "markdown",
      "metadata": {
        "id": "IUhJxPHmJm2X"
      },
      "source": [
        "### Getting train and validation set as dataframe"
      ]
    },
    {
      "cell_type": "code",
      "metadata": {
        "trusted": true,
        "colab": {
          "base_uri": "https://localhost:8080/",
          "height": 204
        },
        "id": "AJvBk1pQJm2X",
        "outputId": "bd24bd90-706f-4351-c5ad-580c83659ec1"
      },
      "source": [
        "train_df = pd.DataFrame({DATA_COLUMN:train_l, LABEL_COLUMN:label_l})\n",
        "train_df.head()"
      ],
      "execution_count": 27,
      "outputs": [
        {
          "output_type": "execute_result",
          "data": {
            "text/html": [
              "<div>\n",
              "<style scoped>\n",
              "    .dataframe tbody tr th:only-of-type {\n",
              "        vertical-align: middle;\n",
              "    }\n",
              "\n",
              "    .dataframe tbody tr th {\n",
              "        vertical-align: top;\n",
              "    }\n",
              "\n",
              "    .dataframe thead th {\n",
              "        text-align: right;\n",
              "    }\n",
              "</style>\n",
              "<table border=\"1\" class=\"dataframe\">\n",
              "  <thead>\n",
              "    <tr style=\"text-align: right;\">\n",
              "      <th></th>\n",
              "      <th>text</th>\n",
              "      <th>label</th>\n",
              "    </tr>\n",
              "  </thead>\n",
              "  <tbody>\n",
              "    <tr>\n",
              "      <th>0</th>\n",
              "      <td>people using wireless highspeed net wifi warne...</td>\n",
              "      <td>4</td>\n",
              "    </tr>\n",
              "    <tr>\n",
              "      <th>1</th>\n",
              "      <td>protected secure said mr clark vast majority c...</td>\n",
              "      <td>4</td>\n",
              "    </tr>\n",
              "    <tr>\n",
              "      <th>2</th>\n",
              "      <td>two days talks future gibraltar begin jack str...</td>\n",
              "      <td>2</td>\n",
              "    </tr>\n",
              "    <tr>\n",
              "      <th>3</th>\n",
              "      <td>peertopeer pp networks stay verge exploited co...</td>\n",
              "      <td>4</td>\n",
              "    </tr>\n",
              "    <tr>\n",
              "      <th>4</th>\n",
              "      <td>came mr weiss said old media always tries stop...</td>\n",
              "      <td>4</td>\n",
              "    </tr>\n",
              "  </tbody>\n",
              "</table>\n",
              "</div>"
            ],
            "text/plain": [
              "                                                text  label\n",
              "0  people using wireless highspeed net wifi warne...      4\n",
              "1  protected secure said mr clark vast majority c...      4\n",
              "2  two days talks future gibraltar begin jack str...      2\n",
              "3  peertopeer pp networks stay verge exploited co...      4\n",
              "4  came mr weiss said old media always tries stop...      4"
            ]
          },
          "metadata": {},
          "execution_count": 27
        }
      ]
    },
    {
      "cell_type": "code",
      "metadata": {
        "trusted": true,
        "colab": {
          "base_uri": "https://localhost:8080/",
          "height": 204
        },
        "id": "HdyDHEVZJm2Y",
        "outputId": "4a2a31cf-c353-48a5-980d-b342ed178d2c"
      },
      "source": [
        "val_df = pd.DataFrame({DATA_COLUMN:val_l, LABEL_COLUMN:val_label_l})\n",
        "val_df.head()"
      ],
      "execution_count": 28,
      "outputs": [
        {
          "output_type": "execute_result",
          "data": {
            "text/html": [
              "<div>\n",
              "<style scoped>\n",
              "    .dataframe tbody tr th:only-of-type {\n",
              "        vertical-align: middle;\n",
              "    }\n",
              "\n",
              "    .dataframe tbody tr th {\n",
              "        vertical-align: top;\n",
              "    }\n",
              "\n",
              "    .dataframe thead th {\n",
              "        text-align: right;\n",
              "    }\n",
              "</style>\n",
              "<table border=\"1\" class=\"dataframe\">\n",
              "  <thead>\n",
              "    <tr style=\"text-align: right;\">\n",
              "      <th></th>\n",
              "      <th>text</th>\n",
              "      <th>label</th>\n",
              "    </tr>\n",
              "  </thead>\n",
              "  <tbody>\n",
              "    <tr>\n",
              "      <th>0</th>\n",
              "      <td>uk retail sales better expected november chris...</td>\n",
              "      <td>0</td>\n",
              "    </tr>\n",
              "    <tr>\n",
              "      <th>1</th>\n",
              "      <td>life insurer axa sun life lowered annual bonus...</td>\n",
              "      <td>0</td>\n",
              "    </tr>\n",
              "    <tr>\n",
              "      <th>2</th>\n",
              "      <td>record numbers schools across uk take part moc...</td>\n",
              "      <td>2</td>\n",
              "    </tr>\n",
              "    <tr>\n",
              "      <th>3</th>\n",
              "      <td>ulster clung moraleboosting celtic league win ...</td>\n",
              "      <td>3</td>\n",
              "    </tr>\n",
              "    <tr>\n",
              "      <th>4</th>\n",
              "      <td>fiat meet car giant general motors gm tuesday ...</td>\n",
              "      <td>0</td>\n",
              "    </tr>\n",
              "  </tbody>\n",
              "</table>\n",
              "</div>"
            ],
            "text/plain": [
              "                                                text  label\n",
              "0  uk retail sales better expected november chris...      0\n",
              "1  life insurer axa sun life lowered annual bonus...      0\n",
              "2  record numbers schools across uk take part moc...      2\n",
              "3  ulster clung moraleboosting celtic league win ...      3\n",
              "4  fiat meet car giant general motors gm tuesday ...      0"
            ]
          },
          "metadata": {},
          "execution_count": 28
        }
      ]
    },
    {
      "cell_type": "code",
      "metadata": {
        "trusted": true,
        "id": "zTAlIT5yJm2Y"
      },
      "source": [
        "# X_train, X_val, y_train, y_val = train_test_split(df['text'], df['label'], test_size=0.20, random_state=42)"
      ],
      "execution_count": null,
      "outputs": []
    },
    {
      "cell_type": "markdown",
      "metadata": {
        "id": "H-znHZKYJm2Y"
      },
      "source": [
        "### Fine tuning the BERT model\n",
        "\n",
        "The BERT model can be applied for any kind of classification task by fine-tuning it."
      ]
    },
    {
      "cell_type": "markdown",
      "metadata": {
        "id": "El1HigSSJm2Y"
      },
      "source": [
        "#### 1. Preparing the input data, i.e create **InputExample** using the BERT’s constructor."
      ]
    },
    {
      "cell_type": "code",
      "metadata": {
        "trusted": true,
        "id": "kLFoXpLjJm2Y"
      },
      "source": [
        "# Use the InputExample class from BERT's run_classifier code to create examples from the data\n",
        "train_InputExamples = train.apply(lambda x: run_classifier.InputExample(guid=None, # Globally unique ID for bookkeeping, unused in this example\n",
        "                                                                   text_a = x[DATA_COLUMN], \n",
        "                                                                   text_b = None, \n",
        "                                                                   label = x[LABEL_COLUMN]), axis = 1)\n",
        "\n",
        "val_InputExamples = val.apply(lambda x: run_classifier.InputExample(guid=None, \n",
        "                                                                   text_a = x[DATA_COLUMN], \n",
        "                                                                   text_b = None, \n",
        "                                                                   label = x[LABEL_COLUMN]), axis = 1)"
      ],
      "execution_count": 29,
      "outputs": []
    },
    {
      "cell_type": "code",
      "metadata": {
        "trusted": true,
        "colab": {
          "base_uri": "https://localhost:8080/"
        },
        "id": "IKP8AyooJm2Y",
        "outputId": "67e5983b-d263-4893-ed98-315e33fbf277"
      },
      "source": [
        "train_InputExamples\n"
      ],
      "execution_count": 30,
      "outputs": [
        {
          "output_type": "execute_result",
          "data": {
            "text/plain": [
              "0       <bert.run_classifier.InputExample object at 0x...\n",
              "1       <bert.run_classifier.InputExample object at 0x...\n",
              "2       <bert.run_classifier.InputExample object at 0x...\n",
              "3       <bert.run_classifier.InputExample object at 0x...\n",
              "4       <bert.run_classifier.InputExample object at 0x...\n",
              "                              ...                        \n",
              "1775    <bert.run_classifier.InputExample object at 0x...\n",
              "1776    <bert.run_classifier.InputExample object at 0x...\n",
              "1777    <bert.run_classifier.InputExample object at 0x...\n",
              "1778    <bert.run_classifier.InputExample object at 0x...\n",
              "1779    <bert.run_classifier.InputExample object at 0x...\n",
              "Length: 1780, dtype: object"
            ]
          },
          "metadata": {},
          "execution_count": 30
        }
      ]
    },
    {
      "cell_type": "code",
      "metadata": {
        "trusted": true,
        "colab": {
          "base_uri": "https://localhost:8080/"
        },
        "id": "ua4U0EkHJm2Z",
        "outputId": "3708ae2a-ebae-4ac3-adc5-6e32d80e756b"
      },
      "source": [
        "print(\"Row 0 - guid of training set : \", train_InputExamples.iloc[0].guid)\n",
        "print(\"\\n__________\\nRow 0 - text_a of training set : \", train_InputExamples.iloc[0].text_a)\n",
        "print(\"\\n__________\\nRow 0 - text_b of training set : \", train_InputExamples.iloc[0].text_b)\n",
        "print(\"\\n__________\\nRow 0 - label of training set : \", train_InputExamples.iloc[0].label)"
      ],
      "execution_count": 31,
      "outputs": [
        {
          "output_type": "stream",
          "text": [
            "Row 0 - guid of training set :  None\n",
            "\n",
            "__________\n",
            "Row 0 - text_a of training set :  people using wireless highspeed net wifi warned fake hotspots access points latest threat nicknamed evil twins pose real hotspots actually unauthorised base stations say cranfield university experts logged onto evil twin sensitive data intercepted wifi becoming popular devices come wireless capability london leads global wifi hotspots league   number hotspots expected reach    according analysts users need wary using wifi enabled laptops portable devices order conduct financial transactions anything sensitive personal nature said professor brian collins head information systems cranfield university users also protect ensuring wifi device security measures activated added bt openzone operates vast proportion public hotspots uk told bbc news website made every effort make wifi secure naturally people may security concerns said chris clark chief executive bts wireless broadband wifi networks less vulnerable means accessing internet like broadband dialup said bt openzone well others sophisticated encryption start login process service hotspot means users personal information data logon usernames passwords protected secure said mr clark vast majority cases base stations straight box manufacturers automatically set least secure mode possible said dr nobles cybercriminals try glean personal information using scam jam connections legitimate base station sending stronger signal near wireless client anyone right gear find real hotspot substitute evil twin cybercriminals dont clever carry attack said dr phil nobles wireless net cybercrime expert cranfield wireless networks based radio signals easily detected unauthorised users tuning frequency although wifi increasing popularity people want use highspeed net move fears secure companies reluctant use large numbers fears security wireless network protected provide backdoor companys computer system public wifi hotspots offered companies like bt openzone cloud accessible users sign pay use many home company wifi networks left unprotected sniffed hijacked anyone correct equipment bt advises customers change default settings make sure security settings equipment configured correctly said mr clark also advocate use personal firewalls ensure authorised users access data cannot intercepted dr nobles due speak wireless cybercrime science museums dana centre london thursday\n",
            "\n",
            "__________\n",
            "Row 0 - text_b of training set :  None\n",
            "\n",
            "__________\n",
            "Row 0 - label of training set :  4\n"
          ],
          "name": "stdout"
        }
      ]
    },
    {
      "cell_type": "code",
      "metadata": {
        "trusted": true,
        "colab": {
          "base_uri": "https://localhost:8080/"
        },
        "id": "THXor5IcJm2Z",
        "outputId": "addd3092-ba28-41ab-d644-87f96279b278"
      },
      "source": [
        "BERT_MODEL_HUB = \"https://tfhub.dev/google/bert_uncased_L-12_H-768_A-12/1\"\n",
        "\n",
        "def create_tokenizer_from_hub_module():\n",
        "  \"\"\"Get the vocab file and casing info from the Hub module.\"\"\"\n",
        "  with tf.Graph().as_default():\n",
        "    bert_module = hub.Module(BERT_MODEL_HUB)\n",
        "    tokenization_info = bert_module(signature=\"tokenization_info\", as_dict=True)\n",
        "    with tf.Session() as sess:\n",
        "#     with tf.compat.v1.Session() as sess:\n",
        "        vocab_file, do_lower_case = sess.run([tokenization_info[\"vocab_file\"],\n",
        "                                            tokenization_info[\"do_lower_case\"]])\n",
        "      \n",
        "    return tokenization.FullTokenizer(\n",
        "      vocab_file=vocab_file, do_lower_case=do_lower_case)\n",
        "\n",
        "tokenizer = create_tokenizer_from_hub_module()"
      ],
      "execution_count": 32,
      "outputs": [
        {
          "output_type": "stream",
          "text": [
            "INFO:tensorflow:Saver not created because there are no variables in the graph to restore\n"
          ],
          "name": "stdout"
        },
        {
          "output_type": "stream",
          "text": [
            "INFO:tensorflow:Saver not created because there are no variables in the graph to restore\n"
          ],
          "name": "stderr"
        },
        {
          "output_type": "stream",
          "text": [
            "WARNING:tensorflow:From /usr/local/lib/python3.7/dist-packages/bert/tokenization.py:125: The name tf.gfile.GFile is deprecated. Please use tf.io.gfile.GFile instead.\n",
            "\n"
          ],
          "name": "stdout"
        },
        {
          "output_type": "stream",
          "text": [
            "WARNING:tensorflow:From /usr/local/lib/python3.7/dist-packages/bert/tokenization.py:125: The name tf.gfile.GFile is deprecated. Please use tf.io.gfile.GFile instead.\n",
            "\n"
          ],
          "name": "stderr"
        }
      ]
    },
    {
      "cell_type": "code",
      "metadata": {
        "trusted": true,
        "colab": {
          "base_uri": "https://localhost:8080/"
        },
        "id": "0zj6G9K9Jm2Z",
        "outputId": "11c38b95-e7c4-4535-e3bf-121cf7540622"
      },
      "source": [
        "len(tokenizer.vocab.keys())"
      ],
      "execution_count": 33,
      "outputs": [
        {
          "output_type": "execute_result",
          "data": {
            "text/plain": [
              "30522"
            ]
          },
          "metadata": {},
          "execution_count": 33
        }
      ]
    },
    {
      "cell_type": "code",
      "metadata": {
        "colab": {
          "base_uri": "https://localhost:8080/"
        },
        "id": "kHFTVKNqNjV4",
        "outputId": "ad8a8dca-f6bf-470b-ddec-cb6333c68f5b"
      },
      "source": [
        "tokenizer.tokenize(\"This here's an example of using the BERT tokenizer\")"
      ],
      "execution_count": 34,
      "outputs": [
        {
          "output_type": "execute_result",
          "data": {
            "text/plain": [
              "['this',\n",
              " 'here',\n",
              " \"'\",\n",
              " 's',\n",
              " 'an',\n",
              " 'example',\n",
              " 'of',\n",
              " 'using',\n",
              " 'the',\n",
              " 'bert',\n",
              " 'token',\n",
              " '##izer']"
            ]
          },
          "metadata": {},
          "execution_count": 34
        }
      ]
    },
    {
      "cell_type": "code",
      "metadata": {
        "colab": {
          "base_uri": "https://localhost:8080/"
        },
        "id": "RPhC2K3aUYGs",
        "outputId": "866a0947-4437-4141-ffde-012235806964"
      },
      "source": [
        "#Here is what the tokenised sample of the first training set observation looks like\n",
        "print(tokenizer.tokenize(train_InputExamples.iloc[0].text_a))"
      ],
      "execution_count": 35,
      "outputs": [
        {
          "output_type": "stream",
          "text": [
            "['people', 'using', 'wireless', 'highs', '##peed', 'net', 'wi', '##fi', 'warned', 'fake', 'hot', '##sp', '##ots', 'access', 'points', 'latest', 'threat', 'nicknamed', 'evil', 'twins', 'pose', 'real', 'hot', '##sp', '##ots', 'actually', 'una', '##uth', '##oris', '##ed', 'base', 'stations', 'say', 'cr', '##an', '##field', 'university', 'experts', 'logged', 'onto', 'evil', 'twin', 'sensitive', 'data', 'intercepted', 'wi', '##fi', 'becoming', 'popular', 'devices', 'come', 'wireless', 'capability', 'london', 'leads', 'global', 'wi', '##fi', 'hot', '##sp', '##ots', 'league', 'number', 'hot', '##sp', '##ots', 'expected', 'reach', 'according', 'analysts', 'users', 'need', 'wary', 'using', 'wi', '##fi', 'enabled', 'laptop', '##s', 'portable', 'devices', 'order', 'conduct', 'financial', 'transactions', 'anything', 'sensitive', 'personal', 'nature', 'said', 'professor', 'brian', 'collins', 'head', 'information', 'systems', 'cr', '##an', '##field', 'university', 'users', 'also', 'protect', 'ensuring', 'wi', '##fi', 'device', 'security', 'measures', 'activated', 'added', 'bt', 'open', '##zone', 'operates', 'vast', 'proportion', 'public', 'hot', '##sp', '##ots', 'uk', 'told', 'bbc', 'news', 'website', 'made', 'every', 'effort', 'make', 'wi', '##fi', 'secure', 'naturally', 'people', 'may', 'security', 'concerns', 'said', 'chris', 'clark', 'chief', 'executive', 'bt', '##s', 'wireless', 'broadband', 'wi', '##fi', 'networks', 'less', 'vulnerable', 'means', 'access', '##ing', 'internet', 'like', 'broadband', 'dial', '##up', 'said', 'bt', 'open', '##zone', 'well', 'others', 'sophisticated', 'encryption', 'start', 'log', '##in', 'process', 'service', 'hot', '##sp', '##ot', 'means', 'users', 'personal', 'information', 'data', 'logo', '##n', 'user', '##name', '##s', 'password', '##s', 'protected', 'secure', 'said', 'mr', 'clark', 'vast', 'majority', 'cases', 'base', 'stations', 'straight', 'box', 'manufacturers', 'automatically', 'set', 'least', 'secure', 'mode', 'possible', 'said', 'dr', 'nobles', 'cyber', '##cr', '##imi', '##nal', '##s', 'try', 'g', '##lean', 'personal', 'information', 'using', 'sc', '##am', 'jam', 'connections', 'legitimate', 'base', 'station', 'sending', 'stronger', 'signal', 'near', 'wireless', 'client', 'anyone', 'right', 'gear', 'find', 'real', 'hot', '##sp', '##ot', 'substitute', 'evil', 'twin', 'cyber', '##cr', '##imi', '##nal', '##s', 'don', '##t', 'clever', 'carry', 'attack', 'said', 'dr', 'phil', 'nobles', 'wireless', 'net', 'cyber', '##cr', '##ime', 'expert', 'cr', '##an', '##field', 'wireless', 'networks', 'based', 'radio', 'signals', 'easily', 'detected', 'una', '##uth', '##oris', '##ed', 'users', 'tuning', 'frequency', 'although', 'wi', '##fi', 'increasing', 'popularity', 'people', 'want', 'use', 'highs', '##peed', 'net', 'move', 'fears', 'secure', 'companies', 'reluctant', 'use', 'large', 'numbers', 'fears', 'security', 'wireless', 'network', 'protected', 'provide', 'back', '##door', 'company', '##s', 'computer', 'system', 'public', 'wi', '##fi', 'hot', '##sp', '##ots', 'offered', 'companies', 'like', 'bt', 'open', '##zone', 'cloud', 'accessible', 'users', 'sign', 'pay', 'use', 'many', 'home', 'company', 'wi', '##fi', 'networks', 'left', 'un', '##pro', '##tec', '##ted', 'sniffed', 'hi', '##jack', '##ed', 'anyone', 'correct', 'equipment', 'bt', 'advises', 'customers', 'change', 'default', 'settings', 'make', 'sure', 'security', 'settings', 'equipment', 'configured', 'correctly', 'said', 'mr', 'clark', 'also', 'advocate', 'use', 'personal', 'fire', '##wall', '##s', 'ensure', 'authorised', 'users', 'access', 'data', 'cannot', 'intercepted', 'dr', 'nobles', 'due', 'speak', 'wireless', 'cyber', '##cr', '##ime', 'science', 'museums', 'dana', 'centre', 'london', 'thursday']\n"
          ],
          "name": "stdout"
        }
      ]
    },
    {
      "cell_type": "code",
      "metadata": {
        "trusted": true,
        "id": "-_iHt3cvJm2Z"
      },
      "source": [
        "# #Here is what the tokenised sample of the first training set observation looks like\n",
        "# print(tokenizer.tokenize(train_InputExamples.iloc[0].text_a))"
      ],
      "execution_count": 37,
      "outputs": []
    },
    {
      "cell_type": "markdown",
      "metadata": {
        "id": "G-KR0GscJm2Z"
      },
      "source": [
        "#### 2. Converting the train and validation features to InputFeatures that BERT understands."
      ]
    },
    {
      "cell_type": "code",
      "metadata": {
        "trusted": true,
        "colab": {
          "base_uri": "https://localhost:8080/"
        },
        "id": "22Oz3NQgJm2Z",
        "outputId": "7da1830c-79a4-4888-dbc0-300d69bb1640"
      },
      "source": [
        "MAX_SEQ_LENGTH = 200\n",
        "\n",
        "train_features = run_classifier.convert_examples_to_features(train_InputExamples, label_list, MAX_SEQ_LENGTH, tokenizer)\n",
        "\n",
        "val_features = run_classifier.convert_examples_to_features(val_InputExamples, label_list, MAX_SEQ_LENGTH, tokenizer)"
      ],
      "execution_count": 36,
      "outputs": [
        {
          "output_type": "stream",
          "text": [
            "WARNING:tensorflow:From /usr/local/lib/python3.7/dist-packages/bert/run_classifier.py:774: The name tf.logging.info is deprecated. Please use tf.compat.v1.logging.info instead.\n",
            "\n"
          ],
          "name": "stdout"
        },
        {
          "output_type": "stream",
          "text": [
            "WARNING:tensorflow:From /usr/local/lib/python3.7/dist-packages/bert/run_classifier.py:774: The name tf.logging.info is deprecated. Please use tf.compat.v1.logging.info instead.\n",
            "\n"
          ],
          "name": "stderr"
        },
        {
          "output_type": "stream",
          "text": [
            "INFO:tensorflow:Writing example 0 of 1780\n"
          ],
          "name": "stdout"
        },
        {
          "output_type": "stream",
          "text": [
            "INFO:tensorflow:Writing example 0 of 1780\n"
          ],
          "name": "stderr"
        },
        {
          "output_type": "stream",
          "text": [
            "INFO:tensorflow:*** Example ***\n"
          ],
          "name": "stdout"
        },
        {
          "output_type": "stream",
          "text": [
            "INFO:tensorflow:*** Example ***\n"
          ],
          "name": "stderr"
        },
        {
          "output_type": "stream",
          "text": [
            "INFO:tensorflow:guid: None\n"
          ],
          "name": "stdout"
        },
        {
          "output_type": "stream",
          "text": [
            "INFO:tensorflow:guid: None\n"
          ],
          "name": "stderr"
        },
        {
          "output_type": "stream",
          "text": [
            "INFO:tensorflow:tokens: [CLS] people using wireless highs ##peed net wi ##fi warned fake hot ##sp ##ots access points latest threat nicknamed evil twins pose real hot ##sp ##ots actually una ##uth ##oris ##ed base stations say cr ##an ##field university experts logged onto evil twin sensitive data intercepted wi ##fi becoming popular devices come wireless capability london leads global wi ##fi hot ##sp ##ots league number hot ##sp ##ots expected reach according analysts users need wary using wi ##fi enabled laptop ##s portable devices order conduct financial transactions anything sensitive personal nature said professor brian collins head information systems cr ##an ##field university users also protect ensuring wi ##fi device security measures activated added bt open ##zone operates vast proportion public hot ##sp ##ots uk told bbc news website made every effort make wi ##fi secure naturally people may security concerns said chris clark chief executive bt ##s wireless broadband wi ##fi networks less vulnerable means access ##ing internet like broadband dial ##up said bt open ##zone well others sophisticated encryption start log ##in process service hot ##sp ##ot means users personal information data logo ##n user ##name ##s password ##s protected secure said mr clark vast majority cases base stations [SEP]\n"
          ],
          "name": "stdout"
        },
        {
          "output_type": "stream",
          "text": [
            "INFO:tensorflow:tokens: [CLS] people using wireless highs ##peed net wi ##fi warned fake hot ##sp ##ots access points latest threat nicknamed evil twins pose real hot ##sp ##ots actually una ##uth ##oris ##ed base stations say cr ##an ##field university experts logged onto evil twin sensitive data intercepted wi ##fi becoming popular devices come wireless capability london leads global wi ##fi hot ##sp ##ots league number hot ##sp ##ots expected reach according analysts users need wary using wi ##fi enabled laptop ##s portable devices order conduct financial transactions anything sensitive personal nature said professor brian collins head information systems cr ##an ##field university users also protect ensuring wi ##fi device security measures activated added bt open ##zone operates vast proportion public hot ##sp ##ots uk told bbc news website made every effort make wi ##fi secure naturally people may security concerns said chris clark chief executive bt ##s wireless broadband wi ##fi networks less vulnerable means access ##ing internet like broadband dial ##up said bt open ##zone well others sophisticated encryption start log ##in process service hot ##sp ##ot means users personal information data logo ##n user ##name ##s password ##s protected secure said mr clark vast majority cases base stations [SEP]\n"
          ],
          "name": "stderr"
        },
        {
          "output_type": "stream",
          "text": [
            "INFO:tensorflow:input_ids: 101 2111 2478 9949 26836 25599 5658 15536 8873 7420 8275 2980 13102 12868 3229 2685 6745 5081 9919 4763 8178 13382 2613 2980 13102 12868 2941 14477 14317 21239 2098 2918 3703 2360 13675 2319 3790 2118 8519 26618 3031 4763 5519 7591 2951 16618 15536 8873 3352 2759 5733 2272 9949 10673 2414 5260 3795 15536 8873 2980 13102 12868 2223 2193 2980 13102 12868 3517 3362 2429 18288 5198 2342 15705 2478 15536 8873 9124 12191 2015 12109 5733 2344 6204 3361 11817 2505 7591 3167 3267 2056 2934 4422 6868 2132 2592 3001 13675 2319 3790 2118 5198 2036 4047 12725 15536 8873 5080 3036 5761 8878 2794 18411 2330 15975 5748 6565 10817 2270 2980 13102 12868 2866 2409 4035 2739 4037 2081 2296 3947 2191 15536 8873 5851 8100 2111 2089 3036 5936 2056 3782 5215 2708 3237 18411 2015 9949 19595 15536 8873 6125 2625 8211 2965 3229 2075 4274 2066 19595 13764 6279 2056 18411 2330 15975 2092 2500 12138 21999 2707 8833 2378 2832 2326 2980 13102 4140 2965 5198 3167 2592 2951 8154 2078 5310 18442 2015 20786 2015 5123 5851 2056 2720 5215 6565 3484 3572 2918 3703 102\n"
          ],
          "name": "stdout"
        },
        {
          "output_type": "stream",
          "text": [
            "INFO:tensorflow:input_ids: 101 2111 2478 9949 26836 25599 5658 15536 8873 7420 8275 2980 13102 12868 3229 2685 6745 5081 9919 4763 8178 13382 2613 2980 13102 12868 2941 14477 14317 21239 2098 2918 3703 2360 13675 2319 3790 2118 8519 26618 3031 4763 5519 7591 2951 16618 15536 8873 3352 2759 5733 2272 9949 10673 2414 5260 3795 15536 8873 2980 13102 12868 2223 2193 2980 13102 12868 3517 3362 2429 18288 5198 2342 15705 2478 15536 8873 9124 12191 2015 12109 5733 2344 6204 3361 11817 2505 7591 3167 3267 2056 2934 4422 6868 2132 2592 3001 13675 2319 3790 2118 5198 2036 4047 12725 15536 8873 5080 3036 5761 8878 2794 18411 2330 15975 5748 6565 10817 2270 2980 13102 12868 2866 2409 4035 2739 4037 2081 2296 3947 2191 15536 8873 5851 8100 2111 2089 3036 5936 2056 3782 5215 2708 3237 18411 2015 9949 19595 15536 8873 6125 2625 8211 2965 3229 2075 4274 2066 19595 13764 6279 2056 18411 2330 15975 2092 2500 12138 21999 2707 8833 2378 2832 2326 2980 13102 4140 2965 5198 3167 2592 2951 8154 2078 5310 18442 2015 20786 2015 5123 5851 2056 2720 5215 6565 3484 3572 2918 3703 102\n"
          ],
          "name": "stderr"
        },
        {
          "output_type": "stream",
          "text": [
            "INFO:tensorflow:input_mask: 1 1 1 1 1 1 1 1 1 1 1 1 1 1 1 1 1 1 1 1 1 1 1 1 1 1 1 1 1 1 1 1 1 1 1 1 1 1 1 1 1 1 1 1 1 1 1 1 1 1 1 1 1 1 1 1 1 1 1 1 1 1 1 1 1 1 1 1 1 1 1 1 1 1 1 1 1 1 1 1 1 1 1 1 1 1 1 1 1 1 1 1 1 1 1 1 1 1 1 1 1 1 1 1 1 1 1 1 1 1 1 1 1 1 1 1 1 1 1 1 1 1 1 1 1 1 1 1 1 1 1 1 1 1 1 1 1 1 1 1 1 1 1 1 1 1 1 1 1 1 1 1 1 1 1 1 1 1 1 1 1 1 1 1 1 1 1 1 1 1 1 1 1 1 1 1 1 1 1 1 1 1 1 1 1 1 1 1 1 1 1 1 1 1 1 1 1 1 1 1\n"
          ],
          "name": "stdout"
        },
        {
          "output_type": "stream",
          "text": [
            "INFO:tensorflow:input_mask: 1 1 1 1 1 1 1 1 1 1 1 1 1 1 1 1 1 1 1 1 1 1 1 1 1 1 1 1 1 1 1 1 1 1 1 1 1 1 1 1 1 1 1 1 1 1 1 1 1 1 1 1 1 1 1 1 1 1 1 1 1 1 1 1 1 1 1 1 1 1 1 1 1 1 1 1 1 1 1 1 1 1 1 1 1 1 1 1 1 1 1 1 1 1 1 1 1 1 1 1 1 1 1 1 1 1 1 1 1 1 1 1 1 1 1 1 1 1 1 1 1 1 1 1 1 1 1 1 1 1 1 1 1 1 1 1 1 1 1 1 1 1 1 1 1 1 1 1 1 1 1 1 1 1 1 1 1 1 1 1 1 1 1 1 1 1 1 1 1 1 1 1 1 1 1 1 1 1 1 1 1 1 1 1 1 1 1 1 1 1 1 1 1 1 1 1 1 1 1 1\n"
          ],
          "name": "stderr"
        },
        {
          "output_type": "stream",
          "text": [
            "INFO:tensorflow:segment_ids: 0 0 0 0 0 0 0 0 0 0 0 0 0 0 0 0 0 0 0 0 0 0 0 0 0 0 0 0 0 0 0 0 0 0 0 0 0 0 0 0 0 0 0 0 0 0 0 0 0 0 0 0 0 0 0 0 0 0 0 0 0 0 0 0 0 0 0 0 0 0 0 0 0 0 0 0 0 0 0 0 0 0 0 0 0 0 0 0 0 0 0 0 0 0 0 0 0 0 0 0 0 0 0 0 0 0 0 0 0 0 0 0 0 0 0 0 0 0 0 0 0 0 0 0 0 0 0 0 0 0 0 0 0 0 0 0 0 0 0 0 0 0 0 0 0 0 0 0 0 0 0 0 0 0 0 0 0 0 0 0 0 0 0 0 0 0 0 0 0 0 0 0 0 0 0 0 0 0 0 0 0 0 0 0 0 0 0 0 0 0 0 0 0 0 0 0 0 0 0 0\n"
          ],
          "name": "stdout"
        },
        {
          "output_type": "stream",
          "text": [
            "INFO:tensorflow:segment_ids: 0 0 0 0 0 0 0 0 0 0 0 0 0 0 0 0 0 0 0 0 0 0 0 0 0 0 0 0 0 0 0 0 0 0 0 0 0 0 0 0 0 0 0 0 0 0 0 0 0 0 0 0 0 0 0 0 0 0 0 0 0 0 0 0 0 0 0 0 0 0 0 0 0 0 0 0 0 0 0 0 0 0 0 0 0 0 0 0 0 0 0 0 0 0 0 0 0 0 0 0 0 0 0 0 0 0 0 0 0 0 0 0 0 0 0 0 0 0 0 0 0 0 0 0 0 0 0 0 0 0 0 0 0 0 0 0 0 0 0 0 0 0 0 0 0 0 0 0 0 0 0 0 0 0 0 0 0 0 0 0 0 0 0 0 0 0 0 0 0 0 0 0 0 0 0 0 0 0 0 0 0 0 0 0 0 0 0 0 0 0 0 0 0 0 0 0 0 0 0 0\n"
          ],
          "name": "stderr"
        },
        {
          "output_type": "stream",
          "text": [
            "INFO:tensorflow:label: 4 (id = 4)\n"
          ],
          "name": "stdout"
        },
        {
          "output_type": "stream",
          "text": [
            "INFO:tensorflow:label: 4 (id = 4)\n"
          ],
          "name": "stderr"
        },
        {
          "output_type": "stream",
          "text": [
            "INFO:tensorflow:*** Example ***\n"
          ],
          "name": "stdout"
        },
        {
          "output_type": "stream",
          "text": [
            "INFO:tensorflow:*** Example ***\n"
          ],
          "name": "stderr"
        },
        {
          "output_type": "stream",
          "text": [
            "INFO:tensorflow:guid: None\n"
          ],
          "name": "stdout"
        },
        {
          "output_type": "stream",
          "text": [
            "INFO:tensorflow:guid: None\n"
          ],
          "name": "stderr"
        },
        {
          "output_type": "stream",
          "text": [
            "INFO:tensorflow:tokens: [CLS] two days talks future gibraltar begin jack straw ##s country residence later wednesday officials two ##day summit foreign secretary ##s official kent house che ##ven ##ing plan new forum rocks future october mr straw spanish counterpart miguel mora ##tino ##s agreed establish body would give gibraltar ##ians voice future gibraltar ##ians said referendum wanted remain british gibraltar ##s chief minister peter car ##uan ##a represent british citizens living rock britain ##s europe director dominic ##k chi ##lco ##tt represent uk madrid represented spain ##s director general europe jose maria po ##ns initiative follows spain ##s socialist governments decision put long ##standing sovereignty ambitions hold gibraltar ##ians rejected plans rocks sovereignty shared britain spain referendum organised gibraltar government [SEP]\n"
          ],
          "name": "stdout"
        },
        {
          "output_type": "stream",
          "text": [
            "INFO:tensorflow:tokens: [CLS] two days talks future gibraltar begin jack straw ##s country residence later wednesday officials two ##day summit foreign secretary ##s official kent house che ##ven ##ing plan new forum rocks future october mr straw spanish counterpart miguel mora ##tino ##s agreed establish body would give gibraltar ##ians voice future gibraltar ##ians said referendum wanted remain british gibraltar ##s chief minister peter car ##uan ##a represent british citizens living rock britain ##s europe director dominic ##k chi ##lco ##tt represent uk madrid represented spain ##s director general europe jose maria po ##ns initiative follows spain ##s socialist governments decision put long ##standing sovereignty ambitions hold gibraltar ##ians rejected plans rocks sovereignty shared britain spain referendum organised gibraltar government [SEP]\n"
          ],
          "name": "stderr"
        },
        {
          "output_type": "stream",
          "text": [
            "INFO:tensorflow:input_ids: 101 2048 2420 7566 2925 12272 4088 2990 13137 2015 2406 5039 2101 9317 4584 2048 10259 6465 3097 3187 2015 2880 5982 2160 18178 8159 2075 2933 2047 7057 5749 2925 2255 2720 13137 3009 13637 8374 26821 25690 2015 3530 5323 2303 2052 2507 12272 7066 2376 2925 12272 7066 2056 9782 2359 3961 2329 12272 2015 2708 2704 2848 2482 13860 2050 5050 2329 4480 2542 2600 3725 2015 2885 2472 11282 2243 9610 22499 4779 5050 2866 6921 3421 3577 2015 2472 2236 2885 4560 3814 13433 3619 6349 4076 3577 2015 6102 6867 3247 2404 2146 24911 12601 19509 2907 12272 7066 5837 3488 5749 12601 4207 3725 3577 9782 7362 12272 2231 102 0 0 0 0 0 0 0 0 0 0 0 0 0 0 0 0 0 0 0 0 0 0 0 0 0 0 0 0 0 0 0 0 0 0 0 0 0 0 0 0 0 0 0 0 0 0 0 0 0 0 0 0 0 0 0 0 0 0 0 0 0 0 0 0 0 0 0 0 0 0 0 0 0 0 0 0 0 0 0 0 0\n"
          ],
          "name": "stdout"
        },
        {
          "output_type": "stream",
          "text": [
            "INFO:tensorflow:input_ids: 101 2048 2420 7566 2925 12272 4088 2990 13137 2015 2406 5039 2101 9317 4584 2048 10259 6465 3097 3187 2015 2880 5982 2160 18178 8159 2075 2933 2047 7057 5749 2925 2255 2720 13137 3009 13637 8374 26821 25690 2015 3530 5323 2303 2052 2507 12272 7066 2376 2925 12272 7066 2056 9782 2359 3961 2329 12272 2015 2708 2704 2848 2482 13860 2050 5050 2329 4480 2542 2600 3725 2015 2885 2472 11282 2243 9610 22499 4779 5050 2866 6921 3421 3577 2015 2472 2236 2885 4560 3814 13433 3619 6349 4076 3577 2015 6102 6867 3247 2404 2146 24911 12601 19509 2907 12272 7066 5837 3488 5749 12601 4207 3725 3577 9782 7362 12272 2231 102 0 0 0 0 0 0 0 0 0 0 0 0 0 0 0 0 0 0 0 0 0 0 0 0 0 0 0 0 0 0 0 0 0 0 0 0 0 0 0 0 0 0 0 0 0 0 0 0 0 0 0 0 0 0 0 0 0 0 0 0 0 0 0 0 0 0 0 0 0 0 0 0 0 0 0 0 0 0 0 0 0\n"
          ],
          "name": "stderr"
        },
        {
          "output_type": "stream",
          "text": [
            "INFO:tensorflow:input_mask: 1 1 1 1 1 1 1 1 1 1 1 1 1 1 1 1 1 1 1 1 1 1 1 1 1 1 1 1 1 1 1 1 1 1 1 1 1 1 1 1 1 1 1 1 1 1 1 1 1 1 1 1 1 1 1 1 1 1 1 1 1 1 1 1 1 1 1 1 1 1 1 1 1 1 1 1 1 1 1 1 1 1 1 1 1 1 1 1 1 1 1 1 1 1 1 1 1 1 1 1 1 1 1 1 1 1 1 1 1 1 1 1 1 1 1 1 1 1 1 0 0 0 0 0 0 0 0 0 0 0 0 0 0 0 0 0 0 0 0 0 0 0 0 0 0 0 0 0 0 0 0 0 0 0 0 0 0 0 0 0 0 0 0 0 0 0 0 0 0 0 0 0 0 0 0 0 0 0 0 0 0 0 0 0 0 0 0 0 0 0 0 0 0 0 0 0 0 0 0 0\n"
          ],
          "name": "stdout"
        },
        {
          "output_type": "stream",
          "text": [
            "INFO:tensorflow:input_mask: 1 1 1 1 1 1 1 1 1 1 1 1 1 1 1 1 1 1 1 1 1 1 1 1 1 1 1 1 1 1 1 1 1 1 1 1 1 1 1 1 1 1 1 1 1 1 1 1 1 1 1 1 1 1 1 1 1 1 1 1 1 1 1 1 1 1 1 1 1 1 1 1 1 1 1 1 1 1 1 1 1 1 1 1 1 1 1 1 1 1 1 1 1 1 1 1 1 1 1 1 1 1 1 1 1 1 1 1 1 1 1 1 1 1 1 1 1 1 1 0 0 0 0 0 0 0 0 0 0 0 0 0 0 0 0 0 0 0 0 0 0 0 0 0 0 0 0 0 0 0 0 0 0 0 0 0 0 0 0 0 0 0 0 0 0 0 0 0 0 0 0 0 0 0 0 0 0 0 0 0 0 0 0 0 0 0 0 0 0 0 0 0 0 0 0 0 0 0 0 0\n"
          ],
          "name": "stderr"
        },
        {
          "output_type": "stream",
          "text": [
            "INFO:tensorflow:segment_ids: 0 0 0 0 0 0 0 0 0 0 0 0 0 0 0 0 0 0 0 0 0 0 0 0 0 0 0 0 0 0 0 0 0 0 0 0 0 0 0 0 0 0 0 0 0 0 0 0 0 0 0 0 0 0 0 0 0 0 0 0 0 0 0 0 0 0 0 0 0 0 0 0 0 0 0 0 0 0 0 0 0 0 0 0 0 0 0 0 0 0 0 0 0 0 0 0 0 0 0 0 0 0 0 0 0 0 0 0 0 0 0 0 0 0 0 0 0 0 0 0 0 0 0 0 0 0 0 0 0 0 0 0 0 0 0 0 0 0 0 0 0 0 0 0 0 0 0 0 0 0 0 0 0 0 0 0 0 0 0 0 0 0 0 0 0 0 0 0 0 0 0 0 0 0 0 0 0 0 0 0 0 0 0 0 0 0 0 0 0 0 0 0 0 0 0 0 0 0 0 0\n"
          ],
          "name": "stdout"
        },
        {
          "output_type": "stream",
          "text": [
            "INFO:tensorflow:segment_ids: 0 0 0 0 0 0 0 0 0 0 0 0 0 0 0 0 0 0 0 0 0 0 0 0 0 0 0 0 0 0 0 0 0 0 0 0 0 0 0 0 0 0 0 0 0 0 0 0 0 0 0 0 0 0 0 0 0 0 0 0 0 0 0 0 0 0 0 0 0 0 0 0 0 0 0 0 0 0 0 0 0 0 0 0 0 0 0 0 0 0 0 0 0 0 0 0 0 0 0 0 0 0 0 0 0 0 0 0 0 0 0 0 0 0 0 0 0 0 0 0 0 0 0 0 0 0 0 0 0 0 0 0 0 0 0 0 0 0 0 0 0 0 0 0 0 0 0 0 0 0 0 0 0 0 0 0 0 0 0 0 0 0 0 0 0 0 0 0 0 0 0 0 0 0 0 0 0 0 0 0 0 0 0 0 0 0 0 0 0 0 0 0 0 0 0 0 0 0 0 0\n"
          ],
          "name": "stderr"
        },
        {
          "output_type": "stream",
          "text": [
            "INFO:tensorflow:label: 2 (id = 2)\n"
          ],
          "name": "stdout"
        },
        {
          "output_type": "stream",
          "text": [
            "INFO:tensorflow:label: 2 (id = 2)\n"
          ],
          "name": "stderr"
        },
        {
          "output_type": "stream",
          "text": [
            "INFO:tensorflow:*** Example ***\n"
          ],
          "name": "stdout"
        },
        {
          "output_type": "stream",
          "text": [
            "INFO:tensorflow:*** Example ***\n"
          ],
          "name": "stderr"
        },
        {
          "output_type": "stream",
          "text": [
            "INFO:tensorflow:guid: None\n"
          ],
          "name": "stdout"
        },
        {
          "output_type": "stream",
          "text": [
            "INFO:tensorflow:guid: None\n"
          ],
          "name": "stderr"
        },
        {
          "output_type": "stream",
          "text": [
            "INFO:tensorflow:tokens: [CLS] peer ##top ##eer pp networks stay verge exploited commercial media firms says panel industry experts several high ##pro ##fi ##le legal cases files ##har ##ers resolved year firms keen try make money pp technology expert panel probe ##d future pp consumer electronics show las vegas earlier january first convictions pp piracy handed us january william tr ##ow ##bridge michael chico ##ine pleaded guilty charges in ##fr ##inge ##d copyright illegally sharing music movies software since first successful files ##hari ##ng network nap ##ster forced close entertainment industry nervous critical pp technology blaming falling sales piracy going change soon according panel music film industries started big legal cases owners legitimate pp networks illegal individuals accused distributing pirate ##d content networks slowly realised pp good way distribute content said travis kala ##nick founder chairman pp network red sw ##oo ##sh soon going want slice waiting come business models work includes digital rights management copy ##pro ##tec ##tion standards legal actions resolved experimentation pp cannot happen said michael weiss president stream ##cast networks remembering fur ##ore around vc ##rs first came mr weiss said old media always tries stop new media can ##t stop try control figure make money always make [SEP]\n"
          ],
          "name": "stdout"
        },
        {
          "output_type": "stream",
          "text": [
            "INFO:tensorflow:tokens: [CLS] peer ##top ##eer pp networks stay verge exploited commercial media firms says panel industry experts several high ##pro ##fi ##le legal cases files ##har ##ers resolved year firms keen try make money pp technology expert panel probe ##d future pp consumer electronics show las vegas earlier january first convictions pp piracy handed us january william tr ##ow ##bridge michael chico ##ine pleaded guilty charges in ##fr ##inge ##d copyright illegally sharing music movies software since first successful files ##hari ##ng network nap ##ster forced close entertainment industry nervous critical pp technology blaming falling sales piracy going change soon according panel music film industries started big legal cases owners legitimate pp networks illegal individuals accused distributing pirate ##d content networks slowly realised pp good way distribute content said travis kala ##nick founder chairman pp network red sw ##oo ##sh soon going want slice waiting come business models work includes digital rights management copy ##pro ##tec ##tion standards legal actions resolved experimentation pp cannot happen said michael weiss president stream ##cast networks remembering fur ##ore around vc ##rs first came mr weiss said old media always tries stop new media can ##t stop try control figure make money always make [SEP]\n"
          ],
          "name": "stderr"
        },
        {
          "output_type": "stream",
          "text": [
            "INFO:tensorflow:input_ids: 101 8152 14399 11510 4903 6125 2994 16079 18516 3293 2865 9786 2758 5997 3068 8519 2195 2152 21572 8873 2571 3423 3572 6764 8167 2545 10395 2095 9786 10326 3046 2191 2769 4903 2974 6739 5997 15113 2094 2925 4903 7325 8139 2265 5869 7136 3041 2254 2034 20488 4903 24386 4375 2149 2254 2520 19817 5004 6374 2745 22136 3170 12254 5905 5571 1999 19699 23496 2094 9385 17800 6631 2189 5691 4007 2144 2034 3144 6764 18428 3070 2897 18996 6238 3140 2485 4024 3068 6091 4187 4903 2974 24114 4634 4341 24386 2183 2689 2574 2429 5997 2189 2143 6088 2318 2502 3423 3572 5608 11476 4903 6125 6206 3633 5496 20083 11304 2094 4180 6125 3254 11323 4903 2204 2126 16062 4180 2056 10001 26209 13542 3910 3472 4903 2897 2417 25430 9541 4095 2574 2183 2215 14704 3403 2272 2449 4275 2147 2950 3617 2916 2968 6100 21572 26557 3508 4781 3423 4506 10395 21470 4903 3685 4148 2056 2745 17889 2343 5460 10526 6125 10397 6519 5686 2105 18315 2869 2034 2234 2720 17889 2056 2214 2865 2467 5363 2644 2047 2865 2064 2102 2644 3046 2491 3275 2191 2769 2467 2191 102\n"
          ],
          "name": "stdout"
        },
        {
          "output_type": "stream",
          "text": [
            "INFO:tensorflow:input_ids: 101 8152 14399 11510 4903 6125 2994 16079 18516 3293 2865 9786 2758 5997 3068 8519 2195 2152 21572 8873 2571 3423 3572 6764 8167 2545 10395 2095 9786 10326 3046 2191 2769 4903 2974 6739 5997 15113 2094 2925 4903 7325 8139 2265 5869 7136 3041 2254 2034 20488 4903 24386 4375 2149 2254 2520 19817 5004 6374 2745 22136 3170 12254 5905 5571 1999 19699 23496 2094 9385 17800 6631 2189 5691 4007 2144 2034 3144 6764 18428 3070 2897 18996 6238 3140 2485 4024 3068 6091 4187 4903 2974 24114 4634 4341 24386 2183 2689 2574 2429 5997 2189 2143 6088 2318 2502 3423 3572 5608 11476 4903 6125 6206 3633 5496 20083 11304 2094 4180 6125 3254 11323 4903 2204 2126 16062 4180 2056 10001 26209 13542 3910 3472 4903 2897 2417 25430 9541 4095 2574 2183 2215 14704 3403 2272 2449 4275 2147 2950 3617 2916 2968 6100 21572 26557 3508 4781 3423 4506 10395 21470 4903 3685 4148 2056 2745 17889 2343 5460 10526 6125 10397 6519 5686 2105 18315 2869 2034 2234 2720 17889 2056 2214 2865 2467 5363 2644 2047 2865 2064 2102 2644 3046 2491 3275 2191 2769 2467 2191 102\n"
          ],
          "name": "stderr"
        },
        {
          "output_type": "stream",
          "text": [
            "INFO:tensorflow:input_mask: 1 1 1 1 1 1 1 1 1 1 1 1 1 1 1 1 1 1 1 1 1 1 1 1 1 1 1 1 1 1 1 1 1 1 1 1 1 1 1 1 1 1 1 1 1 1 1 1 1 1 1 1 1 1 1 1 1 1 1 1 1 1 1 1 1 1 1 1 1 1 1 1 1 1 1 1 1 1 1 1 1 1 1 1 1 1 1 1 1 1 1 1 1 1 1 1 1 1 1 1 1 1 1 1 1 1 1 1 1 1 1 1 1 1 1 1 1 1 1 1 1 1 1 1 1 1 1 1 1 1 1 1 1 1 1 1 1 1 1 1 1 1 1 1 1 1 1 1 1 1 1 1 1 1 1 1 1 1 1 1 1 1 1 1 1 1 1 1 1 1 1 1 1 1 1 1 1 1 1 1 1 1 1 1 1 1 1 1 1 1 1 1 1 1 1 1 1 1 1 1\n"
          ],
          "name": "stdout"
        },
        {
          "output_type": "stream",
          "text": [
            "INFO:tensorflow:input_mask: 1 1 1 1 1 1 1 1 1 1 1 1 1 1 1 1 1 1 1 1 1 1 1 1 1 1 1 1 1 1 1 1 1 1 1 1 1 1 1 1 1 1 1 1 1 1 1 1 1 1 1 1 1 1 1 1 1 1 1 1 1 1 1 1 1 1 1 1 1 1 1 1 1 1 1 1 1 1 1 1 1 1 1 1 1 1 1 1 1 1 1 1 1 1 1 1 1 1 1 1 1 1 1 1 1 1 1 1 1 1 1 1 1 1 1 1 1 1 1 1 1 1 1 1 1 1 1 1 1 1 1 1 1 1 1 1 1 1 1 1 1 1 1 1 1 1 1 1 1 1 1 1 1 1 1 1 1 1 1 1 1 1 1 1 1 1 1 1 1 1 1 1 1 1 1 1 1 1 1 1 1 1 1 1 1 1 1 1 1 1 1 1 1 1 1 1 1 1 1 1\n"
          ],
          "name": "stderr"
        },
        {
          "output_type": "stream",
          "text": [
            "INFO:tensorflow:segment_ids: 0 0 0 0 0 0 0 0 0 0 0 0 0 0 0 0 0 0 0 0 0 0 0 0 0 0 0 0 0 0 0 0 0 0 0 0 0 0 0 0 0 0 0 0 0 0 0 0 0 0 0 0 0 0 0 0 0 0 0 0 0 0 0 0 0 0 0 0 0 0 0 0 0 0 0 0 0 0 0 0 0 0 0 0 0 0 0 0 0 0 0 0 0 0 0 0 0 0 0 0 0 0 0 0 0 0 0 0 0 0 0 0 0 0 0 0 0 0 0 0 0 0 0 0 0 0 0 0 0 0 0 0 0 0 0 0 0 0 0 0 0 0 0 0 0 0 0 0 0 0 0 0 0 0 0 0 0 0 0 0 0 0 0 0 0 0 0 0 0 0 0 0 0 0 0 0 0 0 0 0 0 0 0 0 0 0 0 0 0 0 0 0 0 0 0 0 0 0 0 0\n"
          ],
          "name": "stdout"
        },
        {
          "output_type": "stream",
          "text": [
            "INFO:tensorflow:segment_ids: 0 0 0 0 0 0 0 0 0 0 0 0 0 0 0 0 0 0 0 0 0 0 0 0 0 0 0 0 0 0 0 0 0 0 0 0 0 0 0 0 0 0 0 0 0 0 0 0 0 0 0 0 0 0 0 0 0 0 0 0 0 0 0 0 0 0 0 0 0 0 0 0 0 0 0 0 0 0 0 0 0 0 0 0 0 0 0 0 0 0 0 0 0 0 0 0 0 0 0 0 0 0 0 0 0 0 0 0 0 0 0 0 0 0 0 0 0 0 0 0 0 0 0 0 0 0 0 0 0 0 0 0 0 0 0 0 0 0 0 0 0 0 0 0 0 0 0 0 0 0 0 0 0 0 0 0 0 0 0 0 0 0 0 0 0 0 0 0 0 0 0 0 0 0 0 0 0 0 0 0 0 0 0 0 0 0 0 0 0 0 0 0 0 0 0 0 0 0 0 0\n"
          ],
          "name": "stderr"
        },
        {
          "output_type": "stream",
          "text": [
            "INFO:tensorflow:label: 4 (id = 4)\n"
          ],
          "name": "stdout"
        },
        {
          "output_type": "stream",
          "text": [
            "INFO:tensorflow:label: 4 (id = 4)\n"
          ],
          "name": "stderr"
        },
        {
          "output_type": "stream",
          "text": [
            "INFO:tensorflow:*** Example ***\n"
          ],
          "name": "stdout"
        },
        {
          "output_type": "stream",
          "text": [
            "INFO:tensorflow:*** Example ***\n"
          ],
          "name": "stderr"
        },
        {
          "output_type": "stream",
          "text": [
            "INFO:tensorflow:guid: None\n"
          ],
          "name": "stdout"
        },
        {
          "output_type": "stream",
          "text": [
            "INFO:tensorflow:guid: None\n"
          ],
          "name": "stderr"
        },
        {
          "output_type": "stream",
          "text": [
            "INFO:tensorflow:tokens: [CLS] athletics fans endured year mixed emotions stunning victories went hand ##in ##hand disappointing defeats drugs scandals kelly holmes finally fulfilled potential storm ##ing double gold track olympic games holmes helped erase gloom hanging team gb biggest medal hope paula radcliffe dropped marathon m britain ##s men ##s x ##m relay team also bit taking shock gold holmes started year disappointing style falling final m world indoor championships favourite olympic build ##up clouded self doubt proved un ##founded overhaul ##ed rival maria mu ##to ##la win m first global title five days later year ##old made double gold m first time years brit ##on achieved olympic middle ##dis ##tance double holmes left athens star team gb radcliffe carried expectations august games year ##old marathon world record holder went athens event favourite exhausted radcliffe dropped miles tears decision enter m five days later also back ##fire ##d pulled eight laps remaining radcliffe helped put olympic trauma behind thrilling win november ##s new york marathon x ##m team grabbed last ##gas ##p glory british men ##s olympic squad poor start games seemed though athens would first games men would fail win medal michael east individual track finalist m darren camp ##ell [SEP]\n"
          ],
          "name": "stdout"
        },
        {
          "output_type": "stream",
          "text": [
            "INFO:tensorflow:tokens: [CLS] athletics fans endured year mixed emotions stunning victories went hand ##in ##hand disappointing defeats drugs scandals kelly holmes finally fulfilled potential storm ##ing double gold track olympic games holmes helped erase gloom hanging team gb biggest medal hope paula radcliffe dropped marathon m britain ##s men ##s x ##m relay team also bit taking shock gold holmes started year disappointing style falling final m world indoor championships favourite olympic build ##up clouded self doubt proved un ##founded overhaul ##ed rival maria mu ##to ##la win m first global title five days later year ##old made double gold m first time years brit ##on achieved olympic middle ##dis ##tance double holmes left athens star team gb radcliffe carried expectations august games year ##old marathon world record holder went athens event favourite exhausted radcliffe dropped miles tears decision enter m five days later also back ##fire ##d pulled eight laps remaining radcliffe helped put olympic trauma behind thrilling win november ##s new york marathon x ##m team grabbed last ##gas ##p glory british men ##s olympic squad poor start games seemed though athens would first games men would fail win medal michael east individual track finalist m darren camp ##ell [SEP]\n"
          ],
          "name": "stderr"
        },
        {
          "output_type": "stream",
          "text": [
            "INFO:tensorflow:input_ids: 101 6482 4599 16753 2095 3816 6699 14726 9248 2253 2192 2378 11774 15640 14222 5850 29609 5163 9106 2633 16829 4022 4040 2075 3313 2751 2650 4386 2399 9106 3271 22505 24067 5689 2136 16351 5221 3101 3246 13723 22603 3333 8589 1049 3725 2015 2273 2015 1060 2213 8846 2136 2036 2978 2635 5213 2751 9106 2318 2095 15640 2806 4634 2345 1049 2088 7169 3219 8837 4386 3857 6279 26761 2969 4797 4928 4895 21001 18181 2098 6538 3814 14163 3406 2721 2663 1049 2034 3795 2516 2274 2420 2101 2095 11614 2081 3313 2751 1049 2034 2051 2086 28101 2239 4719 4386 2690 10521 26897 3313 9106 2187 7571 2732 2136 16351 22603 3344 10908 2257 2399 2095 11614 8589 2088 2501 9111 2253 7571 2724 8837 9069 22603 3333 2661 4000 3247 4607 1049 2274 2420 2101 2036 2067 10273 2094 2766 2809 10876 3588 22603 3271 2404 4386 12603 2369 26162 2663 2281 2015 2047 2259 8589 1060 2213 2136 4046 2197 12617 2361 8294 2329 2273 2015 4386 4686 3532 2707 2399 2790 2295 7571 2052 2034 2399 2273 2052 8246 2663 3101 2745 2264 3265 2650 9914 1049 12270 3409 5349 102\n"
          ],
          "name": "stdout"
        },
        {
          "output_type": "stream",
          "text": [
            "INFO:tensorflow:input_ids: 101 6482 4599 16753 2095 3816 6699 14726 9248 2253 2192 2378 11774 15640 14222 5850 29609 5163 9106 2633 16829 4022 4040 2075 3313 2751 2650 4386 2399 9106 3271 22505 24067 5689 2136 16351 5221 3101 3246 13723 22603 3333 8589 1049 3725 2015 2273 2015 1060 2213 8846 2136 2036 2978 2635 5213 2751 9106 2318 2095 15640 2806 4634 2345 1049 2088 7169 3219 8837 4386 3857 6279 26761 2969 4797 4928 4895 21001 18181 2098 6538 3814 14163 3406 2721 2663 1049 2034 3795 2516 2274 2420 2101 2095 11614 2081 3313 2751 1049 2034 2051 2086 28101 2239 4719 4386 2690 10521 26897 3313 9106 2187 7571 2732 2136 16351 22603 3344 10908 2257 2399 2095 11614 8589 2088 2501 9111 2253 7571 2724 8837 9069 22603 3333 2661 4000 3247 4607 1049 2274 2420 2101 2036 2067 10273 2094 2766 2809 10876 3588 22603 3271 2404 4386 12603 2369 26162 2663 2281 2015 2047 2259 8589 1060 2213 2136 4046 2197 12617 2361 8294 2329 2273 2015 4386 4686 3532 2707 2399 2790 2295 7571 2052 2034 2399 2273 2052 8246 2663 3101 2745 2264 3265 2650 9914 1049 12270 3409 5349 102\n"
          ],
          "name": "stderr"
        },
        {
          "output_type": "stream",
          "text": [
            "INFO:tensorflow:input_mask: 1 1 1 1 1 1 1 1 1 1 1 1 1 1 1 1 1 1 1 1 1 1 1 1 1 1 1 1 1 1 1 1 1 1 1 1 1 1 1 1 1 1 1 1 1 1 1 1 1 1 1 1 1 1 1 1 1 1 1 1 1 1 1 1 1 1 1 1 1 1 1 1 1 1 1 1 1 1 1 1 1 1 1 1 1 1 1 1 1 1 1 1 1 1 1 1 1 1 1 1 1 1 1 1 1 1 1 1 1 1 1 1 1 1 1 1 1 1 1 1 1 1 1 1 1 1 1 1 1 1 1 1 1 1 1 1 1 1 1 1 1 1 1 1 1 1 1 1 1 1 1 1 1 1 1 1 1 1 1 1 1 1 1 1 1 1 1 1 1 1 1 1 1 1 1 1 1 1 1 1 1 1 1 1 1 1 1 1 1 1 1 1 1 1 1 1 1 1 1 1\n"
          ],
          "name": "stdout"
        },
        {
          "output_type": "stream",
          "text": [
            "INFO:tensorflow:input_mask: 1 1 1 1 1 1 1 1 1 1 1 1 1 1 1 1 1 1 1 1 1 1 1 1 1 1 1 1 1 1 1 1 1 1 1 1 1 1 1 1 1 1 1 1 1 1 1 1 1 1 1 1 1 1 1 1 1 1 1 1 1 1 1 1 1 1 1 1 1 1 1 1 1 1 1 1 1 1 1 1 1 1 1 1 1 1 1 1 1 1 1 1 1 1 1 1 1 1 1 1 1 1 1 1 1 1 1 1 1 1 1 1 1 1 1 1 1 1 1 1 1 1 1 1 1 1 1 1 1 1 1 1 1 1 1 1 1 1 1 1 1 1 1 1 1 1 1 1 1 1 1 1 1 1 1 1 1 1 1 1 1 1 1 1 1 1 1 1 1 1 1 1 1 1 1 1 1 1 1 1 1 1 1 1 1 1 1 1 1 1 1 1 1 1 1 1 1 1 1 1\n"
          ],
          "name": "stderr"
        },
        {
          "output_type": "stream",
          "text": [
            "INFO:tensorflow:segment_ids: 0 0 0 0 0 0 0 0 0 0 0 0 0 0 0 0 0 0 0 0 0 0 0 0 0 0 0 0 0 0 0 0 0 0 0 0 0 0 0 0 0 0 0 0 0 0 0 0 0 0 0 0 0 0 0 0 0 0 0 0 0 0 0 0 0 0 0 0 0 0 0 0 0 0 0 0 0 0 0 0 0 0 0 0 0 0 0 0 0 0 0 0 0 0 0 0 0 0 0 0 0 0 0 0 0 0 0 0 0 0 0 0 0 0 0 0 0 0 0 0 0 0 0 0 0 0 0 0 0 0 0 0 0 0 0 0 0 0 0 0 0 0 0 0 0 0 0 0 0 0 0 0 0 0 0 0 0 0 0 0 0 0 0 0 0 0 0 0 0 0 0 0 0 0 0 0 0 0 0 0 0 0 0 0 0 0 0 0 0 0 0 0 0 0 0 0 0 0 0 0\n"
          ],
          "name": "stdout"
        },
        {
          "output_type": "stream",
          "text": [
            "INFO:tensorflow:segment_ids: 0 0 0 0 0 0 0 0 0 0 0 0 0 0 0 0 0 0 0 0 0 0 0 0 0 0 0 0 0 0 0 0 0 0 0 0 0 0 0 0 0 0 0 0 0 0 0 0 0 0 0 0 0 0 0 0 0 0 0 0 0 0 0 0 0 0 0 0 0 0 0 0 0 0 0 0 0 0 0 0 0 0 0 0 0 0 0 0 0 0 0 0 0 0 0 0 0 0 0 0 0 0 0 0 0 0 0 0 0 0 0 0 0 0 0 0 0 0 0 0 0 0 0 0 0 0 0 0 0 0 0 0 0 0 0 0 0 0 0 0 0 0 0 0 0 0 0 0 0 0 0 0 0 0 0 0 0 0 0 0 0 0 0 0 0 0 0 0 0 0 0 0 0 0 0 0 0 0 0 0 0 0 0 0 0 0 0 0 0 0 0 0 0 0 0 0 0 0 0 0\n"
          ],
          "name": "stderr"
        },
        {
          "output_type": "stream",
          "text": [
            "INFO:tensorflow:label: 3 (id = 3)\n"
          ],
          "name": "stdout"
        },
        {
          "output_type": "stream",
          "text": [
            "INFO:tensorflow:label: 3 (id = 3)\n"
          ],
          "name": "stderr"
        },
        {
          "output_type": "stream",
          "text": [
            "INFO:tensorflow:*** Example ***\n"
          ],
          "name": "stdout"
        },
        {
          "output_type": "stream",
          "text": [
            "INFO:tensorflow:*** Example ***\n"
          ],
          "name": "stderr"
        },
        {
          "output_type": "stream",
          "text": [
            "INFO:tensorflow:guid: None\n"
          ],
          "name": "stdout"
        },
        {
          "output_type": "stream",
          "text": [
            "INFO:tensorflow:guid: None\n"
          ],
          "name": "stderr"
        },
        {
          "output_type": "stream",
          "text": [
            "INFO:tensorflow:tokens: [CLS] labour accused using anti ##se ##mit ##ic images posters critics claim depict tory leader michael howard fa ##gin poster shows mr howard h ##yp ##not ##ising people pocket watch saying spend money twice image prompted concern editor jewish chronicle labour insists simply anti ##tory labour later took image website saying alternative idea proved popular party members party use focus groups test poster showing mr howard shadow chancellor oliver let ##win black ##board reading + h ##yp ##not ##ism poster compared portrayal dickens character fa ##gin stage version musical oliver controversy another poster choice offered labour members showed mr howard mr let ##win jewish flying pigs mr howard comment anti ##se ##mit ##ism claims asked poster monday instead pointed tony blair complained personal ##ised abusive campaigning mr howard told greater manchester radio pity mr blair doesn ##t pr ##act ##ise preach ##es jewish chronicle editor ned te ##m ##ko said mixed reaction first poster emails jewish chronicle readers showed deeper concern h ##yp ##not ##ism image shy ##lock fa ##gin in ##ex ##tric ##ably linked notions centuries ##old prejudice told bbc radio s world one whatever idea think difficult exercise use images like argue divorce historical context meaning mr [SEP]\n"
          ],
          "name": "stdout"
        },
        {
          "output_type": "stream",
          "text": [
            "INFO:tensorflow:tokens: [CLS] labour accused using anti ##se ##mit ##ic images posters critics claim depict tory leader michael howard fa ##gin poster shows mr howard h ##yp ##not ##ising people pocket watch saying spend money twice image prompted concern editor jewish chronicle labour insists simply anti ##tory labour later took image website saying alternative idea proved popular party members party use focus groups test poster showing mr howard shadow chancellor oliver let ##win black ##board reading + h ##yp ##not ##ism poster compared portrayal dickens character fa ##gin stage version musical oliver controversy another poster choice offered labour members showed mr howard mr let ##win jewish flying pigs mr howard comment anti ##se ##mit ##ism claims asked poster monday instead pointed tony blair complained personal ##ised abusive campaigning mr howard told greater manchester radio pity mr blair doesn ##t pr ##act ##ise preach ##es jewish chronicle editor ned te ##m ##ko said mixed reaction first poster emails jewish chronicle readers showed deeper concern h ##yp ##not ##ism image shy ##lock fa ##gin in ##ex ##tric ##ably linked notions centuries ##old prejudice told bbc radio s world one whatever idea think difficult exercise use images like argue divorce historical context meaning mr [SEP]\n"
          ],
          "name": "stderr"
        },
        {
          "output_type": "stream",
          "text": [
            "INFO:tensorflow:input_ids: 101 4428 5496 2478 3424 3366 22930 2594 4871 14921 4401 4366 17120 17117 3003 2745 4922 6904 11528 13082 3065 2720 4922 1044 22571 17048 9355 2111 4979 3422 3038 5247 2769 3807 3746 9469 5142 3559 3644 9519 4428 16818 3432 3424 7062 4428 2101 2165 3746 4037 3038 4522 2801 4928 2759 2283 2372 2283 2224 3579 2967 3231 13082 4760 2720 4922 5192 7306 6291 2292 10105 2304 6277 3752 1009 1044 22571 17048 2964 13082 4102 13954 19675 2839 6904 11528 2754 2544 3315 6291 6704 2178 13082 3601 3253 4428 2372 3662 2720 4922 2720 2292 10105 3644 3909 14695 2720 4922 7615 3424 3366 22930 2964 4447 2356 13082 6928 2612 4197 4116 10503 10865 3167 5084 20676 18524 2720 4922 2409 3618 5087 2557 12063 2720 10503 2987 2102 10975 18908 5562 25250 2229 3644 9519 3559 12311 8915 2213 3683 2056 3816 4668 2034 13082 22028 3644 9519 8141 3662 6748 5142 1044 22571 17048 2964 3746 11004 7878 6904 11528 1999 10288 12412 8231 5799 21951 4693 11614 18024 2409 4035 2557 1055 2088 2028 3649 2801 2228 3697 6912 2224 4871 2066 7475 8179 3439 6123 3574 2720 102\n"
          ],
          "name": "stdout"
        },
        {
          "output_type": "stream",
          "text": [
            "INFO:tensorflow:input_ids: 101 4428 5496 2478 3424 3366 22930 2594 4871 14921 4401 4366 17120 17117 3003 2745 4922 6904 11528 13082 3065 2720 4922 1044 22571 17048 9355 2111 4979 3422 3038 5247 2769 3807 3746 9469 5142 3559 3644 9519 4428 16818 3432 3424 7062 4428 2101 2165 3746 4037 3038 4522 2801 4928 2759 2283 2372 2283 2224 3579 2967 3231 13082 4760 2720 4922 5192 7306 6291 2292 10105 2304 6277 3752 1009 1044 22571 17048 2964 13082 4102 13954 19675 2839 6904 11528 2754 2544 3315 6291 6704 2178 13082 3601 3253 4428 2372 3662 2720 4922 2720 2292 10105 3644 3909 14695 2720 4922 7615 3424 3366 22930 2964 4447 2356 13082 6928 2612 4197 4116 10503 10865 3167 5084 20676 18524 2720 4922 2409 3618 5087 2557 12063 2720 10503 2987 2102 10975 18908 5562 25250 2229 3644 9519 3559 12311 8915 2213 3683 2056 3816 4668 2034 13082 22028 3644 9519 8141 3662 6748 5142 1044 22571 17048 2964 3746 11004 7878 6904 11528 1999 10288 12412 8231 5799 21951 4693 11614 18024 2409 4035 2557 1055 2088 2028 3649 2801 2228 3697 6912 2224 4871 2066 7475 8179 3439 6123 3574 2720 102\n"
          ],
          "name": "stderr"
        },
        {
          "output_type": "stream",
          "text": [
            "INFO:tensorflow:input_mask: 1 1 1 1 1 1 1 1 1 1 1 1 1 1 1 1 1 1 1 1 1 1 1 1 1 1 1 1 1 1 1 1 1 1 1 1 1 1 1 1 1 1 1 1 1 1 1 1 1 1 1 1 1 1 1 1 1 1 1 1 1 1 1 1 1 1 1 1 1 1 1 1 1 1 1 1 1 1 1 1 1 1 1 1 1 1 1 1 1 1 1 1 1 1 1 1 1 1 1 1 1 1 1 1 1 1 1 1 1 1 1 1 1 1 1 1 1 1 1 1 1 1 1 1 1 1 1 1 1 1 1 1 1 1 1 1 1 1 1 1 1 1 1 1 1 1 1 1 1 1 1 1 1 1 1 1 1 1 1 1 1 1 1 1 1 1 1 1 1 1 1 1 1 1 1 1 1 1 1 1 1 1 1 1 1 1 1 1 1 1 1 1 1 1 1 1 1 1 1 1\n"
          ],
          "name": "stdout"
        },
        {
          "output_type": "stream",
          "text": [
            "INFO:tensorflow:input_mask: 1 1 1 1 1 1 1 1 1 1 1 1 1 1 1 1 1 1 1 1 1 1 1 1 1 1 1 1 1 1 1 1 1 1 1 1 1 1 1 1 1 1 1 1 1 1 1 1 1 1 1 1 1 1 1 1 1 1 1 1 1 1 1 1 1 1 1 1 1 1 1 1 1 1 1 1 1 1 1 1 1 1 1 1 1 1 1 1 1 1 1 1 1 1 1 1 1 1 1 1 1 1 1 1 1 1 1 1 1 1 1 1 1 1 1 1 1 1 1 1 1 1 1 1 1 1 1 1 1 1 1 1 1 1 1 1 1 1 1 1 1 1 1 1 1 1 1 1 1 1 1 1 1 1 1 1 1 1 1 1 1 1 1 1 1 1 1 1 1 1 1 1 1 1 1 1 1 1 1 1 1 1 1 1 1 1 1 1 1 1 1 1 1 1 1 1 1 1 1 1\n"
          ],
          "name": "stderr"
        },
        {
          "output_type": "stream",
          "text": [
            "INFO:tensorflow:segment_ids: 0 0 0 0 0 0 0 0 0 0 0 0 0 0 0 0 0 0 0 0 0 0 0 0 0 0 0 0 0 0 0 0 0 0 0 0 0 0 0 0 0 0 0 0 0 0 0 0 0 0 0 0 0 0 0 0 0 0 0 0 0 0 0 0 0 0 0 0 0 0 0 0 0 0 0 0 0 0 0 0 0 0 0 0 0 0 0 0 0 0 0 0 0 0 0 0 0 0 0 0 0 0 0 0 0 0 0 0 0 0 0 0 0 0 0 0 0 0 0 0 0 0 0 0 0 0 0 0 0 0 0 0 0 0 0 0 0 0 0 0 0 0 0 0 0 0 0 0 0 0 0 0 0 0 0 0 0 0 0 0 0 0 0 0 0 0 0 0 0 0 0 0 0 0 0 0 0 0 0 0 0 0 0 0 0 0 0 0 0 0 0 0 0 0 0 0 0 0 0 0\n"
          ],
          "name": "stdout"
        },
        {
          "output_type": "stream",
          "text": [
            "INFO:tensorflow:segment_ids: 0 0 0 0 0 0 0 0 0 0 0 0 0 0 0 0 0 0 0 0 0 0 0 0 0 0 0 0 0 0 0 0 0 0 0 0 0 0 0 0 0 0 0 0 0 0 0 0 0 0 0 0 0 0 0 0 0 0 0 0 0 0 0 0 0 0 0 0 0 0 0 0 0 0 0 0 0 0 0 0 0 0 0 0 0 0 0 0 0 0 0 0 0 0 0 0 0 0 0 0 0 0 0 0 0 0 0 0 0 0 0 0 0 0 0 0 0 0 0 0 0 0 0 0 0 0 0 0 0 0 0 0 0 0 0 0 0 0 0 0 0 0 0 0 0 0 0 0 0 0 0 0 0 0 0 0 0 0 0 0 0 0 0 0 0 0 0 0 0 0 0 0 0 0 0 0 0 0 0 0 0 0 0 0 0 0 0 0 0 0 0 0 0 0 0 0 0 0 0 0\n"
          ],
          "name": "stderr"
        },
        {
          "output_type": "stream",
          "text": [
            "INFO:tensorflow:label: 2 (id = 2)\n"
          ],
          "name": "stdout"
        },
        {
          "output_type": "stream",
          "text": [
            "INFO:tensorflow:label: 2 (id = 2)\n"
          ],
          "name": "stderr"
        },
        {
          "output_type": "stream",
          "text": [
            "INFO:tensorflow:Writing example 0 of 445\n"
          ],
          "name": "stdout"
        },
        {
          "output_type": "stream",
          "text": [
            "INFO:tensorflow:Writing example 0 of 445\n"
          ],
          "name": "stderr"
        },
        {
          "output_type": "stream",
          "text": [
            "INFO:tensorflow:*** Example ***\n"
          ],
          "name": "stdout"
        },
        {
          "output_type": "stream",
          "text": [
            "INFO:tensorflow:*** Example ***\n"
          ],
          "name": "stderr"
        },
        {
          "output_type": "stream",
          "text": [
            "INFO:tensorflow:guid: None\n"
          ],
          "name": "stdout"
        },
        {
          "output_type": "stream",
          "text": [
            "INFO:tensorflow:guid: None\n"
          ],
          "name": "stderr"
        },
        {
          "output_type": "stream",
          "text": [
            "INFO:tensorflow:tokens: [CLS] uk retail sales better expected november christmas shop ##pers began seasonal flock high street figures show office national statistics on ##s said retail sales rose month year figures along weeks inflation report could trigger another interest rate rise new year however recent data british retail consortium showed slip high street sales november on ##s data con ##founded analyst expectations many expected sales fall slightly november shop ##pers put buying christmas presents december however retailers attempts draw crowds may behind november ##s unexpected rise sales say aggressive tactics one ##day discount sales adopted stores marks spencer appear paid price discount ##ing certainly accounted much value retail sales hasn ##t grown much volumes said invest ##ec economist david page figures sparked rally sterling data supported view early assume base rates peaked [SEP]\n"
          ],
          "name": "stdout"
        },
        {
          "output_type": "stream",
          "text": [
            "INFO:tensorflow:tokens: [CLS] uk retail sales better expected november christmas shop ##pers began seasonal flock high street figures show office national statistics on ##s said retail sales rose month year figures along weeks inflation report could trigger another interest rate rise new year however recent data british retail consortium showed slip high street sales november on ##s data con ##founded analyst expectations many expected sales fall slightly november shop ##pers put buying christmas presents december however retailers attempts draw crowds may behind november ##s unexpected rise sales say aggressive tactics one ##day discount sales adopted stores marks spencer appear paid price discount ##ing certainly accounted much value retail sales hasn ##t grown much volumes said invest ##ec economist david page figures sparked rally sterling data supported view early assume base rates peaked [SEP]\n"
          ],
          "name": "stderr"
        },
        {
          "output_type": "stream",
          "text": [
            "INFO:tensorflow:input_ids: 101 2866 7027 4341 2488 3517 2281 4234 4497 7347 2211 12348 19311 2152 2395 4481 2265 2436 2120 6747 2006 2015 2056 7027 4341 3123 3204 2095 4481 2247 3134 14200 3189 2071 9495 2178 3037 3446 4125 2047 2095 2174 3522 2951 2329 7027 12360 3662 7540 2152 2395 4341 2281 2006 2015 2951 9530 21001 12941 10908 2116 3517 4341 2991 3621 2281 4497 7347 2404 9343 4234 7534 2285 2174 16629 4740 4009 12783 2089 2369 2281 2015 9223 4125 4341 2360 9376 9887 2028 10259 19575 4341 4233 5324 6017 7084 3711 3825 3976 19575 2075 5121 14729 2172 3643 7027 4341 8440 2102 4961 2172 6702 2056 15697 8586 11708 2585 3931 4481 13977 8320 10933 2951 3569 3193 2220 7868 2918 6165 6601 102 0 0 0 0 0 0 0 0 0 0 0 0 0 0 0 0 0 0 0 0 0 0 0 0 0 0 0 0 0 0 0 0 0 0 0 0 0 0 0 0 0 0 0 0 0 0 0 0 0 0 0 0 0 0 0 0 0 0 0 0 0 0 0 0 0 0 0 0 0\n"
          ],
          "name": "stdout"
        },
        {
          "output_type": "stream",
          "text": [
            "INFO:tensorflow:input_ids: 101 2866 7027 4341 2488 3517 2281 4234 4497 7347 2211 12348 19311 2152 2395 4481 2265 2436 2120 6747 2006 2015 2056 7027 4341 3123 3204 2095 4481 2247 3134 14200 3189 2071 9495 2178 3037 3446 4125 2047 2095 2174 3522 2951 2329 7027 12360 3662 7540 2152 2395 4341 2281 2006 2015 2951 9530 21001 12941 10908 2116 3517 4341 2991 3621 2281 4497 7347 2404 9343 4234 7534 2285 2174 16629 4740 4009 12783 2089 2369 2281 2015 9223 4125 4341 2360 9376 9887 2028 10259 19575 4341 4233 5324 6017 7084 3711 3825 3976 19575 2075 5121 14729 2172 3643 7027 4341 8440 2102 4961 2172 6702 2056 15697 8586 11708 2585 3931 4481 13977 8320 10933 2951 3569 3193 2220 7868 2918 6165 6601 102 0 0 0 0 0 0 0 0 0 0 0 0 0 0 0 0 0 0 0 0 0 0 0 0 0 0 0 0 0 0 0 0 0 0 0 0 0 0 0 0 0 0 0 0 0 0 0 0 0 0 0 0 0 0 0 0 0 0 0 0 0 0 0 0 0 0 0 0 0\n"
          ],
          "name": "stderr"
        },
        {
          "output_type": "stream",
          "text": [
            "INFO:tensorflow:input_mask: 1 1 1 1 1 1 1 1 1 1 1 1 1 1 1 1 1 1 1 1 1 1 1 1 1 1 1 1 1 1 1 1 1 1 1 1 1 1 1 1 1 1 1 1 1 1 1 1 1 1 1 1 1 1 1 1 1 1 1 1 1 1 1 1 1 1 1 1 1 1 1 1 1 1 1 1 1 1 1 1 1 1 1 1 1 1 1 1 1 1 1 1 1 1 1 1 1 1 1 1 1 1 1 1 1 1 1 1 1 1 1 1 1 1 1 1 1 1 1 1 1 1 1 1 1 1 1 1 1 1 1 0 0 0 0 0 0 0 0 0 0 0 0 0 0 0 0 0 0 0 0 0 0 0 0 0 0 0 0 0 0 0 0 0 0 0 0 0 0 0 0 0 0 0 0 0 0 0 0 0 0 0 0 0 0 0 0 0 0 0 0 0 0 0 0 0 0 0 0 0\n"
          ],
          "name": "stdout"
        },
        {
          "output_type": "stream",
          "text": [
            "INFO:tensorflow:input_mask: 1 1 1 1 1 1 1 1 1 1 1 1 1 1 1 1 1 1 1 1 1 1 1 1 1 1 1 1 1 1 1 1 1 1 1 1 1 1 1 1 1 1 1 1 1 1 1 1 1 1 1 1 1 1 1 1 1 1 1 1 1 1 1 1 1 1 1 1 1 1 1 1 1 1 1 1 1 1 1 1 1 1 1 1 1 1 1 1 1 1 1 1 1 1 1 1 1 1 1 1 1 1 1 1 1 1 1 1 1 1 1 1 1 1 1 1 1 1 1 1 1 1 1 1 1 1 1 1 1 1 1 0 0 0 0 0 0 0 0 0 0 0 0 0 0 0 0 0 0 0 0 0 0 0 0 0 0 0 0 0 0 0 0 0 0 0 0 0 0 0 0 0 0 0 0 0 0 0 0 0 0 0 0 0 0 0 0 0 0 0 0 0 0 0 0 0 0 0 0 0\n"
          ],
          "name": "stderr"
        },
        {
          "output_type": "stream",
          "text": [
            "INFO:tensorflow:segment_ids: 0 0 0 0 0 0 0 0 0 0 0 0 0 0 0 0 0 0 0 0 0 0 0 0 0 0 0 0 0 0 0 0 0 0 0 0 0 0 0 0 0 0 0 0 0 0 0 0 0 0 0 0 0 0 0 0 0 0 0 0 0 0 0 0 0 0 0 0 0 0 0 0 0 0 0 0 0 0 0 0 0 0 0 0 0 0 0 0 0 0 0 0 0 0 0 0 0 0 0 0 0 0 0 0 0 0 0 0 0 0 0 0 0 0 0 0 0 0 0 0 0 0 0 0 0 0 0 0 0 0 0 0 0 0 0 0 0 0 0 0 0 0 0 0 0 0 0 0 0 0 0 0 0 0 0 0 0 0 0 0 0 0 0 0 0 0 0 0 0 0 0 0 0 0 0 0 0 0 0 0 0 0 0 0 0 0 0 0 0 0 0 0 0 0 0 0 0 0 0 0\n"
          ],
          "name": "stdout"
        },
        {
          "output_type": "stream",
          "text": [
            "INFO:tensorflow:segment_ids: 0 0 0 0 0 0 0 0 0 0 0 0 0 0 0 0 0 0 0 0 0 0 0 0 0 0 0 0 0 0 0 0 0 0 0 0 0 0 0 0 0 0 0 0 0 0 0 0 0 0 0 0 0 0 0 0 0 0 0 0 0 0 0 0 0 0 0 0 0 0 0 0 0 0 0 0 0 0 0 0 0 0 0 0 0 0 0 0 0 0 0 0 0 0 0 0 0 0 0 0 0 0 0 0 0 0 0 0 0 0 0 0 0 0 0 0 0 0 0 0 0 0 0 0 0 0 0 0 0 0 0 0 0 0 0 0 0 0 0 0 0 0 0 0 0 0 0 0 0 0 0 0 0 0 0 0 0 0 0 0 0 0 0 0 0 0 0 0 0 0 0 0 0 0 0 0 0 0 0 0 0 0 0 0 0 0 0 0 0 0 0 0 0 0 0 0 0 0 0 0\n"
          ],
          "name": "stderr"
        },
        {
          "output_type": "stream",
          "text": [
            "INFO:tensorflow:label: 0 (id = 0)\n"
          ],
          "name": "stdout"
        },
        {
          "output_type": "stream",
          "text": [
            "INFO:tensorflow:label: 0 (id = 0)\n"
          ],
          "name": "stderr"
        },
        {
          "output_type": "stream",
          "text": [
            "INFO:tensorflow:*** Example ***\n"
          ],
          "name": "stdout"
        },
        {
          "output_type": "stream",
          "text": [
            "INFO:tensorflow:*** Example ***\n"
          ],
          "name": "stderr"
        },
        {
          "output_type": "stream",
          "text": [
            "INFO:tensorflow:guid: None\n"
          ],
          "name": "stdout"
        },
        {
          "output_type": "stream",
          "text": [
            "INFO:tensorflow:guid: None\n"
          ],
          "name": "stderr"
        },
        {
          "output_type": "stream",
          "text": [
            "INFO:tensorflow:tokens: [CLS] life ins ##urer ax ##a sun life lowered annual bonus pay ##outs with ##pro ##fi ##ts investors regular annual bonus rates former ax ##a equity law with ##pro ##fi ##ts policies cut ax ##a blamed poor stock market performance cut adding recent gains yet offset market falls seen cut hit estimated ax ##as policy ##holders rest know fate march cuts ax ##as policies mean policy ##holder invested month endowment policy past years would see final maturity pay ##out e ##qua ##ted annual investment growth rate ax ##a said with ##pro ##fi ##ts policies designed smooth peaks trough ##s stock market vol ##ati ##lity however heavy stock market falls throughout forced firms trim bonus rates policies stock market grown past months however enough undo damage occurred ax ##a spokesman mark hamilton ax ##a spokesman told bbc news ax ##a cut pay ##outs investors last january [SEP]\n"
          ],
          "name": "stdout"
        },
        {
          "output_type": "stream",
          "text": [
            "INFO:tensorflow:tokens: [CLS] life ins ##urer ax ##a sun life lowered annual bonus pay ##outs with ##pro ##fi ##ts investors regular annual bonus rates former ax ##a equity law with ##pro ##fi ##ts policies cut ax ##a blamed poor stock market performance cut adding recent gains yet offset market falls seen cut hit estimated ax ##as policy ##holders rest know fate march cuts ax ##as policies mean policy ##holder invested month endowment policy past years would see final maturity pay ##out e ##qua ##ted annual investment growth rate ax ##a said with ##pro ##fi ##ts policies designed smooth peaks trough ##s stock market vol ##ati ##lity however heavy stock market falls throughout forced firms trim bonus rates policies stock market grown past months however enough undo damage occurred ax ##a spokesman mark hamilton ax ##a spokesman told bbc news ax ##a cut pay ##outs investors last january [SEP]\n"
          ],
          "name": "stderr"
        },
        {
          "output_type": "stream",
          "text": [
            "INFO:tensorflow:input_ids: 101 2166 16021 27595 22260 2050 3103 2166 6668 3296 6781 3477 12166 2007 21572 8873 3215 9387 3180 3296 6781 6165 2280 22260 2050 10067 2375 2007 21572 8873 3215 6043 3013 22260 2050 11248 3532 4518 3006 2836 3013 5815 3522 12154 2664 16396 3006 4212 2464 3013 2718 4358 22260 3022 3343 17794 2717 2113 6580 2233 7659 22260 3022 6043 2812 3343 14528 11241 3204 15108 3343 2627 2086 2052 2156 2345 16736 3477 5833 1041 16211 3064 3296 5211 3930 3446 22260 2050 2056 2007 21572 8873 3215 6043 2881 5744 11373 23389 2015 4518 3006 5285 10450 18605 2174 3082 4518 3006 4212 2802 3140 9786 12241 6781 6165 6043 4518 3006 4961 2627 2706 2174 2438 25672 4053 4158 22260 2050 14056 2928 5226 22260 2050 14056 2409 4035 2739 22260 2050 3013 3477 12166 9387 2197 2254 102 0 0 0 0 0 0 0 0 0 0 0 0 0 0 0 0 0 0 0 0 0 0 0 0 0 0 0 0 0 0 0 0 0 0 0 0 0 0 0 0 0 0 0 0 0 0 0 0 0 0 0 0 0 0\n"
          ],
          "name": "stdout"
        },
        {
          "output_type": "stream",
          "text": [
            "INFO:tensorflow:input_ids: 101 2166 16021 27595 22260 2050 3103 2166 6668 3296 6781 3477 12166 2007 21572 8873 3215 9387 3180 3296 6781 6165 2280 22260 2050 10067 2375 2007 21572 8873 3215 6043 3013 22260 2050 11248 3532 4518 3006 2836 3013 5815 3522 12154 2664 16396 3006 4212 2464 3013 2718 4358 22260 3022 3343 17794 2717 2113 6580 2233 7659 22260 3022 6043 2812 3343 14528 11241 3204 15108 3343 2627 2086 2052 2156 2345 16736 3477 5833 1041 16211 3064 3296 5211 3930 3446 22260 2050 2056 2007 21572 8873 3215 6043 2881 5744 11373 23389 2015 4518 3006 5285 10450 18605 2174 3082 4518 3006 4212 2802 3140 9786 12241 6781 6165 6043 4518 3006 4961 2627 2706 2174 2438 25672 4053 4158 22260 2050 14056 2928 5226 22260 2050 14056 2409 4035 2739 22260 2050 3013 3477 12166 9387 2197 2254 102 0 0 0 0 0 0 0 0 0 0 0 0 0 0 0 0 0 0 0 0 0 0 0 0 0 0 0 0 0 0 0 0 0 0 0 0 0 0 0 0 0 0 0 0 0 0 0 0 0 0 0 0 0 0\n"
          ],
          "name": "stderr"
        },
        {
          "output_type": "stream",
          "text": [
            "INFO:tensorflow:input_mask: 1 1 1 1 1 1 1 1 1 1 1 1 1 1 1 1 1 1 1 1 1 1 1 1 1 1 1 1 1 1 1 1 1 1 1 1 1 1 1 1 1 1 1 1 1 1 1 1 1 1 1 1 1 1 1 1 1 1 1 1 1 1 1 1 1 1 1 1 1 1 1 1 1 1 1 1 1 1 1 1 1 1 1 1 1 1 1 1 1 1 1 1 1 1 1 1 1 1 1 1 1 1 1 1 1 1 1 1 1 1 1 1 1 1 1 1 1 1 1 1 1 1 1 1 1 1 1 1 1 1 1 1 1 1 1 1 1 1 1 1 1 1 1 1 1 1 0 0 0 0 0 0 0 0 0 0 0 0 0 0 0 0 0 0 0 0 0 0 0 0 0 0 0 0 0 0 0 0 0 0 0 0 0 0 0 0 0 0 0 0 0 0 0 0 0 0 0 0 0 0\n"
          ],
          "name": "stdout"
        },
        {
          "output_type": "stream",
          "text": [
            "INFO:tensorflow:input_mask: 1 1 1 1 1 1 1 1 1 1 1 1 1 1 1 1 1 1 1 1 1 1 1 1 1 1 1 1 1 1 1 1 1 1 1 1 1 1 1 1 1 1 1 1 1 1 1 1 1 1 1 1 1 1 1 1 1 1 1 1 1 1 1 1 1 1 1 1 1 1 1 1 1 1 1 1 1 1 1 1 1 1 1 1 1 1 1 1 1 1 1 1 1 1 1 1 1 1 1 1 1 1 1 1 1 1 1 1 1 1 1 1 1 1 1 1 1 1 1 1 1 1 1 1 1 1 1 1 1 1 1 1 1 1 1 1 1 1 1 1 1 1 1 1 1 1 0 0 0 0 0 0 0 0 0 0 0 0 0 0 0 0 0 0 0 0 0 0 0 0 0 0 0 0 0 0 0 0 0 0 0 0 0 0 0 0 0 0 0 0 0 0 0 0 0 0 0 0 0 0\n"
          ],
          "name": "stderr"
        },
        {
          "output_type": "stream",
          "text": [
            "INFO:tensorflow:segment_ids: 0 0 0 0 0 0 0 0 0 0 0 0 0 0 0 0 0 0 0 0 0 0 0 0 0 0 0 0 0 0 0 0 0 0 0 0 0 0 0 0 0 0 0 0 0 0 0 0 0 0 0 0 0 0 0 0 0 0 0 0 0 0 0 0 0 0 0 0 0 0 0 0 0 0 0 0 0 0 0 0 0 0 0 0 0 0 0 0 0 0 0 0 0 0 0 0 0 0 0 0 0 0 0 0 0 0 0 0 0 0 0 0 0 0 0 0 0 0 0 0 0 0 0 0 0 0 0 0 0 0 0 0 0 0 0 0 0 0 0 0 0 0 0 0 0 0 0 0 0 0 0 0 0 0 0 0 0 0 0 0 0 0 0 0 0 0 0 0 0 0 0 0 0 0 0 0 0 0 0 0 0 0 0 0 0 0 0 0 0 0 0 0 0 0 0 0 0 0 0 0\n"
          ],
          "name": "stdout"
        },
        {
          "output_type": "stream",
          "text": [
            "INFO:tensorflow:segment_ids: 0 0 0 0 0 0 0 0 0 0 0 0 0 0 0 0 0 0 0 0 0 0 0 0 0 0 0 0 0 0 0 0 0 0 0 0 0 0 0 0 0 0 0 0 0 0 0 0 0 0 0 0 0 0 0 0 0 0 0 0 0 0 0 0 0 0 0 0 0 0 0 0 0 0 0 0 0 0 0 0 0 0 0 0 0 0 0 0 0 0 0 0 0 0 0 0 0 0 0 0 0 0 0 0 0 0 0 0 0 0 0 0 0 0 0 0 0 0 0 0 0 0 0 0 0 0 0 0 0 0 0 0 0 0 0 0 0 0 0 0 0 0 0 0 0 0 0 0 0 0 0 0 0 0 0 0 0 0 0 0 0 0 0 0 0 0 0 0 0 0 0 0 0 0 0 0 0 0 0 0 0 0 0 0 0 0 0 0 0 0 0 0 0 0 0 0 0 0 0 0\n"
          ],
          "name": "stderr"
        },
        {
          "output_type": "stream",
          "text": [
            "INFO:tensorflow:label: 0 (id = 0)\n"
          ],
          "name": "stdout"
        },
        {
          "output_type": "stream",
          "text": [
            "INFO:tensorflow:label: 0 (id = 0)\n"
          ],
          "name": "stderr"
        },
        {
          "output_type": "stream",
          "text": [
            "INFO:tensorflow:*** Example ***\n"
          ],
          "name": "stdout"
        },
        {
          "output_type": "stream",
          "text": [
            "INFO:tensorflow:*** Example ***\n"
          ],
          "name": "stderr"
        },
        {
          "output_type": "stream",
          "text": [
            "INFO:tensorflow:guid: None\n"
          ],
          "name": "stdout"
        },
        {
          "output_type": "stream",
          "text": [
            "INFO:tensorflow:guid: None\n"
          ],
          "name": "stderr"
        },
        {
          "output_type": "stream",
          "text": [
            "INFO:tensorflow:tokens: [CLS] record numbers schools across uk take part mock general election backed government schools already signed vote mock elections run hans ##ard society aimed boost ##ing interest politics pupils schools taking part learn skills speech writers canvas ##ser ##s political candidates schools minister stephen t ##wig ##g said engaging young peoples interest essential future democracy added said young people engaged motivated political process essential future health democracy mock elections initiative provides opportunity pupils develop understanding democratic process works matters experiencing election process first hand running campaign declaration final result hope young people develop enthusiasm take part future hans ##ard society electoral commission department education skills running programme pupils stand party candidates speech writers canvas ##ser ##s michael raft ##ery project manager hans ##ard society said vote mock elections schools mirror excitement buzz real election raising awareness citizenship benefits active democracy mock votes take place around may widely expected date general election information packs including ballot papers manifesto guides elections happening early may sent schools invited take part [SEP]\n"
          ],
          "name": "stdout"
        },
        {
          "output_type": "stream",
          "text": [
            "INFO:tensorflow:tokens: [CLS] record numbers schools across uk take part mock general election backed government schools already signed vote mock elections run hans ##ard society aimed boost ##ing interest politics pupils schools taking part learn skills speech writers canvas ##ser ##s political candidates schools minister stephen t ##wig ##g said engaging young peoples interest essential future democracy added said young people engaged motivated political process essential future health democracy mock elections initiative provides opportunity pupils develop understanding democratic process works matters experiencing election process first hand running campaign declaration final result hope young people develop enthusiasm take part future hans ##ard society electoral commission department education skills running programme pupils stand party candidates speech writers canvas ##ser ##s michael raft ##ery project manager hans ##ard society said vote mock elections schools mirror excitement buzz real election raising awareness citizenship benefits active democracy mock votes take place around may widely expected date general election information packs including ballot papers manifesto guides elections happening early may sent schools invited take part [SEP]\n"
          ],
          "name": "stderr"
        },
        {
          "output_type": "stream",
          "text": [
            "INFO:tensorflow:input_ids: 101 2501 3616 2816 2408 2866 2202 2112 12934 2236 2602 6153 2231 2816 2525 2772 3789 12934 3864 2448 7003 4232 2554 6461 12992 2075 3037 4331 7391 2816 2635 2112 4553 4813 4613 4898 10683 8043 2015 2576 5347 2816 2704 4459 1056 16279 2290 2056 11973 2402 7243 3037 6827 2925 7072 2794 2056 2402 2111 5117 12774 2576 2832 6827 2925 2740 7072 12934 3864 6349 3640 4495 7391 4503 4824 3537 2832 2573 5609 13417 2602 2832 2034 2192 2770 3049 8170 2345 2765 3246 2402 2111 4503 12024 2202 2112 2925 7003 4232 2554 6092 3222 2533 2495 4813 2770 4746 7391 3233 2283 5347 4613 4898 10683 8043 2015 2745 21298 7301 2622 3208 7003 4232 2554 2056 3789 12934 3864 2816 5259 8277 12610 2613 2602 6274 7073 9068 6666 3161 7072 12934 4494 2202 2173 2105 2089 4235 3517 3058 2236 2602 2592 15173 2164 10428 4981 17124 12468 3864 6230 2220 2089 2741 2816 4778 2202 2112 102 0 0 0 0 0 0 0 0 0 0 0 0 0 0 0 0 0 0 0 0 0 0 0 0 0 0 0 0 0 0 0 0\n"
          ],
          "name": "stdout"
        },
        {
          "output_type": "stream",
          "text": [
            "INFO:tensorflow:input_ids: 101 2501 3616 2816 2408 2866 2202 2112 12934 2236 2602 6153 2231 2816 2525 2772 3789 12934 3864 2448 7003 4232 2554 6461 12992 2075 3037 4331 7391 2816 2635 2112 4553 4813 4613 4898 10683 8043 2015 2576 5347 2816 2704 4459 1056 16279 2290 2056 11973 2402 7243 3037 6827 2925 7072 2794 2056 2402 2111 5117 12774 2576 2832 6827 2925 2740 7072 12934 3864 6349 3640 4495 7391 4503 4824 3537 2832 2573 5609 13417 2602 2832 2034 2192 2770 3049 8170 2345 2765 3246 2402 2111 4503 12024 2202 2112 2925 7003 4232 2554 6092 3222 2533 2495 4813 2770 4746 7391 3233 2283 5347 4613 4898 10683 8043 2015 2745 21298 7301 2622 3208 7003 4232 2554 2056 3789 12934 3864 2816 5259 8277 12610 2613 2602 6274 7073 9068 6666 3161 7072 12934 4494 2202 2173 2105 2089 4235 3517 3058 2236 2602 2592 15173 2164 10428 4981 17124 12468 3864 6230 2220 2089 2741 2816 4778 2202 2112 102 0 0 0 0 0 0 0 0 0 0 0 0 0 0 0 0 0 0 0 0 0 0 0 0 0 0 0 0 0 0 0 0\n"
          ],
          "name": "stderr"
        },
        {
          "output_type": "stream",
          "text": [
            "INFO:tensorflow:input_mask: 1 1 1 1 1 1 1 1 1 1 1 1 1 1 1 1 1 1 1 1 1 1 1 1 1 1 1 1 1 1 1 1 1 1 1 1 1 1 1 1 1 1 1 1 1 1 1 1 1 1 1 1 1 1 1 1 1 1 1 1 1 1 1 1 1 1 1 1 1 1 1 1 1 1 1 1 1 1 1 1 1 1 1 1 1 1 1 1 1 1 1 1 1 1 1 1 1 1 1 1 1 1 1 1 1 1 1 1 1 1 1 1 1 1 1 1 1 1 1 1 1 1 1 1 1 1 1 1 1 1 1 1 1 1 1 1 1 1 1 1 1 1 1 1 1 1 1 1 1 1 1 1 1 1 1 1 1 1 1 1 1 1 1 1 1 1 1 1 0 0 0 0 0 0 0 0 0 0 0 0 0 0 0 0 0 0 0 0 0 0 0 0 0 0 0 0 0 0 0 0\n"
          ],
          "name": "stdout"
        },
        {
          "output_type": "stream",
          "text": [
            "INFO:tensorflow:input_mask: 1 1 1 1 1 1 1 1 1 1 1 1 1 1 1 1 1 1 1 1 1 1 1 1 1 1 1 1 1 1 1 1 1 1 1 1 1 1 1 1 1 1 1 1 1 1 1 1 1 1 1 1 1 1 1 1 1 1 1 1 1 1 1 1 1 1 1 1 1 1 1 1 1 1 1 1 1 1 1 1 1 1 1 1 1 1 1 1 1 1 1 1 1 1 1 1 1 1 1 1 1 1 1 1 1 1 1 1 1 1 1 1 1 1 1 1 1 1 1 1 1 1 1 1 1 1 1 1 1 1 1 1 1 1 1 1 1 1 1 1 1 1 1 1 1 1 1 1 1 1 1 1 1 1 1 1 1 1 1 1 1 1 1 1 1 1 1 1 0 0 0 0 0 0 0 0 0 0 0 0 0 0 0 0 0 0 0 0 0 0 0 0 0 0 0 0 0 0 0 0\n"
          ],
          "name": "stderr"
        },
        {
          "output_type": "stream",
          "text": [
            "INFO:tensorflow:segment_ids: 0 0 0 0 0 0 0 0 0 0 0 0 0 0 0 0 0 0 0 0 0 0 0 0 0 0 0 0 0 0 0 0 0 0 0 0 0 0 0 0 0 0 0 0 0 0 0 0 0 0 0 0 0 0 0 0 0 0 0 0 0 0 0 0 0 0 0 0 0 0 0 0 0 0 0 0 0 0 0 0 0 0 0 0 0 0 0 0 0 0 0 0 0 0 0 0 0 0 0 0 0 0 0 0 0 0 0 0 0 0 0 0 0 0 0 0 0 0 0 0 0 0 0 0 0 0 0 0 0 0 0 0 0 0 0 0 0 0 0 0 0 0 0 0 0 0 0 0 0 0 0 0 0 0 0 0 0 0 0 0 0 0 0 0 0 0 0 0 0 0 0 0 0 0 0 0 0 0 0 0 0 0 0 0 0 0 0 0 0 0 0 0 0 0 0 0 0 0 0 0\n"
          ],
          "name": "stdout"
        },
        {
          "output_type": "stream",
          "text": [
            "INFO:tensorflow:segment_ids: 0 0 0 0 0 0 0 0 0 0 0 0 0 0 0 0 0 0 0 0 0 0 0 0 0 0 0 0 0 0 0 0 0 0 0 0 0 0 0 0 0 0 0 0 0 0 0 0 0 0 0 0 0 0 0 0 0 0 0 0 0 0 0 0 0 0 0 0 0 0 0 0 0 0 0 0 0 0 0 0 0 0 0 0 0 0 0 0 0 0 0 0 0 0 0 0 0 0 0 0 0 0 0 0 0 0 0 0 0 0 0 0 0 0 0 0 0 0 0 0 0 0 0 0 0 0 0 0 0 0 0 0 0 0 0 0 0 0 0 0 0 0 0 0 0 0 0 0 0 0 0 0 0 0 0 0 0 0 0 0 0 0 0 0 0 0 0 0 0 0 0 0 0 0 0 0 0 0 0 0 0 0 0 0 0 0 0 0 0 0 0 0 0 0 0 0 0 0 0 0\n"
          ],
          "name": "stderr"
        },
        {
          "output_type": "stream",
          "text": [
            "INFO:tensorflow:label: 2 (id = 2)\n"
          ],
          "name": "stdout"
        },
        {
          "output_type": "stream",
          "text": [
            "INFO:tensorflow:label: 2 (id = 2)\n"
          ],
          "name": "stderr"
        },
        {
          "output_type": "stream",
          "text": [
            "INFO:tensorflow:*** Example ***\n"
          ],
          "name": "stdout"
        },
        {
          "output_type": "stream",
          "text": [
            "INFO:tensorflow:*** Example ***\n"
          ],
          "name": "stderr"
        },
        {
          "output_type": "stream",
          "text": [
            "INFO:tensorflow:guid: None\n"
          ],
          "name": "stdout"
        },
        {
          "output_type": "stream",
          "text": [
            "INFO:tensorflow:guid: None\n"
          ],
          "name": "stderr"
        },
        {
          "output_type": "stream",
          "text": [
            "INFO:tensorflow:tokens: [CLS] ulster clung morale ##bo ##ost ##ing celtic league win bottom club borders net ##her ##dale friday night late try borders substitute jonny weston set dramatic finish scottish side could complete fight ##back ulster led tries paul stein ##met ##z bryn cunningham irish province failed add tally second half ended relieved get win lift eighth place table borders edged ahead sixth ##min ##ute penalty charlie ho ##re hand visitors initiative via gift try cal ##um mac ##rae surrendered possession centre stein ##met ##z sent chip danger zone substitute joe patti ##son come injured gareth morton wrongly thought ball trick ##ling play eased chase speedy stein ##met ##z ideas raced get vital touch nick time giving adam larkin easy conversion ally warn ##ock clawed back three points borders soon hit another double ##bl ##ow first mark blair yellow card ##ed killing ball ground fullback cunningham bag ##ged second touchdown wake fine work skipper andy ward larkin added extras even worse come borders larkin kicked two penalties break second also led kelly brown sin ##bin ##ned hosts gave g ##lim ##mer hope immediately restart however warn ##ock struck penalty end repeated feat set tense finale ulster coach mark mccall said delighted [SEP]\n"
          ],
          "name": "stdout"
        },
        {
          "output_type": "stream",
          "text": [
            "INFO:tensorflow:tokens: [CLS] ulster clung morale ##bo ##ost ##ing celtic league win bottom club borders net ##her ##dale friday night late try borders substitute jonny weston set dramatic finish scottish side could complete fight ##back ulster led tries paul stein ##met ##z bryn cunningham irish province failed add tally second half ended relieved get win lift eighth place table borders edged ahead sixth ##min ##ute penalty charlie ho ##re hand visitors initiative via gift try cal ##um mac ##rae surrendered possession centre stein ##met ##z sent chip danger zone substitute joe patti ##son come injured gareth morton wrongly thought ball trick ##ling play eased chase speedy stein ##met ##z ideas raced get vital touch nick time giving adam larkin easy conversion ally warn ##ock clawed back three points borders soon hit another double ##bl ##ow first mark blair yellow card ##ed killing ball ground fullback cunningham bag ##ged second touchdown wake fine work skipper andy ward larkin added extras even worse come borders larkin kicked two penalties break second also led kelly brown sin ##bin ##ned hosts gave g ##lim ##mer hope immediately restart however warn ##ock struck penalty end repeated feat set tense finale ulster coach mark mccall said delighted [SEP]\n"
          ],
          "name": "stderr"
        },
        {
          "output_type": "stream",
          "text": [
            "INFO:tensorflow:input_ids: 101 11059 14752 19292 5092 14122 2075 8730 2223 2663 3953 2252 6645 5658 5886 5634 5958 2305 2397 3046 6645 7681 26937 12755 2275 6918 3926 4104 2217 2071 3143 2954 5963 11059 2419 5363 2703 14233 11368 2480 19904 13652 3493 2874 3478 5587 19552 2117 2431 3092 7653 2131 2663 6336 5964 2173 2795 6645 13011 3805 4369 10020 10421 6531 4918 7570 2890 2192 5731 6349 3081 5592 3046 10250 2819 6097 16652 10795 6664 2803 14233 11368 2480 2741 9090 5473 4224 7681 3533 22732 3385 2272 5229 20243 11164 29116 2245 3608 7577 2989 2377 10987 5252 26203 14233 11368 2480 4784 8255 2131 8995 3543 4172 2051 3228 4205 25570 3733 7584 9698 11582 7432 22544 2067 2093 2685 6645 2574 2718 2178 3313 16558 5004 2034 2928 10503 3756 4003 2098 4288 3608 2598 21803 13652 4524 5999 2117 7921 5256 2986 2147 23249 5557 4829 25570 2794 26279 2130 4788 2272 6645 25570 6476 2048 12408 3338 2117 2036 2419 5163 2829 8254 8428 7228 6184 2435 1043 17960 5017 3246 3202 23818 2174 11582 7432 4930 6531 2203 5567 8658 2275 9049 9599 11059 2873 2928 25790 2056 15936 102\n"
          ],
          "name": "stdout"
        },
        {
          "output_type": "stream",
          "text": [
            "INFO:tensorflow:input_ids: 101 11059 14752 19292 5092 14122 2075 8730 2223 2663 3953 2252 6645 5658 5886 5634 5958 2305 2397 3046 6645 7681 26937 12755 2275 6918 3926 4104 2217 2071 3143 2954 5963 11059 2419 5363 2703 14233 11368 2480 19904 13652 3493 2874 3478 5587 19552 2117 2431 3092 7653 2131 2663 6336 5964 2173 2795 6645 13011 3805 4369 10020 10421 6531 4918 7570 2890 2192 5731 6349 3081 5592 3046 10250 2819 6097 16652 10795 6664 2803 14233 11368 2480 2741 9090 5473 4224 7681 3533 22732 3385 2272 5229 20243 11164 29116 2245 3608 7577 2989 2377 10987 5252 26203 14233 11368 2480 4784 8255 2131 8995 3543 4172 2051 3228 4205 25570 3733 7584 9698 11582 7432 22544 2067 2093 2685 6645 2574 2718 2178 3313 16558 5004 2034 2928 10503 3756 4003 2098 4288 3608 2598 21803 13652 4524 5999 2117 7921 5256 2986 2147 23249 5557 4829 25570 2794 26279 2130 4788 2272 6645 25570 6476 2048 12408 3338 2117 2036 2419 5163 2829 8254 8428 7228 6184 2435 1043 17960 5017 3246 3202 23818 2174 11582 7432 4930 6531 2203 5567 8658 2275 9049 9599 11059 2873 2928 25790 2056 15936 102\n"
          ],
          "name": "stderr"
        },
        {
          "output_type": "stream",
          "text": [
            "INFO:tensorflow:input_mask: 1 1 1 1 1 1 1 1 1 1 1 1 1 1 1 1 1 1 1 1 1 1 1 1 1 1 1 1 1 1 1 1 1 1 1 1 1 1 1 1 1 1 1 1 1 1 1 1 1 1 1 1 1 1 1 1 1 1 1 1 1 1 1 1 1 1 1 1 1 1 1 1 1 1 1 1 1 1 1 1 1 1 1 1 1 1 1 1 1 1 1 1 1 1 1 1 1 1 1 1 1 1 1 1 1 1 1 1 1 1 1 1 1 1 1 1 1 1 1 1 1 1 1 1 1 1 1 1 1 1 1 1 1 1 1 1 1 1 1 1 1 1 1 1 1 1 1 1 1 1 1 1 1 1 1 1 1 1 1 1 1 1 1 1 1 1 1 1 1 1 1 1 1 1 1 1 1 1 1 1 1 1 1 1 1 1 1 1 1 1 1 1 1 1 1 1 1 1 1 1\n"
          ],
          "name": "stdout"
        },
        {
          "output_type": "stream",
          "text": [
            "INFO:tensorflow:input_mask: 1 1 1 1 1 1 1 1 1 1 1 1 1 1 1 1 1 1 1 1 1 1 1 1 1 1 1 1 1 1 1 1 1 1 1 1 1 1 1 1 1 1 1 1 1 1 1 1 1 1 1 1 1 1 1 1 1 1 1 1 1 1 1 1 1 1 1 1 1 1 1 1 1 1 1 1 1 1 1 1 1 1 1 1 1 1 1 1 1 1 1 1 1 1 1 1 1 1 1 1 1 1 1 1 1 1 1 1 1 1 1 1 1 1 1 1 1 1 1 1 1 1 1 1 1 1 1 1 1 1 1 1 1 1 1 1 1 1 1 1 1 1 1 1 1 1 1 1 1 1 1 1 1 1 1 1 1 1 1 1 1 1 1 1 1 1 1 1 1 1 1 1 1 1 1 1 1 1 1 1 1 1 1 1 1 1 1 1 1 1 1 1 1 1 1 1 1 1 1 1\n"
          ],
          "name": "stderr"
        },
        {
          "output_type": "stream",
          "text": [
            "INFO:tensorflow:segment_ids: 0 0 0 0 0 0 0 0 0 0 0 0 0 0 0 0 0 0 0 0 0 0 0 0 0 0 0 0 0 0 0 0 0 0 0 0 0 0 0 0 0 0 0 0 0 0 0 0 0 0 0 0 0 0 0 0 0 0 0 0 0 0 0 0 0 0 0 0 0 0 0 0 0 0 0 0 0 0 0 0 0 0 0 0 0 0 0 0 0 0 0 0 0 0 0 0 0 0 0 0 0 0 0 0 0 0 0 0 0 0 0 0 0 0 0 0 0 0 0 0 0 0 0 0 0 0 0 0 0 0 0 0 0 0 0 0 0 0 0 0 0 0 0 0 0 0 0 0 0 0 0 0 0 0 0 0 0 0 0 0 0 0 0 0 0 0 0 0 0 0 0 0 0 0 0 0 0 0 0 0 0 0 0 0 0 0 0 0 0 0 0 0 0 0 0 0 0 0 0 0\n"
          ],
          "name": "stdout"
        },
        {
          "output_type": "stream",
          "text": [
            "INFO:tensorflow:segment_ids: 0 0 0 0 0 0 0 0 0 0 0 0 0 0 0 0 0 0 0 0 0 0 0 0 0 0 0 0 0 0 0 0 0 0 0 0 0 0 0 0 0 0 0 0 0 0 0 0 0 0 0 0 0 0 0 0 0 0 0 0 0 0 0 0 0 0 0 0 0 0 0 0 0 0 0 0 0 0 0 0 0 0 0 0 0 0 0 0 0 0 0 0 0 0 0 0 0 0 0 0 0 0 0 0 0 0 0 0 0 0 0 0 0 0 0 0 0 0 0 0 0 0 0 0 0 0 0 0 0 0 0 0 0 0 0 0 0 0 0 0 0 0 0 0 0 0 0 0 0 0 0 0 0 0 0 0 0 0 0 0 0 0 0 0 0 0 0 0 0 0 0 0 0 0 0 0 0 0 0 0 0 0 0 0 0 0 0 0 0 0 0 0 0 0 0 0 0 0 0 0\n"
          ],
          "name": "stderr"
        },
        {
          "output_type": "stream",
          "text": [
            "INFO:tensorflow:label: 3 (id = 3)\n"
          ],
          "name": "stdout"
        },
        {
          "output_type": "stream",
          "text": [
            "INFO:tensorflow:label: 3 (id = 3)\n"
          ],
          "name": "stderr"
        },
        {
          "output_type": "stream",
          "text": [
            "INFO:tensorflow:*** Example ***\n"
          ],
          "name": "stdout"
        },
        {
          "output_type": "stream",
          "text": [
            "INFO:tensorflow:*** Example ***\n"
          ],
          "name": "stderr"
        },
        {
          "output_type": "stream",
          "text": [
            "INFO:tensorflow:guid: None\n"
          ],
          "name": "stdout"
        },
        {
          "output_type": "stream",
          "text": [
            "INFO:tensorflow:guid: None\n"
          ],
          "name": "stderr"
        },
        {
          "output_type": "stream",
          "text": [
            "INFO:tensorflow:tokens: [CLS] fiat meet car giant general motors gm tuesday attempt reach agreement future italian firms loss ##making auto group fiat claims gm legally obliged buy car unit already gm says contract signed longer valid press reports speculated fiat may willing accept cash payment return dropping claim companies want cut costs car industry adjust ##s wan ##ing demand meeting fiat boss sergio march ##ion ##ne gm ##s rick wagon ##er due take place gm ##t zurich according reuters news agency mr march ##ion ##ne confident firms legal position saying interview financial times gm ##s argument legs agreement question dates back gm ##s decision buy fiat ##s auto division time gave italian firm right via put option sell remaining stake gm recent weeks fiat reiterated claims put still valid legally binding however gm argues fiat share sale made last year cut gm ##s holding together asset sales made fiat terminated agreement selling fiat ##s car ##making unit may prove simple analysts say especially company closely linked italy ##s industrial heritage political public pressure may well push two firms reach compromise expecting fiat exercise put auto business unwilling gm point broker ##age merrill lynch said note investors adding legal battle would pro [SEP]\n"
          ],
          "name": "stdout"
        },
        {
          "output_type": "stream",
          "text": [
            "INFO:tensorflow:tokens: [CLS] fiat meet car giant general motors gm tuesday attempt reach agreement future italian firms loss ##making auto group fiat claims gm legally obliged buy car unit already gm says contract signed longer valid press reports speculated fiat may willing accept cash payment return dropping claim companies want cut costs car industry adjust ##s wan ##ing demand meeting fiat boss sergio march ##ion ##ne gm ##s rick wagon ##er due take place gm ##t zurich according reuters news agency mr march ##ion ##ne confident firms legal position saying interview financial times gm ##s argument legs agreement question dates back gm ##s decision buy fiat ##s auto division time gave italian firm right via put option sell remaining stake gm recent weeks fiat reiterated claims put still valid legally binding however gm argues fiat share sale made last year cut gm ##s holding together asset sales made fiat terminated agreement selling fiat ##s car ##making unit may prove simple analysts say especially company closely linked italy ##s industrial heritage political public pressure may well push two firms reach compromise expecting fiat exercise put auto business unwilling gm point broker ##age merrill lynch said note investors adding legal battle would pro [SEP]\n"
          ],
          "name": "stderr"
        },
        {
          "output_type": "stream",
          "text": [
            "INFO:tensorflow:input_ids: 101 18550 3113 2482 5016 2236 9693 13938 9857 3535 3362 3820 2925 3059 9786 3279 12614 8285 2177 18550 4447 13938 10142 14723 4965 2482 3131 2525 13938 2758 3206 2772 2936 9398 2811 4311 15520 18550 2089 5627 5138 5356 7909 2709 7510 4366 3316 2215 3013 5366 2482 3068 14171 2015 14071 2075 5157 3116 18550 5795 13983 2233 3258 2638 13938 2015 6174 9540 2121 2349 2202 2173 13938 2102 10204 2429 26665 2739 4034 2720 2233 3258 2638 9657 9786 3423 2597 3038 4357 3361 2335 13938 2015 6685 3456 3820 3160 5246 2067 13938 2015 3247 4965 18550 2015 8285 2407 2051 2435 3059 3813 2157 3081 2404 5724 5271 3588 8406 13938 3522 3134 18550 28960 4447 2404 2145 9398 10142 8031 2174 13938 9251 18550 3745 5096 2081 2197 2095 3013 13938 2015 3173 2362 11412 4341 2081 18550 12527 3820 4855 18550 2015 2482 12614 3131 2089 6011 3722 18288 2360 2926 2194 4876 5799 3304 2015 3919 4348 2576 2270 3778 2089 2092 5245 2048 9786 3362 12014 8074 18550 6912 2404 8285 2449 15175 13938 2391 20138 4270 16239 11404 2056 3602 9387 5815 3423 2645 2052 4013 102\n"
          ],
          "name": "stdout"
        },
        {
          "output_type": "stream",
          "text": [
            "INFO:tensorflow:input_ids: 101 18550 3113 2482 5016 2236 9693 13938 9857 3535 3362 3820 2925 3059 9786 3279 12614 8285 2177 18550 4447 13938 10142 14723 4965 2482 3131 2525 13938 2758 3206 2772 2936 9398 2811 4311 15520 18550 2089 5627 5138 5356 7909 2709 7510 4366 3316 2215 3013 5366 2482 3068 14171 2015 14071 2075 5157 3116 18550 5795 13983 2233 3258 2638 13938 2015 6174 9540 2121 2349 2202 2173 13938 2102 10204 2429 26665 2739 4034 2720 2233 3258 2638 9657 9786 3423 2597 3038 4357 3361 2335 13938 2015 6685 3456 3820 3160 5246 2067 13938 2015 3247 4965 18550 2015 8285 2407 2051 2435 3059 3813 2157 3081 2404 5724 5271 3588 8406 13938 3522 3134 18550 28960 4447 2404 2145 9398 10142 8031 2174 13938 9251 18550 3745 5096 2081 2197 2095 3013 13938 2015 3173 2362 11412 4341 2081 18550 12527 3820 4855 18550 2015 2482 12614 3131 2089 6011 3722 18288 2360 2926 2194 4876 5799 3304 2015 3919 4348 2576 2270 3778 2089 2092 5245 2048 9786 3362 12014 8074 18550 6912 2404 8285 2449 15175 13938 2391 20138 4270 16239 11404 2056 3602 9387 5815 3423 2645 2052 4013 102\n"
          ],
          "name": "stderr"
        },
        {
          "output_type": "stream",
          "text": [
            "INFO:tensorflow:input_mask: 1 1 1 1 1 1 1 1 1 1 1 1 1 1 1 1 1 1 1 1 1 1 1 1 1 1 1 1 1 1 1 1 1 1 1 1 1 1 1 1 1 1 1 1 1 1 1 1 1 1 1 1 1 1 1 1 1 1 1 1 1 1 1 1 1 1 1 1 1 1 1 1 1 1 1 1 1 1 1 1 1 1 1 1 1 1 1 1 1 1 1 1 1 1 1 1 1 1 1 1 1 1 1 1 1 1 1 1 1 1 1 1 1 1 1 1 1 1 1 1 1 1 1 1 1 1 1 1 1 1 1 1 1 1 1 1 1 1 1 1 1 1 1 1 1 1 1 1 1 1 1 1 1 1 1 1 1 1 1 1 1 1 1 1 1 1 1 1 1 1 1 1 1 1 1 1 1 1 1 1 1 1 1 1 1 1 1 1 1 1 1 1 1 1 1 1 1 1 1 1\n"
          ],
          "name": "stdout"
        },
        {
          "output_type": "stream",
          "text": [
            "INFO:tensorflow:input_mask: 1 1 1 1 1 1 1 1 1 1 1 1 1 1 1 1 1 1 1 1 1 1 1 1 1 1 1 1 1 1 1 1 1 1 1 1 1 1 1 1 1 1 1 1 1 1 1 1 1 1 1 1 1 1 1 1 1 1 1 1 1 1 1 1 1 1 1 1 1 1 1 1 1 1 1 1 1 1 1 1 1 1 1 1 1 1 1 1 1 1 1 1 1 1 1 1 1 1 1 1 1 1 1 1 1 1 1 1 1 1 1 1 1 1 1 1 1 1 1 1 1 1 1 1 1 1 1 1 1 1 1 1 1 1 1 1 1 1 1 1 1 1 1 1 1 1 1 1 1 1 1 1 1 1 1 1 1 1 1 1 1 1 1 1 1 1 1 1 1 1 1 1 1 1 1 1 1 1 1 1 1 1 1 1 1 1 1 1 1 1 1 1 1 1 1 1 1 1 1 1\n"
          ],
          "name": "stderr"
        },
        {
          "output_type": "stream",
          "text": [
            "INFO:tensorflow:segment_ids: 0 0 0 0 0 0 0 0 0 0 0 0 0 0 0 0 0 0 0 0 0 0 0 0 0 0 0 0 0 0 0 0 0 0 0 0 0 0 0 0 0 0 0 0 0 0 0 0 0 0 0 0 0 0 0 0 0 0 0 0 0 0 0 0 0 0 0 0 0 0 0 0 0 0 0 0 0 0 0 0 0 0 0 0 0 0 0 0 0 0 0 0 0 0 0 0 0 0 0 0 0 0 0 0 0 0 0 0 0 0 0 0 0 0 0 0 0 0 0 0 0 0 0 0 0 0 0 0 0 0 0 0 0 0 0 0 0 0 0 0 0 0 0 0 0 0 0 0 0 0 0 0 0 0 0 0 0 0 0 0 0 0 0 0 0 0 0 0 0 0 0 0 0 0 0 0 0 0 0 0 0 0 0 0 0 0 0 0 0 0 0 0 0 0 0 0 0 0 0 0\n"
          ],
          "name": "stdout"
        },
        {
          "output_type": "stream",
          "text": [
            "INFO:tensorflow:segment_ids: 0 0 0 0 0 0 0 0 0 0 0 0 0 0 0 0 0 0 0 0 0 0 0 0 0 0 0 0 0 0 0 0 0 0 0 0 0 0 0 0 0 0 0 0 0 0 0 0 0 0 0 0 0 0 0 0 0 0 0 0 0 0 0 0 0 0 0 0 0 0 0 0 0 0 0 0 0 0 0 0 0 0 0 0 0 0 0 0 0 0 0 0 0 0 0 0 0 0 0 0 0 0 0 0 0 0 0 0 0 0 0 0 0 0 0 0 0 0 0 0 0 0 0 0 0 0 0 0 0 0 0 0 0 0 0 0 0 0 0 0 0 0 0 0 0 0 0 0 0 0 0 0 0 0 0 0 0 0 0 0 0 0 0 0 0 0 0 0 0 0 0 0 0 0 0 0 0 0 0 0 0 0 0 0 0 0 0 0 0 0 0 0 0 0 0 0 0 0 0 0\n"
          ],
          "name": "stderr"
        },
        {
          "output_type": "stream",
          "text": [
            "INFO:tensorflow:label: 0 (id = 0)\n"
          ],
          "name": "stdout"
        },
        {
          "output_type": "stream",
          "text": [
            "INFO:tensorflow:label: 0 (id = 0)\n"
          ],
          "name": "stderr"
        }
      ]
    },
    {
      "cell_type": "code",
      "metadata": {
        "trusted": true,
        "colab": {
          "base_uri": "https://localhost:8080/"
        },
        "id": "ykw-Q8UzJm2Z",
        "outputId": "a7a59151-e459-4ddc-9cb8-ddfec72f8392"
      },
      "source": [
        "#Example on first observation in the training set\n",
        "print(\"Sentence : \", train_InputExamples.iloc[0].text_a)\n",
        "print(\"-\"*30)\n",
        "print(\"Tokens : \", tokenizer.tokenize(train_InputExamples.iloc[0].text_a))\n",
        "print(\"-\"*30)\n",
        "print(\"Input IDs : \", train_features[0].input_ids)\n",
        "print(\"-\"*30)\n",
        "print(\"Input Masks : \", train_features[0].input_mask)\n",
        "print(\"-\"*30)\n",
        "print(\"Segment IDs : \", train_features[0].segment_ids)"
      ],
      "execution_count": 37,
      "outputs": [
        {
          "output_type": "stream",
          "text": [
            "Sentence :  people using wireless highspeed net wifi warned fake hotspots access points latest threat nicknamed evil twins pose real hotspots actually unauthorised base stations say cranfield university experts logged onto evil twin sensitive data intercepted wifi becoming popular devices come wireless capability london leads global wifi hotspots league   number hotspots expected reach    according analysts users need wary using wifi enabled laptops portable devices order conduct financial transactions anything sensitive personal nature said professor brian collins head information systems cranfield university users also protect ensuring wifi device security measures activated added bt openzone operates vast proportion public hotspots uk told bbc news website made every effort make wifi secure naturally people may security concerns said chris clark chief executive bts wireless broadband wifi networks less vulnerable means accessing internet like broadband dialup said bt openzone well others sophisticated encryption start login process service hotspot means users personal information data logon usernames passwords protected secure said mr clark vast majority cases base stations straight box manufacturers automatically set least secure mode possible said dr nobles cybercriminals try glean personal information using scam jam connections legitimate base station sending stronger signal near wireless client anyone right gear find real hotspot substitute evil twin cybercriminals dont clever carry attack said dr phil nobles wireless net cybercrime expert cranfield wireless networks based radio signals easily detected unauthorised users tuning frequency although wifi increasing popularity people want use highspeed net move fears secure companies reluctant use large numbers fears security wireless network protected provide backdoor companys computer system public wifi hotspots offered companies like bt openzone cloud accessible users sign pay use many home company wifi networks left unprotected sniffed hijacked anyone correct equipment bt advises customers change default settings make sure security settings equipment configured correctly said mr clark also advocate use personal firewalls ensure authorised users access data cannot intercepted dr nobles due speak wireless cybercrime science museums dana centre london thursday\n",
            "------------------------------\n",
            "Tokens :  ['people', 'using', 'wireless', 'highs', '##peed', 'net', 'wi', '##fi', 'warned', 'fake', 'hot', '##sp', '##ots', 'access', 'points', 'latest', 'threat', 'nicknamed', 'evil', 'twins', 'pose', 'real', 'hot', '##sp', '##ots', 'actually', 'una', '##uth', '##oris', '##ed', 'base', 'stations', 'say', 'cr', '##an', '##field', 'university', 'experts', 'logged', 'onto', 'evil', 'twin', 'sensitive', 'data', 'intercepted', 'wi', '##fi', 'becoming', 'popular', 'devices', 'come', 'wireless', 'capability', 'london', 'leads', 'global', 'wi', '##fi', 'hot', '##sp', '##ots', 'league', 'number', 'hot', '##sp', '##ots', 'expected', 'reach', 'according', 'analysts', 'users', 'need', 'wary', 'using', 'wi', '##fi', 'enabled', 'laptop', '##s', 'portable', 'devices', 'order', 'conduct', 'financial', 'transactions', 'anything', 'sensitive', 'personal', 'nature', 'said', 'professor', 'brian', 'collins', 'head', 'information', 'systems', 'cr', '##an', '##field', 'university', 'users', 'also', 'protect', 'ensuring', 'wi', '##fi', 'device', 'security', 'measures', 'activated', 'added', 'bt', 'open', '##zone', 'operates', 'vast', 'proportion', 'public', 'hot', '##sp', '##ots', 'uk', 'told', 'bbc', 'news', 'website', 'made', 'every', 'effort', 'make', 'wi', '##fi', 'secure', 'naturally', 'people', 'may', 'security', 'concerns', 'said', 'chris', 'clark', 'chief', 'executive', 'bt', '##s', 'wireless', 'broadband', 'wi', '##fi', 'networks', 'less', 'vulnerable', 'means', 'access', '##ing', 'internet', 'like', 'broadband', 'dial', '##up', 'said', 'bt', 'open', '##zone', 'well', 'others', 'sophisticated', 'encryption', 'start', 'log', '##in', 'process', 'service', 'hot', '##sp', '##ot', 'means', 'users', 'personal', 'information', 'data', 'logo', '##n', 'user', '##name', '##s', 'password', '##s', 'protected', 'secure', 'said', 'mr', 'clark', 'vast', 'majority', 'cases', 'base', 'stations', 'straight', 'box', 'manufacturers', 'automatically', 'set', 'least', 'secure', 'mode', 'possible', 'said', 'dr', 'nobles', 'cyber', '##cr', '##imi', '##nal', '##s', 'try', 'g', '##lean', 'personal', 'information', 'using', 'sc', '##am', 'jam', 'connections', 'legitimate', 'base', 'station', 'sending', 'stronger', 'signal', 'near', 'wireless', 'client', 'anyone', 'right', 'gear', 'find', 'real', 'hot', '##sp', '##ot', 'substitute', 'evil', 'twin', 'cyber', '##cr', '##imi', '##nal', '##s', 'don', '##t', 'clever', 'carry', 'attack', 'said', 'dr', 'phil', 'nobles', 'wireless', 'net', 'cyber', '##cr', '##ime', 'expert', 'cr', '##an', '##field', 'wireless', 'networks', 'based', 'radio', 'signals', 'easily', 'detected', 'una', '##uth', '##oris', '##ed', 'users', 'tuning', 'frequency', 'although', 'wi', '##fi', 'increasing', 'popularity', 'people', 'want', 'use', 'highs', '##peed', 'net', 'move', 'fears', 'secure', 'companies', 'reluctant', 'use', 'large', 'numbers', 'fears', 'security', 'wireless', 'network', 'protected', 'provide', 'back', '##door', 'company', '##s', 'computer', 'system', 'public', 'wi', '##fi', 'hot', '##sp', '##ots', 'offered', 'companies', 'like', 'bt', 'open', '##zone', 'cloud', 'accessible', 'users', 'sign', 'pay', 'use', 'many', 'home', 'company', 'wi', '##fi', 'networks', 'left', 'un', '##pro', '##tec', '##ted', 'sniffed', 'hi', '##jack', '##ed', 'anyone', 'correct', 'equipment', 'bt', 'advises', 'customers', 'change', 'default', 'settings', 'make', 'sure', 'security', 'settings', 'equipment', 'configured', 'correctly', 'said', 'mr', 'clark', 'also', 'advocate', 'use', 'personal', 'fire', '##wall', '##s', 'ensure', 'authorised', 'users', 'access', 'data', 'cannot', 'intercepted', 'dr', 'nobles', 'due', 'speak', 'wireless', 'cyber', '##cr', '##ime', 'science', 'museums', 'dana', 'centre', 'london', 'thursday']\n",
            "------------------------------\n",
            "Input IDs :  [101, 2111, 2478, 9949, 26836, 25599, 5658, 15536, 8873, 7420, 8275, 2980, 13102, 12868, 3229, 2685, 6745, 5081, 9919, 4763, 8178, 13382, 2613, 2980, 13102, 12868, 2941, 14477, 14317, 21239, 2098, 2918, 3703, 2360, 13675, 2319, 3790, 2118, 8519, 26618, 3031, 4763, 5519, 7591, 2951, 16618, 15536, 8873, 3352, 2759, 5733, 2272, 9949, 10673, 2414, 5260, 3795, 15536, 8873, 2980, 13102, 12868, 2223, 2193, 2980, 13102, 12868, 3517, 3362, 2429, 18288, 5198, 2342, 15705, 2478, 15536, 8873, 9124, 12191, 2015, 12109, 5733, 2344, 6204, 3361, 11817, 2505, 7591, 3167, 3267, 2056, 2934, 4422, 6868, 2132, 2592, 3001, 13675, 2319, 3790, 2118, 5198, 2036, 4047, 12725, 15536, 8873, 5080, 3036, 5761, 8878, 2794, 18411, 2330, 15975, 5748, 6565, 10817, 2270, 2980, 13102, 12868, 2866, 2409, 4035, 2739, 4037, 2081, 2296, 3947, 2191, 15536, 8873, 5851, 8100, 2111, 2089, 3036, 5936, 2056, 3782, 5215, 2708, 3237, 18411, 2015, 9949, 19595, 15536, 8873, 6125, 2625, 8211, 2965, 3229, 2075, 4274, 2066, 19595, 13764, 6279, 2056, 18411, 2330, 15975, 2092, 2500, 12138, 21999, 2707, 8833, 2378, 2832, 2326, 2980, 13102, 4140, 2965, 5198, 3167, 2592, 2951, 8154, 2078, 5310, 18442, 2015, 20786, 2015, 5123, 5851, 2056, 2720, 5215, 6565, 3484, 3572, 2918, 3703, 102]\n",
            "------------------------------\n",
            "Input Masks :  [1, 1, 1, 1, 1, 1, 1, 1, 1, 1, 1, 1, 1, 1, 1, 1, 1, 1, 1, 1, 1, 1, 1, 1, 1, 1, 1, 1, 1, 1, 1, 1, 1, 1, 1, 1, 1, 1, 1, 1, 1, 1, 1, 1, 1, 1, 1, 1, 1, 1, 1, 1, 1, 1, 1, 1, 1, 1, 1, 1, 1, 1, 1, 1, 1, 1, 1, 1, 1, 1, 1, 1, 1, 1, 1, 1, 1, 1, 1, 1, 1, 1, 1, 1, 1, 1, 1, 1, 1, 1, 1, 1, 1, 1, 1, 1, 1, 1, 1, 1, 1, 1, 1, 1, 1, 1, 1, 1, 1, 1, 1, 1, 1, 1, 1, 1, 1, 1, 1, 1, 1, 1, 1, 1, 1, 1, 1, 1, 1, 1, 1, 1, 1, 1, 1, 1, 1, 1, 1, 1, 1, 1, 1, 1, 1, 1, 1, 1, 1, 1, 1, 1, 1, 1, 1, 1, 1, 1, 1, 1, 1, 1, 1, 1, 1, 1, 1, 1, 1, 1, 1, 1, 1, 1, 1, 1, 1, 1, 1, 1, 1, 1, 1, 1, 1, 1, 1, 1, 1, 1, 1, 1, 1, 1, 1, 1, 1, 1, 1, 1]\n",
            "------------------------------\n",
            "Segment IDs :  [0, 0, 0, 0, 0, 0, 0, 0, 0, 0, 0, 0, 0, 0, 0, 0, 0, 0, 0, 0, 0, 0, 0, 0, 0, 0, 0, 0, 0, 0, 0, 0, 0, 0, 0, 0, 0, 0, 0, 0, 0, 0, 0, 0, 0, 0, 0, 0, 0, 0, 0, 0, 0, 0, 0, 0, 0, 0, 0, 0, 0, 0, 0, 0, 0, 0, 0, 0, 0, 0, 0, 0, 0, 0, 0, 0, 0, 0, 0, 0, 0, 0, 0, 0, 0, 0, 0, 0, 0, 0, 0, 0, 0, 0, 0, 0, 0, 0, 0, 0, 0, 0, 0, 0, 0, 0, 0, 0, 0, 0, 0, 0, 0, 0, 0, 0, 0, 0, 0, 0, 0, 0, 0, 0, 0, 0, 0, 0, 0, 0, 0, 0, 0, 0, 0, 0, 0, 0, 0, 0, 0, 0, 0, 0, 0, 0, 0, 0, 0, 0, 0, 0, 0, 0, 0, 0, 0, 0, 0, 0, 0, 0, 0, 0, 0, 0, 0, 0, 0, 0, 0, 0, 0, 0, 0, 0, 0, 0, 0, 0, 0, 0, 0, 0, 0, 0, 0, 0, 0, 0, 0, 0, 0, 0, 0, 0, 0, 0, 0, 0]\n"
          ],
          "name": "stdout"
        }
      ]
    },
    {
      "cell_type": "markdown",
      "metadata": {
        "id": "Vzn-pvRHJm2a"
      },
      "source": [
        "### Creating prediction model"
      ]
    },
    {
      "cell_type": "code",
      "metadata": {
        "trusted": true,
        "id": "4d0_WHACJm2a"
      },
      "source": [
        "def create_model(is_predicting, input_ids, input_mask, segment_ids, labels,\n",
        "                 num_labels):\n",
        "  \n",
        "    bert_module = hub.Module(\n",
        "        BERT_MODEL_HUB,\n",
        "        trainable=True)\n",
        "    bert_inputs = dict(\n",
        "      input_ids=input_ids,\n",
        "      input_mask=input_mask,\n",
        "      segment_ids=segment_ids)\n",
        "    bert_outputs = bert_module(\n",
        "      inputs=bert_inputs,\n",
        "      signature=\"tokens\",\n",
        "      as_dict=True)\n",
        "\n",
        "    # Use \"pooled_output\" for classification tasks on an entire sentence.\n",
        "    # Use \"sequence_outputs\" for token-level output.\n",
        "    output_layer = bert_outputs[\"pooled_output\"]\n",
        "    # with tf.Session() as sess:\n",
        "    output_layer1 = bert_outputs[\"pooled_output\"]\n",
        "    # output_layer1 = 999\n",
        "    hidden_size = output_layer.shape[-1].value\n",
        "\n",
        "    # Create our own layer to tune for politeness data.\n",
        "    output_weights = tf.get_variable(\n",
        "      \"output_weights\", [num_labels, hidden_size],\n",
        "      initializer=tf.truncated_normal_initializer(stddev=0.02))\n",
        "\n",
        "    output_bias = tf.get_variable(\n",
        "      \"output_bias\", [num_labels], initializer=tf.zeros_initializer())\n",
        "\n",
        "    with tf.variable_scope(\"loss\"):\n",
        "\n",
        "        # Dropout helps prevent overfitting\n",
        "        output_layer = tf.nn.dropout(output_layer, keep_prob=0.8)\n",
        "\n",
        "        logits = tf.matmul(output_layer, output_weights, transpose_b=True)\n",
        "        logits = tf.nn.bias_add(logits, output_bias)\n",
        "        log_probs = tf.nn.log_softmax(logits, axis=-1)\n",
        "\n",
        "        # Convert labels into one-hot encoding\n",
        "        one_hot_labels = tf.one_hot(labels, depth=num_labels, dtype=tf.float32)\n",
        "\n",
        "        predicted_labels = tf.squeeze(tf.argmax(log_probs, axis=-1, output_type=tf.int32))\n",
        "        # If we're predicting, we want predicted labels and the probabiltiies.\n",
        "        if is_predicting:\n",
        "            return (predicted_labels, log_probs, output_layer1)\n",
        "\n",
        "        # If we're train/eval, compute loss between predicted and actual label\n",
        "        per_example_loss = -tf.reduce_sum(one_hot_labels * log_probs, axis=-1)\n",
        "        loss = tf.reduce_mean(per_example_loss)\n",
        "        \n",
        "        return (loss, predicted_labels, log_probs)"
      ],
      "execution_count": 38,
      "outputs": []
    },
    {
      "cell_type": "code",
      "metadata": {
        "trusted": true,
        "id": "qieWkQnaJm2a"
      },
      "source": [
        "def model_fn_builder(num_labels, learning_rate, num_train_steps,\n",
        "                     num_warmup_steps):\n",
        "    \"\"\"Returns `model_fn` closure for TPUEstimator.\"\"\"\n",
        "    \n",
        "    def model_fn(features, labels, mode, params):  # pylint: disable=unused-argument\n",
        "        \"\"\"The `model_fn` for TPUEstimator.\"\"\"\n",
        "\n",
        "        input_ids = features[\"input_ids\"]\n",
        "        input_mask = features[\"input_mask\"]\n",
        "        segment_ids = features[\"segment_ids\"]\n",
        "        label_ids = features[\"label_ids\"]\n",
        "\n",
        "        is_predicting = (mode == tf.estimator.ModeKeys.PREDICT)\n",
        "\n",
        "        # TRAIN and EVAL\n",
        "        if not is_predicting:\n",
        "\n",
        "            (loss, predicted_labels, log_probs) = create_model(\n",
        "            is_predicting, input_ids, input_mask, segment_ids, label_ids, num_labels)\n",
        "\n",
        "            train_op = optimization.create_optimizer(\n",
        "              loss, learning_rate, num_train_steps, num_warmup_steps, use_tpu=False)\n",
        "\n",
        "            # Calculate evaluation metrics. \n",
        "            def metric_fn(label_ids, predicted_labels):\n",
        "                accuracy = tf.metrics.accuracy(label_ids, predicted_labels)\n",
        "                true_pos = tf.metrics.true_positives(\n",
        "                    label_ids,\n",
        "                    predicted_labels)\n",
        "                true_neg = tf.metrics.true_negatives(\n",
        "                    label_ids,\n",
        "                    predicted_labels)   \n",
        "                false_pos = tf.metrics.false_positives(\n",
        "                    label_ids,\n",
        "                    predicted_labels)  \n",
        "                false_neg = tf.metrics.false_negatives(\n",
        "                    label_ids,\n",
        "                    predicted_labels)\n",
        "\n",
        "                return {\n",
        "                    \"eval_accuracy\": accuracy,\n",
        "                    \"true_positives\": true_pos,\n",
        "                    \"true_negatives\": true_neg,\n",
        "                    \"false_positives\": false_pos,\n",
        "                    \"false_negatives\": false_neg,\n",
        "                    }\n",
        "\n",
        "            eval_metrics = metric_fn(label_ids, predicted_labels)\n",
        "\n",
        "            if mode == tf.estimator.ModeKeys.TRAIN:\n",
        "                return tf.estimator.EstimatorSpec(mode=mode,\n",
        "                  loss=loss,\n",
        "                  train_op=train_op)\n",
        "            else:\n",
        "                return tf.estimator.EstimatorSpec(mode=mode,\n",
        "                    loss=loss,\n",
        "                    eval_metric_ops=eval_metrics)\n",
        "        else:\n",
        "            (predicted_labels, log_probs, output_layer) = create_model(\n",
        "            is_predicting, input_ids, input_mask, segment_ids, label_ids, num_labels)\n",
        "            predictions = {\n",
        "              'probabilities': log_probs,\n",
        "              'labels': predicted_labels,\n",
        "              'pooled_output': output_layer\n",
        "            }\n",
        "        return tf.estimator.EstimatorSpec(mode, predictions=predictions)\n",
        "\n",
        "    # Return the actual model function in the closure\n",
        "    return model_fn"
      ],
      "execution_count": 39,
      "outputs": []
    },
    {
      "cell_type": "code",
      "metadata": {
        "trusted": true,
        "id": "O24-_iNBJm2a"
      },
      "source": [
        "BATCH_SIZE = 16\n",
        "LEARNING_RATE = 2e-5\n",
        "NUM_TRAIN_EPOCHS = 1.0\n",
        "# Warmup is a period of time where the learning rate is small and gradually increases--usually helps training.\n",
        "WARMUP_PROPORTION = 0.1\n",
        "# Model configs\n",
        "SAVE_CHECKPOINTS_STEPS = 300\n",
        "SAVE_SUMMARY_STEPS = 100\n",
        "\n",
        "# Compute train and warmup steps from batch size\n",
        "num_train_steps = int(len(train_features) / BATCH_SIZE * NUM_TRAIN_EPOCHS)\n",
        "num_warmup_steps = int(num_train_steps * WARMUP_PROPORTION)\n",
        "\n",
        "# Specify output directory and number of checkpoint steps to save\n",
        "run_config = tf.estimator.RunConfig(\n",
        "    model_dir=OUTPUT_DIR,\n",
        "    save_summary_steps=SAVE_SUMMARY_STEPS,\n",
        "    save_checkpoints_steps=SAVE_CHECKPOINTS_STEPS)\n",
        "\n",
        "# Specify output directory and number of checkpoint steps to save\n",
        "run_config = tf.estimator.RunConfig(\n",
        "    model_dir=OUTPUT_DIR,\n",
        "    save_summary_steps=SAVE_SUMMARY_STEPS,\n",
        "    save_checkpoints_steps=SAVE_CHECKPOINTS_STEPS)"
      ],
      "execution_count": 40,
      "outputs": []
    },
    {
      "cell_type": "code",
      "metadata": {
        "trusted": true,
        "colab": {
          "base_uri": "https://localhost:8080/"
        },
        "id": "JQfMsXG_Jm2a",
        "outputId": "58bba285-830e-42c4-e816-1c225f482a83"
      },
      "source": [
        "num_train_steps, len(label_list)\n"
      ],
      "execution_count": 41,
      "outputs": [
        {
          "output_type": "execute_result",
          "data": {
            "text/plain": [
              "(111, 5)"
            ]
          },
          "metadata": {},
          "execution_count": 41
        }
      ]
    },
    {
      "cell_type": "markdown",
      "metadata": {
        "id": "7Ndu0fTrJm2a"
      },
      "source": [
        "### Initializing the model and the estimator\n"
      ]
    },
    {
      "cell_type": "code",
      "metadata": {
        "trusted": true,
        "colab": {
          "base_uri": "https://localhost:8080/"
        },
        "id": "WIIkmphZJm2b",
        "outputId": "04230c64-dd43-4f87-a887-672176d379b9"
      },
      "source": [
        "model_fn = model_fn_builder(\n",
        "  num_labels=len(label_list),\n",
        "  learning_rate=LEARNING_RATE,\n",
        "  num_train_steps=num_train_steps,\n",
        "  num_warmup_steps=num_warmup_steps)\n",
        "\n",
        "estimator = tf.estimator.Estimator(\n",
        "  model_fn=model_fn,\n",
        "  config=run_config,\n",
        "  params={\"batch_size\": BATCH_SIZE})"
      ],
      "execution_count": 42,
      "outputs": [
        {
          "output_type": "stream",
          "text": [
            "INFO:tensorflow:Using config: {'_model_dir': '/bert_news_category', '_tf_random_seed': None, '_save_summary_steps': 100, '_save_checkpoints_steps': 300, '_save_checkpoints_secs': None, '_session_config': allow_soft_placement: true\n",
            "graph_options {\n",
            "  rewrite_options {\n",
            "    meta_optimizer_iterations: ONE\n",
            "  }\n",
            "}\n",
            ", '_keep_checkpoint_max': 5, '_keep_checkpoint_every_n_hours': 10000, '_log_step_count_steps': 100, '_train_distribute': None, '_device_fn': None, '_protocol': None, '_eval_distribute': None, '_experimental_distribute': None, '_experimental_max_worker_delay_secs': None, '_session_creation_timeout_secs': 7200, '_service': None, '_cluster_spec': <tensorflow.python.training.server_lib.ClusterSpec object at 0x7f667c5d00d0>, '_task_type': 'worker', '_task_id': 0, '_global_id_in_cluster': 0, '_master': '', '_evaluation_master': '', '_is_chief': True, '_num_ps_replicas': 0, '_num_worker_replicas': 1}\n"
          ],
          "name": "stdout"
        },
        {
          "output_type": "stream",
          "text": [
            "INFO:tensorflow:Using config: {'_model_dir': '/bert_news_category', '_tf_random_seed': None, '_save_summary_steps': 100, '_save_checkpoints_steps': 300, '_save_checkpoints_secs': None, '_session_config': allow_soft_placement: true\n",
            "graph_options {\n",
            "  rewrite_options {\n",
            "    meta_optimizer_iterations: ONE\n",
            "  }\n",
            "}\n",
            ", '_keep_checkpoint_max': 5, '_keep_checkpoint_every_n_hours': 10000, '_log_step_count_steps': 100, '_train_distribute': None, '_device_fn': None, '_protocol': None, '_eval_distribute': None, '_experimental_distribute': None, '_experimental_max_worker_delay_secs': None, '_session_creation_timeout_secs': 7200, '_service': None, '_cluster_spec': <tensorflow.python.training.server_lib.ClusterSpec object at 0x7f667c5d00d0>, '_task_type': 'worker', '_task_id': 0, '_global_id_in_cluster': 0, '_master': '', '_evaluation_master': '', '_is_chief': True, '_num_ps_replicas': 0, '_num_worker_replicas': 1}\n"
          ],
          "name": "stderr"
        }
      ]
    },
    {
      "cell_type": "code",
      "metadata": {
        "trusted": true,
        "id": "QH8oOzUnJm2b"
      },
      "source": [
        "train_input_fn = run_classifier.input_fn_builder(\n",
        "    features=train_features,\n",
        "    seq_length=MAX_SEQ_LENGTH,\n",
        "    is_training=True,\n",
        "    drop_remainder=False)\n",
        "\n",
        "# Create an input function for validating. drop_remainder = True for using TPUs.\n",
        "val_input_fn = run_classifier.input_fn_builder(\n",
        "    features=val_features,\n",
        "    seq_length=MAX_SEQ_LENGTH,\n",
        "    is_training=False,\n",
        "    drop_remainder=False)"
      ],
      "execution_count": 43,
      "outputs": []
    },
    {
      "cell_type": "markdown",
      "metadata": {
        "id": "Ycmcu8p5Jm2b"
      },
      "source": [
        "### Training the model"
      ]
    },
    {
      "cell_type": "code",
      "metadata": {
        "trusted": true,
        "colab": {
          "base_uri": "https://localhost:8080/"
        },
        "id": "gP6aRJvFJm2b",
        "outputId": "ca44aee4-8850-45ec-9b4f-fd860c2706f1"
      },
      "source": [
        "# Training\n",
        "print(f'Beginning Training!')\n",
        "current_time = datetime.now()\n",
        "estimator.train(input_fn=train_input_fn, max_steps=num_train_steps)\n",
        "print(\"Training took time \", datetime.now() - current_time)"
      ],
      "execution_count": 44,
      "outputs": [
        {
          "output_type": "stream",
          "text": [
            "Beginning Training!\n",
            "WARNING:tensorflow:From /usr/local/lib/python3.7/dist-packages/tensorflow_core/python/training/training_util.py:236: Variable.initialized_value (from tensorflow.python.ops.variables) is deprecated and will be removed in a future version.\n",
            "Instructions for updating:\n",
            "Use Variable.read_value. Variables in 2.X are initialized automatically both in eager and graph (inside tf.defun) contexts.\n"
          ],
          "name": "stdout"
        },
        {
          "output_type": "stream",
          "text": [
            "WARNING:tensorflow:From /usr/local/lib/python3.7/dist-packages/tensorflow_core/python/training/training_util.py:236: Variable.initialized_value (from tensorflow.python.ops.variables) is deprecated and will be removed in a future version.\n",
            "Instructions for updating:\n",
            "Use Variable.read_value. Variables in 2.X are initialized automatically both in eager and graph (inside tf.defun) contexts.\n"
          ],
          "name": "stderr"
        },
        {
          "output_type": "stream",
          "text": [
            "INFO:tensorflow:Calling model_fn.\n"
          ],
          "name": "stdout"
        },
        {
          "output_type": "stream",
          "text": [
            "INFO:tensorflow:Calling model_fn.\n"
          ],
          "name": "stderr"
        },
        {
          "output_type": "stream",
          "text": [
            "INFO:tensorflow:Saver not created because there are no variables in the graph to restore\n"
          ],
          "name": "stdout"
        },
        {
          "output_type": "stream",
          "text": [
            "INFO:tensorflow:Saver not created because there are no variables in the graph to restore\n"
          ],
          "name": "stderr"
        },
        {
          "output_type": "stream",
          "text": [
            "WARNING:tensorflow:From <ipython-input-38-d311bc1ecf48>:35: calling dropout (from tensorflow.python.ops.nn_ops) with keep_prob is deprecated and will be removed in a future version.\n",
            "Instructions for updating:\n",
            "Please use `rate` instead of `keep_prob`. Rate should be set to `rate = 1 - keep_prob`.\n"
          ],
          "name": "stdout"
        },
        {
          "output_type": "stream",
          "text": [
            "WARNING:tensorflow:From <ipython-input-38-d311bc1ecf48>:35: calling dropout (from tensorflow.python.ops.nn_ops) with keep_prob is deprecated and will be removed in a future version.\n",
            "Instructions for updating:\n",
            "Please use `rate` instead of `keep_prob`. Rate should be set to `rate = 1 - keep_prob`.\n"
          ],
          "name": "stderr"
        },
        {
          "output_type": "stream",
          "text": [
            "WARNING:tensorflow:From /usr/local/lib/python3.7/dist-packages/bert/optimization.py:27: The name tf.train.get_or_create_global_step is deprecated. Please use tf.compat.v1.train.get_or_create_global_step instead.\n",
            "\n"
          ],
          "name": "stdout"
        },
        {
          "output_type": "stream",
          "text": [
            "WARNING:tensorflow:From /usr/local/lib/python3.7/dist-packages/bert/optimization.py:27: The name tf.train.get_or_create_global_step is deprecated. Please use tf.compat.v1.train.get_or_create_global_step instead.\n",
            "\n"
          ],
          "name": "stderr"
        },
        {
          "output_type": "stream",
          "text": [
            "WARNING:tensorflow:From /usr/local/lib/python3.7/dist-packages/bert/optimization.py:32: The name tf.train.polynomial_decay is deprecated. Please use tf.compat.v1.train.polynomial_decay instead.\n",
            "\n"
          ],
          "name": "stdout"
        },
        {
          "output_type": "stream",
          "text": [
            "WARNING:tensorflow:From /usr/local/lib/python3.7/dist-packages/bert/optimization.py:32: The name tf.train.polynomial_decay is deprecated. Please use tf.compat.v1.train.polynomial_decay instead.\n",
            "\n"
          ],
          "name": "stderr"
        },
        {
          "output_type": "stream",
          "text": [
            "WARNING:tensorflow:From /usr/local/lib/python3.7/dist-packages/bert/optimization.py:70: The name tf.trainable_variables is deprecated. Please use tf.compat.v1.trainable_variables instead.\n",
            "\n"
          ],
          "name": "stdout"
        },
        {
          "output_type": "stream",
          "text": [
            "WARNING:tensorflow:From /usr/local/lib/python3.7/dist-packages/bert/optimization.py:70: The name tf.trainable_variables is deprecated. Please use tf.compat.v1.trainable_variables instead.\n",
            "\n"
          ],
          "name": "stderr"
        },
        {
          "output_type": "stream",
          "text": [
            "WARNING:tensorflow:From /usr/local/lib/python3.7/dist-packages/tensorflow_core/python/ops/math_grad.py:1375: where (from tensorflow.python.ops.array_ops) is deprecated and will be removed in a future version.\n",
            "Instructions for updating:\n",
            "Use tf.where in 2.0, which has the same broadcast rule as np.where\n"
          ],
          "name": "stdout"
        },
        {
          "output_type": "stream",
          "text": [
            "WARNING:tensorflow:From /usr/local/lib/python3.7/dist-packages/tensorflow_core/python/ops/math_grad.py:1375: where (from tensorflow.python.ops.array_ops) is deprecated and will be removed in a future version.\n",
            "Instructions for updating:\n",
            "Use tf.where in 2.0, which has the same broadcast rule as np.where\n",
            "/usr/local/lib/python3.7/dist-packages/tensorflow_core/python/framework/indexed_slices.py:424: UserWarning: Converting sparse IndexedSlices to a dense Tensor of unknown shape. This may consume a large amount of memory.\n",
            "  \"Converting sparse IndexedSlices to a dense Tensor of unknown shape. \"\n"
          ],
          "name": "stderr"
        },
        {
          "output_type": "stream",
          "text": [
            "INFO:tensorflow:Done calling model_fn.\n"
          ],
          "name": "stdout"
        },
        {
          "output_type": "stream",
          "text": [
            "INFO:tensorflow:Done calling model_fn.\n"
          ],
          "name": "stderr"
        },
        {
          "output_type": "stream",
          "text": [
            "INFO:tensorflow:Create CheckpointSaverHook.\n"
          ],
          "name": "stdout"
        },
        {
          "output_type": "stream",
          "text": [
            "INFO:tensorflow:Create CheckpointSaverHook.\n"
          ],
          "name": "stderr"
        },
        {
          "output_type": "stream",
          "text": [
            "INFO:tensorflow:Graph was finalized.\n"
          ],
          "name": "stdout"
        },
        {
          "output_type": "stream",
          "text": [
            "INFO:tensorflow:Graph was finalized.\n"
          ],
          "name": "stderr"
        },
        {
          "output_type": "stream",
          "text": [
            "INFO:tensorflow:Running local_init_op.\n"
          ],
          "name": "stdout"
        },
        {
          "output_type": "stream",
          "text": [
            "INFO:tensorflow:Running local_init_op.\n"
          ],
          "name": "stderr"
        },
        {
          "output_type": "stream",
          "text": [
            "INFO:tensorflow:Done running local_init_op.\n"
          ],
          "name": "stdout"
        },
        {
          "output_type": "stream",
          "text": [
            "INFO:tensorflow:Done running local_init_op.\n"
          ],
          "name": "stderr"
        },
        {
          "output_type": "stream",
          "text": [
            "INFO:tensorflow:Saving checkpoints for 0 into /bert_news_category/model.ckpt.\n"
          ],
          "name": "stdout"
        },
        {
          "output_type": "stream",
          "text": [
            "INFO:tensorflow:Saving checkpoints for 0 into /bert_news_category/model.ckpt.\n"
          ],
          "name": "stderr"
        },
        {
          "output_type": "stream",
          "text": [
            "INFO:tensorflow:loss = 1.5884864, step = 1\n"
          ],
          "name": "stdout"
        },
        {
          "output_type": "stream",
          "text": [
            "INFO:tensorflow:loss = 1.5884864, step = 1\n"
          ],
          "name": "stderr"
        },
        {
          "output_type": "stream",
          "text": [
            "WARNING:tensorflow:It seems that global step (tf.train.get_global_step) has not been increased. Current value (could be stable): 17 vs previous value: 17. You could increase the global step by passing tf.train.get_global_step() to Optimizer.apply_gradients or Optimizer.minimize.\n"
          ],
          "name": "stdout"
        },
        {
          "output_type": "stream",
          "text": [
            "WARNING:tensorflow:It seems that global step (tf.train.get_global_step) has not been increased. Current value (could be stable): 17 vs previous value: 17. You could increase the global step by passing tf.train.get_global_step() to Optimizer.apply_gradients or Optimizer.minimize.\n"
          ],
          "name": "stderr"
        },
        {
          "output_type": "stream",
          "text": [
            "WARNING:tensorflow:It seems that global step (tf.train.get_global_step) has not been increased. Current value (could be stable): 38 vs previous value: 38. You could increase the global step by passing tf.train.get_global_step() to Optimizer.apply_gradients or Optimizer.minimize.\n"
          ],
          "name": "stdout"
        },
        {
          "output_type": "stream",
          "text": [
            "WARNING:tensorflow:It seems that global step (tf.train.get_global_step) has not been increased. Current value (could be stable): 38 vs previous value: 38. You could increase the global step by passing tf.train.get_global_step() to Optimizer.apply_gradients or Optimizer.minimize.\n"
          ],
          "name": "stderr"
        },
        {
          "output_type": "stream",
          "text": [
            "WARNING:tensorflow:It seems that global step (tf.train.get_global_step) has not been increased. Current value (could be stable): 48 vs previous value: 48. You could increase the global step by passing tf.train.get_global_step() to Optimizer.apply_gradients or Optimizer.minimize.\n"
          ],
          "name": "stdout"
        },
        {
          "output_type": "stream",
          "text": [
            "WARNING:tensorflow:It seems that global step (tf.train.get_global_step) has not been increased. Current value (could be stable): 48 vs previous value: 48. You could increase the global step by passing tf.train.get_global_step() to Optimizer.apply_gradients or Optimizer.minimize.\n"
          ],
          "name": "stderr"
        },
        {
          "output_type": "stream",
          "text": [
            "WARNING:tensorflow:It seems that global step (tf.train.get_global_step) has not been increased. Current value (could be stable): 54 vs previous value: 54. You could increase the global step by passing tf.train.get_global_step() to Optimizer.apply_gradients or Optimizer.minimize.\n"
          ],
          "name": "stdout"
        },
        {
          "output_type": "stream",
          "text": [
            "WARNING:tensorflow:It seems that global step (tf.train.get_global_step) has not been increased. Current value (could be stable): 54 vs previous value: 54. You could increase the global step by passing tf.train.get_global_step() to Optimizer.apply_gradients or Optimizer.minimize.\n"
          ],
          "name": "stderr"
        },
        {
          "output_type": "stream",
          "text": [
            "WARNING:tensorflow:It seems that global step (tf.train.get_global_step) has not been increased. Current value (could be stable): 77 vs previous value: 77. You could increase the global step by passing tf.train.get_global_step() to Optimizer.apply_gradients or Optimizer.minimize.\n"
          ],
          "name": "stdout"
        },
        {
          "output_type": "stream",
          "text": [
            "WARNING:tensorflow:It seems that global step (tf.train.get_global_step) has not been increased. Current value (could be stable): 77 vs previous value: 77. You could increase the global step by passing tf.train.get_global_step() to Optimizer.apply_gradients or Optimizer.minimize.\n"
          ],
          "name": "stderr"
        },
        {
          "output_type": "stream",
          "text": [
            "INFO:tensorflow:global_step/sec: 0.0277564\n"
          ],
          "name": "stdout"
        },
        {
          "output_type": "stream",
          "text": [
            "INFO:tensorflow:global_step/sec: 0.0277564\n"
          ],
          "name": "stderr"
        },
        {
          "output_type": "stream",
          "text": [
            "INFO:tensorflow:loss = 0.014274623, step = 101 (3602.821 sec)\n"
          ],
          "name": "stdout"
        },
        {
          "output_type": "stream",
          "text": [
            "INFO:tensorflow:loss = 0.014274623, step = 101 (3602.821 sec)\n"
          ],
          "name": "stderr"
        },
        {
          "output_type": "stream",
          "text": [
            "INFO:tensorflow:Saving checkpoints for 111 into /bert_news_category/model.ckpt.\n"
          ],
          "name": "stdout"
        },
        {
          "output_type": "stream",
          "text": [
            "INFO:tensorflow:Saving checkpoints for 111 into /bert_news_category/model.ckpt.\n"
          ],
          "name": "stderr"
        },
        {
          "output_type": "stream",
          "text": [
            "INFO:tensorflow:Loss for final step: 0.27321234.\n"
          ],
          "name": "stdout"
        },
        {
          "output_type": "stream",
          "text": [
            "INFO:tensorflow:Loss for final step: 0.27321234.\n"
          ],
          "name": "stderr"
        },
        {
          "output_type": "stream",
          "text": [
            "Training took time  1:07:36.386415\n"
          ],
          "name": "stdout"
        }
      ]
    },
    {
      "cell_type": "markdown",
      "metadata": {
        "id": "TbDhrm91Jm2b"
      },
      "source": [
        "### Validation"
      ]
    },
    {
      "cell_type": "code",
      "metadata": {
        "trusted": true,
        "colab": {
          "base_uri": "https://localhost:8080/"
        },
        "id": "uuVaX0XpJm2b",
        "outputId": "95cef011-126a-42ae-ab47-c8c25f32ec88"
      },
      "source": [
        "#Evaluating the model with Validation set\n",
        "estimator.evaluate(input_fn=val_input_fn, steps=None)"
      ],
      "execution_count": 45,
      "outputs": [
        {
          "output_type": "stream",
          "text": [
            "INFO:tensorflow:Calling model_fn.\n"
          ],
          "name": "stdout"
        },
        {
          "output_type": "stream",
          "text": [
            "INFO:tensorflow:Calling model_fn.\n"
          ],
          "name": "stderr"
        },
        {
          "output_type": "stream",
          "text": [
            "INFO:tensorflow:Saver not created because there are no variables in the graph to restore\n"
          ],
          "name": "stdout"
        },
        {
          "output_type": "stream",
          "text": [
            "INFO:tensorflow:Saver not created because there are no variables in the graph to restore\n",
            "/usr/local/lib/python3.7/dist-packages/tensorflow_core/python/framework/indexed_slices.py:424: UserWarning: Converting sparse IndexedSlices to a dense Tensor of unknown shape. This may consume a large amount of memory.\n",
            "  \"Converting sparse IndexedSlices to a dense Tensor of unknown shape. \"\n"
          ],
          "name": "stderr"
        },
        {
          "output_type": "stream",
          "text": [
            "INFO:tensorflow:Done calling model_fn.\n"
          ],
          "name": "stdout"
        },
        {
          "output_type": "stream",
          "text": [
            "INFO:tensorflow:Done calling model_fn.\n"
          ],
          "name": "stderr"
        },
        {
          "output_type": "stream",
          "text": [
            "INFO:tensorflow:Starting evaluation at 2021-08-23T10:31:06Z\n"
          ],
          "name": "stdout"
        },
        {
          "output_type": "stream",
          "text": [
            "INFO:tensorflow:Starting evaluation at 2021-08-23T10:31:06Z\n"
          ],
          "name": "stderr"
        },
        {
          "output_type": "stream",
          "text": [
            "INFO:tensorflow:Graph was finalized.\n"
          ],
          "name": "stdout"
        },
        {
          "output_type": "stream",
          "text": [
            "INFO:tensorflow:Graph was finalized.\n"
          ],
          "name": "stderr"
        },
        {
          "output_type": "stream",
          "text": [
            "INFO:tensorflow:Restoring parameters from /bert_news_category/model.ckpt-111\n"
          ],
          "name": "stdout"
        },
        {
          "output_type": "stream",
          "text": [
            "INFO:tensorflow:Restoring parameters from /bert_news_category/model.ckpt-111\n"
          ],
          "name": "stderr"
        },
        {
          "output_type": "stream",
          "text": [
            "INFO:tensorflow:Running local_init_op.\n"
          ],
          "name": "stdout"
        },
        {
          "output_type": "stream",
          "text": [
            "INFO:tensorflow:Running local_init_op.\n"
          ],
          "name": "stderr"
        },
        {
          "output_type": "stream",
          "text": [
            "INFO:tensorflow:Done running local_init_op.\n"
          ],
          "name": "stdout"
        },
        {
          "output_type": "stream",
          "text": [
            "INFO:tensorflow:Done running local_init_op.\n"
          ],
          "name": "stderr"
        },
        {
          "output_type": "stream",
          "text": [
            "INFO:tensorflow:Finished evaluation at 2021-08-23-10:36:31\n"
          ],
          "name": "stdout"
        },
        {
          "output_type": "stream",
          "text": [
            "INFO:tensorflow:Finished evaluation at 2021-08-23-10:36:31\n"
          ],
          "name": "stderr"
        },
        {
          "output_type": "stream",
          "text": [
            "INFO:tensorflow:Saving dict for global step 111: eval_accuracy = 0.9842697, false_negatives = 1.0, false_positives = 4.0, global_step = 111, loss = 0.08794541, true_negatives = 101.0, true_positives = 339.0\n"
          ],
          "name": "stdout"
        },
        {
          "output_type": "stream",
          "text": [
            "INFO:tensorflow:Saving dict for global step 111: eval_accuracy = 0.9842697, false_negatives = 1.0, false_positives = 4.0, global_step = 111, loss = 0.08794541, true_negatives = 101.0, true_positives = 339.0\n"
          ],
          "name": "stderr"
        },
        {
          "output_type": "stream",
          "text": [
            "INFO:tensorflow:Saving 'checkpoint_path' summary for global step 111: /bert_news_category/model.ckpt-111\n"
          ],
          "name": "stdout"
        },
        {
          "output_type": "stream",
          "text": [
            "INFO:tensorflow:Saving 'checkpoint_path' summary for global step 111: /bert_news_category/model.ckpt-111\n"
          ],
          "name": "stderr"
        },
        {
          "output_type": "execute_result",
          "data": {
            "text/plain": [
              "{'eval_accuracy': 0.9842697,\n",
              " 'false_negatives': 1.0,\n",
              " 'false_positives': 4.0,\n",
              " 'global_step': 111,\n",
              " 'loss': 0.08794541,\n",
              " 'true_negatives': 101.0,\n",
              " 'true_positives': 339.0}"
            ]
          },
          "metadata": {},
          "execution_count": 45
        }
      ]
    }
  ]
}